{
 "cells": [
  {
   "cell_type": "markdown",
   "id": "fd28ceac",
   "metadata": {},
   "source": [
    "## CNN using MNIST dataset"
   ]
  },
  {
   "cell_type": "code",
   "execution_count": null,
   "id": "5902a008",
   "metadata": {},
   "outputs": [],
   "source": []
  },
  {
   "cell_type": "code",
   "execution_count": 1,
   "id": "d9b1f8b2",
   "metadata": {},
   "outputs": [],
   "source": [
    "# keras imports for the dataset and building our neural network\n",
    "from keras.datasets import mnist\n",
    "from keras.models import Sequential\n",
    "from keras.layers import Dense, Dropout, Conv2D, MaxPool2D,Flatten\n",
    "from keras.utils import np_utils\n",
    "import numpy as np\n",
    "import pandas as pd"
   ]
  },
  {
   "cell_type": "code",
   "execution_count": 2,
   "id": "f717bbf9",
   "metadata": {},
   "outputs": [],
   "source": [
    "# loading the dataset\n",
    "(X_train, y_train), (X_test, y_test) = mnist.load_data()\n",
    "# let's print the shape of the dataset"
   ]
  },
  {
   "cell_type": "code",
   "execution_count": 3,
   "id": "62420678",
   "metadata": {},
   "outputs": [
    {
     "name": "stdout",
     "output_type": "stream",
     "text": [
      "X_train shape (60000, 28, 28)\n",
      "y_train shape (60000,)\n",
      "X_test shape (10000, 28, 28)\n",
      "y_test shape (10000,)\n"
     ]
    }
   ],
   "source": [
    "print(\"X_train shape\", X_train.shape)\n",
    "print(\"y_train shape\", y_train.shape)\n",
    "print(\"X_test shape\", X_test.shape)\n",
    "print(\"y_test shape\", y_test.shape)"
   ]
  },
  {
   "cell_type": "code",
   "execution_count": 4,
   "id": "a57b2714",
   "metadata": {},
   "outputs": [
    {
     "name": "stdout",
     "output_type": "stream",
     "text": [
      "5\n"
     ]
    },
    {
     "data": {
      "image/png": "[encoded data removed]",
      "text/plain": [
       "<Figure size 432x288 with 1 Axes>"
      ]
     },
     "metadata": {
      "needs_background": "light"
     },
     "output_type": "display_data"
    }
   ],
   "source": [
    "import matplotlib.pyplot as plt\n",
    "plt.imshow(X_train[0])\n",
    "print(y_train[0])\n"
   ]
  },
  {
   "cell_type": "code",
   "execution_count": 5,
   "id": "e04c24da",
   "metadata": {},
   "outputs": [
    {
     "name": "stdout",
     "output_type": "stream",
     "text": [
      "0\n"
     ]
    },
    {
     "data": {
      "image/png": "[encoded data removed]",
      "text/plain": [
       "<Figure size 432x288 with 1 Axes>"
      ]
     },
     "metadata": {
      "needs_background": "light"
     },
     "output_type": "display_data"
    }
   ],
   "source": [
    "plt.imshow(X_train[1])\n",
    "print(y_train[1])"
   ]
  },
  {
   "cell_type": "code",
   "execution_count": 6,
   "id": "2719d963",
   "metadata": {},
   "outputs": [],
   "source": [
    "# Flattening the images from the 28x28 pixels to 1D 784 pixels\n",
    "X_train = X_train.reshape(60000, 784)\n",
    "X_test = X_test.reshape(10000, 784)\n",
    "X_train = X_train.astype('float32')\n",
    "X_test = X_test.astype('float32')"
   ]
  },
  {
   "cell_type": "code",
   "execution_count": 7,
   "id": "54191854",
   "metadata": {},
   "outputs": [],
   "source": [
    "# normalizing the data to help with the training\n",
    "X_train /= 255\n",
    "X_test /= 255"
   ]
  },
  {
   "cell_type": "code",
   "execution_count": 8,
   "id": "5cfc2511",
   "metadata": {},
   "outputs": [
    {
     "name": "stdout",
     "output_type": "stream",
     "text": [
      "[0 1 2 3 4 5 6 7 8 9]\n",
      "[0 1 2 3 4 5 6 7 8 9]\n"
     ]
    }
   ],
   "source": [
    "## Target Classes\n",
    "print(np.unique(y_train))\n",
    "print(np.unique(y_test))"
   ]
  },
  {
   "cell_type": "code",
   "execution_count": 9,
   "id": "b2e4985e",
   "metadata": {},
   "outputs": [
    {
     "name": "stdout",
     "output_type": "stream",
     "text": [
      "Shape before one-hot encoding:  (60000,)\n",
      "Shape after one-hot encoding:  (60000, 10)\n"
     ]
    }
   ],
   "source": [
    "# one-hot encoding using keras' numpy-related utilities\n",
    "n_classes = 10\n",
    "print(\"Shape before one-hot encoding: \", y_train.shape)\n",
    "Y_train = np_utils.to_categorical(y_train, n_classes)\n",
    "Y_test = np_utils.to_categorical(y_test, n_classes)\n",
    "print(\"Shape after one-hot encoding: \", Y_train.shape)"
   ]
  },
  {
   "cell_type": "code",
   "execution_count": 13,
   "id": "0181101a",
   "metadata": {},
   "outputs": [],
   "source": [
    "# building a linear stack of layers with the sequential model\n",
    "model = Sequential()\n",
    "# hidden layer\n",
    "model.add(Dense(128, input_shape=(784,), activation='relu'))\n",
    "# output layer\n",
    "model.add(Dense(10, activation='softmax'))"
   ]
  },
  {
   "cell_type": "code",
   "execution_count": 14,
   "id": "1c3e91ad",
   "metadata": {},
   "outputs": [
    {
     "name": "stdout",
     "output_type": "stream",
     "text": [
      "Model: \"sequential_1\"\n",
      "_________________________________________________________________\n",
      " Layer (type)                Output Shape              Param #   \n",
      "=================================================================\n",
      " dense_2 (Dense)             (None, 128)               100480    \n",
      "                                                                 \n",
      " dense_3 (Dense)             (None, 10)                1290      \n",
      "                                                                 \n",
      "=================================================================\n",
      "Total params: 101,770\n",
      "Trainable params: 101,770\n",
      "Non-trainable params: 0\n",
      "_________________________________________________________________\n",
      "Epoch 1/10\n",
      "469/469 [==============================] - 1s 1ms/step - loss: 0.3664 - accuracy: 0.8980 - val_loss: 0.1976 - val_accuracy: 0.9434\n",
      "Epoch 2/10\n",
      "469/469 [==============================] - 1s 1ms/step - loss: 0.1685 - accuracy: 0.9525 - val_loss: 0.1403 - val_accuracy: 0.9571\n",
      "Epoch 3/10\n",
      "469/469 [==============================] - 1s 1ms/step - loss: 0.1218 - accuracy: 0.9646 - val_loss: 0.1114 - val_accuracy: 0.9657\n",
      "Epoch 4/10\n",
      "469/469 [==============================] - 1s 1ms/step - loss: 0.0950 - accuracy: 0.9724 - val_loss: 0.1008 - val_accuracy: 0.9697\n",
      "Epoch 5/10\n",
      "469/469 [==============================] - 1s 1ms/step - loss: 0.0775 - accuracy: 0.9780 - val_loss: 0.0830 - val_accuracy: 0.9750\n",
      "Epoch 6/10\n",
      "469/469 [==============================] - 1s 1ms/step - loss: 0.0643 - accuracy: 0.9809 - val_loss: 0.0845 - val_accuracy: 0.9733\n",
      "Epoch 7/10\n",
      "469/469 [==============================] - 1s 1ms/step - loss: 0.0538 - accuracy: 0.9843 - val_loss: 0.0771 - val_accuracy: 0.9761\n",
      "Epoch 8/10\n",
      "469/469 [==============================] - 1s 1ms/step - loss: 0.0455 - accuracy: 0.9868 - val_loss: 0.0720 - val_accuracy: 0.9780\n",
      "Epoch 9/10\n",
      "469/469 [==============================] - 1s 1ms/step - loss: 0.0387 - accuracy: 0.9893 - val_loss: 0.0687 - val_accuracy: 0.9785\n",
      "Epoch 10/10\n",
      "469/469 [==============================] - 1s 1ms/step - loss: 0.0324 - accuracy: 0.9913 - val_loss: 0.0673 - val_accuracy: 0.9790\n"
     ]
    },
    {
     "data": {
      "text/plain": [
       "<keras.callbacks.History at 0x18e336a01f0>"
      ]
     },
     "execution_count": 14,
     "metadata": {},
     "output_type": "execute_result"
    }
   ],
   "source": [
    "# looking at the model summary\n",
    "model.summary()\n",
    "# compiling the sequential model\n",
    "model.compile(loss='categorical_crossentropy', metrics=['accuracy'], optimizer='adam')\n",
    "# training the model for 10 epochs\n",
    "model.fit(X_train, Y_train, batch_size=128, epochs=10, validation_data=(X_test, Y_test))"
   ]
  },
  {
   "cell_type": "code",
   "execution_count": 16,
   "id": "89338943",
   "metadata": {},
   "outputs": [
    {
     "name": "stdout",
     "output_type": "stream",
     "text": [
      "313/313 [==============================] - 0s 507us/step - loss: 0.0673 - accuracy: 0.9790\n"
     ]
    },
    {
     "data": {
      "text/plain": [
       "[0.06726906448602676, 0.9789999723434448]"
      ]
     },
     "execution_count": 16,
     "metadata": {},
     "output_type": "execute_result"
    }
   ],
   "source": [
    "model.evaluate(X_test,Y_test)"
   ]
  },
  {
   "cell_type": "markdown",
   "id": "b44f162d",
   "metadata": {},
   "source": [
    "### Using Convolution Layer"
   ]
  },
  {
   "cell_type": "code",
   "execution_count": 17,
   "id": "aea4a0d8",
   "metadata": {},
   "outputs": [],
   "source": [
    "# loading the dataset\n",
    "(X_train, y_train), (X_test, y_test) = mnist.load_data()"
   ]
  },
  {
   "cell_type": "code",
   "execution_count": 18,
   "id": "555718f3",
   "metadata": {},
   "outputs": [],
   "source": [
    "# building the input vector from the 28x28 pixels\n",
    "X_train = X_train.reshape(X_train.shape[0], 28, 28, 1)\n",
    "X_test = X_test.reshape(X_test.shape[0], 28, 28, 1)\n",
    "X_train = X_train.astype('float32')\n",
    "X_test = X_test.astype('float32')"
   ]
  },
  {
   "cell_type": "code",
   "execution_count": 19,
   "id": "04cc4739",
   "metadata": {},
   "outputs": [],
   "source": [
    "# normalizing the data to help with the training\n",
    "X_train /= 255\n",
    "X_test /= 255"
   ]
  },
  {
   "cell_type": "code",
   "execution_count": 20,
   "id": "9a9af3fa",
   "metadata": {},
   "outputs": [
    {
     "name": "stdout",
     "output_type": "stream",
     "text": [
      "Shape before one-hot encoding:  (60000,)\n",
      "Shape after one-hot encoding:  (60000, 10)\n"
     ]
    }
   ],
   "source": [
    "# one-hot encoding using keras' numpy-related utilities\n",
    "n_classes = 10\n",
    "print(\"Shape before one-hot encoding: \", y_train.shape)\n",
    "Y_train = np_utils.to_categorical(y_train, n_classes)\n",
    "Y_test = np_utils.to_categorical(y_test, n_classes)\n",
    "print(\"Shape after one-hot encoding: \", Y_train.shape)"
   ]
  },
  {
   "cell_type": "code",
   "execution_count": 21,
   "id": "88d03b08",
   "metadata": {},
   "outputs": [],
   "source": [
    "# building a linear stack of layers with the sequential model\n",
    "model = Sequential()"
   ]
  },
  {
   "cell_type": "code",
   "execution_count": 22,
   "id": "629ddfe3",
   "metadata": {},
   "outputs": [],
   "source": [
    "# convolutional layer\n",
    "model.add(Conv2D(64, kernel_size=(3,3), strides=(1,1), padding='valid', activation='relu', input_shape=(28,28,1)))\n",
    "model.add(Conv2D(32, kernel_size=(3,3), strides=(1,1), padding='valid', activation='relu', input_shape=(28,28,1)))\n",
    "\n",
    "model.add(MaxPool2D(pool_size=(2,2)))\n",
    "\n"
   ]
  },
  {
   "cell_type": "code",
   "execution_count": 23,
   "id": "29cd8def",
   "metadata": {},
   "outputs": [],
   "source": [
    "# flatten output of conv\n",
    "model.add(Flatten())"
   ]
  },
  {
   "cell_type": "code",
   "execution_count": 24,
   "id": "e2bb03c7",
   "metadata": {},
   "outputs": [],
   "source": [
    "# hidden layer\n",
    "model.add(Dense(100, activation='relu'))\n",
    "# output layer\n",
    "model.add(Dense(10, activation='softmax'))"
   ]
  },
  {
   "cell_type": "code",
   "execution_count": 25,
   "id": "fdb59373",
   "metadata": {},
   "outputs": [],
   "source": [
    "# compiling the sequential model\n",
    "model.compile(loss='categorical_crossentropy', metrics=['accuracy'], optimizer='adam')"
   ]
  },
  {
   "cell_type": "code",
   "execution_count": 35,
   "id": "2858c1bc",
   "metadata": {},
   "outputs": [
    {
     "name": "stdout",
     "output_type": "stream",
     "text": [
      "Epoch 1/10\n",
      "469/469 [==============================] - 39s 83ms/step - loss: 0.0042 - accuracy: 0.9986 - val_loss: 0.0469 - val_accuracy: 0.9884\n",
      "Epoch 2/10\n",
      "469/469 [==============================] - 38s 81ms/step - loss: 0.0032 - accuracy: 0.9990 - val_loss: 0.0575 - val_accuracy: 0.9890\n",
      "Epoch 3/10\n",
      "469/469 [==============================] - 39s 82ms/step - loss: 0.0041 - accuracy: 0.9986 - val_loss: 0.0548 - val_accuracy: 0.9886\n",
      "Epoch 4/10\n",
      "469/469 [==============================] - 38s 82ms/step - loss: 0.0012 - accuracy: 0.9997 - val_loss: 0.0548 - val_accuracy: 0.9888\n",
      "Epoch 5/10\n",
      "469/469 [==============================] - 40s 86ms/step - loss: 0.0038 - accuracy: 0.9987 - val_loss: 0.0584 - val_accuracy: 0.9890\n",
      "Epoch 6/10\n",
      "469/469 [==============================] - 38s 82ms/step - loss: 0.0043 - accuracy: 0.9986 - val_loss: 0.0514 - val_accuracy: 0.9891\n",
      "Epoch 7/10\n",
      "469/469 [==============================] - 39s 84ms/step - loss: 0.0020 - accuracy: 0.9995 - val_loss: 0.0458 - val_accuracy: 0.9912\n",
      "Epoch 8/10\n",
      "469/469 [==============================] - 40s 84ms/step - loss: 4.2194e-04 - accuracy: 0.9999 - val_loss: 0.0500 - val_accuracy: 0.9904\n",
      "Epoch 9/10\n",
      "469/469 [==============================] - 39s 82ms/step - loss: 0.0010 - accuracy: 0.9997 - val_loss: 0.0586 - val_accuracy: 0.9884\n",
      "Epoch 10/10\n",
      "469/469 [==============================] - 42s 90ms/step - loss: 0.0059 - accuracy: 0.9981 - val_loss: 0.0539 - val_accuracy: 0.9894\n"
     ]
    }
   ],
   "source": [
    "# training the model for 10 epoch\n",
    "# Importing the EarlyStopping call back function\n",
    "from keras.callbacks import EarlyStopping\n",
    "\n",
    "# Early Stopping Callback\n",
    "earlystopping = EarlyStopping(monitor='val_loss', patience=3)\n",
    "\n",
    "\n",
    "callback = model.fit(X_train, Y_train, batch_size=128, epochs=10, validation_data=(X_test, Y_test))"
   ]
  },
  {
   "cell_type": "code",
   "execution_count": 27,
   "id": "f9814b10",
   "metadata": {},
   "outputs": [
    {
     "name": "stdout",
     "output_type": "stream",
     "text": [
      "313/313 [==============================] - 1s 4ms/step - loss: 0.0498 - accuracy: 0.9878\n"
     ]
    },
    {
     "data": {
      "text/plain": [
       "[0.04983878880739212, 0.9878000020980835]"
      ]
     },
     "execution_count": 27,
     "metadata": {},
     "output_type": "execute_result"
    }
   ],
   "source": [
    "model.evaluate(X_test,Y_test)"
   ]
  },
  {
   "cell_type": "code",
   "execution_count": 28,
   "id": "2217b2db",
   "metadata": {},
   "outputs": [],
   "source": [
    "import matplotlib.pyplot as plt"
   ]
  },
  {
   "cell_type": "code",
   "execution_count": 29,
   "id": "50a40a1c",
   "metadata": {},
   "outputs": [
    {
     "data": {
      "image/png": "[encoded data removed]",
      "text/plain": [
       "<Figure size 432x288 with 1 Axes>"
      ]
     },
     "metadata": {
      "needs_background": "light"
     },
     "output_type": "display_data"
    }
   ],
   "source": [
    "plt.plot(callback.history['val_loss'],label='Validation Loss');\n",
    "plt.plot(callback.history['loss'],label='Training Loss');\n",
    "plt.legend();"
   ]
  },
  {
   "cell_type": "code",
   "execution_count": 30,
   "id": "03c4fc34",
   "metadata": {},
   "outputs": [
    {
     "data": {
      "image/png": "[encoded data removed]",
      "text/plain": [
       "<Figure size 432x288 with 1 Axes>"
      ]
     },
     "metadata": {
      "needs_background": "light"
     },
     "output_type": "display_data"
    }
   ],
   "source": [
    "plt.plot(callback.history['val_accuracy'],label='Validation Accuracy');\n",
    "plt.plot(callback.history['accuracy'],label='Training Accuracy');\n",
    "plt.legend();"
   ]
  },
  {
   "cell_type": "code",
   "execution_count": 25,
   "id": "4cb5eddf",
   "metadata": {},
   "outputs": [
    {
     "name": "stdout",
     "output_type": "stream",
     "text": [
      "313/313 [==============================] - 2s 5ms/step - loss: 0.0499 - accuracy: 0.9881\n"
     ]
    },
    {
     "data": {
      "text/plain": [
       "[0.04991115257143974, 0.988099992275238]"
      ]
     },
     "execution_count": 25,
     "metadata": {},
     "output_type": "execute_result"
    }
   ],
   "source": [
    "model.evaluate(X_test, Y_test)"
   ]
  },
  {
   "cell_type": "code",
   "execution_count": 26,
   "id": "f1a97c86",
   "metadata": {},
   "outputs": [
    {
     "name": "stdout",
     "output_type": "stream",
     "text": [
      "313/313 [==============================] - 2s 5ms/step\n"
     ]
    }
   ],
   "source": [
    "y_pred = model.predict(X_test)"
   ]
  },
  {
   "cell_type": "code",
   "execution_count": 27,
   "id": "199e911d",
   "metadata": {},
   "outputs": [
    {
     "data": {
      "text/plain": [
       "array([[5.94270320e-14, 7.07943686e-13, 1.72148244e-12, 1.30309674e-08,\n",
       "        1.25990179e-14, 6.38270084e-16, 4.93257331e-20, 1.00000000e+00,\n",
       "        5.61115528e-18, 3.61811164e-10],\n",
       "       [2.40295128e-11, 1.24226152e-09, 1.00000000e+00, 6.71544595e-17,\n",
       "        5.75345300e-14, 1.09846617e-21, 1.49031218e-10, 8.55592447e-18,\n",
       "        1.03545363e-15, 1.62338232e-16],\n",
       "       [3.17639942e-11, 9.99999881e-01, 6.34043706e-09, 1.25169557e-14,\n",
       "        5.83742334e-08, 1.69280812e-10, 2.15084769e-10, 5.12345331e-08,\n",
       "        3.64444119e-08, 4.21503898e-09],\n",
       "       [1.00000000e+00, 1.46516795e-14, 1.07638575e-14, 2.25761436e-14,\n",
       "        1.05796109e-14, 8.33647319e-14, 2.94586361e-12, 8.43864839e-11,\n",
       "        1.51305482e-16, 1.57103289e-10],\n",
       "       [1.69307699e-12, 4.32079329e-12, 5.55879941e-13, 2.09411893e-12,\n",
       "        9.99999523e-01, 2.15129997e-12, 6.23555461e-13, 4.28800268e-12,\n",
       "        1.79613352e-10, 4.56241708e-07]], dtype=float32)"
      ]
     },
     "execution_count": 27,
     "metadata": {},
     "output_type": "execute_result"
    }
   ],
   "source": [
    "y_pred[:5]"
   ]
  },
  {
   "cell_type": "code",
   "execution_count": 28,
   "id": "a1a29be8",
   "metadata": {},
   "outputs": [
    {
     "data": {
      "text/plain": [
       "array([7, 2, 1, 0, 4], dtype=uint8)"
      ]
     },
     "execution_count": 28,
     "metadata": {},
     "output_type": "execute_result"
    }
   ],
   "source": [
    "y_test[:5]"
   ]
  },
  {
   "cell_type": "code",
   "execution_count": 29,
   "id": "04e2dd43",
   "metadata": {},
   "outputs": [
    {
     "data": {
      "text/plain": [
       "0.9881"
      ]
     },
     "execution_count": 29,
     "metadata": {},
     "output_type": "execute_result"
    }
   ],
   "source": [
    "import numpy as np\n",
    "np.mean(np.argmax(np.round(y_pred,3),axis=1) == y_test)"
   ]
  },
  {
   "cell_type": "code",
   "execution_count": null,
   "id": "6d6091d9",
   "metadata": {},
   "outputs": [],
   "source": []
  }
 ],
 "metadata": {
  "kernelspec": {
   "display_name": "Python 3 (ipykernel)",
   "language": "python",
   "name": "python3"
  },
  "language_info": {
   "codemirror_mode": {
    "name": "ipython",
    "version": 3
   },
   "file_extension": ".py",
   "mimetype": "text/x-python",
   "name": "python",
   "nbconvert_exporter": "python",
   "pygments_lexer": "ipython3",
   "version": "3.9.12"
  }
 },
 "nbformat": 4,
 "nbformat_minor": 5
}
