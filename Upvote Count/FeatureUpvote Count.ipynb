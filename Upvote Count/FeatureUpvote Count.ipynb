{
 "cells": [
  {
   "cell_type": "code",
   "execution_count": 1,
   "id": "f4d58ac9",
   "metadata": {},
   "outputs": [],
   "source": [
    "import numpy as np\n",
    "import pandas as pd\n",
    "import os\n",
    "import warnings\n",
    "warnings.filterwarnings('ignore')\n",
    "import seaborn as sns\n",
    "import matplotlib.pyplot as plt"
   ]
  },
  {
   "cell_type": "markdown",
   "id": "2f581c39",
   "metadata": {},
   "source": [
    "pd.options.display.max_columns=100\n",
    "pd.options.display.max_rows=100"
   ]
  },
  {
   "cell_type": "code",
   "execution_count": 2,
   "id": "9afc49fe",
   "metadata": {
    "scrolled": true
   },
   "outputs": [
    {
     "data": {
      "text/plain": [
       "'C:\\\\Users\\\\Dhananjay\\\\Documents\\\\PGDA Data Science\\\\imarticus PGDA\\\\Machine learning\\\\NEW DATASET\\\\Analytics Vidhya\\\\Upvote Count'"
      ]
     },
     "execution_count": 2,
     "metadata": {},
     "output_type": "execute_result"
    }
   ],
   "source": [
    "os.getcwd()"
   ]
  },
  {
   "cell_type": "markdown",
   "id": "e0520963",
   "metadata": {},
   "source": [
    "\n",
    "Problem Statement\n",
    "    \n",
    "\n",
    "An online question and answer platform has hired you as a data scientist to identify the best question authors on the platform.\n",
    "This identification will bring more insight into increasing the user engagement.\n",
    "Given the tag of the question, number of views received, number of answers,\n",
    "username and reputation of the question author, the problem requires you to \n",
    "predict the upvote count that the question will receive.\n",
    "\n",
    "Data Dictionary\n",
    "\n",
    "Variable \tDefinition\n",
    "ID \tQuestion ID\n",
    "Tag \tAnonymised tags representing question category\n",
    "Reputation \tReputation score of question author\n",
    "Answers \tNumber of times question has been answered\n",
    "Username \tAnonymised user id of question author\n",
    "Views \tNumber of times question has been viewed\n",
    "Upvotes \t(Target) Number of upvotes for the question\n",
    "\n",
    " \n",
    "Evaluation Metric\n",
    "\n",
    "The evaluation metric for this competition is RMSE (root mean squared error)\n",
    "Public and Private Split\n",
    "\n",
    "Note that the test data is further randomly divided into Public (30%) and Private (70%) data. Your initial responses will be checked and scored on the Public data. The final rankings would be based on your private score which will be published once the competition is over.\n",
    "How to make a Submission?\n",
    "\n",
    "\n"
   ]
  },
  {
   "cell_type": "code",
   "execution_count": 3,
   "id": "4f8c4964",
   "metadata": {},
   "outputs": [
    {
     "data": {
      "text/html": [
       "<div>\n",
       "<style scoped>\n",
       "    .dataframe tbody tr th:only-of-type {\n",
       "        vertical-align: middle;\n",
       "    }\n",
       "\n",
       "    .dataframe tbody tr th {\n",
       "        vertical-align: top;\n",
       "    }\n",
       "\n",
       "    .dataframe thead th {\n",
       "        text-align: right;\n",
       "    }\n",
       "</style>\n",
       "<table border=\"1\" class=\"dataframe\">\n",
       "  <thead>\n",
       "    <tr style=\"text-align: right;\">\n",
       "      <th></th>\n",
       "      <th>ID</th>\n",
       "      <th>Tag</th>\n",
       "      <th>Reputation</th>\n",
       "      <th>Answers</th>\n",
       "      <th>Username</th>\n",
       "      <th>Views</th>\n",
       "      <th>Upvotes</th>\n",
       "    </tr>\n",
       "  </thead>\n",
       "  <tbody>\n",
       "    <tr>\n",
       "      <th>0</th>\n",
       "      <td>52664</td>\n",
       "      <td>a</td>\n",
       "      <td>3942.0</td>\n",
       "      <td>2.0</td>\n",
       "      <td>155623</td>\n",
       "      <td>7855.0</td>\n",
       "      <td>42.0</td>\n",
       "    </tr>\n",
       "    <tr>\n",
       "      <th>1</th>\n",
       "      <td>327662</td>\n",
       "      <td>a</td>\n",
       "      <td>26046.0</td>\n",
       "      <td>12.0</td>\n",
       "      <td>21781</td>\n",
       "      <td>55801.0</td>\n",
       "      <td>1175.0</td>\n",
       "    </tr>\n",
       "    <tr>\n",
       "      <th>2</th>\n",
       "      <td>468453</td>\n",
       "      <td>c</td>\n",
       "      <td>1358.0</td>\n",
       "      <td>4.0</td>\n",
       "      <td>56177</td>\n",
       "      <td>8067.0</td>\n",
       "      <td>60.0</td>\n",
       "    </tr>\n",
       "    <tr>\n",
       "      <th>3</th>\n",
       "      <td>96996</td>\n",
       "      <td>a</td>\n",
       "      <td>264.0</td>\n",
       "      <td>3.0</td>\n",
       "      <td>168793</td>\n",
       "      <td>27064.0</td>\n",
       "      <td>9.0</td>\n",
       "    </tr>\n",
       "    <tr>\n",
       "      <th>4</th>\n",
       "      <td>131465</td>\n",
       "      <td>c</td>\n",
       "      <td>4271.0</td>\n",
       "      <td>4.0</td>\n",
       "      <td>112223</td>\n",
       "      <td>13986.0</td>\n",
       "      <td>83.0</td>\n",
       "    </tr>\n",
       "    <tr>\n",
       "      <th>...</th>\n",
       "      <td>...</td>\n",
       "      <td>...</td>\n",
       "      <td>...</td>\n",
       "      <td>...</td>\n",
       "      <td>...</td>\n",
       "      <td>...</td>\n",
       "      <td>...</td>\n",
       "    </tr>\n",
       "    <tr>\n",
       "      <th>330040</th>\n",
       "      <td>339800</td>\n",
       "      <td>c</td>\n",
       "      <td>36.0</td>\n",
       "      <td>2.0</td>\n",
       "      <td>84919</td>\n",
       "      <td>1063.0</td>\n",
       "      <td>0.0</td>\n",
       "    </tr>\n",
       "    <tr>\n",
       "      <th>330041</th>\n",
       "      <td>253800</td>\n",
       "      <td>c</td>\n",
       "      <td>1649.0</td>\n",
       "      <td>2.0</td>\n",
       "      <td>76730</td>\n",
       "      <td>23319.0</td>\n",
       "      <td>73.0</td>\n",
       "    </tr>\n",
       "    <tr>\n",
       "      <th>330042</th>\n",
       "      <td>210756</td>\n",
       "      <td>c</td>\n",
       "      <td>6178.0</td>\n",
       "      <td>2.0</td>\n",
       "      <td>91701</td>\n",
       "      <td>2453.0</td>\n",
       "      <td>15.0</td>\n",
       "    </tr>\n",
       "    <tr>\n",
       "      <th>330043</th>\n",
       "      <td>56089</td>\n",
       "      <td>j</td>\n",
       "      <td>89.0</td>\n",
       "      <td>2.0</td>\n",
       "      <td>80245</td>\n",
       "      <td>2107.0</td>\n",
       "      <td>3.0</td>\n",
       "    </tr>\n",
       "    <tr>\n",
       "      <th>330044</th>\n",
       "      <td>300553</td>\n",
       "      <td>j</td>\n",
       "      <td>2001.0</td>\n",
       "      <td>4.0</td>\n",
       "      <td>154692</td>\n",
       "      <td>2554.0</td>\n",
       "      <td>37.0</td>\n",
       "    </tr>\n",
       "  </tbody>\n",
       "</table>\n",
       "<p>330045 rows × 7 columns</p>\n",
       "</div>"
      ],
      "text/plain": [
       "            ID Tag  Reputation  Answers  Username    Views  Upvotes\n",
       "0        52664   a      3942.0      2.0    155623   7855.0     42.0\n",
       "1       327662   a     26046.0     12.0     21781  55801.0   1175.0\n",
       "2       468453   c      1358.0      4.0     56177   8067.0     60.0\n",
       "3        96996   a       264.0      3.0    168793  27064.0      9.0\n",
       "4       131465   c      4271.0      4.0    112223  13986.0     83.0\n",
       "...        ...  ..         ...      ...       ...      ...      ...\n",
       "330040  339800   c        36.0      2.0     84919   1063.0      0.0\n",
       "330041  253800   c      1649.0      2.0     76730  23319.0     73.0\n",
       "330042  210756   c      6178.0      2.0     91701   2453.0     15.0\n",
       "330043   56089   j        89.0      2.0     80245   2107.0      3.0\n",
       "330044  300553   j      2001.0      4.0    154692   2554.0     37.0\n",
       "\n",
       "[330045 rows x 7 columns]"
      ]
     },
     "execution_count": 3,
     "metadata": {},
     "output_type": "execute_result"
    }
   ],
   "source": [
    "df_train=pd.read_csv('train.csv')\n",
    "df_test=pd.read_csv('test.csv')\n",
    "df_train\n"
   ]
  },
  {
   "cell_type": "code",
   "execution_count": null,
   "id": "53f98006",
   "metadata": {},
   "outputs": [],
   "source": []
  },
  {
   "cell_type": "code",
   "execution_count": 4,
   "id": "b816fa05",
   "metadata": {},
   "outputs": [
    {
     "data": {
      "text/html": [
       "<div>\n",
       "<style scoped>\n",
       "    .dataframe tbody tr th:only-of-type {\n",
       "        vertical-align: middle;\n",
       "    }\n",
       "\n",
       "    .dataframe tbody tr th {\n",
       "        vertical-align: top;\n",
       "    }\n",
       "\n",
       "    .dataframe thead th {\n",
       "        text-align: right;\n",
       "    }\n",
       "</style>\n",
       "<table border=\"1\" class=\"dataframe\">\n",
       "  <thead>\n",
       "    <tr style=\"text-align: right;\">\n",
       "      <th></th>\n",
       "      <th>ID</th>\n",
       "      <th>Tag</th>\n",
       "      <th>Reputation</th>\n",
       "      <th>Answers</th>\n",
       "      <th>Username</th>\n",
       "      <th>Views</th>\n",
       "    </tr>\n",
       "  </thead>\n",
       "  <tbody>\n",
       "    <tr>\n",
       "      <th>0</th>\n",
       "      <td>366953</td>\n",
       "      <td>a</td>\n",
       "      <td>5645.0</td>\n",
       "      <td>3.0</td>\n",
       "      <td>50652</td>\n",
       "      <td>33200.0</td>\n",
       "    </tr>\n",
       "    <tr>\n",
       "      <th>1</th>\n",
       "      <td>71864</td>\n",
       "      <td>c</td>\n",
       "      <td>24511.0</td>\n",
       "      <td>6.0</td>\n",
       "      <td>37685</td>\n",
       "      <td>2730.0</td>\n",
       "    </tr>\n",
       "    <tr>\n",
       "      <th>2</th>\n",
       "      <td>141692</td>\n",
       "      <td>i</td>\n",
       "      <td>927.0</td>\n",
       "      <td>1.0</td>\n",
       "      <td>135293</td>\n",
       "      <td>21167.0</td>\n",
       "    </tr>\n",
       "    <tr>\n",
       "      <th>3</th>\n",
       "      <td>316833</td>\n",
       "      <td>i</td>\n",
       "      <td>21.0</td>\n",
       "      <td>6.0</td>\n",
       "      <td>166998</td>\n",
       "      <td>18528.0</td>\n",
       "    </tr>\n",
       "    <tr>\n",
       "      <th>4</th>\n",
       "      <td>440445</td>\n",
       "      <td>i</td>\n",
       "      <td>4475.0</td>\n",
       "      <td>10.0</td>\n",
       "      <td>53504</td>\n",
       "      <td>57240.0</td>\n",
       "    </tr>\n",
       "    <tr>\n",
       "      <th>...</th>\n",
       "      <td>...</td>\n",
       "      <td>...</td>\n",
       "      <td>...</td>\n",
       "      <td>...</td>\n",
       "      <td>...</td>\n",
       "      <td>...</td>\n",
       "    </tr>\n",
       "    <tr>\n",
       "      <th>141443</th>\n",
       "      <td>47187</td>\n",
       "      <td>j</td>\n",
       "      <td>4681.0</td>\n",
       "      <td>4.0</td>\n",
       "      <td>152060</td>\n",
       "      <td>2469.0</td>\n",
       "    </tr>\n",
       "    <tr>\n",
       "      <th>141444</th>\n",
       "      <td>329126</td>\n",
       "      <td>j</td>\n",
       "      <td>7782.0</td>\n",
       "      <td>3.0</td>\n",
       "      <td>89235</td>\n",
       "      <td>18998.0</td>\n",
       "    </tr>\n",
       "    <tr>\n",
       "      <th>141445</th>\n",
       "      <td>282334</td>\n",
       "      <td>p</td>\n",
       "      <td>435.0</td>\n",
       "      <td>5.0</td>\n",
       "      <td>119788</td>\n",
       "      <td>57048.0</td>\n",
       "    </tr>\n",
       "    <tr>\n",
       "      <th>141446</th>\n",
       "      <td>386629</td>\n",
       "      <td>o</td>\n",
       "      <td>176.0</td>\n",
       "      <td>3.0</td>\n",
       "      <td>86824</td>\n",
       "      <td>10193.0</td>\n",
       "    </tr>\n",
       "    <tr>\n",
       "      <th>141447</th>\n",
       "      <td>107271</td>\n",
       "      <td>a</td>\n",
       "      <td>648.0</td>\n",
       "      <td>2.0</td>\n",
       "      <td>102240</td>\n",
       "      <td>12785.0</td>\n",
       "    </tr>\n",
       "  </tbody>\n",
       "</table>\n",
       "<p>141448 rows × 6 columns</p>\n",
       "</div>"
      ],
      "text/plain": [
       "            ID Tag  Reputation  Answers  Username    Views\n",
       "0       366953   a      5645.0      3.0     50652  33200.0\n",
       "1        71864   c     24511.0      6.0     37685   2730.0\n",
       "2       141692   i       927.0      1.0    135293  21167.0\n",
       "3       316833   i        21.0      6.0    166998  18528.0\n",
       "4       440445   i      4475.0     10.0     53504  57240.0\n",
       "...        ...  ..         ...      ...       ...      ...\n",
       "141443   47187   j      4681.0      4.0    152060   2469.0\n",
       "141444  329126   j      7782.0      3.0     89235  18998.0\n",
       "141445  282334   p       435.0      5.0    119788  57048.0\n",
       "141446  386629   o       176.0      3.0     86824  10193.0\n",
       "141447  107271   a       648.0      2.0    102240  12785.0\n",
       "\n",
       "[141448 rows x 6 columns]"
      ]
     },
     "execution_count": 4,
     "metadata": {},
     "output_type": "execute_result"
    }
   ],
   "source": [
    "df_test"
   ]
  },
  {
   "cell_type": "code",
   "execution_count": 5,
   "id": "3353e44d",
   "metadata": {},
   "outputs": [
    {
     "data": {
      "text/plain": [
       "471493"
      ]
     },
     "execution_count": 5,
     "metadata": {},
     "output_type": "execute_result"
    }
   ],
   "source": [
    "330045+141448\n"
   ]
  },
  {
   "cell_type": "code",
   "execution_count": 6,
   "id": "c1836259",
   "metadata": {},
   "outputs": [
    {
     "data": {
      "text/html": [
       "<div>\n",
       "<style scoped>\n",
       "    .dataframe tbody tr th:only-of-type {\n",
       "        vertical-align: middle;\n",
       "    }\n",
       "\n",
       "    .dataframe tbody tr th {\n",
       "        vertical-align: top;\n",
       "    }\n",
       "\n",
       "    .dataframe thead th {\n",
       "        text-align: right;\n",
       "    }\n",
       "</style>\n",
       "<table border=\"1\" class=\"dataframe\">\n",
       "  <thead>\n",
       "    <tr style=\"text-align: right;\">\n",
       "      <th></th>\n",
       "      <th>ID</th>\n",
       "      <th>Tag</th>\n",
       "      <th>Reputation</th>\n",
       "      <th>Answers</th>\n",
       "      <th>Username</th>\n",
       "      <th>Views</th>\n",
       "      <th>Upvotes</th>\n",
       "    </tr>\n",
       "  </thead>\n",
       "  <tbody>\n",
       "    <tr>\n",
       "      <th>0</th>\n",
       "      <td>52664</td>\n",
       "      <td>a</td>\n",
       "      <td>3942.0</td>\n",
       "      <td>2.0</td>\n",
       "      <td>155623</td>\n",
       "      <td>7855.0</td>\n",
       "      <td>42.0</td>\n",
       "    </tr>\n",
       "    <tr>\n",
       "      <th>1</th>\n",
       "      <td>327662</td>\n",
       "      <td>a</td>\n",
       "      <td>26046.0</td>\n",
       "      <td>12.0</td>\n",
       "      <td>21781</td>\n",
       "      <td>55801.0</td>\n",
       "      <td>1175.0</td>\n",
       "    </tr>\n",
       "    <tr>\n",
       "      <th>2</th>\n",
       "      <td>468453</td>\n",
       "      <td>c</td>\n",
       "      <td>1358.0</td>\n",
       "      <td>4.0</td>\n",
       "      <td>56177</td>\n",
       "      <td>8067.0</td>\n",
       "      <td>60.0</td>\n",
       "    </tr>\n",
       "    <tr>\n",
       "      <th>3</th>\n",
       "      <td>96996</td>\n",
       "      <td>a</td>\n",
       "      <td>264.0</td>\n",
       "      <td>3.0</td>\n",
       "      <td>168793</td>\n",
       "      <td>27064.0</td>\n",
       "      <td>9.0</td>\n",
       "    </tr>\n",
       "    <tr>\n",
       "      <th>4</th>\n",
       "      <td>131465</td>\n",
       "      <td>c</td>\n",
       "      <td>4271.0</td>\n",
       "      <td>4.0</td>\n",
       "      <td>112223</td>\n",
       "      <td>13986.0</td>\n",
       "      <td>83.0</td>\n",
       "    </tr>\n",
       "    <tr>\n",
       "      <th>...</th>\n",
       "      <td>...</td>\n",
       "      <td>...</td>\n",
       "      <td>...</td>\n",
       "      <td>...</td>\n",
       "      <td>...</td>\n",
       "      <td>...</td>\n",
       "      <td>...</td>\n",
       "    </tr>\n",
       "    <tr>\n",
       "      <th>471488</th>\n",
       "      <td>47187</td>\n",
       "      <td>j</td>\n",
       "      <td>4681.0</td>\n",
       "      <td>4.0</td>\n",
       "      <td>152060</td>\n",
       "      <td>2469.0</td>\n",
       "      <td>NaN</td>\n",
       "    </tr>\n",
       "    <tr>\n",
       "      <th>471489</th>\n",
       "      <td>329126</td>\n",
       "      <td>j</td>\n",
       "      <td>7782.0</td>\n",
       "      <td>3.0</td>\n",
       "      <td>89235</td>\n",
       "      <td>18998.0</td>\n",
       "      <td>NaN</td>\n",
       "    </tr>\n",
       "    <tr>\n",
       "      <th>471490</th>\n",
       "      <td>282334</td>\n",
       "      <td>p</td>\n",
       "      <td>435.0</td>\n",
       "      <td>5.0</td>\n",
       "      <td>119788</td>\n",
       "      <td>57048.0</td>\n",
       "      <td>NaN</td>\n",
       "    </tr>\n",
       "    <tr>\n",
       "      <th>471491</th>\n",
       "      <td>386629</td>\n",
       "      <td>o</td>\n",
       "      <td>176.0</td>\n",
       "      <td>3.0</td>\n",
       "      <td>86824</td>\n",
       "      <td>10193.0</td>\n",
       "      <td>NaN</td>\n",
       "    </tr>\n",
       "    <tr>\n",
       "      <th>471492</th>\n",
       "      <td>107271</td>\n",
       "      <td>a</td>\n",
       "      <td>648.0</td>\n",
       "      <td>2.0</td>\n",
       "      <td>102240</td>\n",
       "      <td>12785.0</td>\n",
       "      <td>NaN</td>\n",
       "    </tr>\n",
       "  </tbody>\n",
       "</table>\n",
       "<p>471493 rows × 7 columns</p>\n",
       "</div>"
      ],
      "text/plain": [
       "            ID Tag  Reputation  Answers  Username    Views  Upvotes\n",
       "0        52664   a      3942.0      2.0    155623   7855.0     42.0\n",
       "1       327662   a     26046.0     12.0     21781  55801.0   1175.0\n",
       "2       468453   c      1358.0      4.0     56177   8067.0     60.0\n",
       "3        96996   a       264.0      3.0    168793  27064.0      9.0\n",
       "4       131465   c      4271.0      4.0    112223  13986.0     83.0\n",
       "...        ...  ..         ...      ...       ...      ...      ...\n",
       "471488   47187   j      4681.0      4.0    152060   2469.0      NaN\n",
       "471489  329126   j      7782.0      3.0     89235  18998.0      NaN\n",
       "471490  282334   p       435.0      5.0    119788  57048.0      NaN\n",
       "471491  386629   o       176.0      3.0     86824  10193.0      NaN\n",
       "471492  107271   a       648.0      2.0    102240  12785.0      NaN\n",
       "\n",
       "[471493 rows x 7 columns]"
      ]
     },
     "execution_count": 6,
     "metadata": {},
     "output_type": "execute_result"
    }
   ],
   "source": [
    "df=pd.concat([df_train,df_test],ignore_index=True)\n",
    "df"
   ]
  },
  {
   "cell_type": "code",
   "execution_count": 8,
   "id": "191a699c",
   "metadata": {},
   "outputs": [
    {
     "data": {
      "text/plain": [
       "array([ 2., 12.,  4.,  3.,  1.,  7.,  8.,  0.,  5., 13.,  9., 22., 10.,\n",
       "        6., 11., 41., 16., 17., 25., 19., 21., 15., 20., 14., 18., 30.,\n",
       "       34., 37., 33., 24., 26., 28., 29., 31., 27., 23., 32., 39., 49.,\n",
       "       35., 38., 36., 50., 43., 47., 61., 51., 57., 40., 54., 46., 62.,\n",
       "       48., 60., 53., 59., 42., 45., 76., 66., 44., 58., 55., 68., 73.])"
      ]
     },
     "execution_count": 8,
     "metadata": {},
     "output_type": "execute_result"
    }
   ],
   "source": [
    "df.Answers.unique()"
   ]
  },
  {
   "cell_type": "code",
   "execution_count": null,
   "id": "b8362b03",
   "metadata": {},
   "outputs": [],
   "source": []
  },
  {
   "cell_type": "code",
   "execution_count": 9,
   "id": "db740d63",
   "metadata": {},
   "outputs": [
    {
     "name": "stdout",
     "output_type": "stream",
     "text": [
      "<class 'pandas.core.frame.DataFrame'>\n",
      "RangeIndex: 471493 entries, 0 to 471492\n",
      "Data columns (total 7 columns):\n",
      " #   Column      Non-Null Count   Dtype  \n",
      "---  ------      --------------   -----  \n",
      " 0   ID          471493 non-null  int64  \n",
      " 1   Tag         471493 non-null  object \n",
      " 2   Reputation  471493 non-null  float64\n",
      " 3   Answers     471493 non-null  float64\n",
      " 4   Username    471493 non-null  int64  \n",
      " 5   Views       471493 non-null  float64\n",
      " 6   Upvotes     330045 non-null  float64\n",
      "dtypes: float64(4), int64(2), object(1)\n",
      "memory usage: 25.2+ MB\n"
     ]
    }
   ],
   "source": [
    "df.info()"
   ]
  },
  {
   "cell_type": "markdown",
   "id": "bef9ac58",
   "metadata": {},
   "source": [
    "#### Distribution of Numerical Features"
   ]
  },
  {
   "cell_type": "code",
   "execution_count": 10,
   "id": "e8adff8b",
   "metadata": {},
   "outputs": [
    {
     "data": {
      "image/png": "[encoded data removed]",
      "text/plain": [
       "<Figure size 1800x576 with 6 Axes>"
      ]
     },
     "metadata": {
      "needs_background": "light"
     },
     "output_type": "display_data"
    }
   ],
   "source": [
    "\n",
    "# ploting the distplot\n",
    "df_train_plot=df_train.drop('Tag',axis=1)\n",
    "\n",
    "fig,ax=plt.subplots(nrows=2,ncols=3,figsize=(25,8))\n",
    "\n",
    "\n",
    "for  variable, subplot in zip(df_train_plot, ax.flatten()):\n",
    "    \n",
    "    sns.distplot(df_train_plot[variable],kde=True,ax = subplot)\n"
   ]
  },
  {
   "cell_type": "code",
   "execution_count": 10,
   "id": "c626575f",
   "metadata": {},
   "outputs": [
    {
     "data": {
      "text/html": [
       "<div>\n",
       "<style scoped>\n",
       "    .dataframe tbody tr th:only-of-type {\n",
       "        vertical-align: middle;\n",
       "    }\n",
       "\n",
       "    .dataframe tbody tr th {\n",
       "        vertical-align: top;\n",
       "    }\n",
       "\n",
       "    .dataframe thead th {\n",
       "        text-align: right;\n",
       "    }\n",
       "</style>\n",
       "<table border=\"1\" class=\"dataframe\">\n",
       "  <thead>\n",
       "    <tr style=\"text-align: right;\">\n",
       "      <th></th>\n",
       "      <th>ID</th>\n",
       "      <th>Tag</th>\n",
       "      <th>Reputation</th>\n",
       "      <th>Answers</th>\n",
       "      <th>Username</th>\n",
       "      <th>Views</th>\n",
       "      <th>Upvotes</th>\n",
       "      <th>Answers_exp</th>\n",
       "    </tr>\n",
       "  </thead>\n",
       "  <tbody>\n",
       "    <tr>\n",
       "      <th>0</th>\n",
       "      <td>52664</td>\n",
       "      <td>a</td>\n",
       "      <td>3942.0</td>\n",
       "      <td>2.0</td>\n",
       "      <td>155623</td>\n",
       "      <td>7855.0</td>\n",
       "      <td>42.0</td>\n",
       "      <td>7.389056</td>\n",
       "    </tr>\n",
       "    <tr>\n",
       "      <th>1</th>\n",
       "      <td>327662</td>\n",
       "      <td>a</td>\n",
       "      <td>26046.0</td>\n",
       "      <td>12.0</td>\n",
       "      <td>21781</td>\n",
       "      <td>55801.0</td>\n",
       "      <td>1175.0</td>\n",
       "      <td>162754.791419</td>\n",
       "    </tr>\n",
       "    <tr>\n",
       "      <th>2</th>\n",
       "      <td>468453</td>\n",
       "      <td>c</td>\n",
       "      <td>1358.0</td>\n",
       "      <td>4.0</td>\n",
       "      <td>56177</td>\n",
       "      <td>8067.0</td>\n",
       "      <td>60.0</td>\n",
       "      <td>54.598150</td>\n",
       "    </tr>\n",
       "    <tr>\n",
       "      <th>3</th>\n",
       "      <td>96996</td>\n",
       "      <td>a</td>\n",
       "      <td>264.0</td>\n",
       "      <td>3.0</td>\n",
       "      <td>168793</td>\n",
       "      <td>27064.0</td>\n",
       "      <td>9.0</td>\n",
       "      <td>20.085537</td>\n",
       "    </tr>\n",
       "    <tr>\n",
       "      <th>4</th>\n",
       "      <td>131465</td>\n",
       "      <td>c</td>\n",
       "      <td>4271.0</td>\n",
       "      <td>4.0</td>\n",
       "      <td>112223</td>\n",
       "      <td>13986.0</td>\n",
       "      <td>83.0</td>\n",
       "      <td>54.598150</td>\n",
       "    </tr>\n",
       "    <tr>\n",
       "      <th>...</th>\n",
       "      <td>...</td>\n",
       "      <td>...</td>\n",
       "      <td>...</td>\n",
       "      <td>...</td>\n",
       "      <td>...</td>\n",
       "      <td>...</td>\n",
       "      <td>...</td>\n",
       "      <td>...</td>\n",
       "    </tr>\n",
       "    <tr>\n",
       "      <th>471488</th>\n",
       "      <td>47187</td>\n",
       "      <td>j</td>\n",
       "      <td>4681.0</td>\n",
       "      <td>4.0</td>\n",
       "      <td>152060</td>\n",
       "      <td>2469.0</td>\n",
       "      <td>NaN</td>\n",
       "      <td>54.598150</td>\n",
       "    </tr>\n",
       "    <tr>\n",
       "      <th>471489</th>\n",
       "      <td>329126</td>\n",
       "      <td>j</td>\n",
       "      <td>7782.0</td>\n",
       "      <td>3.0</td>\n",
       "      <td>89235</td>\n",
       "      <td>18998.0</td>\n",
       "      <td>NaN</td>\n",
       "      <td>20.085537</td>\n",
       "    </tr>\n",
       "    <tr>\n",
       "      <th>471490</th>\n",
       "      <td>282334</td>\n",
       "      <td>p</td>\n",
       "      <td>435.0</td>\n",
       "      <td>5.0</td>\n",
       "      <td>119788</td>\n",
       "      <td>57048.0</td>\n",
       "      <td>NaN</td>\n",
       "      <td>148.413159</td>\n",
       "    </tr>\n",
       "    <tr>\n",
       "      <th>471491</th>\n",
       "      <td>386629</td>\n",
       "      <td>o</td>\n",
       "      <td>176.0</td>\n",
       "      <td>3.0</td>\n",
       "      <td>86824</td>\n",
       "      <td>10193.0</td>\n",
       "      <td>NaN</td>\n",
       "      <td>20.085537</td>\n",
       "    </tr>\n",
       "    <tr>\n",
       "      <th>471492</th>\n",
       "      <td>107271</td>\n",
       "      <td>a</td>\n",
       "      <td>648.0</td>\n",
       "      <td>2.0</td>\n",
       "      <td>102240</td>\n",
       "      <td>12785.0</td>\n",
       "      <td>NaN</td>\n",
       "      <td>7.389056</td>\n",
       "    </tr>\n",
       "  </tbody>\n",
       "</table>\n",
       "<p>471493 rows × 8 columns</p>\n",
       "</div>"
      ],
      "text/plain": [
       "            ID Tag  Reputation  Answers  Username    Views  Upvotes  \\\n",
       "0        52664   a      3942.0      2.0    155623   7855.0     42.0   \n",
       "1       327662   a     26046.0     12.0     21781  55801.0   1175.0   \n",
       "2       468453   c      1358.0      4.0     56177   8067.0     60.0   \n",
       "3        96996   a       264.0      3.0    168793  27064.0      9.0   \n",
       "4       131465   c      4271.0      4.0    112223  13986.0     83.0   \n",
       "...        ...  ..         ...      ...       ...      ...      ...   \n",
       "471488   47187   j      4681.0      4.0    152060   2469.0      NaN   \n",
       "471489  329126   j      7782.0      3.0     89235  18998.0      NaN   \n",
       "471490  282334   p       435.0      5.0    119788  57048.0      NaN   \n",
       "471491  386629   o       176.0      3.0     86824  10193.0      NaN   \n",
       "471492  107271   a       648.0      2.0    102240  12785.0      NaN   \n",
       "\n",
       "          Answers_exp  \n",
       "0            7.389056  \n",
       "1       162754.791419  \n",
       "2           54.598150  \n",
       "3           20.085537  \n",
       "4           54.598150  \n",
       "...               ...  \n",
       "471488      54.598150  \n",
       "471489      20.085537  \n",
       "471490     148.413159  \n",
       "471491      20.085537  \n",
       "471492       7.389056  \n",
       "\n",
       "[471493 rows x 8 columns]"
      ]
     },
     "execution_count": 10,
     "metadata": {},
     "output_type": "execute_result"
    }
   ],
   "source": [
    "df['Answers_exp']=np.exp(df.Answers)\n",
    "df"
   ]
  },
  {
   "cell_type": "code",
   "execution_count": 62,
   "id": "b50f6080",
   "metadata": {},
   "outputs": [
    {
     "data": {
      "image/png": "[encoded data removed]",
      "text/plain": [
       "<Figure size 3600x360 with 1 Axes>"
      ]
     },
     "metadata": {
      "needs_background": "light"
     },
     "output_type": "display_data"
    }
   ],
   "source": [
    "plt.figure(figsize=(50,5))\n",
    "sns.distplot(df['Answers_exp'],kde=True)\n",
    "\n",
    "plt.show()"
   ]
  },
  {
   "cell_type": "markdown",
   "id": "b59fd1a9",
   "metadata": {},
   "source": [
    "##  2.EDA andn Feature Engineering"
   ]
  },
  {
   "cell_type": "markdown",
   "id": "af62be0f",
   "metadata": {},
   "source": [
    "#### 2.1 Checking outliers and any kind of Iregularities in data"
   ]
  },
  {
   "cell_type": "code",
   "execution_count": 11,
   "id": "4aadb11d",
   "metadata": {},
   "outputs": [
    {
     "data": {
      "text/html": [
       "<div>\n",
       "<style scoped>\n",
       "    .dataframe tbody tr th:only-of-type {\n",
       "        vertical-align: middle;\n",
       "    }\n",
       "\n",
       "    .dataframe tbody tr th {\n",
       "        vertical-align: top;\n",
       "    }\n",
       "\n",
       "    .dataframe thead th {\n",
       "        text-align: right;\n",
       "    }\n",
       "</style>\n",
       "<table border=\"1\" class=\"dataframe\">\n",
       "  <thead>\n",
       "    <tr style=\"text-align: right;\">\n",
       "      <th></th>\n",
       "      <th>ID</th>\n",
       "      <th>Tag</th>\n",
       "      <th>Reputation</th>\n",
       "      <th>Answers</th>\n",
       "      <th>Username</th>\n",
       "      <th>Views</th>\n",
       "      <th>Upvotes</th>\n",
       "      <th>Answers_exp</th>\n",
       "    </tr>\n",
       "  </thead>\n",
       "  <tbody>\n",
       "    <tr>\n",
       "      <th>0</th>\n",
       "      <td>52664</td>\n",
       "      <td>a</td>\n",
       "      <td>3942.0</td>\n",
       "      <td>2.0</td>\n",
       "      <td>155623</td>\n",
       "      <td>7855.0</td>\n",
       "      <td>42.0</td>\n",
       "      <td>7.389056</td>\n",
       "    </tr>\n",
       "    <tr>\n",
       "      <th>1</th>\n",
       "      <td>327662</td>\n",
       "      <td>a</td>\n",
       "      <td>26046.0</td>\n",
       "      <td>12.0</td>\n",
       "      <td>21781</td>\n",
       "      <td>55801.0</td>\n",
       "      <td>1175.0</td>\n",
       "      <td>162754.791419</td>\n",
       "    </tr>\n",
       "    <tr>\n",
       "      <th>2</th>\n",
       "      <td>468453</td>\n",
       "      <td>c</td>\n",
       "      <td>1358.0</td>\n",
       "      <td>4.0</td>\n",
       "      <td>56177</td>\n",
       "      <td>8067.0</td>\n",
       "      <td>60.0</td>\n",
       "      <td>54.598150</td>\n",
       "    </tr>\n",
       "    <tr>\n",
       "      <th>3</th>\n",
       "      <td>96996</td>\n",
       "      <td>a</td>\n",
       "      <td>264.0</td>\n",
       "      <td>3.0</td>\n",
       "      <td>168793</td>\n",
       "      <td>27064.0</td>\n",
       "      <td>9.0</td>\n",
       "      <td>20.085537</td>\n",
       "    </tr>\n",
       "    <tr>\n",
       "      <th>4</th>\n",
       "      <td>131465</td>\n",
       "      <td>c</td>\n",
       "      <td>4271.0</td>\n",
       "      <td>4.0</td>\n",
       "      <td>112223</td>\n",
       "      <td>13986.0</td>\n",
       "      <td>83.0</td>\n",
       "      <td>54.598150</td>\n",
       "    </tr>\n",
       "    <tr>\n",
       "      <th>...</th>\n",
       "      <td>...</td>\n",
       "      <td>...</td>\n",
       "      <td>...</td>\n",
       "      <td>...</td>\n",
       "      <td>...</td>\n",
       "      <td>...</td>\n",
       "      <td>...</td>\n",
       "      <td>...</td>\n",
       "    </tr>\n",
       "    <tr>\n",
       "      <th>471488</th>\n",
       "      <td>47187</td>\n",
       "      <td>j</td>\n",
       "      <td>4681.0</td>\n",
       "      <td>4.0</td>\n",
       "      <td>152060</td>\n",
       "      <td>2469.0</td>\n",
       "      <td>NaN</td>\n",
       "      <td>54.598150</td>\n",
       "    </tr>\n",
       "    <tr>\n",
       "      <th>471489</th>\n",
       "      <td>329126</td>\n",
       "      <td>j</td>\n",
       "      <td>7782.0</td>\n",
       "      <td>3.0</td>\n",
       "      <td>89235</td>\n",
       "      <td>18998.0</td>\n",
       "      <td>NaN</td>\n",
       "      <td>20.085537</td>\n",
       "    </tr>\n",
       "    <tr>\n",
       "      <th>471490</th>\n",
       "      <td>282334</td>\n",
       "      <td>p</td>\n",
       "      <td>435.0</td>\n",
       "      <td>5.0</td>\n",
       "      <td>119788</td>\n",
       "      <td>57048.0</td>\n",
       "      <td>NaN</td>\n",
       "      <td>148.413159</td>\n",
       "    </tr>\n",
       "    <tr>\n",
       "      <th>471491</th>\n",
       "      <td>386629</td>\n",
       "      <td>o</td>\n",
       "      <td>176.0</td>\n",
       "      <td>3.0</td>\n",
       "      <td>86824</td>\n",
       "      <td>10193.0</td>\n",
       "      <td>NaN</td>\n",
       "      <td>20.085537</td>\n",
       "    </tr>\n",
       "    <tr>\n",
       "      <th>471492</th>\n",
       "      <td>107271</td>\n",
       "      <td>a</td>\n",
       "      <td>648.0</td>\n",
       "      <td>2.0</td>\n",
       "      <td>102240</td>\n",
       "      <td>12785.0</td>\n",
       "      <td>NaN</td>\n",
       "      <td>7.389056</td>\n",
       "    </tr>\n",
       "  </tbody>\n",
       "</table>\n",
       "<p>471493 rows × 8 columns</p>\n",
       "</div>"
      ],
      "text/plain": [
       "            ID Tag  Reputation  Answers  Username    Views  Upvotes  \\\n",
       "0        52664   a      3942.0      2.0    155623   7855.0     42.0   \n",
       "1       327662   a     26046.0     12.0     21781  55801.0   1175.0   \n",
       "2       468453   c      1358.0      4.0     56177   8067.0     60.0   \n",
       "3        96996   a       264.0      3.0    168793  27064.0      9.0   \n",
       "4       131465   c      4271.0      4.0    112223  13986.0     83.0   \n",
       "...        ...  ..         ...      ...       ...      ...      ...   \n",
       "471488   47187   j      4681.0      4.0    152060   2469.0      NaN   \n",
       "471489  329126   j      7782.0      3.0     89235  18998.0      NaN   \n",
       "471490  282334   p       435.0      5.0    119788  57048.0      NaN   \n",
       "471491  386629   o       176.0      3.0     86824  10193.0      NaN   \n",
       "471492  107271   a       648.0      2.0    102240  12785.0      NaN   \n",
       "\n",
       "          Answers_exp  \n",
       "0            7.389056  \n",
       "1       162754.791419  \n",
       "2           54.598150  \n",
       "3           20.085537  \n",
       "4           54.598150  \n",
       "...               ...  \n",
       "471488      54.598150  \n",
       "471489      20.085537  \n",
       "471490     148.413159  \n",
       "471491      20.085537  \n",
       "471492       7.389056  \n",
       "\n",
       "[471493 rows x 8 columns]"
      ]
     },
     "execution_count": 11,
     "metadata": {},
     "output_type": "execute_result"
    }
   ],
   "source": [
    "df"
   ]
  },
  {
   "cell_type": "code",
   "execution_count": 12,
   "id": "24bdcd6a",
   "metadata": {},
   "outputs": [
    {
     "data": {
      "text/html": [
       "<div>\n",
       "<style scoped>\n",
       "    .dataframe tbody tr th:only-of-type {\n",
       "        vertical-align: middle;\n",
       "    }\n",
       "\n",
       "    .dataframe tbody tr th {\n",
       "        vertical-align: top;\n",
       "    }\n",
       "\n",
       "    .dataframe thead th {\n",
       "        text-align: right;\n",
       "    }\n",
       "</style>\n",
       "<table border=\"1\" class=\"dataframe\">\n",
       "  <thead>\n",
       "    <tr style=\"text-align: right;\">\n",
       "      <th></th>\n",
       "      <th>count</th>\n",
       "      <th>mean</th>\n",
       "      <th>std</th>\n",
       "      <th>min</th>\n",
       "      <th>25%</th>\n",
       "      <th>50%</th>\n",
       "      <th>75%</th>\n",
       "      <th>max</th>\n",
       "    </tr>\n",
       "  </thead>\n",
       "  <tbody>\n",
       "    <tr>\n",
       "      <th>ID</th>\n",
       "      <td>330045.0</td>\n",
       "      <td>235748.682789</td>\n",
       "      <td>136039.418471</td>\n",
       "      <td>1.0</td>\n",
       "      <td>117909.0</td>\n",
       "      <td>235699.0</td>\n",
       "      <td>353620.0</td>\n",
       "      <td>471493.0</td>\n",
       "    </tr>\n",
       "    <tr>\n",
       "      <th>Reputation</th>\n",
       "      <td>330045.0</td>\n",
       "      <td>7773.146798</td>\n",
       "      <td>27061.412587</td>\n",
       "      <td>0.0</td>\n",
       "      <td>282.0</td>\n",
       "      <td>1236.0</td>\n",
       "      <td>5118.0</td>\n",
       "      <td>1042428.0</td>\n",
       "    </tr>\n",
       "    <tr>\n",
       "      <th>Answers</th>\n",
       "      <td>330045.0</td>\n",
       "      <td>3.917672</td>\n",
       "      <td>3.579515</td>\n",
       "      <td>0.0</td>\n",
       "      <td>2.0</td>\n",
       "      <td>3.0</td>\n",
       "      <td>5.0</td>\n",
       "      <td>76.0</td>\n",
       "    </tr>\n",
       "    <tr>\n",
       "      <th>Username</th>\n",
       "      <td>330045.0</td>\n",
       "      <td>81442.888803</td>\n",
       "      <td>49215.100730</td>\n",
       "      <td>0.0</td>\n",
       "      <td>39808.0</td>\n",
       "      <td>79010.0</td>\n",
       "      <td>122559.0</td>\n",
       "      <td>175738.0</td>\n",
       "    </tr>\n",
       "    <tr>\n",
       "      <th>Views</th>\n",
       "      <td>330045.0</td>\n",
       "      <td>29645.071342</td>\n",
       "      <td>80956.456478</td>\n",
       "      <td>9.0</td>\n",
       "      <td>2594.0</td>\n",
       "      <td>8954.0</td>\n",
       "      <td>26870.0</td>\n",
       "      <td>5231058.0</td>\n",
       "    </tr>\n",
       "    <tr>\n",
       "      <th>Upvotes</th>\n",
       "      <td>330045.0</td>\n",
       "      <td>337.505358</td>\n",
       "      <td>3592.441135</td>\n",
       "      <td>0.0</td>\n",
       "      <td>8.0</td>\n",
       "      <td>28.0</td>\n",
       "      <td>107.0</td>\n",
       "      <td>615278.0</td>\n",
       "    </tr>\n",
       "  </tbody>\n",
       "</table>\n",
       "</div>"
      ],
      "text/plain": [
       "               count           mean            std  min       25%       50%  \\\n",
       "ID          330045.0  235748.682789  136039.418471  1.0  117909.0  235699.0   \n",
       "Reputation  330045.0    7773.146798   27061.412587  0.0     282.0    1236.0   \n",
       "Answers     330045.0       3.917672       3.579515  0.0       2.0       3.0   \n",
       "Username    330045.0   81442.888803   49215.100730  0.0   39808.0   79010.0   \n",
       "Views       330045.0   29645.071342   80956.456478  9.0    2594.0    8954.0   \n",
       "Upvotes     330045.0     337.505358    3592.441135  0.0       8.0      28.0   \n",
       "\n",
       "                 75%        max  \n",
       "ID          353620.0   471493.0  \n",
       "Reputation    5118.0  1042428.0  \n",
       "Answers          5.0       76.0  \n",
       "Username    122559.0   175738.0  \n",
       "Views        26870.0  5231058.0  \n",
       "Upvotes        107.0   615278.0  "
      ]
     },
     "execution_count": 12,
     "metadata": {},
     "output_type": "execute_result"
    }
   ],
   "source": [
    "df_train.describe().T"
   ]
  },
  {
   "cell_type": "markdown",
   "id": "1dad842e",
   "metadata": {},
   "source": [
    "**1.As we see in features like Views,Reputation ,Upvotes there are many outliers so instead of treating we keep it and build the model for now and check its affect\n",
    "\n",
    "2.As we see "
   ]
  },
  {
   "cell_type": "code",
   "execution_count": 13,
   "id": "585c6783",
   "metadata": {},
   "outputs": [
    {
     "data": {
      "text/plain": [
       "<AxesSubplot:>"
      ]
     },
     "execution_count": 13,
     "metadata": {},
     "output_type": "execute_result"
    },
    {
     "data": {
      "image/png": "[encoded data removed]",
      "text/plain": [
       "<Figure size 432x288 with 1 Axes>"
      ]
     },
     "metadata": {
      "needs_background": "light"
     },
     "output_type": "display_data"
    }
   ],
   "source": [
    "df_train.boxplot()"
   ]
  },
  {
   "cell_type": "markdown",
   "id": "7fdbc747",
   "metadata": {},
   "source": [
    "##### 2.2 Checking Nulls"
   ]
  },
  {
   "cell_type": "code",
   "execution_count": 14,
   "id": "52de1416",
   "metadata": {},
   "outputs": [
    {
     "data": {
      "text/plain": [
       "ID                  0\n",
       "Tag                 0\n",
       "Reputation          0\n",
       "Answers             0\n",
       "Username            0\n",
       "Views               0\n",
       "Upvotes        141448\n",
       "Answers_exp         0\n",
       "dtype: int64"
      ]
     },
     "execution_count": 14,
     "metadata": {},
     "output_type": "execute_result"
    }
   ],
   "source": [
    "df.isnull().sum()"
   ]
  },
  {
   "cell_type": "markdown",
   "id": "c31d2e55",
   "metadata": {},
   "source": [
    "#### 2.3 Checking Relation and Correlation between Variables"
   ]
  },
  {
   "cell_type": "code",
   "execution_count": 15,
   "id": "51b196a2",
   "metadata": {},
   "outputs": [],
   "source": [
    "#Checking Relation between variables\n",
    "#sns.pairplot(df_train)"
   ]
  },
  {
   "cell_type": "code",
   "execution_count": 16,
   "id": "b08330c5",
   "metadata": {},
   "outputs": [
    {
     "data": {
      "text/plain": [
       "<AxesSubplot:>"
      ]
     },
     "execution_count": 16,
     "metadata": {},
     "output_type": "execute_result"
    },
    {
     "data": {
      "image/png": "[encoded data removed]",
      "text/plain": [
       "<Figure size 432x288 with 2 Axes>"
      ]
     },
     "metadata": {
      "needs_background": "light"
     },
     "output_type": "display_data"
    }
   ],
   "source": [
    "#Checking Correlation Between Variables\n",
    "import seaborn as sns\n",
    "sns.heatmap(df_train.corr(),annot =True)"
   ]
  },
  {
   "cell_type": "markdown",
   "id": "cc8a375b",
   "metadata": {},
   "source": [
    "#### 2.4 Feature Engineering and Feature Selection"
   ]
  },
  {
   "cell_type": "code",
   "execution_count": 17,
   "id": "2193f885",
   "metadata": {},
   "outputs": [
    {
     "name": "stdout",
     "output_type": "stream",
     "text": [
      "{'ID': array([ 52664, 327662, 468453, ..., 210756,  56089, 300553], dtype=int64), 'Tag': array(['a', 'c', 'r', 'j', 'p', 's', 'h', 'o', 'i', 'x'], dtype=object), 'Reputation': array([ 3942., 26046.,  1358., ..., 39952., 14347., 65763.]), 'Answers': array([ 2., 12.,  4.,  3.,  1.,  7.,  8.,  0.,  5., 13.,  9., 22., 10.,\n",
      "        6., 11., 41., 16., 17., 25., 19., 21., 15., 20., 14., 18., 30.,\n",
      "       34., 37., 33., 24., 26., 28., 29., 31., 27., 23., 32., 39., 49.,\n",
      "       35., 38., 36., 50., 43., 47., 61., 51., 57., 40., 54., 46., 62.,\n",
      "       48., 60., 53., 59., 42., 45., 76., 66., 44., 58., 55.]), 'Username': array([155623,  21781,  56177, ...,   8874,  84919,  80245], dtype=int64), 'Views': array([ 7855., 55801.,  8067., ..., 85644., 52493., 23319.]), 'Upvotes': array([4.2000e+01, 1.1750e+03, 6.0000e+01, ..., 3.3900e+03, 3.9280e+03,\n",
      "       4.5611e+04])}\n"
     ]
    }
   ],
   "source": [
    "dict={}\n",
    "for i in df_train.columns:\n",
    "    dict[i]=df_train[i].unique()\n",
    "print(dict)   "
   ]
  },
  {
   "cell_type": "code",
   "execution_count": 18,
   "id": "7307d384",
   "metadata": {},
   "outputs": [
    {
     "name": "stdout",
     "output_type": "stream",
     "text": [
      "<class 'pandas.core.frame.DataFrame'>\n",
      "RangeIndex: 471493 entries, 0 to 471492\n",
      "Data columns (total 8 columns):\n",
      " #   Column       Non-Null Count   Dtype  \n",
      "---  ------       --------------   -----  \n",
      " 0   ID           471493 non-null  int64  \n",
      " 1   Tag          471493 non-null  object \n",
      " 2   Reputation   471493 non-null  float64\n",
      " 3   Answers      471493 non-null  float64\n",
      " 4   Username     471493 non-null  int64  \n",
      " 5   Views        471493 non-null  float64\n",
      " 6   Upvotes      330045 non-null  float64\n",
      " 7   Answers_exp  471493 non-null  float64\n",
      "dtypes: float64(5), int64(2), object(1)\n",
      "memory usage: 28.8+ MB\n"
     ]
    }
   ],
   "source": [
    "df.info()"
   ]
  },
  {
   "cell_type": "markdown",
   "id": "290cf325",
   "metadata": {},
   "source": [
    "##### ID Column"
   ]
  },
  {
   "cell_type": "code",
   "execution_count": 19,
   "id": "2c2d29e1",
   "metadata": {},
   "outputs": [],
   "source": [
    "# we drop the ID columns as it is useless in this dataset and have many unique values\n",
    "#df.drop('ID',axis=1,inplace=True)"
   ]
  },
  {
   "cell_type": "markdown",
   "id": "c0baa825",
   "metadata": {},
   "source": [
    "##### Tag Column"
   ]
  },
  {
   "cell_type": "code",
   "execution_count": 20,
   "id": "2d666679",
   "metadata": {},
   "outputs": [
    {
     "data": {
      "text/plain": [
       "array(['a', 'c', 'r', 'j', 'p', 's', 'h', 'o', 'i', 'x'], dtype=object)"
      ]
     },
     "execution_count": 20,
     "metadata": {},
     "output_type": "execute_result"
    }
   ],
   "source": [
    "df.Tag.unique()"
   ]
  },
  {
   "cell_type": "code",
   "execution_count": 21,
   "id": "81525446",
   "metadata": {},
   "outputs": [
    {
     "data": {
      "text/plain": [
       "array([0, 1, 2, 3, 4, 5, 6, 7, 8, 9], dtype=int64)"
      ]
     },
     "execution_count": 21,
     "metadata": {},
     "output_type": "execute_result"
    }
   ],
   "source": [
    "# Label Encode top numerical values for model feed\n",
    "#Numerical Encoding of Unique values of Tag column\n",
    "count=0\n",
    "for i in df['Tag'].unique():\n",
    "    df['Tag'].replace(i,count,inplace=True)\n",
    "    count+=1\n",
    "df['Tag'].unique()    \n"
   ]
  },
  {
   "cell_type": "code",
   "execution_count": 22,
   "id": "11182a77",
   "metadata": {},
   "outputs": [
    {
     "data": {
      "text/plain": [
       "Index(['ID', 'Tag', 'Reputation', 'Answers', 'Username', 'Views', 'Upvotes',\n",
       "       'Answers_exp'],\n",
       "      dtype='object')"
      ]
     },
     "execution_count": 22,
     "metadata": {},
     "output_type": "execute_result"
    }
   ],
   "source": [
    "df.columns"
   ]
  },
  {
   "cell_type": "markdown",
   "id": "627204f3",
   "metadata": {},
   "source": [
    "## Feature Engineeering"
   ]
  },
  {
   "cell_type": "markdown",
   "id": "ce261034",
   "metadata": {},
   "source": [
    "### Answers"
   ]
  },
  {
   "cell_type": "code",
   "execution_count": 23,
   "id": "4ef8c293",
   "metadata": {},
   "outputs": [
    {
     "data": {
      "text/plain": [
       "array([ 2., 12.,  4.,  3.,  1.,  7.,  8.,  0.,  5., 13.,  9., 22., 10.,\n",
       "        6., 11., 41., 16., 17., 25., 19., 21., 15., 20., 14., 18., 30.,\n",
       "       34., 37., 33., 24., 26., 28., 29., 31., 27., 23., 32., 39., 49.,\n",
       "       35., 38., 36., 50., 43., 47., 61., 51., 57., 40., 54., 46., 62.,\n",
       "       48., 60., 53., 59., 42., 45., 76., 66., 44., 58., 55., 68., 73.])"
      ]
     },
     "execution_count": 23,
     "metadata": {},
     "output_type": "execute_result"
    }
   ],
   "source": [
    "\n",
    "df.Answers.unique()"
   ]
  },
  {
   "cell_type": "code",
   "execution_count": 24,
   "id": "802fcbbe",
   "metadata": {},
   "outputs": [
    {
     "data": {
      "text/plain": [
       "2.0     102354\n",
       "1.0      92973\n",
       "3.0      80422\n",
       "4.0      57882\n",
       "5.0      39826\n",
       "         ...  \n",
       "62.0         2\n",
       "76.0         1\n",
       "55.0         1\n",
       "68.0         1\n",
       "73.0         1\n",
       "Name: Answers, Length: 65, dtype: int64"
      ]
     },
     "execution_count": 24,
     "metadata": {},
     "output_type": "execute_result"
    }
   ],
   "source": [
    "df.Answers.value_counts()"
   ]
  },
  {
   "cell_type": "code",
   "execution_count": 25,
   "id": "747450dd",
   "metadata": {},
   "outputs": [],
   "source": [
    "## Answers have continious data so we can binning the data\n",
    "df['Answers']=pd.cut(df.Answers,bins=[-1,0,17,40,76]\n",
    "                        ,labels=['Unanswered','Least Answered','Average Answered','Most Answered'])"
   ]
  },
  {
   "cell_type": "code",
   "execution_count": 26,
   "id": "1010b237",
   "metadata": {},
   "outputs": [
    {
     "data": {
      "text/plain": [
       "Least Answered      463327\n",
       "Average Answered      5068\n",
       "Unanswered            2958\n",
       "Most Answered          140\n",
       "Name: Answers, dtype: int64"
      ]
     },
     "execution_count": 26,
     "metadata": {},
     "output_type": "execute_result"
    }
   ],
   "source": [
    "df['Answers'].value_counts()"
   ]
  },
  {
   "cell_type": "code",
   "execution_count": 29,
   "id": "e7c30714",
   "metadata": {},
   "outputs": [
    {
     "data": {
      "text/plain": [
       "<AxesSubplot:xlabel='Answers', ylabel='count'>"
      ]
     },
     "execution_count": 29,
     "metadata": {},
     "output_type": "execute_result"
    },
    {
     "data": {
      "image/png": "[encoded data removed]",
      "text/plain": [
       "<Figure size 1080x720 with 1 Axes>"
      ]
     },
     "metadata": {
      "needs_background": "light"
     },
     "output_type": "display_data"
    }
   ],
   "source": [
    "plt.figure(figsize=(15,10))\n",
    "sns.countplot(df.Answers)"
   ]
  },
  {
   "cell_type": "markdown",
   "id": "608db992",
   "metadata": {},
   "source": [
    "### For Reputation"
   ]
  },
  {
   "cell_type": "code",
   "execution_count": 30,
   "id": "8df660ba",
   "metadata": {},
   "outputs": [
    {
     "data": {
      "text/plain": [
       "array([ 3942., 26046.,  1358., ..., 29698.,  9248.,  5968.])"
      ]
     },
     "execution_count": 30,
     "metadata": {},
     "output_type": "execute_result"
    }
   ],
   "source": [
    "df.Reputation.unique()"
   ]
  },
  {
   "cell_type": "markdown",
   "id": "83d8d456",
   "metadata": {},
   "source": [
    "pd.options.display.max_columns=100\n",
    "pd.options.display.max_rows=None"
   ]
  },
  {
   "cell_type": "code",
   "execution_count": 31,
   "id": "2c41642c",
   "metadata": {},
   "outputs": [
    {
     "data": {
      "text/plain": [
       "0.0        9453\n",
       "1.0        1529\n",
       "16.0       1476\n",
       "11.0       1429\n",
       "6.0        1386\n",
       "           ... \n",
       "41623.0       1\n",
       "32576.0       1\n",
       "15685.0       1\n",
       "11724.0       1\n",
       "5968.0        1\n",
       "Name: Reputation, Length: 17414, dtype: int64"
      ]
     },
     "execution_count": 31,
     "metadata": {},
     "output_type": "execute_result"
    }
   ],
   "source": [
    "df.Reputation.value_counts().sort_values(ascending =False)"
   ]
  },
  {
   "cell_type": "code",
   "execution_count": 32,
   "id": "7357214e",
   "metadata": {},
   "outputs": [],
   "source": [
    "## Views  have continious data so we can binning the data\n",
    "df['Views']=pd.cut(df.Views,bins=[8,30000,90000,100000,1000000,5231058]\n",
    "                        ,labels=['Least Viewed','Less Views','Average Viewed','More Viewed','Most Viewed'])"
   ]
  },
  {
   "cell_type": "code",
   "execution_count": 33,
   "id": "603f61e8",
   "metadata": {},
   "outputs": [
    {
     "data": {
      "text/plain": [
       "Least Viewed      363694\n",
       "Less Views         74102\n",
       "More Viewed        28884\n",
       "Average Viewed      4339\n",
       "Most Viewed          474\n",
       "Name: Views, dtype: int64"
      ]
     },
     "execution_count": 33,
     "metadata": {},
     "output_type": "execute_result"
    }
   ],
   "source": [
    "df.Views.value_counts()"
   ]
  },
  {
   "cell_type": "code",
   "execution_count": 34,
   "id": "c6a78baf",
   "metadata": {},
   "outputs": [
    {
     "data": {
      "text/plain": [
       "<AxesSubplot:xlabel='Views', ylabel='count'>"
      ]
     },
     "execution_count": 34,
     "metadata": {},
     "output_type": "execute_result"
    },
    {
     "data": {
      "image/png": "[encoded data removed]",
      "text/plain": [
       "<Figure size 1080x720 with 1 Axes>"
      ]
     },
     "metadata": {
      "needs_background": "light"
     },
     "output_type": "display_data"
    }
   ],
   "source": [
    "plt.figure(figsize=(15,10))\n",
    "sns.countplot(df.Views)"
   ]
  },
  {
   "cell_type": "markdown",
   "id": "526fa3e8",
   "metadata": {},
   "source": [
    "#### Username"
   ]
  },
  {
   "cell_type": "code",
   "execution_count": 35,
   "id": "60ce6bd0",
   "metadata": {},
   "outputs": [
    {
     "data": {
      "text/plain": [
       "array([155623,  21781,  56177, ...,  31988,  23595, 119788], dtype=int64)"
      ]
     },
     "execution_count": 35,
     "metadata": {},
     "output_type": "execute_result"
    }
   ],
   "source": [
    "df.Username.unique()"
   ]
  },
  {
   "cell_type": "code",
   "execution_count": 36,
   "id": "83d43e95",
   "metadata": {},
   "outputs": [
    {
     "data": {
      "text/plain": [
       "4118      1133\n",
       "17878      836\n",
       "45704      688\n",
       "23223      612\n",
       "62142      608\n",
       "          ... \n",
       "119497       1\n",
       "20007        1\n",
       "122150       1\n",
       "150814       1\n",
       "119788       1\n",
       "Name: Username, Length: 175739, dtype: int64"
      ]
     },
     "execution_count": 36,
     "metadata": {},
     "output_type": "execute_result"
    }
   ],
   "source": [
    "df.Username.value_counts().sort_values(ascending =False)"
   ]
  },
  {
   "cell_type": "markdown",
   "id": "fea9b702",
   "metadata": {},
   "source": [
    "count=0\n",
    "for i in df['Product_ID'].unique():\n",
    "    df['Product_ID'].replace(i,count,inplace=True)\n",
    "    count+=1\n",
    "df['Product_ID'] "
   ]
  },
  {
   "cell_type": "code",
   "execution_count": 38,
   "id": "bc339907",
   "metadata": {},
   "outputs": [
    {
     "data": {
      "text/plain": [
       "0         Least Active User\n",
       "1         Least Active User\n",
       "2         Least Active User\n",
       "3         Least Active User\n",
       "4         Least Active User\n",
       "                ...        \n",
       "471488                  NaN\n",
       "471489                  NaN\n",
       "471490                  NaN\n",
       "471491                  NaN\n",
       "471492                  NaN\n",
       "Name: Users, Length: 471493, dtype: category\n",
       "Categories (5, object): ['Least Active User' < 'Less Active User' < 'Average Active User' < 'Regularly Active User' < 'Most Active User']"
      ]
     },
     "execution_count": 38,
     "metadata": {},
     "output_type": "execute_result"
    }
   ],
   "source": [
    "for i in df.Username.unique():\n",
    "    df['Users']=pd.cut(df.Username.value_counts(),bins=[0,10,50,200,500,1200]\n",
    "                        ,labels=['Least Active User','Less Active User','Average Active User','Regularly Active User','Most Active User'])\n",
    "\n",
    "df['Users']"
   ]
  },
  {
   "cell_type": "code",
   "execution_count": null,
   "id": "980d88a0",
   "metadata": {},
   "outputs": [],
   "source": [
    "df['Users'].value_counts()"
   ]
  },
  {
   "cell_type": "markdown",
   "id": "361134c4",
   "metadata": {},
   "source": [
    "df['Username']=pd.cut(df.Usernamevalue_counts,bins=[-1,10000,30000,50000,90000,175740]\n",
    "                        ,labels=['Least Active User','Less Active User','Average Active User','Regularly Active User','Most Active User'])"
   ]
  },
  {
   "cell_type": "markdown",
   "id": "232e6867",
   "metadata": {},
   "source": [
    "### FINAL Dataset"
   ]
  },
  {
   "cell_type": "code",
   "execution_count": 36,
   "id": "544cbe84",
   "metadata": {},
   "outputs": [
    {
     "data": {
      "text/plain": [
       "(330045, 7)"
      ]
     },
     "execution_count": 36,
     "metadata": {},
     "output_type": "execute_result"
    }
   ],
   "source": [
    "#treated nulls and feature engineered train data\n",
    "df_train_final=df[~df['Upvotes'].isnull()]\n",
    "df_train_final.shape"
   ]
  },
  {
   "cell_type": "code",
   "execution_count": 50,
   "id": "f0f2ceda",
   "metadata": {},
   "outputs": [
    {
     "data": {
      "text/html": [
       "<div>\n",
       "<style scoped>\n",
       "    .dataframe tbody tr th:only-of-type {\n",
       "        vertical-align: middle;\n",
       "    }\n",
       "\n",
       "    .dataframe tbody tr th {\n",
       "        vertical-align: top;\n",
       "    }\n",
       "\n",
       "    .dataframe thead th {\n",
       "        text-align: right;\n",
       "    }\n",
       "</style>\n",
       "<table border=\"1\" class=\"dataframe\">\n",
       "  <thead>\n",
       "    <tr style=\"text-align: right;\">\n",
       "      <th></th>\n",
       "      <th>Tag</th>\n",
       "      <th>Reputation</th>\n",
       "      <th>Answers</th>\n",
       "      <th>Username</th>\n",
       "      <th>Views</th>\n",
       "      <th>Upvotes</th>\n",
       "    </tr>\n",
       "  </thead>\n",
       "  <tbody>\n",
       "    <tr>\n",
       "      <th>0</th>\n",
       "      <td>0</td>\n",
       "      <td>3942.0</td>\n",
       "      <td>2.0</td>\n",
       "      <td>155623</td>\n",
       "      <td>7855.0</td>\n",
       "      <td>42.0</td>\n",
       "    </tr>\n",
       "    <tr>\n",
       "      <th>1</th>\n",
       "      <td>0</td>\n",
       "      <td>26046.0</td>\n",
       "      <td>12.0</td>\n",
       "      <td>21781</td>\n",
       "      <td>55801.0</td>\n",
       "      <td>1175.0</td>\n",
       "    </tr>\n",
       "    <tr>\n",
       "      <th>2</th>\n",
       "      <td>1</td>\n",
       "      <td>1358.0</td>\n",
       "      <td>4.0</td>\n",
       "      <td>56177</td>\n",
       "      <td>8067.0</td>\n",
       "      <td>60.0</td>\n",
       "    </tr>\n",
       "    <tr>\n",
       "      <th>3</th>\n",
       "      <td>0</td>\n",
       "      <td>264.0</td>\n",
       "      <td>3.0</td>\n",
       "      <td>168793</td>\n",
       "      <td>27064.0</td>\n",
       "      <td>9.0</td>\n",
       "    </tr>\n",
       "    <tr>\n",
       "      <th>4</th>\n",
       "      <td>1</td>\n",
       "      <td>4271.0</td>\n",
       "      <td>4.0</td>\n",
       "      <td>112223</td>\n",
       "      <td>13986.0</td>\n",
       "      <td>83.0</td>\n",
       "    </tr>\n",
       "    <tr>\n",
       "      <th>...</th>\n",
       "      <td>...</td>\n",
       "      <td>...</td>\n",
       "      <td>...</td>\n",
       "      <td>...</td>\n",
       "      <td>...</td>\n",
       "      <td>...</td>\n",
       "    </tr>\n",
       "    <tr>\n",
       "      <th>330040</th>\n",
       "      <td>1</td>\n",
       "      <td>36.0</td>\n",
       "      <td>2.0</td>\n",
       "      <td>84919</td>\n",
       "      <td>1063.0</td>\n",
       "      <td>0.0</td>\n",
       "    </tr>\n",
       "    <tr>\n",
       "      <th>330041</th>\n",
       "      <td>1</td>\n",
       "      <td>1649.0</td>\n",
       "      <td>2.0</td>\n",
       "      <td>76730</td>\n",
       "      <td>23319.0</td>\n",
       "      <td>73.0</td>\n",
       "    </tr>\n",
       "    <tr>\n",
       "      <th>330042</th>\n",
       "      <td>1</td>\n",
       "      <td>6178.0</td>\n",
       "      <td>2.0</td>\n",
       "      <td>91701</td>\n",
       "      <td>2453.0</td>\n",
       "      <td>15.0</td>\n",
       "    </tr>\n",
       "    <tr>\n",
       "      <th>330043</th>\n",
       "      <td>3</td>\n",
       "      <td>89.0</td>\n",
       "      <td>2.0</td>\n",
       "      <td>80245</td>\n",
       "      <td>2107.0</td>\n",
       "      <td>3.0</td>\n",
       "    </tr>\n",
       "    <tr>\n",
       "      <th>330044</th>\n",
       "      <td>3</td>\n",
       "      <td>2001.0</td>\n",
       "      <td>4.0</td>\n",
       "      <td>154692</td>\n",
       "      <td>2554.0</td>\n",
       "      <td>37.0</td>\n",
       "    </tr>\n",
       "  </tbody>\n",
       "</table>\n",
       "<p>330045 rows × 6 columns</p>\n",
       "</div>"
      ],
      "text/plain": [
       "        Tag  Reputation  Answers  Username    Views  Upvotes\n",
       "0         0      3942.0      2.0    155623   7855.0     42.0\n",
       "1         0     26046.0     12.0     21781  55801.0   1175.0\n",
       "2         1      1358.0      4.0     56177   8067.0     60.0\n",
       "3         0       264.0      3.0    168793  27064.0      9.0\n",
       "4         1      4271.0      4.0    112223  13986.0     83.0\n",
       "...     ...         ...      ...       ...      ...      ...\n",
       "330040    1        36.0      2.0     84919   1063.0      0.0\n",
       "330041    1      1649.0      2.0     76730  23319.0     73.0\n",
       "330042    1      6178.0      2.0     91701   2453.0     15.0\n",
       "330043    3        89.0      2.0     80245   2107.0      3.0\n",
       "330044    3      2001.0      4.0    154692   2554.0     37.0\n",
       "\n",
       "[330045 rows x 6 columns]"
      ]
     },
     "execution_count": 50,
     "metadata": {},
     "output_type": "execute_result"
    }
   ],
   "source": [
    "df_train_final=df_train_final.drop('ID',axis=1)\n",
    "df_train_final"
   ]
  },
  {
   "cell_type": "code",
   "execution_count": 39,
   "id": "9e8578e8",
   "metadata": {},
   "outputs": [
    {
     "data": {
      "text/plain": [
       "4118      797\n",
       "17878     608\n",
       "45704     483\n",
       "23223     413\n",
       "62142     408\n",
       "         ... \n",
       "122593      1\n",
       "110208      1\n",
       "137797      1\n",
       "17286       1\n",
       "80245       1\n",
       "Name: Username, Length: 141802, dtype: int64"
      ]
     },
     "execution_count": 39,
     "metadata": {},
     "output_type": "execute_result"
    }
   ],
   "source": [
    "df_train.Username.value_counts()"
   ]
  },
  {
   "cell_type": "code",
   "execution_count": 40,
   "id": "af0cfec1",
   "metadata": {},
   "outputs": [
    {
     "data": {
      "text/plain": [
       "(141448, 6)"
      ]
     },
     "execution_count": 40,
     "metadata": {},
     "output_type": "execute_result"
    }
   ],
   "source": [
    "#treated nulls and feature engineered train test data\n",
    "df_test_final=df[df['Upvotes'].isnull()]\n",
    "df_test_final=df_test_final.drop('Upvotes',axis=1)\n",
    "df_test_final.shape"
   ]
  },
  {
   "cell_type": "code",
   "execution_count": 41,
   "id": "90d86e1c",
   "metadata": {},
   "outputs": [
    {
     "data": {
      "text/html": [
       "<div>\n",
       "<style scoped>\n",
       "    .dataframe tbody tr th:only-of-type {\n",
       "        vertical-align: middle;\n",
       "    }\n",
       "\n",
       "    .dataframe tbody tr th {\n",
       "        vertical-align: top;\n",
       "    }\n",
       "\n",
       "    .dataframe thead th {\n",
       "        text-align: right;\n",
       "    }\n",
       "</style>\n",
       "<table border=\"1\" class=\"dataframe\">\n",
       "  <thead>\n",
       "    <tr style=\"text-align: right;\">\n",
       "      <th></th>\n",
       "      <th>count</th>\n",
       "      <th>mean</th>\n",
       "      <th>std</th>\n",
       "      <th>min</th>\n",
       "      <th>25%</th>\n",
       "      <th>50%</th>\n",
       "      <th>75%</th>\n",
       "      <th>max</th>\n",
       "    </tr>\n",
       "  </thead>\n",
       "  <tbody>\n",
       "    <tr>\n",
       "      <th>ID</th>\n",
       "      <td>330045.0</td>\n",
       "      <td>235748.682789</td>\n",
       "      <td>136039.418471</td>\n",
       "      <td>1.0</td>\n",
       "      <td>117909.0</td>\n",
       "      <td>235699.0</td>\n",
       "      <td>353620.0</td>\n",
       "      <td>471493.0</td>\n",
       "    </tr>\n",
       "    <tr>\n",
       "      <th>Reputation</th>\n",
       "      <td>330045.0</td>\n",
       "      <td>7773.146798</td>\n",
       "      <td>27061.412587</td>\n",
       "      <td>0.0</td>\n",
       "      <td>282.0</td>\n",
       "      <td>1236.0</td>\n",
       "      <td>5118.0</td>\n",
       "      <td>1042428.0</td>\n",
       "    </tr>\n",
       "    <tr>\n",
       "      <th>Answers</th>\n",
       "      <td>330045.0</td>\n",
       "      <td>3.917672</td>\n",
       "      <td>3.579515</td>\n",
       "      <td>0.0</td>\n",
       "      <td>2.0</td>\n",
       "      <td>3.0</td>\n",
       "      <td>5.0</td>\n",
       "      <td>76.0</td>\n",
       "    </tr>\n",
       "    <tr>\n",
       "      <th>Username</th>\n",
       "      <td>330045.0</td>\n",
       "      <td>81442.888803</td>\n",
       "      <td>49215.100730</td>\n",
       "      <td>0.0</td>\n",
       "      <td>39808.0</td>\n",
       "      <td>79010.0</td>\n",
       "      <td>122559.0</td>\n",
       "      <td>175738.0</td>\n",
       "    </tr>\n",
       "    <tr>\n",
       "      <th>Views</th>\n",
       "      <td>330045.0</td>\n",
       "      <td>29645.071342</td>\n",
       "      <td>80956.456478</td>\n",
       "      <td>9.0</td>\n",
       "      <td>2594.0</td>\n",
       "      <td>8954.0</td>\n",
       "      <td>26870.0</td>\n",
       "      <td>5231058.0</td>\n",
       "    </tr>\n",
       "    <tr>\n",
       "      <th>Upvotes</th>\n",
       "      <td>330045.0</td>\n",
       "      <td>337.505358</td>\n",
       "      <td>3592.441135</td>\n",
       "      <td>0.0</td>\n",
       "      <td>8.0</td>\n",
       "      <td>28.0</td>\n",
       "      <td>107.0</td>\n",
       "      <td>615278.0</td>\n",
       "    </tr>\n",
       "  </tbody>\n",
       "</table>\n",
       "</div>"
      ],
      "text/plain": [
       "               count           mean            std  min       25%       50%  \\\n",
       "ID          330045.0  235748.682789  136039.418471  1.0  117909.0  235699.0   \n",
       "Reputation  330045.0    7773.146798   27061.412587  0.0     282.0    1236.0   \n",
       "Answers     330045.0       3.917672       3.579515  0.0       2.0       3.0   \n",
       "Username    330045.0   81442.888803   49215.100730  0.0   39808.0   79010.0   \n",
       "Views       330045.0   29645.071342   80956.456478  9.0    2594.0    8954.0   \n",
       "Upvotes     330045.0     337.505358    3592.441135  0.0       8.0      28.0   \n",
       "\n",
       "                 75%        max  \n",
       "ID          353620.0   471493.0  \n",
       "Reputation    5118.0  1042428.0  \n",
       "Answers          5.0       76.0  \n",
       "Username    122559.0   175738.0  \n",
       "Views        26870.0  5231058.0  \n",
       "Upvotes        107.0   615278.0  "
      ]
     },
     "execution_count": 41,
     "metadata": {},
     "output_type": "execute_result"
    }
   ],
   "source": [
    "df_train.describe().T"
   ]
  },
  {
   "cell_type": "markdown",
   "id": "c07fc1b5",
   "metadata": {},
   "source": [
    "### Train Dataset and Test Dataset"
   ]
  },
  {
   "cell_type": "markdown",
   "id": "86341671",
   "metadata": {},
   "source": [
    "#### Standardizing the Data"
   ]
  },
  {
   "cell_type": "code",
   "execution_count": 42,
   "id": "e97a8674",
   "metadata": {},
   "outputs": [
    {
     "data": {
      "text/plain": [
       "((330045, 7), (141448, 6))"
      ]
     },
     "execution_count": 42,
     "metadata": {},
     "output_type": "execute_result"
    }
   ],
   "source": [
    "df_train_final.shape,df_test_final.shape"
   ]
  },
  {
   "cell_type": "code",
   "execution_count": 51,
   "id": "3748e259",
   "metadata": {},
   "outputs": [],
   "source": [
    "from sklearn.preprocessing import StandardScaler\n",
    "sc=StandardScaler()\n",
    "\n",
    "df_train_sc=sc.fit_transform(df_train_final)\n",
    "df_train_sc=pd.DataFrame(df_train_sc)\n",
    "\n",
    "df_test_sc=sc.fit_transform(df_test_final)"
   ]
  },
  {
   "cell_type": "code",
   "execution_count": 52,
   "id": "87bb4974",
   "metadata": {},
   "outputs": [
    {
     "data": {
      "text/html": [
       "<div>\n",
       "<style scoped>\n",
       "    .dataframe tbody tr th:only-of-type {\n",
       "        vertical-align: middle;\n",
       "    }\n",
       "\n",
       "    .dataframe tbody tr th {\n",
       "        vertical-align: top;\n",
       "    }\n",
       "\n",
       "    .dataframe thead th {\n",
       "        text-align: right;\n",
       "    }\n",
       "</style>\n",
       "<table border=\"1\" class=\"dataframe\">\n",
       "  <thead>\n",
       "    <tr style=\"text-align: right;\">\n",
       "      <th></th>\n",
       "      <th>0</th>\n",
       "      <th>1</th>\n",
       "      <th>2</th>\n",
       "      <th>3</th>\n",
       "      <th>4</th>\n",
       "      <th>5</th>\n",
       "    </tr>\n",
       "  </thead>\n",
       "  <tbody>\n",
       "    <tr>\n",
       "      <th>0</th>\n",
       "      <td>-1.375177</td>\n",
       "      <td>-0.141573</td>\n",
       "      <td>-0.535736</td>\n",
       "      <td>1.507266</td>\n",
       "      <td>-0.269158</td>\n",
       "      <td>-0.082258</td>\n",
       "    </tr>\n",
       "    <tr>\n",
       "      <th>1</th>\n",
       "      <td>-1.375177</td>\n",
       "      <td>0.675238</td>\n",
       "      <td>2.257943</td>\n",
       "      <td>-1.212270</td>\n",
       "      <td>0.323087</td>\n",
       "      <td>0.233127</td>\n",
       "    </tr>\n",
       "    <tr>\n",
       "      <th>2</th>\n",
       "      <td>-0.981018</td>\n",
       "      <td>-0.237059</td>\n",
       "      <td>0.023000</td>\n",
       "      <td>-0.513378</td>\n",
       "      <td>-0.266540</td>\n",
       "      <td>-0.077247</td>\n",
       "    </tr>\n",
       "    <tr>\n",
       "      <th>3</th>\n",
       "      <td>-1.375177</td>\n",
       "      <td>-0.277486</td>\n",
       "      <td>-0.256368</td>\n",
       "      <td>1.774867</td>\n",
       "      <td>-0.031882</td>\n",
       "      <td>-0.091444</td>\n",
       "    </tr>\n",
       "    <tr>\n",
       "      <th>4</th>\n",
       "      <td>-0.981018</td>\n",
       "      <td>-0.129415</td>\n",
       "      <td>0.023000</td>\n",
       "      <td>0.625421</td>\n",
       "      <td>-0.193426</td>\n",
       "      <td>-0.070845</td>\n",
       "    </tr>\n",
       "    <tr>\n",
       "      <th>...</th>\n",
       "      <td>...</td>\n",
       "      <td>...</td>\n",
       "      <td>...</td>\n",
       "      <td>...</td>\n",
       "      <td>...</td>\n",
       "      <td>...</td>\n",
       "    </tr>\n",
       "    <tr>\n",
       "      <th>330040</th>\n",
       "      <td>-0.981018</td>\n",
       "      <td>-0.285911</td>\n",
       "      <td>-0.535736</td>\n",
       "      <td>0.070631</td>\n",
       "      <td>-0.353055</td>\n",
       "      <td>-0.093949</td>\n",
       "    </tr>\n",
       "    <tr>\n",
       "      <th>330041</th>\n",
       "      <td>-0.981018</td>\n",
       "      <td>-0.226306</td>\n",
       "      <td>-0.535736</td>\n",
       "      <td>-0.095761</td>\n",
       "      <td>-0.078142</td>\n",
       "      <td>-0.073628</td>\n",
       "    </tr>\n",
       "    <tr>\n",
       "      <th>330042</th>\n",
       "      <td>-0.981018</td>\n",
       "      <td>-0.058946</td>\n",
       "      <td>-0.535736</td>\n",
       "      <td>0.208435</td>\n",
       "      <td>-0.335886</td>\n",
       "      <td>-0.089773</td>\n",
       "    </tr>\n",
       "    <tr>\n",
       "      <th>330043</th>\n",
       "      <td>-0.192699</td>\n",
       "      <td>-0.283953</td>\n",
       "      <td>-0.535736</td>\n",
       "      <td>-0.024340</td>\n",
       "      <td>-0.340160</td>\n",
       "      <td>-0.093114</td>\n",
       "    </tr>\n",
       "    <tr>\n",
       "      <th>330044</th>\n",
       "      <td>-0.192699</td>\n",
       "      <td>-0.213298</td>\n",
       "      <td>0.023000</td>\n",
       "      <td>1.488349</td>\n",
       "      <td>-0.334638</td>\n",
       "      <td>-0.083649</td>\n",
       "    </tr>\n",
       "  </tbody>\n",
       "</table>\n",
       "<p>330045 rows × 6 columns</p>\n",
       "</div>"
      ],
      "text/plain": [
       "               0         1         2         3         4         5\n",
       "0      -1.375177 -0.141573 -0.535736  1.507266 -0.269158 -0.082258\n",
       "1      -1.375177  0.675238  2.257943 -1.212270  0.323087  0.233127\n",
       "2      -0.981018 -0.237059  0.023000 -0.513378 -0.266540 -0.077247\n",
       "3      -1.375177 -0.277486 -0.256368  1.774867 -0.031882 -0.091444\n",
       "4      -0.981018 -0.129415  0.023000  0.625421 -0.193426 -0.070845\n",
       "...          ...       ...       ...       ...       ...       ...\n",
       "330040 -0.981018 -0.285911 -0.535736  0.070631 -0.353055 -0.093949\n",
       "330041 -0.981018 -0.226306 -0.535736 -0.095761 -0.078142 -0.073628\n",
       "330042 -0.981018 -0.058946 -0.535736  0.208435 -0.335886 -0.089773\n",
       "330043 -0.192699 -0.283953 -0.535736 -0.024340 -0.340160 -0.093114\n",
       "330044 -0.192699 -0.213298  0.023000  1.488349 -0.334638 -0.083649\n",
       "\n",
       "[330045 rows x 6 columns]"
      ]
     },
     "execution_count": 52,
     "metadata": {},
     "output_type": "execute_result"
    }
   ],
   "source": [
    "df_train_sc"
   ]
  },
  {
   "cell_type": "code",
   "execution_count": 53,
   "id": "2bbb9b28",
   "metadata": {},
   "outputs": [],
   "source": [
    "#Final  Standaradized Train dataset\n",
    "x_train=df_train_sc.iloc[:,0:-1]\n",
    "y_train=df_train_sc.iloc[:,-1]\n",
    "\n",
    "\n",
    "#finalized Test Dataset\n",
    "x_test=df_test_sc"
   ]
  },
  {
   "cell_type": "markdown",
   "id": "a24b9d75",
   "metadata": {},
   "source": [
    "from sklearn.preprocessing import StandardScaler\n",
    "sc=StandardScaler()\n",
    "\n",
    "#scaling the data\n",
    "x_train_sc =sc.fit_transform(x_train)\n",
    "x_test_sc=sc.transform(x_test)\n",
    "\n",
    "#skewness is there in target\n",
    "y_train_sc=sc.fit_transform(y_train)\n"
   ]
  },
  {
   "cell_type": "markdown",
   "id": "18f8dd5a",
   "metadata": {},
   "source": [
    "from sklearn.preprocessing import MinMaxScaler\n",
    "sc=MinMaxScaler()\n",
    "\n",
    "#scaling the data\n",
    "x_train_msc =sc.fit_transform(x_train)\n",
    "x_test_msc=sc.transform(x_test)\n",
    "\n",
    "\n"
   ]
  },
  {
   "cell_type": "markdown",
   "id": "b3d26247",
   "metadata": {},
   "source": [
    "## MODEL Building"
   ]
  },
  {
   "cell_type": "markdown",
   "id": "0e8ab576",
   "metadata": {},
   "source": [
    "#### Libraries Import"
   ]
  },
  {
   "cell_type": "code",
   "execution_count": 54,
   "id": "4d8c88a9",
   "metadata": {},
   "outputs": [],
   "source": [
    "from sklearn.ensemble import GradientBoostingRegressor\n",
    "from sklearn.linear_model import LinearRegression\n",
    "from sklearn.ensemble import RandomForestRegressor\n",
    "from sklearn.tree import DecisionTreeRegressor\n",
    "from catboost import CatBoostRegressor\n",
    "from sklearn.svm import SVR\n",
    "from sklearn import metrics\n",
    "from sklearn.metrics import r2_score,mean_squared_error\n",
    "import numpy as np\n",
    "from sklearn.model_selection import train_test_split as split"
   ]
  },
  {
   "cell_type": "markdown",
   "id": "2503c253",
   "metadata": {},
   "source": [
    "### Linear Regresssion"
   ]
  },
  {
   "cell_type": "markdown",
   "id": "4959ff12",
   "metadata": {},
   "source": [
    "#### Model Building with Train test splitting in Train Dataset"
   ]
  },
  {
   "cell_type": "code",
   "execution_count": 55,
   "id": "39d97d7e",
   "metadata": {},
   "outputs": [
    {
     "name": "stdout",
     "output_type": "stream",
     "text": [
      "RMse of trained data is: 0.8817647937369333\n",
      "R2_score of trained data is: 0.24466863516002424\n",
      "RMse of trained data is: 0.8179949291067296\n",
      "R2_score of trained data is: 0.28166874049765667\n"
     ]
    }
   ],
   "source": [
    "lr =LinearRegression()\n",
    "\n",
    "\n",
    "X_train,X_test,Y_train,Y_test=split(x_train,y_train,test_size=0.30,random_state=100)\n",
    "\n",
    "# fitting the data in the model\n",
    "\n",
    "lr.fit(X_train,Y_train)\n",
    "\n",
    "# Predicting the model\n",
    "\n",
    "train_pred=lr.predict(X_train)\n",
    "test_pred=lr.predict(X_test)\n",
    "\n",
    "\n",
    "# results\n",
    "print('RMse of trained data is:',np.sqrt(mean_squared_error(Y_train,train_pred)))\n",
    "print('R2_score of trained data is:',r2_score(Y_train,train_pred))\n",
    "\n",
    "print('RMse of trained data is:',np.sqrt(mean_squared_error(Y_test,test_pred)))\n",
    "print('R2_score of trained data is:',r2_score(Y_test,test_pred))"
   ]
  },
  {
   "cell_type": "markdown",
   "id": "0593dccb",
   "metadata": {},
   "source": [
    "dropping ID\n",
    "RMse of trained data is: 0.8817647937369333\n",
    "R2_score of trained data is: 0.24466863516002424\n",
    "RMse of trained data is: 0.8179949291067296\n",
    "R2_score of trained data is: 0.28166874049765667"
   ]
  },
  {
   "cell_type": "markdown",
   "id": "e2c9c2b4",
   "metadata": {},
   "source": [
    "#### FULL Train Data Model Building"
   ]
  },
  {
   "cell_type": "code",
   "execution_count": 41,
   "id": "28cc1416",
   "metadata": {},
   "outputs": [
    {
     "name": "stdout",
     "output_type": "stream",
     "text": [
      "RMse of trained data is: 0.862877816327809\n",
      "R2_score of trained data is: 0.25544187408935193\n"
     ]
    }
   ],
   "source": [
    "lr =LinearRegression()\n",
    "\n",
    "# fitting the data in the model\n",
    "\n",
    "lr.fit(x_train,y_train)\n",
    "\n",
    "# Predicting the model\n",
    "\n",
    "train_pred=lr.predict(x_train)\n",
    "test_pred=lr.predict(x_test)\n",
    "\n",
    "\n",
    "# results\n",
    "print('RMse of trained data is:',np.sqrt(mean_squared_error(y_train,train_pred)))\n",
    "print('R2_score of trained data is:',r2_score(y_train,train_pred))"
   ]
  },
  {
   "cell_type": "markdown",
   "id": "8d3f9e12",
   "metadata": {},
   "source": [
    "### Decision Tree Model"
   ]
  },
  {
   "cell_type": "markdown",
   "id": "b67fc4bd",
   "metadata": {},
   "source": [
    "#### Model Building with Train test splitting in Train Dataset"
   ]
  },
  {
   "cell_type": "code",
   "execution_count": 56,
   "id": "e4ac0973",
   "metadata": {},
   "outputs": [
    {
     "name": "stdout",
     "output_type": "stream",
     "text": [
      "RMse of trained data is: 1.2898469552337882e-18\n",
      "R2_score of trained data is: 1.0\n",
      "RMse of test data is: 0.37271169284379035\n",
      "R2_score of test data is: 0.8508684338496654\n"
     ]
    },
    {
     "data": {
      "text/plain": [
       "<matplotlib.collections.PathCollection at 0x240583bfee0>"
      ]
     },
     "execution_count": 56,
     "metadata": {},
     "output_type": "execute_result"
    },
    {
     "data": {
      "image/png": "[encoded data removed]",
      "text/plain": [
       "<Figure size 432x288 with 1 Axes>"
      ]
     },
     "metadata": {
      "needs_background": "light"
     },
     "output_type": "display_data"
    }
   ],
   "source": [
    "#### Checking the Train Test Accuracy Within Trained Dataset by splitting\n",
    "\n",
    "#### splitting the Data of DF_Train Datast\n",
    "X_train,X_test,Y_train,Y_test=split(x_train,y_train,test_size=0.30,random_state=100)\n",
    "\n",
    "DCTr=DecisionTreeRegressor()\n",
    "\n",
    "DCTr.fit(X_train,Y_train)\n",
    "\n",
    "#### Predicting the model\n",
    "\n",
    "train_pred=DCTr.predict(X_train)\n",
    "\n",
    "DecisionTreetest_pred2=DCTr.predict(X_test)\n",
    "\n",
    "\n",
    "#### Regression results\n",
    "print('RMse of trained data is:',np.sqrt(mean_squared_error(Y_train,train_pred)))\n",
    "print('R2_score of trained data is:',r2_score(Y_train,train_pred))\n",
    "\n",
    "print('RMse of test data is:',np.sqrt(mean_squared_error(Y_test,DecisionTreetest_pred2)))\n",
    "print('R2_score of test data is:',r2_score(Y_test,DecisionTreetest_pred2))\n",
    "\n",
    "plt.scatter(Y_test,DecisionTreetest_pred2)"
   ]
  },
  {
   "cell_type": "markdown",
   "id": "31ff02ca",
   "metadata": {},
   "source": [
    "Dropping  ID\n",
    "RMse of trained data is: 1.2888771453558954e-18\n",
    "R2_score of trained data is: 1.0\n",
    "RMse of test data is: 0.373626290210743\n",
    "R2_score of test data is: 0.8501356278194891"
   ]
  },
  {
   "cell_type": "markdown",
   "id": "5f27036b",
   "metadata": {},
   "source": [
    "#### Model Building Full Train Dataset for final test Prediction"
   ]
  },
  {
   "cell_type": "code",
   "execution_count": 43,
   "id": "9186e67f",
   "metadata": {},
   "outputs": [
    {
     "name": "stdout",
     "output_type": "stream",
     "text": [
      "RMse of trained data is: 1.248214704911199e-18\n",
      "R2_score of trained data is: 1.0\n"
     ]
    }
   ],
   "source": [
    "#Model Building For Final TRain Test data given in problem\n",
    "DCTr=DecisionTreeRegressor()\n",
    "\n",
    "DCTr.fit(x_train,y_train)\n",
    "\n",
    "# Predicting the model\n",
    "\n",
    "train_pred=DCTr.predict(x_train)\n",
    "DecisionTreetest_pred=DCTr.predict(x_test)\n",
    "\n",
    "\n",
    "# Regression results\n",
    "print('RMse of trained data is:',np.sqrt(mean_squared_error(y_train,train_pred)))\n",
    "print('R2_score of trained data is:',r2_score(y_train,train_pred))"
   ]
  },
  {
   "cell_type": "markdown",
   "id": "e2045390",
   "metadata": {},
   "source": [
    "### Random Forest Model"
   ]
  },
  {
   "cell_type": "markdown",
   "id": "40778d32",
   "metadata": {},
   "source": [
    "#### Model Building with Train test splitting in Train Dataset"
   ]
  },
  {
   "cell_type": "code",
   "execution_count": null,
   "id": "2d12cf64",
   "metadata": {},
   "outputs": [],
   "source": [
    "#### Checking the Train Test Accuracy Within Trained Dataset by splitting\n",
    "\n",
    "#### splitting the Data of DF_Train Datast\n",
    "X_train,X_test,Y_train,Y_test=split(x_train,y_train,test_size=0.30,random_state=100)\n",
    "\n",
    "rfr=RandomForestRegressor(random_state=42,oob_score=True)\n",
    "\n",
    "rfr.fit(X_train,Y_train)\n",
    "\n",
    "# Predicting the model\n",
    "\n",
    "train_pred=rfr.predict(X_train)\n",
    "test_pred=rfr.predict(X_test)\n",
    "\n",
    "\n",
    "# Regression results\n",
    "print('RMse of trained data is:',np.sqrt(mean_squared_error(Y_train,train_pred)))\n",
    "print('R2_score of trained data is:',r2_score(Y_train,train_pred))\n",
    "      \n",
    "print('RMse of test data is:',np.sqrt(mean_squared_error(Y_test,test_pred)))\n",
    "print('R2_score of test data is:',r2_score(Y_test,test_pred))      "
   ]
  },
  {
   "cell_type": "markdown",
   "id": "c583b6fe",
   "metadata": {},
   "source": [
    "#### Model Building Full Train Dataset for final test Prediction"
   ]
  },
  {
   "cell_type": "code",
   "execution_count": null,
   "id": "3dc66284",
   "metadata": {},
   "outputs": [],
   "source": [
    "rfr=RandomForestRegressor(n_estimators=100,random_state=42,oob_score=True)\n",
    "\n",
    "rfr.fit(x_train,y_train_)\n",
    "\n",
    "# Predicting the model\n",
    "\n",
    "train_pred=rfr.predict(x_train)\n",
    "test_pred=rfr.predict(x_test)\n",
    "\n",
    "\n",
    "# Regression results\n",
    "print('RMse of trained data is:',np.sqrt(mean_squared_error(y_train_log,train_pred)))\n",
    "print('R2_score of trained data is:',r2_score(y_train_log,train_pred"
   ]
  },
  {
   "cell_type": "markdown",
   "id": "68010c85",
   "metadata": {},
   "source": [
    "### Gradient Boosting Model"
   ]
  },
  {
   "cell_type": "markdown",
   "id": "a6c68cd9",
   "metadata": {},
   "source": [
    "#### Model Building with Train test splitting in Train Dataset"
   ]
  },
  {
   "cell_type": "code",
   "execution_count": null,
   "id": "0f6af895",
   "metadata": {},
   "outputs": [],
   "source": [
    "#### Checking the Train Test Accuracy Within Trained Dataset by splitting\n",
    "\n",
    "#### splitting the Data of DF_Train Datast\n",
    "X_train,X_test,Y_train,Y_test=split(x_train,y_train,test_size=0.30,random_state=100)\n",
    "gbr=GradientBoostingRegressor(random_state=42)\n",
    "\n",
    "gbr.fit(X_train,Y_train)\n",
    "\n",
    "# Predicting the model\n",
    "\n",
    "train_pred=gbr.predict(X_train)\n",
    "test_pred=gbr.predict(X_test)\n",
    "\n",
    "\n",
    "# Regression results\n",
    "print('RMse of trained data is:',np.sqrt(mean_squared_error(Y_train,train_pred)))\n",
    "print('R2_score of trained data is:',r2_score(Y_train,train_pred))\n",
    "\n",
    "print('RMse of test data is:',np.sqrt(mean_squared_error(Y_test,test_pred)))\n",
    "print('R2_score of test data is:',r2_score(Y_test,test_pred)) \n",
    "\n",
    "plt.scatter(Y_test,test_pred)"
   ]
  },
  {
   "cell_type": "markdown",
   "id": "51857642",
   "metadata": {},
   "source": [
    "#### Model Building Full Train Dataset for final test Prediction"
   ]
  },
  {
   "cell_type": "code",
   "execution_count": null,
   "id": "2b5b3b44",
   "metadata": {},
   "outputs": [],
   "source": [
    "gbr=GradientBoostingRegressor(random_state=42)\n",
    "\n",
    "gbr.fit(x_train,y_train)\n",
    "\n",
    "# Predicting the model\n",
    "\n",
    "train_pred=rfr.predict(x_train)\n",
    "test_pred=rfr.predict(x_test)\n",
    "\n",
    "\n",
    "# Regression results\n",
    "print('RMse of trained data is:',np.sqrt(mean_squared_error(y_train_log,train_pred)))\n",
    "print('R2_score of trained data is:',r2_score(y_train_log,train))"
   ]
  }
 ],
 "metadata": {
  "kernelspec": {
   "display_name": "Python 3 (ipykernel)",
   "language": "python",
   "name": "python3"
  },
  "language_info": {
   "codemirror_mode": {
    "name": "ipython",
    "version": 3
   },
   "file_extension": ".py",
   "mimetype": "text/x-python",
   "name": "python",
   "nbconvert_exporter": "python",
   "pygments_lexer": "ipython3",
   "version": "3.9.12"
  }
 },
 "nbformat": 4,
 "nbformat_minor": 5
}
