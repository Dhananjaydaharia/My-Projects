{
 "cells": [
  {
   "cell_type": "code",
   "execution_count": 1,
   "id": "d5f858d0",
   "metadata": {},
   "outputs": [],
   "source": [
    "import numpy as np\n",
    "import pandas as pd\n",
    "import os\n",
    "import matplotlib.pyplot as plt\n",
    "import seaborn as sns\n",
    "import warnings\n",
    "warnings.filterwarnings('ignore')"
   ]
  },
  {
   "cell_type": "code",
   "execution_count": 2,
   "id": "bb9b8b73",
   "metadata": {},
   "outputs": [
    {
     "data": {
      "text/plain": [
       "'C:\\\\Users\\\\Admin\\\\3D Objects\\\\imarticus PGDA\\\\Machine learning\\\\NEW DATASET\\\\Hackathon\\\\IMarticaus 23rd APril2022'"
      ]
     },
     "execution_count": 2,
     "metadata": {},
     "output_type": "execute_result"
    }
   ],
   "source": [
    "os.getcwd()"
   ]
  },
  {
   "cell_type": "code",
   "execution_count": 3,
   "id": "d599c3fb",
   "metadata": {},
   "outputs": [
    {
     "data": {
      "text/html": [
       "<div>\n",
       "<style scoped>\n",
       "    .dataframe tbody tr th:only-of-type {\n",
       "        vertical-align: middle;\n",
       "    }\n",
       "\n",
       "    .dataframe tbody tr th {\n",
       "        vertical-align: top;\n",
       "    }\n",
       "\n",
       "    .dataframe thead th {\n",
       "        text-align: right;\n",
       "    }\n",
       "</style>\n",
       "<table border=\"1\" class=\"dataframe\">\n",
       "  <thead>\n",
       "    <tr style=\"text-align: right;\">\n",
       "      <th></th>\n",
       "      <th>Name</th>\n",
       "      <th>Platform</th>\n",
       "      <th>Year_of_Release</th>\n",
       "      <th>Genre</th>\n",
       "      <th>Publisher</th>\n",
       "      <th>NA_Sales</th>\n",
       "      <th>EU_Sales</th>\n",
       "      <th>JP_Sales</th>\n",
       "      <th>Critic_Score</th>\n",
       "      <th>Critic_Count</th>\n",
       "      <th>User_Score</th>\n",
       "      <th>User_Count</th>\n",
       "      <th>Developer</th>\n",
       "      <th>Rating</th>\n",
       "      <th>Global_Sales</th>\n",
       "    </tr>\n",
       "  </thead>\n",
       "  <tbody>\n",
       "    <tr>\n",
       "      <th>0</th>\n",
       "      <td>Wii Sports</td>\n",
       "      <td>Wii</td>\n",
       "      <td>2006.0</td>\n",
       "      <td>Sports</td>\n",
       "      <td>Nintendo</td>\n",
       "      <td>41.36</td>\n",
       "      <td>28.96</td>\n",
       "      <td>3.77</td>\n",
       "      <td>76.0</td>\n",
       "      <td>51.0</td>\n",
       "      <td>8</td>\n",
       "      <td>322.0</td>\n",
       "      <td>Nintendo</td>\n",
       "      <td>E</td>\n",
       "      <td>82.53</td>\n",
       "    </tr>\n",
       "    <tr>\n",
       "      <th>1</th>\n",
       "      <td>Super Mario Bros.</td>\n",
       "      <td>NES</td>\n",
       "      <td>1985.0</td>\n",
       "      <td>Platform</td>\n",
       "      <td>Nintendo</td>\n",
       "      <td>29.08</td>\n",
       "      <td>3.58</td>\n",
       "      <td>6.81</td>\n",
       "      <td>NaN</td>\n",
       "      <td>NaN</td>\n",
       "      <td>NaN</td>\n",
       "      <td>NaN</td>\n",
       "      <td>NaN</td>\n",
       "      <td>NaN</td>\n",
       "      <td>40.24</td>\n",
       "    </tr>\n",
       "    <tr>\n",
       "      <th>2</th>\n",
       "      <td>Mario Kart Wii</td>\n",
       "      <td>Wii</td>\n",
       "      <td>2008.0</td>\n",
       "      <td>Racing</td>\n",
       "      <td>Nintendo</td>\n",
       "      <td>15.68</td>\n",
       "      <td>12.76</td>\n",
       "      <td>3.79</td>\n",
       "      <td>82.0</td>\n",
       "      <td>73.0</td>\n",
       "      <td>8.3</td>\n",
       "      <td>709.0</td>\n",
       "      <td>Nintendo</td>\n",
       "      <td>E</td>\n",
       "      <td>35.52</td>\n",
       "    </tr>\n",
       "    <tr>\n",
       "      <th>3</th>\n",
       "      <td>Wii Sports Resort</td>\n",
       "      <td>Wii</td>\n",
       "      <td>2009.0</td>\n",
       "      <td>Sports</td>\n",
       "      <td>Nintendo</td>\n",
       "      <td>15.61</td>\n",
       "      <td>10.93</td>\n",
       "      <td>3.28</td>\n",
       "      <td>80.0</td>\n",
       "      <td>73.0</td>\n",
       "      <td>8</td>\n",
       "      <td>192.0</td>\n",
       "      <td>Nintendo</td>\n",
       "      <td>E</td>\n",
       "      <td>32.77</td>\n",
       "    </tr>\n",
       "    <tr>\n",
       "      <th>4</th>\n",
       "      <td>Pokemon Red/Pokemon Blue</td>\n",
       "      <td>GB</td>\n",
       "      <td>1996.0</td>\n",
       "      <td>Role-Playing</td>\n",
       "      <td>Nintendo</td>\n",
       "      <td>11.27</td>\n",
       "      <td>8.89</td>\n",
       "      <td>10.22</td>\n",
       "      <td>NaN</td>\n",
       "      <td>NaN</td>\n",
       "      <td>NaN</td>\n",
       "      <td>NaN</td>\n",
       "      <td>NaN</td>\n",
       "      <td>NaN</td>\n",
       "      <td>31.37</td>\n",
       "    </tr>\n",
       "    <tr>\n",
       "      <th>...</th>\n",
       "      <td>...</td>\n",
       "      <td>...</td>\n",
       "      <td>...</td>\n",
       "      <td>...</td>\n",
       "      <td>...</td>\n",
       "      <td>...</td>\n",
       "      <td>...</td>\n",
       "      <td>...</td>\n",
       "      <td>...</td>\n",
       "      <td>...</td>\n",
       "      <td>...</td>\n",
       "      <td>...</td>\n",
       "      <td>...</td>\n",
       "      <td>...</td>\n",
       "      <td>...</td>\n",
       "    </tr>\n",
       "    <tr>\n",
       "      <th>14571</th>\n",
       "      <td>Samurai Warriors: Sanada Maru</td>\n",
       "      <td>PS3</td>\n",
       "      <td>2016.0</td>\n",
       "      <td>Action</td>\n",
       "      <td>Tecmo Koei</td>\n",
       "      <td>0.00</td>\n",
       "      <td>0.00</td>\n",
       "      <td>0.01</td>\n",
       "      <td>NaN</td>\n",
       "      <td>NaN</td>\n",
       "      <td>NaN</td>\n",
       "      <td>NaN</td>\n",
       "      <td>NaN</td>\n",
       "      <td>NaN</td>\n",
       "      <td>0.01</td>\n",
       "    </tr>\n",
       "    <tr>\n",
       "      <th>14572</th>\n",
       "      <td>LMA Manager 2007</td>\n",
       "      <td>X360</td>\n",
       "      <td>2006.0</td>\n",
       "      <td>Sports</td>\n",
       "      <td>Codemasters</td>\n",
       "      <td>0.00</td>\n",
       "      <td>0.01</td>\n",
       "      <td>0.00</td>\n",
       "      <td>NaN</td>\n",
       "      <td>NaN</td>\n",
       "      <td>NaN</td>\n",
       "      <td>NaN</td>\n",
       "      <td>NaN</td>\n",
       "      <td>NaN</td>\n",
       "      <td>0.01</td>\n",
       "    </tr>\n",
       "    <tr>\n",
       "      <th>14573</th>\n",
       "      <td>Haitaka no Psychedelica</td>\n",
       "      <td>PSV</td>\n",
       "      <td>2016.0</td>\n",
       "      <td>Adventure</td>\n",
       "      <td>Idea Factory</td>\n",
       "      <td>0.00</td>\n",
       "      <td>0.00</td>\n",
       "      <td>0.01</td>\n",
       "      <td>NaN</td>\n",
       "      <td>NaN</td>\n",
       "      <td>NaN</td>\n",
       "      <td>NaN</td>\n",
       "      <td>NaN</td>\n",
       "      <td>NaN</td>\n",
       "      <td>0.01</td>\n",
       "    </tr>\n",
       "    <tr>\n",
       "      <th>14574</th>\n",
       "      <td>Spirits &amp; Spells</td>\n",
       "      <td>GBA</td>\n",
       "      <td>2003.0</td>\n",
       "      <td>Platform</td>\n",
       "      <td>Wanadoo</td>\n",
       "      <td>0.01</td>\n",
       "      <td>0.00</td>\n",
       "      <td>0.00</td>\n",
       "      <td>NaN</td>\n",
       "      <td>NaN</td>\n",
       "      <td>NaN</td>\n",
       "      <td>NaN</td>\n",
       "      <td>NaN</td>\n",
       "      <td>NaN</td>\n",
       "      <td>0.01</td>\n",
       "    </tr>\n",
       "    <tr>\n",
       "      <th>14575</th>\n",
       "      <td>Winning Post 8 2016</td>\n",
       "      <td>PSV</td>\n",
       "      <td>2016.0</td>\n",
       "      <td>Simulation</td>\n",
       "      <td>Tecmo Koei</td>\n",
       "      <td>0.00</td>\n",
       "      <td>0.00</td>\n",
       "      <td>0.01</td>\n",
       "      <td>NaN</td>\n",
       "      <td>NaN</td>\n",
       "      <td>NaN</td>\n",
       "      <td>NaN</td>\n",
       "      <td>NaN</td>\n",
       "      <td>NaN</td>\n",
       "      <td>0.01</td>\n",
       "    </tr>\n",
       "  </tbody>\n",
       "</table>\n",
       "<p>14576 rows × 15 columns</p>\n",
       "</div>"
      ],
      "text/plain": [
       "                                Name Platform  Year_of_Release         Genre  \\\n",
       "0                         Wii Sports      Wii           2006.0        Sports   \n",
       "1                  Super Mario Bros.      NES           1985.0      Platform   \n",
       "2                     Mario Kart Wii      Wii           2008.0        Racing   \n",
       "3                  Wii Sports Resort      Wii           2009.0        Sports   \n",
       "4           Pokemon Red/Pokemon Blue       GB           1996.0  Role-Playing   \n",
       "...                              ...      ...              ...           ...   \n",
       "14571  Samurai Warriors: Sanada Maru      PS3           2016.0        Action   \n",
       "14572               LMA Manager 2007     X360           2006.0        Sports   \n",
       "14573        Haitaka no Psychedelica      PSV           2016.0     Adventure   \n",
       "14574               Spirits & Spells      GBA           2003.0      Platform   \n",
       "14575            Winning Post 8 2016      PSV           2016.0    Simulation   \n",
       "\n",
       "          Publisher  NA_Sales  EU_Sales  JP_Sales  Critic_Score  Critic_Count  \\\n",
       "0          Nintendo     41.36     28.96      3.77          76.0          51.0   \n",
       "1          Nintendo     29.08      3.58      6.81           NaN           NaN   \n",
       "2          Nintendo     15.68     12.76      3.79          82.0          73.0   \n",
       "3          Nintendo     15.61     10.93      3.28          80.0          73.0   \n",
       "4          Nintendo     11.27      8.89     10.22           NaN           NaN   \n",
       "...             ...       ...       ...       ...           ...           ...   \n",
       "14571    Tecmo Koei      0.00      0.00      0.01           NaN           NaN   \n",
       "14572   Codemasters      0.00      0.01      0.00           NaN           NaN   \n",
       "14573  Idea Factory      0.00      0.00      0.01           NaN           NaN   \n",
       "14574       Wanadoo      0.01      0.00      0.00           NaN           NaN   \n",
       "14575    Tecmo Koei      0.00      0.00      0.01           NaN           NaN   \n",
       "\n",
       "      User_Score  User_Count Developer Rating  Global_Sales  \n",
       "0              8       322.0  Nintendo      E         82.53  \n",
       "1            NaN         NaN       NaN    NaN         40.24  \n",
       "2            8.3       709.0  Nintendo      E         35.52  \n",
       "3              8       192.0  Nintendo      E         32.77  \n",
       "4            NaN         NaN       NaN    NaN         31.37  \n",
       "...          ...         ...       ...    ...           ...  \n",
       "14571        NaN         NaN       NaN    NaN          0.01  \n",
       "14572        NaN         NaN       NaN    NaN          0.01  \n",
       "14573        NaN         NaN       NaN    NaN          0.01  \n",
       "14574        NaN         NaN       NaN    NaN          0.01  \n",
       "14575        NaN         NaN       NaN    NaN          0.01  \n",
       "\n",
       "[14576 rows x 15 columns]"
      ]
     },
     "execution_count": 3,
     "metadata": {},
     "output_type": "execute_result"
    }
   ],
   "source": [
    "df_train=pd.read_csv('train.csv')\n",
    "df_test=pd.read_csv('test.csv')\n",
    "df_train"
   ]
  },
  {
   "cell_type": "code",
   "execution_count": 4,
   "id": "5d20baac",
   "metadata": {},
   "outputs": [
    {
     "data": {
      "text/html": [
       "<div>\n",
       "<style scoped>\n",
       "    .dataframe tbody tr th:only-of-type {\n",
       "        vertical-align: middle;\n",
       "    }\n",
       "\n",
       "    .dataframe tbody tr th {\n",
       "        vertical-align: top;\n",
       "    }\n",
       "\n",
       "    .dataframe thead th {\n",
       "        text-align: right;\n",
       "    }\n",
       "</style>\n",
       "<table border=\"1\" class=\"dataframe\">\n",
       "  <thead>\n",
       "    <tr style=\"text-align: right;\">\n",
       "      <th></th>\n",
       "      <th>Name</th>\n",
       "      <th>Platform</th>\n",
       "      <th>Year_of_Release</th>\n",
       "      <th>Genre</th>\n",
       "      <th>Publisher</th>\n",
       "      <th>NA_Sales</th>\n",
       "      <th>EU_Sales</th>\n",
       "      <th>JP_Sales</th>\n",
       "      <th>Critic_Score</th>\n",
       "      <th>Critic_Count</th>\n",
       "      <th>User_Score</th>\n",
       "      <th>User_Count</th>\n",
       "      <th>Developer</th>\n",
       "      <th>Rating</th>\n",
       "    </tr>\n",
       "  </thead>\n",
       "  <tbody>\n",
       "    <tr>\n",
       "      <th>0</th>\n",
       "      <td>Nicktoons: MLB</td>\n",
       "      <td>X360</td>\n",
       "      <td>2011.0</td>\n",
       "      <td>Sports</td>\n",
       "      <td>Take-Two Interactive</td>\n",
       "      <td>0.12</td>\n",
       "      <td>0.00</td>\n",
       "      <td>0.0</td>\n",
       "      <td>NaN</td>\n",
       "      <td>NaN</td>\n",
       "      <td>7.6</td>\n",
       "      <td>7.0</td>\n",
       "      <td>High Voltage Software</td>\n",
       "      <td>E</td>\n",
       "    </tr>\n",
       "    <tr>\n",
       "      <th>1</th>\n",
       "      <td>Shonen Jump's One Piece: Grand Battle</td>\n",
       "      <td>PS2</td>\n",
       "      <td>2005.0</td>\n",
       "      <td>Fighting</td>\n",
       "      <td>Atari</td>\n",
       "      <td>0.07</td>\n",
       "      <td>0.05</td>\n",
       "      <td>0.0</td>\n",
       "      <td>NaN</td>\n",
       "      <td>NaN</td>\n",
       "      <td>NaN</td>\n",
       "      <td>NaN</td>\n",
       "      <td>NaN</td>\n",
       "      <td>NaN</td>\n",
       "    </tr>\n",
       "    <tr>\n",
       "      <th>2</th>\n",
       "      <td>Learn Math</td>\n",
       "      <td>DS</td>\n",
       "      <td>2009.0</td>\n",
       "      <td>Puzzle</td>\n",
       "      <td>DreamCatcher Interactive</td>\n",
       "      <td>0.12</td>\n",
       "      <td>0.00</td>\n",
       "      <td>0.0</td>\n",
       "      <td>NaN</td>\n",
       "      <td>NaN</td>\n",
       "      <td>tbd</td>\n",
       "      <td>NaN</td>\n",
       "      <td>Dreamcatcher</td>\n",
       "      <td>E</td>\n",
       "    </tr>\n",
       "    <tr>\n",
       "      <th>3</th>\n",
       "      <td>Nitrobike</td>\n",
       "      <td>Wii</td>\n",
       "      <td>2008.0</td>\n",
       "      <td>Racing</td>\n",
       "      <td>Ubisoft</td>\n",
       "      <td>0.11</td>\n",
       "      <td>0.01</td>\n",
       "      <td>0.0</td>\n",
       "      <td>49.0</td>\n",
       "      <td>22.0</td>\n",
       "      <td>7.1</td>\n",
       "      <td>7.0</td>\n",
       "      <td>Left Field Productions</td>\n",
       "      <td>E10+</td>\n",
       "    </tr>\n",
       "    <tr>\n",
       "      <th>4</th>\n",
       "      <td>Cruise Ship Vacation Games</td>\n",
       "      <td>Wii</td>\n",
       "      <td>2009.0</td>\n",
       "      <td>Puzzle</td>\n",
       "      <td>Avanquest</td>\n",
       "      <td>0.12</td>\n",
       "      <td>0.00</td>\n",
       "      <td>0.0</td>\n",
       "      <td>NaN</td>\n",
       "      <td>NaN</td>\n",
       "      <td>tbd</td>\n",
       "      <td>NaN</td>\n",
       "      <td>Activision</td>\n",
       "      <td>E</td>\n",
       "    </tr>\n",
       "    <tr>\n",
       "      <th>...</th>\n",
       "      <td>...</td>\n",
       "      <td>...</td>\n",
       "      <td>...</td>\n",
       "      <td>...</td>\n",
       "      <td>...</td>\n",
       "      <td>...</td>\n",
       "      <td>...</td>\n",
       "      <td>...</td>\n",
       "      <td>...</td>\n",
       "      <td>...</td>\n",
       "      <td>...</td>\n",
       "      <td>...</td>\n",
       "      <td>...</td>\n",
       "      <td>...</td>\n",
       "    </tr>\n",
       "    <tr>\n",
       "      <th>2138</th>\n",
       "      <td>Theresia...</td>\n",
       "      <td>DS</td>\n",
       "      <td>2008.0</td>\n",
       "      <td>Adventure</td>\n",
       "      <td>Arc System Works</td>\n",
       "      <td>0.05</td>\n",
       "      <td>0.00</td>\n",
       "      <td>0.0</td>\n",
       "      <td>61.0</td>\n",
       "      <td>6.0</td>\n",
       "      <td>8</td>\n",
       "      <td>8.0</td>\n",
       "      <td>WorkJam</td>\n",
       "      <td>M</td>\n",
       "    </tr>\n",
       "    <tr>\n",
       "      <th>2139</th>\n",
       "      <td>Sacred 2: Fallen Angel</td>\n",
       "      <td>PC</td>\n",
       "      <td>2008.0</td>\n",
       "      <td>Role-Playing</td>\n",
       "      <td>Ascaron Entertainment GmbH</td>\n",
       "      <td>0.00</td>\n",
       "      <td>0.05</td>\n",
       "      <td>0.0</td>\n",
       "      <td>71.0</td>\n",
       "      <td>41.0</td>\n",
       "      <td>6.9</td>\n",
       "      <td>203.0</td>\n",
       "      <td>Ascaron Entertainment GmbH, Ascaron Entertainment</td>\n",
       "      <td>M</td>\n",
       "    </tr>\n",
       "    <tr>\n",
       "      <th>2140</th>\n",
       "      <td>Dance Sensation!</td>\n",
       "      <td>Wii</td>\n",
       "      <td>2010.0</td>\n",
       "      <td>Misc</td>\n",
       "      <td>Majesco Entertainment</td>\n",
       "      <td>0.06</td>\n",
       "      <td>0.00</td>\n",
       "      <td>0.0</td>\n",
       "      <td>NaN</td>\n",
       "      <td>NaN</td>\n",
       "      <td>NaN</td>\n",
       "      <td>NaN</td>\n",
       "      <td>NaN</td>\n",
       "      <td>NaN</td>\n",
       "    </tr>\n",
       "    <tr>\n",
       "      <th>2141</th>\n",
       "      <td>Adventure Time: The Secret of the Nameless Kin...</td>\n",
       "      <td>X360</td>\n",
       "      <td>2014.0</td>\n",
       "      <td>Action</td>\n",
       "      <td>Little Orbit</td>\n",
       "      <td>0.00</td>\n",
       "      <td>0.05</td>\n",
       "      <td>0.0</td>\n",
       "      <td>58.0</td>\n",
       "      <td>5.0</td>\n",
       "      <td>7.5</td>\n",
       "      <td>4.0</td>\n",
       "      <td>WayForward</td>\n",
       "      <td>E10+</td>\n",
       "    </tr>\n",
       "    <tr>\n",
       "      <th>2142</th>\n",
       "      <td>Teenage Mutant Ninja Turtles 3: Mutant Nightmare</td>\n",
       "      <td>DS</td>\n",
       "      <td>2005.0</td>\n",
       "      <td>Action</td>\n",
       "      <td>Konami Digital Entertainment</td>\n",
       "      <td>0.05</td>\n",
       "      <td>0.00</td>\n",
       "      <td>0.0</td>\n",
       "      <td>58.0</td>\n",
       "      <td>10.0</td>\n",
       "      <td>7</td>\n",
       "      <td>5.0</td>\n",
       "      <td>Konami</td>\n",
       "      <td>E</td>\n",
       "    </tr>\n",
       "  </tbody>\n",
       "</table>\n",
       "<p>2143 rows × 14 columns</p>\n",
       "</div>"
      ],
      "text/plain": [
       "                                                   Name Platform  \\\n",
       "0                                        Nicktoons: MLB     X360   \n",
       "1                 Shonen Jump's One Piece: Grand Battle      PS2   \n",
       "2                                            Learn Math       DS   \n",
       "3                                             Nitrobike      Wii   \n",
       "4                            Cruise Ship Vacation Games      Wii   \n",
       "...                                                 ...      ...   \n",
       "2138                                        Theresia...       DS   \n",
       "2139                             Sacred 2: Fallen Angel       PC   \n",
       "2140                                   Dance Sensation!      Wii   \n",
       "2141  Adventure Time: The Secret of the Nameless Kin...     X360   \n",
       "2142   Teenage Mutant Ninja Turtles 3: Mutant Nightmare       DS   \n",
       "\n",
       "      Year_of_Release         Genre                     Publisher  NA_Sales  \\\n",
       "0              2011.0        Sports          Take-Two Interactive      0.12   \n",
       "1              2005.0      Fighting                         Atari      0.07   \n",
       "2              2009.0        Puzzle      DreamCatcher Interactive      0.12   \n",
       "3              2008.0        Racing                       Ubisoft      0.11   \n",
       "4              2009.0        Puzzle                     Avanquest      0.12   \n",
       "...               ...           ...                           ...       ...   \n",
       "2138           2008.0     Adventure              Arc System Works      0.05   \n",
       "2139           2008.0  Role-Playing    Ascaron Entertainment GmbH      0.00   \n",
       "2140           2010.0          Misc         Majesco Entertainment      0.06   \n",
       "2141           2014.0        Action                  Little Orbit      0.00   \n",
       "2142           2005.0        Action  Konami Digital Entertainment      0.05   \n",
       "\n",
       "      EU_Sales  JP_Sales  Critic_Score  Critic_Count User_Score  User_Count  \\\n",
       "0         0.00       0.0           NaN           NaN        7.6         7.0   \n",
       "1         0.05       0.0           NaN           NaN        NaN         NaN   \n",
       "2         0.00       0.0           NaN           NaN        tbd         NaN   \n",
       "3         0.01       0.0          49.0          22.0        7.1         7.0   \n",
       "4         0.00       0.0           NaN           NaN        tbd         NaN   \n",
       "...        ...       ...           ...           ...        ...         ...   \n",
       "2138      0.00       0.0          61.0           6.0          8         8.0   \n",
       "2139      0.05       0.0          71.0          41.0        6.9       203.0   \n",
       "2140      0.00       0.0           NaN           NaN        NaN         NaN   \n",
       "2141      0.05       0.0          58.0           5.0        7.5         4.0   \n",
       "2142      0.00       0.0          58.0          10.0          7         5.0   \n",
       "\n",
       "                                              Developer Rating  \n",
       "0                                 High Voltage Software      E  \n",
       "1                                                   NaN    NaN  \n",
       "2                                          Dreamcatcher      E  \n",
       "3                                Left Field Productions   E10+  \n",
       "4                                            Activision      E  \n",
       "...                                                 ...    ...  \n",
       "2138                                            WorkJam      M  \n",
       "2139  Ascaron Entertainment GmbH, Ascaron Entertainment      M  \n",
       "2140                                                NaN    NaN  \n",
       "2141                                         WayForward   E10+  \n",
       "2142                                             Konami      E  \n",
       "\n",
       "[2143 rows x 14 columns]"
      ]
     },
     "execution_count": 4,
     "metadata": {},
     "output_type": "execute_result"
    }
   ],
   "source": [
    "df_test"
   ]
  },
  {
   "cell_type": "code",
   "execution_count": 5,
   "id": "8c2b0052",
   "metadata": {},
   "outputs": [
    {
     "name": "stdout",
     "output_type": "stream",
     "text": [
      "shape of train: (14576, 15)\n",
      "shape of test: (2143, 14)\n"
     ]
    }
   ],
   "source": [
    "print('shape of train:',df_train.shape)\n",
    "print('shape of test:',df_test.shape)"
   ]
  },
  {
   "cell_type": "code",
   "execution_count": null,
   "id": "2b6bdfd5",
   "metadata": {},
   "outputs": [],
   "source": []
  },
  {
   "cell_type": "code",
   "execution_count": 6,
   "id": "2643732e",
   "metadata": {},
   "outputs": [
    {
     "data": {
      "text/html": [
       "<div>\n",
       "<style scoped>\n",
       "    .dataframe tbody tr th:only-of-type {\n",
       "        vertical-align: middle;\n",
       "    }\n",
       "\n",
       "    .dataframe tbody tr th {\n",
       "        vertical-align: top;\n",
       "    }\n",
       "\n",
       "    .dataframe thead th {\n",
       "        text-align: right;\n",
       "    }\n",
       "</style>\n",
       "<table border=\"1\" class=\"dataframe\">\n",
       "  <thead>\n",
       "    <tr style=\"text-align: right;\">\n",
       "      <th></th>\n",
       "      <th>Name</th>\n",
       "      <th>Platform</th>\n",
       "      <th>Year_of_Release</th>\n",
       "      <th>Genre</th>\n",
       "      <th>Publisher</th>\n",
       "      <th>NA_Sales</th>\n",
       "      <th>EU_Sales</th>\n",
       "      <th>JP_Sales</th>\n",
       "      <th>Critic_Score</th>\n",
       "      <th>Critic_Count</th>\n",
       "      <th>User_Score</th>\n",
       "      <th>User_Count</th>\n",
       "      <th>Developer</th>\n",
       "      <th>Rating</th>\n",
       "      <th>Global_Sales</th>\n",
       "    </tr>\n",
       "  </thead>\n",
       "  <tbody>\n",
       "    <tr>\n",
       "      <th>0</th>\n",
       "      <td>Wii Sports</td>\n",
       "      <td>Wii</td>\n",
       "      <td>2006.0</td>\n",
       "      <td>Sports</td>\n",
       "      <td>Nintendo</td>\n",
       "      <td>41.36</td>\n",
       "      <td>28.96</td>\n",
       "      <td>3.77</td>\n",
       "      <td>76.0</td>\n",
       "      <td>51.0</td>\n",
       "      <td>8</td>\n",
       "      <td>322.0</td>\n",
       "      <td>Nintendo</td>\n",
       "      <td>E</td>\n",
       "      <td>82.53</td>\n",
       "    </tr>\n",
       "    <tr>\n",
       "      <th>1</th>\n",
       "      <td>Super Mario Bros.</td>\n",
       "      <td>NES</td>\n",
       "      <td>1985.0</td>\n",
       "      <td>Platform</td>\n",
       "      <td>Nintendo</td>\n",
       "      <td>29.08</td>\n",
       "      <td>3.58</td>\n",
       "      <td>6.81</td>\n",
       "      <td>NaN</td>\n",
       "      <td>NaN</td>\n",
       "      <td>NaN</td>\n",
       "      <td>NaN</td>\n",
       "      <td>NaN</td>\n",
       "      <td>NaN</td>\n",
       "      <td>40.24</td>\n",
       "    </tr>\n",
       "    <tr>\n",
       "      <th>2</th>\n",
       "      <td>Mario Kart Wii</td>\n",
       "      <td>Wii</td>\n",
       "      <td>2008.0</td>\n",
       "      <td>Racing</td>\n",
       "      <td>Nintendo</td>\n",
       "      <td>15.68</td>\n",
       "      <td>12.76</td>\n",
       "      <td>3.79</td>\n",
       "      <td>82.0</td>\n",
       "      <td>73.0</td>\n",
       "      <td>8.3</td>\n",
       "      <td>709.0</td>\n",
       "      <td>Nintendo</td>\n",
       "      <td>E</td>\n",
       "      <td>35.52</td>\n",
       "    </tr>\n",
       "    <tr>\n",
       "      <th>3</th>\n",
       "      <td>Wii Sports Resort</td>\n",
       "      <td>Wii</td>\n",
       "      <td>2009.0</td>\n",
       "      <td>Sports</td>\n",
       "      <td>Nintendo</td>\n",
       "      <td>15.61</td>\n",
       "      <td>10.93</td>\n",
       "      <td>3.28</td>\n",
       "      <td>80.0</td>\n",
       "      <td>73.0</td>\n",
       "      <td>8</td>\n",
       "      <td>192.0</td>\n",
       "      <td>Nintendo</td>\n",
       "      <td>E</td>\n",
       "      <td>32.77</td>\n",
       "    </tr>\n",
       "    <tr>\n",
       "      <th>4</th>\n",
       "      <td>Pokemon Red/Pokemon Blue</td>\n",
       "      <td>GB</td>\n",
       "      <td>1996.0</td>\n",
       "      <td>Role-Playing</td>\n",
       "      <td>Nintendo</td>\n",
       "      <td>11.27</td>\n",
       "      <td>8.89</td>\n",
       "      <td>10.22</td>\n",
       "      <td>NaN</td>\n",
       "      <td>NaN</td>\n",
       "      <td>NaN</td>\n",
       "      <td>NaN</td>\n",
       "      <td>NaN</td>\n",
       "      <td>NaN</td>\n",
       "      <td>31.37</td>\n",
       "    </tr>\n",
       "    <tr>\n",
       "      <th>...</th>\n",
       "      <td>...</td>\n",
       "      <td>...</td>\n",
       "      <td>...</td>\n",
       "      <td>...</td>\n",
       "      <td>...</td>\n",
       "      <td>...</td>\n",
       "      <td>...</td>\n",
       "      <td>...</td>\n",
       "      <td>...</td>\n",
       "      <td>...</td>\n",
       "      <td>...</td>\n",
       "      <td>...</td>\n",
       "      <td>...</td>\n",
       "      <td>...</td>\n",
       "      <td>...</td>\n",
       "    </tr>\n",
       "    <tr>\n",
       "      <th>16714</th>\n",
       "      <td>Theresia...</td>\n",
       "      <td>DS</td>\n",
       "      <td>2008.0</td>\n",
       "      <td>Adventure</td>\n",
       "      <td>Arc System Works</td>\n",
       "      <td>0.05</td>\n",
       "      <td>0.00</td>\n",
       "      <td>0.00</td>\n",
       "      <td>61.0</td>\n",
       "      <td>6.0</td>\n",
       "      <td>8</td>\n",
       "      <td>8.0</td>\n",
       "      <td>WorkJam</td>\n",
       "      <td>M</td>\n",
       "      <td>NaN</td>\n",
       "    </tr>\n",
       "    <tr>\n",
       "      <th>16715</th>\n",
       "      <td>Sacred 2: Fallen Angel</td>\n",
       "      <td>PC</td>\n",
       "      <td>2008.0</td>\n",
       "      <td>Role-Playing</td>\n",
       "      <td>Ascaron Entertainment GmbH</td>\n",
       "      <td>0.00</td>\n",
       "      <td>0.05</td>\n",
       "      <td>0.00</td>\n",
       "      <td>71.0</td>\n",
       "      <td>41.0</td>\n",
       "      <td>6.9</td>\n",
       "      <td>203.0</td>\n",
       "      <td>Ascaron Entertainment GmbH, Ascaron Entertainment</td>\n",
       "      <td>M</td>\n",
       "      <td>NaN</td>\n",
       "    </tr>\n",
       "    <tr>\n",
       "      <th>16716</th>\n",
       "      <td>Dance Sensation!</td>\n",
       "      <td>Wii</td>\n",
       "      <td>2010.0</td>\n",
       "      <td>Misc</td>\n",
       "      <td>Majesco Entertainment</td>\n",
       "      <td>0.06</td>\n",
       "      <td>0.00</td>\n",
       "      <td>0.00</td>\n",
       "      <td>NaN</td>\n",
       "      <td>NaN</td>\n",
       "      <td>NaN</td>\n",
       "      <td>NaN</td>\n",
       "      <td>NaN</td>\n",
       "      <td>NaN</td>\n",
       "      <td>NaN</td>\n",
       "    </tr>\n",
       "    <tr>\n",
       "      <th>16717</th>\n",
       "      <td>Adventure Time: The Secret of the Nameless Kin...</td>\n",
       "      <td>X360</td>\n",
       "      <td>2014.0</td>\n",
       "      <td>Action</td>\n",
       "      <td>Little Orbit</td>\n",
       "      <td>0.00</td>\n",
       "      <td>0.05</td>\n",
       "      <td>0.00</td>\n",
       "      <td>58.0</td>\n",
       "      <td>5.0</td>\n",
       "      <td>7.5</td>\n",
       "      <td>4.0</td>\n",
       "      <td>WayForward</td>\n",
       "      <td>E10+</td>\n",
       "      <td>NaN</td>\n",
       "    </tr>\n",
       "    <tr>\n",
       "      <th>16718</th>\n",
       "      <td>Teenage Mutant Ninja Turtles 3: Mutant Nightmare</td>\n",
       "      <td>DS</td>\n",
       "      <td>2005.0</td>\n",
       "      <td>Action</td>\n",
       "      <td>Konami Digital Entertainment</td>\n",
       "      <td>0.05</td>\n",
       "      <td>0.00</td>\n",
       "      <td>0.00</td>\n",
       "      <td>58.0</td>\n",
       "      <td>10.0</td>\n",
       "      <td>7</td>\n",
       "      <td>5.0</td>\n",
       "      <td>Konami</td>\n",
       "      <td>E</td>\n",
       "      <td>NaN</td>\n",
       "    </tr>\n",
       "  </tbody>\n",
       "</table>\n",
       "<p>16719 rows × 15 columns</p>\n",
       "</div>"
      ],
      "text/plain": [
       "                                                    Name Platform  \\\n",
       "0                                             Wii Sports      Wii   \n",
       "1                                      Super Mario Bros.      NES   \n",
       "2                                         Mario Kart Wii      Wii   \n",
       "3                                      Wii Sports Resort      Wii   \n",
       "4                               Pokemon Red/Pokemon Blue       GB   \n",
       "...                                                  ...      ...   \n",
       "16714                                        Theresia...       DS   \n",
       "16715                             Sacred 2: Fallen Angel       PC   \n",
       "16716                                   Dance Sensation!      Wii   \n",
       "16717  Adventure Time: The Secret of the Nameless Kin...     X360   \n",
       "16718   Teenage Mutant Ninja Turtles 3: Mutant Nightmare       DS   \n",
       "\n",
       "       Year_of_Release         Genre                     Publisher  NA_Sales  \\\n",
       "0               2006.0        Sports                      Nintendo     41.36   \n",
       "1               1985.0      Platform                      Nintendo     29.08   \n",
       "2               2008.0        Racing                      Nintendo     15.68   \n",
       "3               2009.0        Sports                      Nintendo     15.61   \n",
       "4               1996.0  Role-Playing                      Nintendo     11.27   \n",
       "...                ...           ...                           ...       ...   \n",
       "16714           2008.0     Adventure              Arc System Works      0.05   \n",
       "16715           2008.0  Role-Playing    Ascaron Entertainment GmbH      0.00   \n",
       "16716           2010.0          Misc         Majesco Entertainment      0.06   \n",
       "16717           2014.0        Action                  Little Orbit      0.00   \n",
       "16718           2005.0        Action  Konami Digital Entertainment      0.05   \n",
       "\n",
       "       EU_Sales  JP_Sales  Critic_Score  Critic_Count User_Score  User_Count  \\\n",
       "0         28.96      3.77          76.0          51.0          8       322.0   \n",
       "1          3.58      6.81           NaN           NaN        NaN         NaN   \n",
       "2         12.76      3.79          82.0          73.0        8.3       709.0   \n",
       "3         10.93      3.28          80.0          73.0          8       192.0   \n",
       "4          8.89     10.22           NaN           NaN        NaN         NaN   \n",
       "...         ...       ...           ...           ...        ...         ...   \n",
       "16714      0.00      0.00          61.0           6.0          8         8.0   \n",
       "16715      0.05      0.00          71.0          41.0        6.9       203.0   \n",
       "16716      0.00      0.00           NaN           NaN        NaN         NaN   \n",
       "16717      0.05      0.00          58.0           5.0        7.5         4.0   \n",
       "16718      0.00      0.00          58.0          10.0          7         5.0   \n",
       "\n",
       "                                               Developer Rating  Global_Sales  \n",
       "0                                               Nintendo      E         82.53  \n",
       "1                                                    NaN    NaN         40.24  \n",
       "2                                               Nintendo      E         35.52  \n",
       "3                                               Nintendo      E         32.77  \n",
       "4                                                    NaN    NaN         31.37  \n",
       "...                                                  ...    ...           ...  \n",
       "16714                                            WorkJam      M           NaN  \n",
       "16715  Ascaron Entertainment GmbH, Ascaron Entertainment      M           NaN  \n",
       "16716                                                NaN    NaN           NaN  \n",
       "16717                                         WayForward   E10+           NaN  \n",
       "16718                                             Konami      E           NaN  \n",
       "\n",
       "[16719 rows x 15 columns]"
      ]
     },
     "execution_count": 6,
     "metadata": {},
     "output_type": "execute_result"
    }
   ],
   "source": [
    "df_1=pd.concat([df_train,df_test],ignore_index=True)\n",
    "df_1"
   ]
  },
  {
   "cell_type": "markdown",
   "id": "7d1b70ff",
   "metadata": {},
   "source": [
    "### Dataset Info\n",
    "As a data scientist of a leading decision analysis firm you are required to predict \n",
    "the potential global user of the game based on the data provided by the customer \n",
    "so that they can plan their global launch.\n",
    "\n",
    "Name - Game name\n",
    "Platform - Running platform \n",
    "Year of release \n",
    "\n",
    "\n",
    "\n",
    "Genre - Game Genre \n",
    "Publisher \n",
    "Critic_score - Aggregate score compiled by Metacritic staff\n",
    "Criticcount - The number of critics used in coming up with the Critic Score\n",
    "User_score - Score by Metacritic’s subscribers \n",
    "Usercount - Number of users who gave the user score \n",
    "Developer - Party responsible for creating the game \n",
    "Rating - The ESRB ratings \n",
    "NA_Sales - Sales in North America (in millions of units)\n",
    "EU_Sales - Sales in the European Union (in millions of units) \n",
    "JP_Sales - Sales in Japan (in millions of units) \n",
    "Global_Sales - Total sales in the world (in millions of units)"
   ]
  },
  {
   "cell_type": "code",
   "execution_count": 7,
   "id": "1d38ea11",
   "metadata": {},
   "outputs": [
    {
     "name": "stdout",
     "output_type": "stream",
     "text": [
      "<class 'pandas.core.frame.DataFrame'>\n",
      "RangeIndex: 16719 entries, 0 to 16718\n",
      "Data columns (total 15 columns):\n",
      " #   Column           Non-Null Count  Dtype  \n",
      "---  ------           --------------  -----  \n",
      " 0   Name             16717 non-null  object \n",
      " 1   Platform         16719 non-null  object \n",
      " 2   Year_of_Release  16450 non-null  float64\n",
      " 3   Genre            16717 non-null  object \n",
      " 4   Publisher        16665 non-null  object \n",
      " 5   NA_Sales         16719 non-null  float64\n",
      " 6   EU_Sales         16719 non-null  float64\n",
      " 7   JP_Sales         16719 non-null  float64\n",
      " 8   Critic_Score     8137 non-null   float64\n",
      " 9   Critic_Count     8137 non-null   float64\n",
      " 10  User_Score       10015 non-null  object \n",
      " 11  User_Count       7590 non-null   float64\n",
      " 12  Developer        10096 non-null  object \n",
      " 13  Rating           9950 non-null   object \n",
      " 14  Global_Sales     14576 non-null  float64\n",
      "dtypes: float64(8), object(7)\n",
      "memory usage: 1.9+ MB\n"
     ]
    }
   ],
   "source": [
    "# Data Information\n",
    "df_1.info()"
   ]
  },
  {
   "cell_type": "markdown",
   "id": "56ffd85e",
   "metadata": {},
   "source": [
    "#### so here 7 object datatype columns and 8 numerical datatype columns are there and shape is 14576 rows and 15 columns\n"
   ]
  },
  {
   "cell_type": "markdown",
   "id": "f7e4d105",
   "metadata": {},
   "source": [
    "## STATISTICAL Summary"
   ]
  },
  {
   "cell_type": "code",
   "execution_count": 8,
   "id": "d91b7d95",
   "metadata": {},
   "outputs": [
    {
     "data": {
      "text/html": [
       "<div>\n",
       "<style scoped>\n",
       "    .dataframe tbody tr th:only-of-type {\n",
       "        vertical-align: middle;\n",
       "    }\n",
       "\n",
       "    .dataframe tbody tr th {\n",
       "        vertical-align: top;\n",
       "    }\n",
       "\n",
       "    .dataframe thead th {\n",
       "        text-align: right;\n",
       "    }\n",
       "</style>\n",
       "<table border=\"1\" class=\"dataframe\">\n",
       "  <thead>\n",
       "    <tr style=\"text-align: right;\">\n",
       "      <th></th>\n",
       "      <th>count</th>\n",
       "      <th>mean</th>\n",
       "      <th>std</th>\n",
       "      <th>min</th>\n",
       "      <th>25%</th>\n",
       "      <th>50%</th>\n",
       "      <th>75%</th>\n",
       "      <th>max</th>\n",
       "    </tr>\n",
       "  </thead>\n",
       "  <tbody>\n",
       "    <tr>\n",
       "      <th>Year_of_Release</th>\n",
       "      <td>16450.0</td>\n",
       "      <td>2006.487356</td>\n",
       "      <td>5.878995</td>\n",
       "      <td>1980.00</td>\n",
       "      <td>2003.00</td>\n",
       "      <td>2007.00</td>\n",
       "      <td>2010.00</td>\n",
       "      <td>2020.00</td>\n",
       "    </tr>\n",
       "    <tr>\n",
       "      <th>NA_Sales</th>\n",
       "      <td>16719.0</td>\n",
       "      <td>0.263330</td>\n",
       "      <td>0.813514</td>\n",
       "      <td>0.00</td>\n",
       "      <td>0.00</td>\n",
       "      <td>0.08</td>\n",
       "      <td>0.24</td>\n",
       "      <td>41.36</td>\n",
       "    </tr>\n",
       "    <tr>\n",
       "      <th>EU_Sales</th>\n",
       "      <td>16719.0</td>\n",
       "      <td>0.145025</td>\n",
       "      <td>0.503283</td>\n",
       "      <td>0.00</td>\n",
       "      <td>0.00</td>\n",
       "      <td>0.02</td>\n",
       "      <td>0.11</td>\n",
       "      <td>28.96</td>\n",
       "    </tr>\n",
       "    <tr>\n",
       "      <th>JP_Sales</th>\n",
       "      <td>16719.0</td>\n",
       "      <td>0.077602</td>\n",
       "      <td>0.308818</td>\n",
       "      <td>0.00</td>\n",
       "      <td>0.00</td>\n",
       "      <td>0.00</td>\n",
       "      <td>0.04</td>\n",
       "      <td>10.22</td>\n",
       "    </tr>\n",
       "    <tr>\n",
       "      <th>Critic_Score</th>\n",
       "      <td>8137.0</td>\n",
       "      <td>68.967679</td>\n",
       "      <td>13.938165</td>\n",
       "      <td>13.00</td>\n",
       "      <td>60.00</td>\n",
       "      <td>71.00</td>\n",
       "      <td>79.00</td>\n",
       "      <td>98.00</td>\n",
       "    </tr>\n",
       "    <tr>\n",
       "      <th>Critic_Count</th>\n",
       "      <td>8137.0</td>\n",
       "      <td>26.360821</td>\n",
       "      <td>18.980495</td>\n",
       "      <td>3.00</td>\n",
       "      <td>12.00</td>\n",
       "      <td>21.00</td>\n",
       "      <td>36.00</td>\n",
       "      <td>113.00</td>\n",
       "    </tr>\n",
       "    <tr>\n",
       "      <th>User_Count</th>\n",
       "      <td>7590.0</td>\n",
       "      <td>162.229908</td>\n",
       "      <td>561.282326</td>\n",
       "      <td>4.00</td>\n",
       "      <td>10.00</td>\n",
       "      <td>24.00</td>\n",
       "      <td>81.00</td>\n",
       "      <td>10665.00</td>\n",
       "    </tr>\n",
       "    <tr>\n",
       "      <th>Global_Sales</th>\n",
       "      <td>14576.0</td>\n",
       "      <td>0.598972</td>\n",
       "      <td>1.647699</td>\n",
       "      <td>0.01</td>\n",
       "      <td>0.05</td>\n",
       "      <td>0.22</td>\n",
       "      <td>0.55</td>\n",
       "      <td>82.53</td>\n",
       "    </tr>\n",
       "  </tbody>\n",
       "</table>\n",
       "</div>"
      ],
      "text/plain": [
       "                   count         mean         std      min      25%      50%  \\\n",
       "Year_of_Release  16450.0  2006.487356    5.878995  1980.00  2003.00  2007.00   \n",
       "NA_Sales         16719.0     0.263330    0.813514     0.00     0.00     0.08   \n",
       "EU_Sales         16719.0     0.145025    0.503283     0.00     0.00     0.02   \n",
       "JP_Sales         16719.0     0.077602    0.308818     0.00     0.00     0.00   \n",
       "Critic_Score      8137.0    68.967679   13.938165    13.00    60.00    71.00   \n",
       "Critic_Count      8137.0    26.360821   18.980495     3.00    12.00    21.00   \n",
       "User_Count        7590.0   162.229908  561.282326     4.00    10.00    24.00   \n",
       "Global_Sales     14576.0     0.598972    1.647699     0.01     0.05     0.22   \n",
       "\n",
       "                     75%       max  \n",
       "Year_of_Release  2010.00   2020.00  \n",
       "NA_Sales            0.24     41.36  \n",
       "EU_Sales            0.11     28.96  \n",
       "JP_Sales            0.04     10.22  \n",
       "Critic_Score       79.00     98.00  \n",
       "Critic_Count       36.00    113.00  \n",
       "User_Count         81.00  10665.00  \n",
       "Global_Sales        0.55     82.53  "
      ]
     },
     "execution_count": 8,
     "metadata": {},
     "output_type": "execute_result"
    }
   ],
   "source": [
    "# numerical features\n",
    "df_1.describe().T"
   ]
  },
  {
   "cell_type": "markdown",
   "id": "6430853d",
   "metadata": {},
   "source": [
    "so here we get the info about total count,mean,standard deviation ,maximum,minimumand \n",
    "many more about the numerical features of the data"
   ]
  },
  {
   "cell_type": "code",
   "execution_count": 9,
   "id": "e8dfe3e6",
   "metadata": {},
   "outputs": [
    {
     "data": {
      "text/html": [
       "<div>\n",
       "<style scoped>\n",
       "    .dataframe tbody tr th:only-of-type {\n",
       "        vertical-align: middle;\n",
       "    }\n",
       "\n",
       "    .dataframe tbody tr th {\n",
       "        vertical-align: top;\n",
       "    }\n",
       "\n",
       "    .dataframe thead th {\n",
       "        text-align: right;\n",
       "    }\n",
       "</style>\n",
       "<table border=\"1\" class=\"dataframe\">\n",
       "  <thead>\n",
       "    <tr style=\"text-align: right;\">\n",
       "      <th></th>\n",
       "      <th>count</th>\n",
       "      <th>unique</th>\n",
       "      <th>top</th>\n",
       "      <th>freq</th>\n",
       "    </tr>\n",
       "  </thead>\n",
       "  <tbody>\n",
       "    <tr>\n",
       "      <th>Name</th>\n",
       "      <td>16717</td>\n",
       "      <td>11562</td>\n",
       "      <td>Need for Speed: Most Wanted</td>\n",
       "      <td>12</td>\n",
       "    </tr>\n",
       "    <tr>\n",
       "      <th>Platform</th>\n",
       "      <td>16719</td>\n",
       "      <td>31</td>\n",
       "      <td>PS2</td>\n",
       "      <td>2161</td>\n",
       "    </tr>\n",
       "    <tr>\n",
       "      <th>Genre</th>\n",
       "      <td>16717</td>\n",
       "      <td>12</td>\n",
       "      <td>Action</td>\n",
       "      <td>3370</td>\n",
       "    </tr>\n",
       "    <tr>\n",
       "      <th>Publisher</th>\n",
       "      <td>16665</td>\n",
       "      <td>580</td>\n",
       "      <td>Electronic Arts</td>\n",
       "      <td>1356</td>\n",
       "    </tr>\n",
       "    <tr>\n",
       "      <th>User_Score</th>\n",
       "      <td>10015</td>\n",
       "      <td>96</td>\n",
       "      <td>tbd</td>\n",
       "      <td>2425</td>\n",
       "    </tr>\n",
       "    <tr>\n",
       "      <th>Developer</th>\n",
       "      <td>10096</td>\n",
       "      <td>1696</td>\n",
       "      <td>Ubisoft</td>\n",
       "      <td>204</td>\n",
       "    </tr>\n",
       "    <tr>\n",
       "      <th>Rating</th>\n",
       "      <td>9950</td>\n",
       "      <td>8</td>\n",
       "      <td>E</td>\n",
       "      <td>3991</td>\n",
       "    </tr>\n",
       "  </tbody>\n",
       "</table>\n",
       "</div>"
      ],
      "text/plain": [
       "            count unique                          top  freq\n",
       "Name        16717  11562  Need for Speed: Most Wanted    12\n",
       "Platform    16719     31                          PS2  2161\n",
       "Genre       16717     12                       Action  3370\n",
       "Publisher   16665    580              Electronic Arts  1356\n",
       "User_Score  10015     96                          tbd  2425\n",
       "Developer   10096   1696                      Ubisoft   204\n",
       "Rating       9950      8                            E  3991"
      ]
     },
     "execution_count": 9,
     "metadata": {},
     "output_type": "execute_result"
    }
   ],
   "source": [
    "# categorical features\n",
    "df_1.describe(include=object).T"
   ]
  },
  {
   "cell_type": "code",
   "execution_count": 10,
   "id": "6afcf9c4",
   "metadata": {},
   "outputs": [],
   "source": []
  },
  {
   "cell_type": "code",
   "execution_count": 11,
   "id": "00d7204d",
   "metadata": {},
   "outputs": [],
   "source": [
    "sns.pairplot(df_1)"
   ]
  },
  {
   "cell_type": "code",
   "execution_count": 12,
   "id": "0e1f84f3",
   "metadata": {},
   "outputs": [
    {
     "data": {
      "text/html": [
       "<div>\n",
       "<style scoped>\n",
       "    .dataframe tbody tr th:only-of-type {\n",
       "        vertical-align: middle;\n",
       "    }\n",
       "\n",
       "    .dataframe tbody tr th {\n",
       "        vertical-align: top;\n",
       "    }\n",
       "\n",
       "    .dataframe thead th {\n",
       "        text-align: right;\n",
       "    }\n",
       "</style>\n",
       "<table border=\"1\" class=\"dataframe\">\n",
       "  <thead>\n",
       "    <tr style=\"text-align: right;\">\n",
       "      <th></th>\n",
       "      <th>count</th>\n",
       "      <th>percent</th>\n",
       "    </tr>\n",
       "  </thead>\n",
       "  <tbody>\n",
       "    <tr>\n",
       "      <th>User_Count</th>\n",
       "      <td>9129</td>\n",
       "      <td>54.602548</td>\n",
       "    </tr>\n",
       "    <tr>\n",
       "      <th>Critic_Score</th>\n",
       "      <td>8582</td>\n",
       "      <td>51.330821</td>\n",
       "    </tr>\n",
       "    <tr>\n",
       "      <th>Critic_Count</th>\n",
       "      <td>8582</td>\n",
       "      <td>51.330821</td>\n",
       "    </tr>\n",
       "    <tr>\n",
       "      <th>Rating</th>\n",
       "      <td>6769</td>\n",
       "      <td>40.486871</td>\n",
       "    </tr>\n",
       "    <tr>\n",
       "      <th>User_Score</th>\n",
       "      <td>6704</td>\n",
       "      <td>40.098092</td>\n",
       "    </tr>\n",
       "    <tr>\n",
       "      <th>Developer</th>\n",
       "      <td>6623</td>\n",
       "      <td>39.613613</td>\n",
       "    </tr>\n",
       "    <tr>\n",
       "      <th>Global_Sales</th>\n",
       "      <td>2143</td>\n",
       "      <td>12.817752</td>\n",
       "    </tr>\n",
       "    <tr>\n",
       "      <th>Year_of_Release</th>\n",
       "      <td>269</td>\n",
       "      <td>1.608948</td>\n",
       "    </tr>\n",
       "    <tr>\n",
       "      <th>Publisher</th>\n",
       "      <td>54</td>\n",
       "      <td>0.322986</td>\n",
       "    </tr>\n",
       "    <tr>\n",
       "      <th>Name</th>\n",
       "      <td>2</td>\n",
       "      <td>0.011962</td>\n",
       "    </tr>\n",
       "    <tr>\n",
       "      <th>Genre</th>\n",
       "      <td>2</td>\n",
       "      <td>0.011962</td>\n",
       "    </tr>\n",
       "    <tr>\n",
       "      <th>Platform</th>\n",
       "      <td>0</td>\n",
       "      <td>0.000000</td>\n",
       "    </tr>\n",
       "    <tr>\n",
       "      <th>NA_Sales</th>\n",
       "      <td>0</td>\n",
       "      <td>0.000000</td>\n",
       "    </tr>\n",
       "    <tr>\n",
       "      <th>EU_Sales</th>\n",
       "      <td>0</td>\n",
       "      <td>0.000000</td>\n",
       "    </tr>\n",
       "    <tr>\n",
       "      <th>JP_Sales</th>\n",
       "      <td>0</td>\n",
       "      <td>0.000000</td>\n",
       "    </tr>\n",
       "  </tbody>\n",
       "</table>\n",
       "</div>"
      ],
      "text/plain": [
       "                 count    percent\n",
       "User_Count        9129  54.602548\n",
       "Critic_Score      8582  51.330821\n",
       "Critic_Count      8582  51.330821\n",
       "Rating            6769  40.486871\n",
       "User_Score        6704  40.098092\n",
       "Developer         6623  39.613613\n",
       "Global_Sales      2143  12.817752\n",
       "Year_of_Release    269   1.608948\n",
       "Publisher           54   0.322986\n",
       "Name                 2   0.011962\n",
       "Genre                2   0.011962\n",
       "Platform             0   0.000000\n",
       "NA_Sales             0   0.000000\n",
       "EU_Sales             0   0.000000\n",
       "JP_Sales             0   0.000000"
      ]
     },
     "execution_count": 12,
     "metadata": {},
     "output_type": "execute_result"
    }
   ],
   "source": [
    " # Checking the null values\n",
    "nulls=df_1.isnull().sum()\n",
    "null=pd.DataFrame({'count':nulls,'percent':(nulls/df_1.shape[0])*100})\n",
    "null.sort_values('percent',ascending=False)    "
   ]
  },
  {
   "cell_type": "markdown",
   "id": "45659edf",
   "metadata": {},
   "source": [
    "### Treating the nulls of Name and Genre and Publisher"
   ]
  },
  {
   "cell_type": "code",
   "execution_count": 13,
   "id": "08019457",
   "metadata": {},
   "outputs": [
    {
     "data": {
      "text/plain": [
       "0    Need for Speed: Most Wanted\n",
       "dtype: object"
      ]
     },
     "execution_count": 13,
     "metadata": {},
     "output_type": "execute_result"
    }
   ],
   "source": [
    "df_1.Name.mode()"
   ]
  },
  {
   "cell_type": "code",
   "execution_count": 14,
   "id": "01ddad9a",
   "metadata": {},
   "outputs": [],
   "source": [
    "#df_1.Name.fillna('Need for Speed: Most Wanted',inplace=True)\n",
    "df_1['Name']=df_1['Name'].fillna(df_1['Name'].mode()[0])"
   ]
  },
  {
   "cell_type": "code",
   "execution_count": 15,
   "id": "d6a23d79",
   "metadata": {},
   "outputs": [],
   "source": [
    "df_1['Genre']=df_1['Genre'].fillna(df_1['Genre'].mode()[0])"
   ]
  },
  {
   "cell_type": "code",
   "execution_count": 16,
   "id": "dabdc100",
   "metadata": {},
   "outputs": [
    {
     "data": {
      "text/plain": [
       "array(['Nintendo', 'Microsoft Game Studios', 'Take-Two Interactive',\n",
       "       'Sony Computer Entertainment', 'Activision', 'Ubisoft',\n",
       "       'Bethesda Softworks', 'Electronic Arts', 'Sega', 'SquareSoft',\n",
       "       'Atari', '505 Games', 'Capcom', 'GT Interactive',\n",
       "       'Konami Digital Entertainment', 'Square Enix',\n",
       "       'Sony Computer Entertainment Europe', 'Virgin Interactive',\n",
       "       'LucasArts', 'Warner Bros. Interactive Entertainment',\n",
       "       'Universal Interactive', 'Eidos Interactive', 'RedOctane',\n",
       "       'Vivendi Games', 'Enix Corporation', 'Namco Bandai Games',\n",
       "       'Palcom', 'Hasbro Interactive', 'THQ', 'Fox Interactive',\n",
       "       'Acclaim Entertainment', 'MTV Games', 'Disney Interactive Studios',\n",
       "       nan, 'Codemasters', 'Majesco Entertainment', 'Red Orb', 'Level 5',\n",
       "       'Arena Entertainment', 'Midway Games', 'JVC', 'Deep Silver',\n",
       "       'NCSoft', '989 Studios', 'UEP Systems', 'Parker Bros.', 'Maxis',\n",
       "       'Imagic', 'Tecmo Koei', 'ASCII Entertainment', 'Valve Software',\n",
       "       'Mindscape', 'Infogrames', 'Unknown', 'Square', 'Valve',\n",
       "       'Banpresto', 'Hello Games', 'D3Publisher', 'Activision Value',\n",
       "       'Oxygen Interactive', 'Red Storm Entertainment', 'Video System',\n",
       "       'Global Star', 'Gotham Games', 'Westwood Studios', 'GungHo',\n",
       "       'Crave Entertainment', 'Hudson Soft', 'Coleco',\n",
       "       'Rising Star Games', 'TDK Mediactive', 'ASC Games', 'Accolade',\n",
       "       'Zoo Games', 'Sony Online Entertainment', '3DO', 'Natsume', 'RTL',\n",
       "       'Alchemist', 'Black Label Games', 'SouthPeak Games',\n",
       "       'Focus Home Interactive', 'Ocean', 'Zoo Digital Publishing',\n",
       "       'Psygnosis', 'City Interactive', 'Empire Interactive', 'Success',\n",
       "       'Compile', 'Russel', 'Atlus', 'Mastertronic',\n",
       "       'Slightly Mad Studios', 'Taito', 'Agetec', 'Microprose', 'Play It',\n",
       "       'GSP', 'Tomy Corporation', 'Sammy Corporation', 'Koch Media',\n",
       "       'Game Factory', 'Titus', 'Marvelous Entertainment', 'Genki',\n",
       "       'Mojang', 'CTO SpA', 'TalonSoft', 'Crystal Dynamics', 'mixi, Inc',\n",
       "       'Pinnacle', 'SCi', 'Quelle', 'Rage Software', 'Ubisoft Annecy',\n",
       "       'Interplay', 'Scholastic Inc.', 'Mystique', 'ChunSoft',\n",
       "       'Square EA', '20th Century Fox Video Games',\n",
       "       'Hudson Entertainment', 'Men-A-Vision', 'Nobilis',\n",
       "       'Avanquest Software', 'Big Ben Interactive', 'Nordic Games',\n",
       "       'Touchstone', 'Spike', 'Nippon Ichi Software',\n",
       "       'Sony Computer Entertainment America', 'Jester Interactive',\n",
       "       'LEGO Media', 'Quest', 'Illusion Softworks', 'Tigervision',\n",
       "       'Rocket Company', 'Metro 3D', 'Mattel Interactive', 'IE Institute',\n",
       "       'Funbox Media', 'Rondomedia', 'Universal Gamex', 'Ghostlight',\n",
       "       'Wizard Video Games', 'BMG Interactive Entertainment', 'PQube',\n",
       "       'Trion Worlds', 'Xseed Games', 'Laguna', 'Takara',\n",
       "       'Ignition Entertainment', 'Kadokawa Shoten', 'Enterbrain',\n",
       "       'Imagineer', 'CPG Products', 'System 3 Arcade Software',\n",
       "       'Aruze Corp', 'Destineer', 'Gamebridge',\n",
       "       'Midas Interactive Entertainment', 'Jaleco', 'Answer Software',\n",
       "       'Pack In Soft', 'XS Games', 'Rebellion', 'Ultravision',\n",
       "       'Harmonix Music Systems', 'Activision Blizzard', 'Xplosiv',\n",
       "       'Wanadoo', 'Telltale Games', 'NovaLogic', 'Epoch',\n",
       "       'BAM! Entertainment', 'GameMill Entertainment',\n",
       "       'Knowledge Adventure', 'Tetris Online', 'Mastiff', 'ESP', 'TYO',\n",
       "       'Telegames', 'Mud Duck Productions', 'Screenlife', 'Pioneer LDC',\n",
       "       'Magical Company', 'Kemco', 'Mentor Interactive',\n",
       "       'Human Entertainment', 'Data Age', 'Electronic Arts Victor',\n",
       "       'Jack of All Games', 'Avanquest', 'Black Bean Games', '989 Sports',\n",
       "       'Takara Tomy', 'Media Rings', 'Elf', 'Starfish', 'Zushi Games',\n",
       "       'Jorudan', 'Destination Software, Inc', 'New',\n",
       "       'Brash Entertainment', 'Kalypso Media', 'ITT Family Games',\n",
       "       'Ackkstudios', 'PopCap Games', 'Starpath Corp.', 'BPS',\n",
       "       'Gathering of Developers', 'NewKidCo', 'Marvelous Interactive',\n",
       "       'Storm City Games', 'CokeM Interactive', 'P2 Games',\n",
       "       'CBS Electronics', 'Home Entertainment Suppliers', 'Magix',\n",
       "       'Arc System Works', 'Angel Studios', 'Wargaming.net', 'Playmates',\n",
       "       'SNK Playmore', 'Hamster Corporation', 'From Software',\n",
       "       'Nippon Columbia', 'Nichibutsu', 'Conspiracy Entertainment',\n",
       "       'Hect', 'Mumbo Jumbo', 'DTP Entertainment',\n",
       "       'Pacific Century Cyber Works', 'Indie Games', 'Liquid Games',\n",
       "       'NEC', 'Axela', 'ArtDink', 'Sunsoft', 'Little Orbit', 'FuRyu',\n",
       "       'Gust', 'SNK', 'NEC Interchannel', 'Nihon Falcom Corporation',\n",
       "       'Xing Entertainment', 'ValuSoft', 'Victor Interactive',\n",
       "       'American Softworks', 'Falcom Corporation', 'Detn8 Games', 'Bomb',\n",
       "       'Nordcurrent', 'Milestone S.r.l.', 'AQ Interactive', 'Sears',\n",
       "       'Seta Corporation', 'On Demand', 'CCP', 'NCS',\n",
       "       'Rebellion Developments', 'Agatsuma Entertainment',\n",
       "       'Gremlin Interactive Ltd', 'Aspyr', 'Compile Heart',\n",
       "       'Culture Brain', 'Mad Catz', 'Shogakukan', 'Merscom LLC',\n",
       "       'JoWood Productions', 'Nippon Telenet', 'TDK Core',\n",
       "       'Kadokawa Games', 'SSI', 'Foreign Media Games', 'Core Design Ltd.',\n",
       "       'bitComposer Games', 'Astragon', 'Asylum Entertainment',\n",
       "       'Performance Designed Products', 'UFO Interactive',\n",
       "       'Essential Games', 'Adeline Software', 'Funcom', 'PlayV',\n",
       "       'Panther Software', 'Blast! Entertainment Ltd',\n",
       "       'Playlogic Game Factory', 'DSI Games', 'Avalon Interactive',\n",
       "       'Game Life', 'Popcorn Arcade', 'Aques', 'System 3', 'Syscom',\n",
       "       'Vir2L Studios', 'Vatical Entertainment', 'Neko Entertainment',\n",
       "       'White Park Bay Software', 'Vic Tokai', 'Media Factory',\n",
       "       'Daedalic', 'Game Arts', 'The Adventure Company', 'EA Games',\n",
       "       'Acquire', 'Broccoli', 'General Entertainment',\n",
       "       'Paradox Interactive', 'Yacht Club Games', 'Imadio',\n",
       "       'Swing! Entertainment', 'Sony Music Entertainment', 'Aqua Plus',\n",
       "       'Excalibur Publishing', 'Hip Interactive', 'Tripwire Interactive',\n",
       "       'Bigben Interactive', 'Sting', 'Data East',\n",
       "       'Idea Factory International', 'Time Warner Interactive',\n",
       "       'Gainax Network Systems', 'Daito', 'O3 Entertainment', 'O-Games',\n",
       "       'Gameloft', 'Xicat Interactive', 'Simon & Schuster Interactive',\n",
       "       'Valcon Games', 'PopTop Software', 'TOHO', 'PM Studios',\n",
       "       'Bohemia Interactive', 'Reef Entertainment', '5pb',\n",
       "       'HMH Interactive', 'DreamCatcher Interactive',\n",
       "       'inXile Entertainment', 'Cave', 'Microids', 'Paon', 'Idea Factory',\n",
       "       'U.S. Gold', 'CDV Software Entertainment', 'Micro Cabin',\n",
       "       'GameTek', 'Benesse', 'Type-Moon', 'Enjoy Gaming ltd.', 'MTO',\n",
       "       'Asmik Corp', 'Interplay Productions', 'Asmik Ace Entertainment',\n",
       "       'Image Epoch', 'Phantom EFX', 'Evolved Games', 'responDESIGN',\n",
       "       'Data Design Interactive', 'Griffin International',\n",
       "       'Culture Publishers', 'Hackberry', 'HAL Laboratory', 'Aksys Games',\n",
       "       'Phenomedia', 'Grand Prix Games', 'Mercury Games', 'DigiCube',\n",
       "       'Creative Core', 'Gamecock', 'Kaga Create', 'Graffiti',\n",
       "       'WayForward Technologies', 'Pack-In-Video', 'LSP Games',\n",
       "       'ASCII Media Works', '1C Company', 'Coconuts Japan', 'Arika',\n",
       "       'Tivola', 'Marvel Entertainment', 'Ertain', 'Asgard', 'Prototype',\n",
       "       'Phantagram', 'The Learning Company', 'TechnoSoft', 'MLB.com',\n",
       "       'Irem Software Engineering', 'Vap', 'Misawa', 'Yeti',\n",
       "       'Dusenberry Martin Racing', 'Navarre Corp', 'Pow', 'MediaQuest',\n",
       "       'Team17 Software', 'Max Five', 'Tradewest', 'Happinet', 'Comfort',\n",
       "       'Milestone S.r.l', 'Pony Canyon', 'Riverhillsoft', 'Media Works',\n",
       "       'Summitsoft', 'Playmore', 'Kool Kizz', 'Monte Christo Multimedia',\n",
       "       'TopWare Interactive', 'Tommo', 'Slitherine Software',\n",
       "       'Legacy Interactive', 'Cloud Imperium Games Corporation',\n",
       "       'Flashpoint Games', 'Alternative Software',\n",
       "       'Ascaron Entertainment GmbH', 'CyberFront', 'Alawar Entertainment',\n",
       "       'Societa', 'DHM Interactive', 'Interchannel', 'Flight-Plan',\n",
       "       'Funsta', 'Experience Inc.', 'Sonnet', 'Virtual Play Games',\n",
       "       'Tru Blu Entertainment', 'Zenrin', 'Iceberg Interactive',\n",
       "       'Ivolgamus', 'MC2 Entertainment', '2D Boy', 'Games Workshop',\n",
       "       'Global A Entertainment', 'Kando Games', 'Office Create',\n",
       "       'Daedalic Entertainment', 'Maximum Family Games', 'Fields',\n",
       "       'Gearbox Software', 'Princess Soft', 'Extreme Entertainment Group',\n",
       "       'Big Fish Games', 'Berkeley', 'Mamba Games', 'Fuji',\n",
       "       'FuRyu Corporation', 'Her Interactive', 'imageepoch Inc.',\n",
       "       'Just Flight', 'Myelin Media', 'Kamui', 'ASK', 'Insomniac Games',\n",
       "       'Cygames', 'Introversion Software', '49Games', 'KSS',\n",
       "       'dramatic create', 'TGL', 'KID', 'Quinrose', 'Sold Out', 'Encore',\n",
       "       'G.Rev', 'Sunflowers', 'Headup Games', 'Sweets',\n",
       "       'Kokopeli Digital Studios', 'id Software', 'Nexon',\n",
       "       '10TACLE Studios', 'BushiRoad', 'Devolver Digital', 'Number None',\n",
       "       'Tryfirst', 'GN Software', \"Yuke's\", 'Strategy First',\n",
       "       'Lexicon Entertainment', 'Groove Games', 'Paon Corporation',\n",
       "       'Kids Station', 'Licensed 4U', 'Edia', 'GOA', '7G//AMES',\n",
       "       'King Records', 'Minato Station', 'Graphsim Entertainment',\n",
       "       'Easy Interactive', 'Gaga', 'Yamasa Entertainment', 'Plenty',\n",
       "       'Views', 'Blue Byte', 'fonfun', 'NetRevo', 'Epic Games', 'Quintet',\n",
       "       'Focus Multimedia', 'Phoenix Games', 'Marvelous Games', 'Dorart',\n",
       "       'Codemasters Online', 'Stainless Games', 'Athena', 'Aerosoft',\n",
       "       'Imageworks', 'Karin Entertainment', 'Technos Japan Corporation',\n",
       "       'Masque Publishing', 'Gakken', 'New World Computing',\n",
       "       'Sunrise Interactive', 'Mirai Shounen', 'Datam Polystar', 'HuneX',\n",
       "       'Revolution Software', 'Visco', 'Saurus', 'Revolution (Japan)',\n",
       "       'Giza10', 'Alvion', 'Giga', 'Mycom', 'Crimson Cow', 'Warashi',\n",
       "       'System Soft', 'RED Entertainment', 'Lighthouse Interactive',\n",
       "       'Michaelsoft', 'Media Entertainment', 'Genterprise',\n",
       "       'Interworks Unlimited, Inc.', 'Inti Creates', 'Boost On', 'Moss',\n",
       "       'EON Digital Entertainment', 'Nitroplus', 'Naxat Soft', 'Piacci',\n",
       "       'Paradox Development', 'Otomate', 'Ascaron Entertainment',\n",
       "       'Ongakukan', 'Commseed', 'UIG Entertainment', 'Takuyo',\n",
       "       'Interchannel-Holon', 'Red Flagship', 'SCS Software',\n",
       "       'Havas Interactive', 'Telstar', 'DreamWorks Interactive', 'Crytek',\n",
       "       'FunSoft', 'SPS', 'T&E Soft', 'NDA Productions', 'Hearty Robin',\n",
       "       'Nippon Amuse', 'Origin Systems', 'Seventh Chord', 'Abylight',\n",
       "       'Mitsui', 'Milestone', 'Glams', 'Locus', 'Warp', 'Elite',\n",
       "       'Evolution Games', 'Aria', 'Altron', 'Fortyfive', 'Imax', 'iWin',\n",
       "       'Ecole', 'Yumedia'], dtype=object)"
      ]
     },
     "execution_count": 16,
     "metadata": {},
     "output_type": "execute_result"
    }
   ],
   "source": [
    "df_1.Publisher.unique()"
   ]
  },
  {
   "cell_type": "code",
   "execution_count": 17,
   "id": "f8e02c8d",
   "metadata": {},
   "outputs": [],
   "source": [
    "df_1['Publisher']=df_1['Publisher'].fillna(df_1['Publisher'].mode()[0])\n"
   ]
  },
  {
   "cell_type": "markdown",
   "id": "57eb2b5f",
   "metadata": {},
   "source": [
    "### Treating nulls of Year of Release"
   ]
  },
  {
   "cell_type": "code",
   "execution_count": 18,
   "id": "7faca721",
   "metadata": {},
   "outputs": [
    {
     "data": {
      "text/html": [
       "<div>\n",
       "<style scoped>\n",
       "    .dataframe tbody tr th:only-of-type {\n",
       "        vertical-align: middle;\n",
       "    }\n",
       "\n",
       "    .dataframe tbody tr th {\n",
       "        vertical-align: top;\n",
       "    }\n",
       "\n",
       "    .dataframe thead th {\n",
       "        text-align: right;\n",
       "    }\n",
       "</style>\n",
       "<table border=\"1\" class=\"dataframe\">\n",
       "  <thead>\n",
       "    <tr style=\"text-align: right;\">\n",
       "      <th></th>\n",
       "      <th>Year_of_Release</th>\n",
       "    </tr>\n",
       "    <tr>\n",
       "      <th>Genre</th>\n",
       "      <th></th>\n",
       "    </tr>\n",
       "  </thead>\n",
       "  <tbody>\n",
       "    <tr>\n",
       "      <th>Action</th>\n",
       "      <td>2009.0</td>\n",
       "    </tr>\n",
       "    <tr>\n",
       "      <th>Adventure</th>\n",
       "      <td>2008.0</td>\n",
       "    </tr>\n",
       "    <tr>\n",
       "      <th>Fighting</th>\n",
       "      <td>2008.0</td>\n",
       "    </tr>\n",
       "    <tr>\n",
       "      <th>Misc</th>\n",
       "      <td>2008.0</td>\n",
       "    </tr>\n",
       "    <tr>\n",
       "      <th>Platform</th>\n",
       "      <td>2003.0</td>\n",
       "    </tr>\n",
       "    <tr>\n",
       "      <th>Puzzle</th>\n",
       "      <td>2009.0</td>\n",
       "    </tr>\n",
       "    <tr>\n",
       "      <th>Racing</th>\n",
       "      <td>2003.0</td>\n",
       "    </tr>\n",
       "    <tr>\n",
       "      <th>Role-Playing</th>\n",
       "      <td>2008.0</td>\n",
       "    </tr>\n",
       "    <tr>\n",
       "      <th>Shooter</th>\n",
       "      <td>2005.0</td>\n",
       "    </tr>\n",
       "    <tr>\n",
       "      <th>Simulation</th>\n",
       "      <td>2009.0</td>\n",
       "    </tr>\n",
       "    <tr>\n",
       "      <th>Sports</th>\n",
       "      <td>2008.0</td>\n",
       "    </tr>\n",
       "    <tr>\n",
       "      <th>Strategy</th>\n",
       "      <td>2007.0</td>\n",
       "    </tr>\n",
       "  </tbody>\n",
       "</table>\n",
       "</div>"
      ],
      "text/plain": [
       "              Year_of_Release\n",
       "Genre                        \n",
       "Action                 2009.0\n",
       "Adventure              2008.0\n",
       "Fighting               2008.0\n",
       "Misc                   2008.0\n",
       "Platform               2003.0\n",
       "Puzzle                 2009.0\n",
       "Racing                 2003.0\n",
       "Role-Playing           2008.0\n",
       "Shooter                2005.0\n",
       "Simulation             2009.0\n",
       "Sports                 2008.0\n",
       "Strategy               2007.0"
      ]
     },
     "execution_count": 18,
     "metadata": {},
     "output_type": "execute_result"
    }
   ],
   "source": [
    "from scipy.stats import mode\n",
    "df_yr=df_1.pivot_table(values='Year_of_Release',index=['Genre'],aggfunc=(lambda x:mode(x).mode[0]))\n",
    "df_yr                       "
   ]
  },
  {
   "cell_type": "code",
   "execution_count": 19,
   "id": "f21f053b",
   "metadata": {},
   "outputs": [],
   "source": [
    "y_bool=df_1['Year_of_Release'].isnull()\n"
   ]
  },
  {
   "cell_type": "code",
   "execution_count": 20,
   "id": "5a03fb61",
   "metadata": {},
   "outputs": [],
   "source": [
    "df_1.loc[y_bool,'Year_of_Release']=df_1.loc[y_bool,'Genre'].apply(lambda x:df_yr.loc[x])"
   ]
  },
  {
   "cell_type": "code",
   "execution_count": 21,
   "id": "fe4aa3c1",
   "metadata": {},
   "outputs": [
    {
     "data": {
      "text/plain": [
       "dtype('float64')"
      ]
     },
     "execution_count": 21,
     "metadata": {},
     "output_type": "execute_result"
    }
   ],
   "source": [
    "df_1['Year_of_Release'].dtype"
   ]
  },
  {
   "cell_type": "markdown",
   "id": "523d4d3f",
   "metadata": {},
   "source": [
    "### treating nulls of developer"
   ]
  },
  {
   "cell_type": "code",
   "execution_count": 23,
   "id": "27d5c84d",
   "metadata": {},
   "outputs": [
    {
     "data": {
      "text/plain": [
       "1697"
      ]
     },
     "execution_count": 23,
     "metadata": {},
     "output_type": "execute_result"
    }
   ],
   "source": [
    "len(df_1.Developer.unique())"
   ]
  },
  {
   "cell_type": "code",
   "execution_count": 24,
   "id": "18f2803a",
   "metadata": {},
   "outputs": [
    {
     "data": {
      "text/plain": [
       "array(['Nintendo', nan, 'Good Science Studio', ..., 'Farmind Ltd',\n",
       "       'Midas Interactive Entertainment', 'Valhalla Game Studios'],\n",
       "      dtype=object)"
      ]
     },
     "execution_count": 24,
     "metadata": {},
     "output_type": "execute_result"
    }
   ],
   "source": [
    "df_1.Developer.unique()"
   ]
  },
  {
   "cell_type": "code",
   "execution_count": 25,
   "id": "fc69a688",
   "metadata": {},
   "outputs": [
    {
     "data": {
      "text/html": [
       "<div>\n",
       "<style scoped>\n",
       "    .dataframe tbody tr th:only-of-type {\n",
       "        vertical-align: middle;\n",
       "    }\n",
       "\n",
       "    .dataframe tbody tr th {\n",
       "        vertical-align: top;\n",
       "    }\n",
       "\n",
       "    .dataframe thead th {\n",
       "        text-align: right;\n",
       "    }\n",
       "</style>\n",
       "<table border=\"1\" class=\"dataframe\">\n",
       "  <thead>\n",
       "    <tr style=\"text-align: right;\">\n",
       "      <th></th>\n",
       "      <th>Developer</th>\n",
       "    </tr>\n",
       "    <tr>\n",
       "      <th>Genre</th>\n",
       "      <th></th>\n",
       "    </tr>\n",
       "  </thead>\n",
       "  <tbody>\n",
       "    <tr>\n",
       "      <th>Action</th>\n",
       "      <td>Omega Force</td>\n",
       "    </tr>\n",
       "    <tr>\n",
       "      <th>Adventure</th>\n",
       "      <td>Telltale Games</td>\n",
       "    </tr>\n",
       "    <tr>\n",
       "      <th>Fighting</th>\n",
       "      <td>Yuke's</td>\n",
       "    </tr>\n",
       "    <tr>\n",
       "      <th>Misc</th>\n",
       "      <td>Ubisoft</td>\n",
       "    </tr>\n",
       "    <tr>\n",
       "      <th>Platform</th>\n",
       "      <td>Sonic Team</td>\n",
       "    </tr>\n",
       "    <tr>\n",
       "      <th>Puzzle</th>\n",
       "      <td>PopCap</td>\n",
       "    </tr>\n",
       "    <tr>\n",
       "      <th>Racing</th>\n",
       "      <td>Codemasters</td>\n",
       "    </tr>\n",
       "    <tr>\n",
       "      <th>Role-Playing</th>\n",
       "      <td>Square Enix</td>\n",
       "    </tr>\n",
       "    <tr>\n",
       "      <th>Shooter</th>\n",
       "      <td>Rebellion</td>\n",
       "    </tr>\n",
       "    <tr>\n",
       "      <th>Simulation</th>\n",
       "      <td>Maxis</td>\n",
       "    </tr>\n",
       "    <tr>\n",
       "      <th>Sports</th>\n",
       "      <td>EA Sports</td>\n",
       "    </tr>\n",
       "    <tr>\n",
       "      <th>Strategy</th>\n",
       "      <td>Team 17</td>\n",
       "    </tr>\n",
       "  </tbody>\n",
       "</table>\n",
       "</div>"
      ],
      "text/plain": [
       "                   Developer\n",
       "Genre                       \n",
       "Action           Omega Force\n",
       "Adventure     Telltale Games\n",
       "Fighting              Yuke's\n",
       "Misc                 Ubisoft\n",
       "Platform          Sonic Team\n",
       "Puzzle                PopCap\n",
       "Racing           Codemasters\n",
       "Role-Playing     Square Enix\n",
       "Shooter            Rebellion\n",
       "Simulation             Maxis\n",
       "Sports             EA Sports\n",
       "Strategy             Team 17"
      ]
     },
     "execution_count": 25,
     "metadata": {},
     "output_type": "execute_result"
    }
   ],
   "source": [
    "develop_mode=df_1.pivot_table(values='Developer',index=['Genre'],aggfunc=(lambda x:mode(x).mode[0]))\n",
    "develop_mode"
   ]
  },
  {
   "cell_type": "code",
   "execution_count": 26,
   "id": "558aa90e",
   "metadata": {},
   "outputs": [],
   "source": [
    "y_bool=df_1['Developer'].isnull()\n",
    "df_1.loc[y_bool,'Developer']=df_1.loc[y_bool,'Genre'].apply(lambda x:develop_mode.loc[x])"
   ]
  },
  {
   "cell_type": "markdown",
   "id": "67d3f8af",
   "metadata": {},
   "source": [
    "### treating nulls of User Score"
   ]
  },
  {
   "cell_type": "code",
   "execution_count": 27,
   "id": "bac23ec8",
   "metadata": {},
   "outputs": [],
   "source": [
    "df_1['User_Score']=df_1['User_Score'].replace('tbd',None)"
   ]
  },
  {
   "cell_type": "code",
   "execution_count": 28,
   "id": "ed750e94",
   "metadata": {},
   "outputs": [
    {
     "data": {
      "text/plain": [
       "array(['8', nan, '8.3', '8.5', '6.6', '8.4', '8.6', '7.7', '6.3', '7.4',\n",
       "       '8.2', '9', '7.9', '8.1', '8.7', '7.1', '3.4', '5.3', '4.8', '3.2',\n",
       "       '8.9', '6.4', '7.8', '7.5', '2.6', '7.2', '9.2', '7', '7.3', '4.3',\n",
       "       '7.6', '5.7', '5', '9.1', '6.5', '8.8', '6.9', '9.4', '6.8', '6.1',\n",
       "       '6.7', '5.4', '4', '4.9', '4.5', '9.3', '6.2', '4.2', '6', '3.7',\n",
       "       '4.1', '5.8', '5.6', '5.5', '4.4', '4.6', '5.9', '3.9', '3.1',\n",
       "       '2.9', '5.2', '3.3', '4.7', '5.1', '3.5', '2.5', '1.9', '3', '2.7',\n",
       "       '2.2', '2', '9.5', '2.1', '3.6', '2.8', '1.8', '3.8', '0', '1.6',\n",
       "       '9.6', '2.4', '1.7', '1.1', '0.3', '1.5', '0.7', '1.2', '2.3',\n",
       "       '0.5', '0.6', '1.4', '0.9', '1', '1.3', '0.2', '9.7'], dtype=object)"
      ]
     },
     "execution_count": 28,
     "metadata": {},
     "output_type": "execute_result"
    }
   ],
   "source": [
    "df_1['User_Score'].unique()"
   ]
  },
  {
   "cell_type": "code",
   "execution_count": 29,
   "id": "c7754f10",
   "metadata": {},
   "outputs": [],
   "source": [
    "df_1['User_Score']=df_1['User_Score'].astype(float)"
   ]
  },
  {
   "cell_type": "code",
   "execution_count": 30,
   "id": "4b98e05e",
   "metadata": {},
   "outputs": [
    {
     "data": {
      "text/html": [
       "<div>\n",
       "<style scoped>\n",
       "    .dataframe tbody tr th:only-of-type {\n",
       "        vertical-align: middle;\n",
       "    }\n",
       "\n",
       "    .dataframe tbody tr th {\n",
       "        vertical-align: top;\n",
       "    }\n",
       "\n",
       "    .dataframe thead th {\n",
       "        text-align: right;\n",
       "    }\n",
       "</style>\n",
       "<table border=\"1\" class=\"dataframe\">\n",
       "  <thead>\n",
       "    <tr style=\"text-align: right;\">\n",
       "      <th></th>\n",
       "      <th>User_Score</th>\n",
       "    </tr>\n",
       "    <tr>\n",
       "      <th>Genre</th>\n",
       "      <th></th>\n",
       "    </tr>\n",
       "  </thead>\n",
       "  <tbody>\n",
       "    <tr>\n",
       "      <th>Action</th>\n",
       "      <td>7.050421</td>\n",
       "    </tr>\n",
       "    <tr>\n",
       "      <th>Adventure</th>\n",
       "      <td>7.078610</td>\n",
       "    </tr>\n",
       "    <tr>\n",
       "      <th>Fighting</th>\n",
       "      <td>7.264337</td>\n",
       "    </tr>\n",
       "    <tr>\n",
       "      <th>Misc</th>\n",
       "      <td>6.900000</td>\n",
       "    </tr>\n",
       "    <tr>\n",
       "      <th>Platform</th>\n",
       "      <td>7.217901</td>\n",
       "    </tr>\n",
       "    <tr>\n",
       "      <th>Puzzle</th>\n",
       "      <td>7.049038</td>\n",
       "    </tr>\n",
       "    <tr>\n",
       "      <th>Racing</th>\n",
       "      <td>7.050734</td>\n",
       "    </tr>\n",
       "    <tr>\n",
       "      <th>Role-Playing</th>\n",
       "      <td>7.610964</td>\n",
       "    </tr>\n",
       "    <tr>\n",
       "      <th>Shooter</th>\n",
       "      <td>7.012823</td>\n",
       "    </tr>\n",
       "    <tr>\n",
       "      <th>Simulation</th>\n",
       "      <td>7.100860</td>\n",
       "    </tr>\n",
       "    <tr>\n",
       "      <th>Sports</th>\n",
       "      <td>6.954871</td>\n",
       "    </tr>\n",
       "    <tr>\n",
       "      <th>Strategy</th>\n",
       "      <td>7.260494</td>\n",
       "    </tr>\n",
       "  </tbody>\n",
       "</table>\n",
       "</div>"
      ],
      "text/plain": [
       "              User_Score\n",
       "Genre                   \n",
       "Action          7.050421\n",
       "Adventure       7.078610\n",
       "Fighting        7.264337\n",
       "Misc            6.900000\n",
       "Platform        7.217901\n",
       "Puzzle          7.049038\n",
       "Racing          7.050734\n",
       "Role-Playing    7.610964\n",
       "Shooter         7.012823\n",
       "Simulation      7.100860\n",
       "Sports          6.954871\n",
       "Strategy        7.260494"
      ]
     },
     "execution_count": 30,
     "metadata": {},
     "output_type": "execute_result"
    }
   ],
   "source": [
    "user_avg=df_1.pivot_table(values='User_Score',index=['Genre'])\n",
    "user_avg"
   ]
  },
  {
   "cell_type": "code",
   "execution_count": 31,
   "id": "b9e70190",
   "metadata": {},
   "outputs": [],
   "source": [
    "u_bool=df_1['User_Score'].isnull()\n",
    "df_1.loc[u_bool,'User_Score']=df_1.loc[u_bool,'Genre'].apply(lambda x:user_avg.loc[x])"
   ]
  },
  {
   "cell_type": "code",
   "execution_count": 32,
   "id": "25df8e52",
   "metadata": {},
   "outputs": [
    {
     "data": {
      "text/plain": [
       "0"
      ]
     },
     "execution_count": 32,
     "metadata": {},
     "output_type": "execute_result"
    }
   ],
   "source": [
    "df_1['User_Score'].isnull().sum()"
   ]
  },
  {
   "cell_type": "markdown",
   "id": "c3dc746c",
   "metadata": {},
   "source": [
    "### treating nulls of Rating and Feature Engineering"
   ]
  },
  {
   "cell_type": "code",
   "execution_count": 35,
   "id": "3933cf3f",
   "metadata": {},
   "outputs": [
    {
     "data": {
      "text/plain": [
       "array(['E', nan, 'M', 'T', 'E10+', 'K-A', 'AO', 'EC', 'RP'], dtype=object)"
      ]
     },
     "execution_count": 35,
     "metadata": {},
     "output_type": "execute_result"
    }
   ],
   "source": [
    "df_1.Rating.unique()"
   ]
  },
  {
   "cell_type": "code",
   "execution_count": 36,
   "id": "58d89553",
   "metadata": {},
   "outputs": [
    {
     "data": {
      "text/plain": [
       "6769"
      ]
     },
     "execution_count": 36,
     "metadata": {},
     "output_type": "execute_result"
    }
   ],
   "source": [
    "df_1['Rating'].isnull().sum()"
   ]
  },
  {
   "cell_type": "code",
   "execution_count": 37,
   "id": "a0caa0d6",
   "metadata": {},
   "outputs": [
    {
     "data": {
      "text/plain": [
       "array(['E', nan, 'M', 'T', 'E10+', 'K-A', 'AO', 'EC', 'RP'], dtype=object)"
      ]
     },
     "execution_count": 37,
     "metadata": {},
     "output_type": "execute_result"
    }
   ],
   "source": [
    "df_1.Rating.unique()"
   ]
  },
  {
   "cell_type": "code",
   "execution_count": 38,
   "id": "3531c64f",
   "metadata": {},
   "outputs": [],
   "source": [
    "df_1['Rating'].replace('RP',None,inplace=True)"
   ]
  },
  {
   "cell_type": "code",
   "execution_count": 39,
   "id": "cb2282a2",
   "metadata": {},
   "outputs": [],
   "source": [
    "df_1['Rating'].replace('K-A','E',inplace=True)"
   ]
  },
  {
   "cell_type": "code",
   "execution_count": 40,
   "id": "0b10681d",
   "metadata": {},
   "outputs": [
    {
     "data": {
      "text/plain": [
       "array(['E', nan, 'M', 'T', 'E10+', 'AO', 'EC'], dtype=object)"
      ]
     },
     "execution_count": 40,
     "metadata": {},
     "output_type": "execute_result"
    }
   ],
   "source": [
    "df_1.Rating.unique()"
   ]
  },
  {
   "cell_type": "code",
   "execution_count": 41,
   "id": "39ba2522",
   "metadata": {},
   "outputs": [
    {
     "data": {
      "text/html": [
       "<div>\n",
       "<style scoped>\n",
       "    .dataframe tbody tr th:only-of-type {\n",
       "        vertical-align: middle;\n",
       "    }\n",
       "\n",
       "    .dataframe tbody tr th {\n",
       "        vertical-align: top;\n",
       "    }\n",
       "\n",
       "    .dataframe thead th {\n",
       "        text-align: right;\n",
       "    }\n",
       "</style>\n",
       "<table border=\"1\" class=\"dataframe\">\n",
       "  <thead>\n",
       "    <tr style=\"text-align: right;\">\n",
       "      <th></th>\n",
       "      <th>Rating</th>\n",
       "    </tr>\n",
       "    <tr>\n",
       "      <th>Genre</th>\n",
       "      <th></th>\n",
       "    </tr>\n",
       "  </thead>\n",
       "  <tbody>\n",
       "    <tr>\n",
       "      <th>Action</th>\n",
       "      <td>T</td>\n",
       "    </tr>\n",
       "    <tr>\n",
       "      <th>Adventure</th>\n",
       "      <td>E</td>\n",
       "    </tr>\n",
       "    <tr>\n",
       "      <th>Fighting</th>\n",
       "      <td>T</td>\n",
       "    </tr>\n",
       "    <tr>\n",
       "      <th>Misc</th>\n",
       "      <td>E</td>\n",
       "    </tr>\n",
       "    <tr>\n",
       "      <th>Platform</th>\n",
       "      <td>E</td>\n",
       "    </tr>\n",
       "    <tr>\n",
       "      <th>Puzzle</th>\n",
       "      <td>E</td>\n",
       "    </tr>\n",
       "    <tr>\n",
       "      <th>Racing</th>\n",
       "      <td>E</td>\n",
       "    </tr>\n",
       "    <tr>\n",
       "      <th>Role-Playing</th>\n",
       "      <td>T</td>\n",
       "    </tr>\n",
       "    <tr>\n",
       "      <th>Shooter</th>\n",
       "      <td>M</td>\n",
       "    </tr>\n",
       "    <tr>\n",
       "      <th>Simulation</th>\n",
       "      <td>E</td>\n",
       "    </tr>\n",
       "    <tr>\n",
       "      <th>Sports</th>\n",
       "      <td>E</td>\n",
       "    </tr>\n",
       "    <tr>\n",
       "      <th>Strategy</th>\n",
       "      <td>T</td>\n",
       "    </tr>\n",
       "  </tbody>\n",
       "</table>\n",
       "</div>"
      ],
      "text/plain": [
       "             Rating\n",
       "Genre              \n",
       "Action            T\n",
       "Adventure         E\n",
       "Fighting          T\n",
       "Misc              E\n",
       "Platform          E\n",
       "Puzzle            E\n",
       "Racing            E\n",
       "Role-Playing      T\n",
       "Shooter           M\n",
       "Simulation        E\n",
       "Sports            E\n",
       "Strategy          T"
      ]
     },
     "execution_count": 41,
     "metadata": {},
     "output_type": "execute_result"
    }
   ],
   "source": [
    "rating_mode=df_1.pivot_table(values='Rating',index=['Genre'],aggfunc=(lambda x:mode(x).mode[0]))\n",
    "rating_mode"
   ]
  },
  {
   "cell_type": "code",
   "execution_count": 42,
   "id": "958d4554",
   "metadata": {},
   "outputs": [],
   "source": [
    "r_bool=df_1['Rating'].isnull()\n",
    "df_1.loc[r_bool,'Rating']=df_1.loc[r_bool,'Genre'].apply(lambda x:rating_mode.loc[x])"
   ]
  },
  {
   "cell_type": "code",
   "execution_count": 43,
   "id": "64550113",
   "metadata": {},
   "outputs": [
    {
     "data": {
      "text/plain": [
       "0"
      ]
     },
     "execution_count": 43,
     "metadata": {},
     "output_type": "execute_result"
    }
   ],
   "source": [
    "df_1['Rating'].isnull().sum()"
   ]
  },
  {
   "cell_type": "code",
   "execution_count": 44,
   "id": "40efe57f",
   "metadata": {},
   "outputs": [
    {
     "data": {
      "text/plain": [
       "array(['E', 'T', 'M', 'E10+', 'AO', 'EC'], dtype=object)"
      ]
     },
     "execution_count": 44,
     "metadata": {},
     "output_type": "execute_result"
    }
   ],
   "source": [
    "df_1.Rating.unique()"
   ]
  },
  {
   "cell_type": "code",
   "execution_count": 45,
   "id": "cf0a980c",
   "metadata": {},
   "outputs": [],
   "source": [
    "df_1['Rating'].replace(['E10+','EC'],'Kids',inplace=True)"
   ]
  },
  {
   "cell_type": "code",
   "execution_count": 46,
   "id": "9fb7a41d",
   "metadata": {},
   "outputs": [],
   "source": [
    "df_1['Rating'].replace(['M','AO'],'Matures',inplace=True)"
   ]
  },
  {
   "cell_type": "code",
   "execution_count": 47,
   "id": "638a93cf",
   "metadata": {},
   "outputs": [],
   "source": [
    "df_1['Rating'].replace('E','Everyone',inplace=True)"
   ]
  },
  {
   "cell_type": "code",
   "execution_count": 48,
   "id": "ba5e4152",
   "metadata": {},
   "outputs": [],
   "source": [
    "df_1['Rating'].replace('T','Teens',inplace=True)"
   ]
  },
  {
   "cell_type": "code",
   "execution_count": 49,
   "id": "35fe45c4",
   "metadata": {},
   "outputs": [
    {
     "data": {
      "text/plain": [
       "array(['Everyone', 'Teens', 'Matures', 'Kids'], dtype=object)"
      ]
     },
     "execution_count": 49,
     "metadata": {},
     "output_type": "execute_result"
    }
   ],
   "source": [
    "df_1.Rating.unique()"
   ]
  },
  {
   "cell_type": "code",
   "execution_count": 50,
   "id": "4b08f969",
   "metadata": {},
   "outputs": [
    {
     "data": {
      "text/plain": [
       "dtype('O')"
      ]
     },
     "execution_count": 50,
     "metadata": {},
     "output_type": "execute_result"
    }
   ],
   "source": [
    "df_1.Rating.dtype"
   ]
  },
  {
   "cell_type": "markdown",
   "id": "3bbdb0c5",
   "metadata": {},
   "source": [
    "Label Encoding of the column"
   ]
  },
  {
   "cell_type": "code",
   "execution_count": 51,
   "id": "36a706ec",
   "metadata": {},
   "outputs": [],
   "source": [
    "df_1['Rating'].replace(['Everyone','Kids', 'Teens', 'Matures'],[0,1,2,3],inplace=True)"
   ]
  },
  {
   "cell_type": "code",
   "execution_count": 52,
   "id": "56c23986",
   "metadata": {},
   "outputs": [
    {
     "data": {
      "text/plain": [
       "array([0, 2, 3, 1], dtype=int64)"
      ]
     },
     "execution_count": 52,
     "metadata": {},
     "output_type": "execute_result"
    }
   ],
   "source": [
    "df_1.Rating.unique()"
   ]
  },
  {
   "cell_type": "code",
   "execution_count": 53,
   "id": "5cde481a",
   "metadata": {},
   "outputs": [
    {
     "data": {
      "text/plain": [
       "dtype('int64')"
      ]
     },
     "execution_count": 53,
     "metadata": {},
     "output_type": "execute_result"
    }
   ],
   "source": [
    "df_1.Rating.dtype"
   ]
  },
  {
   "cell_type": "markdown",
   "id": "5d09d343",
   "metadata": {},
   "source": [
    "### Treating the nulls of Critic_Count feature"
   ]
  },
  {
   "cell_type": "code",
   "execution_count": 54,
   "id": "fdb3aa24",
   "metadata": {},
   "outputs": [
    {
     "data": {
      "text/html": [
       "<div>\n",
       "<style scoped>\n",
       "    .dataframe tbody tr th:only-of-type {\n",
       "        vertical-align: middle;\n",
       "    }\n",
       "\n",
       "    .dataframe tbody tr th {\n",
       "        vertical-align: top;\n",
       "    }\n",
       "\n",
       "    .dataframe thead th {\n",
       "        text-align: right;\n",
       "    }\n",
       "</style>\n",
       "<table border=\"1\" class=\"dataframe\">\n",
       "  <thead>\n",
       "    <tr style=\"text-align: right;\">\n",
       "      <th></th>\n",
       "      <th>Critic_Count</th>\n",
       "    </tr>\n",
       "    <tr>\n",
       "      <th>Genre</th>\n",
       "      <th></th>\n",
       "    </tr>\n",
       "  </thead>\n",
       "  <tbody>\n",
       "    <tr>\n",
       "      <th>Action</th>\n",
       "      <td>4.0</td>\n",
       "    </tr>\n",
       "    <tr>\n",
       "      <th>Adventure</th>\n",
       "      <td>4.0</td>\n",
       "    </tr>\n",
       "    <tr>\n",
       "      <th>Fighting</th>\n",
       "      <td>15.0</td>\n",
       "    </tr>\n",
       "    <tr>\n",
       "      <th>Misc</th>\n",
       "      <td>6.0</td>\n",
       "    </tr>\n",
       "    <tr>\n",
       "      <th>Platform</th>\n",
       "      <td>6.0</td>\n",
       "    </tr>\n",
       "    <tr>\n",
       "      <th>Puzzle</th>\n",
       "      <td>12.0</td>\n",
       "    </tr>\n",
       "    <tr>\n",
       "      <th>Racing</th>\n",
       "      <td>4.0</td>\n",
       "    </tr>\n",
       "    <tr>\n",
       "      <th>Role-Playing</th>\n",
       "      <td>13.0</td>\n",
       "    </tr>\n",
       "    <tr>\n",
       "      <th>Shooter</th>\n",
       "      <td>11.0</td>\n",
       "    </tr>\n",
       "    <tr>\n",
       "      <th>Simulation</th>\n",
       "      <td>16.0</td>\n",
       "    </tr>\n",
       "    <tr>\n",
       "      <th>Sports</th>\n",
       "      <td>5.0</td>\n",
       "    </tr>\n",
       "    <tr>\n",
       "      <th>Strategy</th>\n",
       "      <td>19.0</td>\n",
       "    </tr>\n",
       "  </tbody>\n",
       "</table>\n",
       "</div>"
      ],
      "text/plain": [
       "              Critic_Count\n",
       "Genre                     \n",
       "Action                 4.0\n",
       "Adventure              4.0\n",
       "Fighting              15.0\n",
       "Misc                   6.0\n",
       "Platform               6.0\n",
       "Puzzle                12.0\n",
       "Racing                 4.0\n",
       "Role-Playing          13.0\n",
       "Shooter               11.0\n",
       "Simulation            16.0\n",
       "Sports                 5.0\n",
       "Strategy              19.0"
      ]
     },
     "execution_count": 54,
     "metadata": {},
     "output_type": "execute_result"
    }
   ],
   "source": [
    "cricount_mode=df_1.pivot_table(values='Critic_Count',index=['Genre'],aggfunc=(lambda x:mode(x).mode[0]))\n",
    "cricount_mode"
   ]
  },
  {
   "cell_type": "code",
   "execution_count": 55,
   "id": "a9f6582e",
   "metadata": {},
   "outputs": [],
   "source": [
    "ct_bool=df_1['Critic_Count'].isnull()\n",
    "df_1.loc[ct_bool,'Critic_Count']=df_1.loc[ct_bool,'Genre'].apply(lambda x:cricount_mode.loc[x])"
   ]
  },
  {
   "cell_type": "code",
   "execution_count": 56,
   "id": "2a56335a",
   "metadata": {},
   "outputs": [
    {
     "data": {
      "text/plain": [
       "0"
      ]
     },
     "execution_count": 56,
     "metadata": {},
     "output_type": "execute_result"
    }
   ],
   "source": [
    "df_1['Critic_Count'].isnull().sum()"
   ]
  },
  {
   "cell_type": "markdown",
   "id": "bcdd4aef",
   "metadata": {},
   "source": [
    "### Treating the Nulls of CriticScore "
   ]
  },
  {
   "cell_type": "code",
   "execution_count": 57,
   "id": "6051016f",
   "metadata": {},
   "outputs": [
    {
     "data": {
      "text/html": [
       "<div>\n",
       "<style scoped>\n",
       "    .dataframe tbody tr th:only-of-type {\n",
       "        vertical-align: middle;\n",
       "    }\n",
       "\n",
       "    .dataframe tbody tr th {\n",
       "        vertical-align: top;\n",
       "    }\n",
       "\n",
       "    .dataframe thead th {\n",
       "        text-align: right;\n",
       "    }\n",
       "</style>\n",
       "<table border=\"1\" class=\"dataframe\">\n",
       "  <thead>\n",
       "    <tr style=\"text-align: right;\">\n",
       "      <th></th>\n",
       "      <th>Critic_Score</th>\n",
       "    </tr>\n",
       "    <tr>\n",
       "      <th>Genre</th>\n",
       "      <th></th>\n",
       "    </tr>\n",
       "  </thead>\n",
       "  <tbody>\n",
       "    <tr>\n",
       "      <th>Action</th>\n",
       "      <td>66.629101</td>\n",
       "    </tr>\n",
       "    <tr>\n",
       "      <th>Adventure</th>\n",
       "      <td>65.331269</td>\n",
       "    </tr>\n",
       "    <tr>\n",
       "      <th>Fighting</th>\n",
       "      <td>69.217604</td>\n",
       "    </tr>\n",
       "    <tr>\n",
       "      <th>Misc</th>\n",
       "      <td>66.619503</td>\n",
       "    </tr>\n",
       "    <tr>\n",
       "      <th>Platform</th>\n",
       "      <td>68.058350</td>\n",
       "    </tr>\n",
       "    <tr>\n",
       "      <th>Puzzle</th>\n",
       "      <td>67.424107</td>\n",
       "    </tr>\n",
       "    <tr>\n",
       "      <th>Racing</th>\n",
       "      <td>67.963612</td>\n",
       "    </tr>\n",
       "    <tr>\n",
       "      <th>Role-Playing</th>\n",
       "      <td>72.652646</td>\n",
       "    </tr>\n",
       "    <tr>\n",
       "      <th>Shooter</th>\n",
       "      <td>70.181144</td>\n",
       "    </tr>\n",
       "    <tr>\n",
       "      <th>Simulation</th>\n",
       "      <td>68.619318</td>\n",
       "    </tr>\n",
       "    <tr>\n",
       "      <th>Sports</th>\n",
       "      <td>71.968174</td>\n",
       "    </tr>\n",
       "    <tr>\n",
       "      <th>Strategy</th>\n",
       "      <td>72.086093</td>\n",
       "    </tr>\n",
       "  </tbody>\n",
       "</table>\n",
       "</div>"
      ],
      "text/plain": [
       "              Critic_Score\n",
       "Genre                     \n",
       "Action           66.629101\n",
       "Adventure        65.331269\n",
       "Fighting         69.217604\n",
       "Misc             66.619503\n",
       "Platform         68.058350\n",
       "Puzzle           67.424107\n",
       "Racing           67.963612\n",
       "Role-Playing     72.652646\n",
       "Shooter          70.181144\n",
       "Simulation       68.619318\n",
       "Sports           71.968174\n",
       "Strategy         72.086093"
      ]
     },
     "execution_count": 57,
     "metadata": {},
     "output_type": "execute_result"
    }
   ],
   "source": [
    "cricscore_avg=df_1.pivot_table(values='Critic_Score',index=['Genre'])\n",
    "cricscore_avg"
   ]
  },
  {
   "cell_type": "code",
   "execution_count": 58,
   "id": "7aabfcf8",
   "metadata": {},
   "outputs": [],
   "source": [
    "cs_bool=df_1['Critic_Score'].isnull()\n",
    "df_1.loc[cs_bool,'Critic_Score']=df_1.loc[cs_bool,'Genre'].apply(lambda x:cricscore_avg.loc[x])"
   ]
  },
  {
   "cell_type": "code",
   "execution_count": 59,
   "id": "a27605fc",
   "metadata": {},
   "outputs": [
    {
     "data": {
      "text/plain": [
       "0"
      ]
     },
     "execution_count": 59,
     "metadata": {},
     "output_type": "execute_result"
    }
   ],
   "source": [
    "df_1['Critic_Score'].isnull().sum()"
   ]
  },
  {
   "cell_type": "code",
   "execution_count": 60,
   "id": "f16e3253",
   "metadata": {},
   "outputs": [],
   "source": [
    "# MeanRatioVariable "
   ]
  },
  {
   "cell_type": "code",
   "execution_count": null,
   "id": "d8039d3b",
   "metadata": {},
   "outputs": [],
   "source": []
  },
  {
   "cell_type": "markdown",
   "id": "38494d0a",
   "metadata": {},
   "source": [
    "### Treating the Nulls of UserCount "
   ]
  },
  {
   "cell_type": "code",
   "execution_count": 61,
   "id": "19744539",
   "metadata": {},
   "outputs": [
    {
     "data": {
      "text/html": [
       "<div>\n",
       "<style scoped>\n",
       "    .dataframe tbody tr th:only-of-type {\n",
       "        vertical-align: middle;\n",
       "    }\n",
       "\n",
       "    .dataframe tbody tr th {\n",
       "        vertical-align: top;\n",
       "    }\n",
       "\n",
       "    .dataframe thead th {\n",
       "        text-align: right;\n",
       "    }\n",
       "</style>\n",
       "<table border=\"1\" class=\"dataframe\">\n",
       "  <thead>\n",
       "    <tr style=\"text-align: right;\">\n",
       "      <th></th>\n",
       "      <th>User_Count</th>\n",
       "    </tr>\n",
       "    <tr>\n",
       "      <th>Genre</th>\n",
       "      <th></th>\n",
       "    </tr>\n",
       "  </thead>\n",
       "  <tbody>\n",
       "    <tr>\n",
       "      <th>Action</th>\n",
       "      <td>6.0</td>\n",
       "    </tr>\n",
       "    <tr>\n",
       "      <th>Adventure</th>\n",
       "      <td>6.0</td>\n",
       "    </tr>\n",
       "    <tr>\n",
       "      <th>Fighting</th>\n",
       "      <td>4.0</td>\n",
       "    </tr>\n",
       "    <tr>\n",
       "      <th>Misc</th>\n",
       "      <td>6.0</td>\n",
       "    </tr>\n",
       "    <tr>\n",
       "      <th>Platform</th>\n",
       "      <td>6.0</td>\n",
       "    </tr>\n",
       "    <tr>\n",
       "      <th>Puzzle</th>\n",
       "      <td>6.0</td>\n",
       "    </tr>\n",
       "    <tr>\n",
       "      <th>Racing</th>\n",
       "      <td>5.0</td>\n",
       "    </tr>\n",
       "    <tr>\n",
       "      <th>Role-Playing</th>\n",
       "      <td>12.0</td>\n",
       "    </tr>\n",
       "    <tr>\n",
       "      <th>Shooter</th>\n",
       "      <td>5.0</td>\n",
       "    </tr>\n",
       "    <tr>\n",
       "      <th>Simulation</th>\n",
       "      <td>5.0</td>\n",
       "    </tr>\n",
       "    <tr>\n",
       "      <th>Sports</th>\n",
       "      <td>4.0</td>\n",
       "    </tr>\n",
       "    <tr>\n",
       "      <th>Strategy</th>\n",
       "      <td>6.0</td>\n",
       "    </tr>\n",
       "  </tbody>\n",
       "</table>\n",
       "</div>"
      ],
      "text/plain": [
       "              User_Count\n",
       "Genre                   \n",
       "Action               6.0\n",
       "Adventure            6.0\n",
       "Fighting             4.0\n",
       "Misc                 6.0\n",
       "Platform             6.0\n",
       "Puzzle               6.0\n",
       "Racing               5.0\n",
       "Role-Playing        12.0\n",
       "Shooter              5.0\n",
       "Simulation           5.0\n",
       "Sports               4.0\n",
       "Strategy             6.0"
      ]
     },
     "execution_count": 61,
     "metadata": {},
     "output_type": "execute_result"
    }
   ],
   "source": [
    "usercount_mode=df_1.pivot_table(values='User_Count',index=['Genre'],aggfunc=(lambda x:mode(x).mode[0]))\n",
    "usercount_mode"
   ]
  },
  {
   "cell_type": "code",
   "execution_count": 62,
   "id": "aceb3be4",
   "metadata": {},
   "outputs": [],
   "source": [
    "uc_bool=df_1['User_Count'].isnull()\n",
    "df_1.loc[uc_bool,'User_Count']=df_1.loc[uc_bool,'Genre'].apply(lambda x:usercount_mode.loc[x])"
   ]
  },
  {
   "cell_type": "code",
   "execution_count": 63,
   "id": "28981547",
   "metadata": {},
   "outputs": [
    {
     "data": {
      "text/plain": [
       "0"
      ]
     },
     "execution_count": 63,
     "metadata": {},
     "output_type": "execute_result"
    }
   ],
   "source": [
    "df_1['User_Count'].isnull().sum()"
   ]
  },
  {
   "cell_type": "code",
   "execution_count": 64,
   "id": "d6dafa75",
   "metadata": {},
   "outputs": [
    {
     "data": {
      "text/html": [
       "<div>\n",
       "<style scoped>\n",
       "    .dataframe tbody tr th:only-of-type {\n",
       "        vertical-align: middle;\n",
       "    }\n",
       "\n",
       "    .dataframe tbody tr th {\n",
       "        vertical-align: top;\n",
       "    }\n",
       "\n",
       "    .dataframe thead th {\n",
       "        text-align: right;\n",
       "    }\n",
       "</style>\n",
       "<table border=\"1\" class=\"dataframe\">\n",
       "  <thead>\n",
       "    <tr style=\"text-align: right;\">\n",
       "      <th></th>\n",
       "      <th>count</th>\n",
       "      <th>percent</th>\n",
       "    </tr>\n",
       "  </thead>\n",
       "  <tbody>\n",
       "    <tr>\n",
       "      <th>Global_Sales</th>\n",
       "      <td>2143</td>\n",
       "      <td>12.817752</td>\n",
       "    </tr>\n",
       "    <tr>\n",
       "      <th>Name</th>\n",
       "      <td>0</td>\n",
       "      <td>0.000000</td>\n",
       "    </tr>\n",
       "    <tr>\n",
       "      <th>Platform</th>\n",
       "      <td>0</td>\n",
       "      <td>0.000000</td>\n",
       "    </tr>\n",
       "    <tr>\n",
       "      <th>Year_of_Release</th>\n",
       "      <td>0</td>\n",
       "      <td>0.000000</td>\n",
       "    </tr>\n",
       "    <tr>\n",
       "      <th>Genre</th>\n",
       "      <td>0</td>\n",
       "      <td>0.000000</td>\n",
       "    </tr>\n",
       "    <tr>\n",
       "      <th>Publisher</th>\n",
       "      <td>0</td>\n",
       "      <td>0.000000</td>\n",
       "    </tr>\n",
       "    <tr>\n",
       "      <th>NA_Sales</th>\n",
       "      <td>0</td>\n",
       "      <td>0.000000</td>\n",
       "    </tr>\n",
       "    <tr>\n",
       "      <th>EU_Sales</th>\n",
       "      <td>0</td>\n",
       "      <td>0.000000</td>\n",
       "    </tr>\n",
       "    <tr>\n",
       "      <th>JP_Sales</th>\n",
       "      <td>0</td>\n",
       "      <td>0.000000</td>\n",
       "    </tr>\n",
       "    <tr>\n",
       "      <th>Critic_Score</th>\n",
       "      <td>0</td>\n",
       "      <td>0.000000</td>\n",
       "    </tr>\n",
       "    <tr>\n",
       "      <th>Critic_Count</th>\n",
       "      <td>0</td>\n",
       "      <td>0.000000</td>\n",
       "    </tr>\n",
       "    <tr>\n",
       "      <th>User_Score</th>\n",
       "      <td>0</td>\n",
       "      <td>0.000000</td>\n",
       "    </tr>\n",
       "    <tr>\n",
       "      <th>User_Count</th>\n",
       "      <td>0</td>\n",
       "      <td>0.000000</td>\n",
       "    </tr>\n",
       "    <tr>\n",
       "      <th>Developer</th>\n",
       "      <td>0</td>\n",
       "      <td>0.000000</td>\n",
       "    </tr>\n",
       "    <tr>\n",
       "      <th>Rating</th>\n",
       "      <td>0</td>\n",
       "      <td>0.000000</td>\n",
       "    </tr>\n",
       "  </tbody>\n",
       "</table>\n",
       "</div>"
      ],
      "text/plain": [
       "                 count    percent\n",
       "Global_Sales      2143  12.817752\n",
       "Name                 0   0.000000\n",
       "Platform             0   0.000000\n",
       "Year_of_Release      0   0.000000\n",
       "Genre                0   0.000000\n",
       "Publisher            0   0.000000\n",
       "NA_Sales             0   0.000000\n",
       "EU_Sales             0   0.000000\n",
       "JP_Sales             0   0.000000\n",
       "Critic_Score         0   0.000000\n",
       "Critic_Count         0   0.000000\n",
       "User_Score           0   0.000000\n",
       "User_Count           0   0.000000\n",
       "Developer            0   0.000000\n",
       "Rating               0   0.000000"
      ]
     },
     "execution_count": 64,
     "metadata": {},
     "output_type": "execute_result"
    }
   ],
   "source": [
    " # Checking the null values\n",
    "nulls=df_1.isnull().sum()\n",
    "null=pd.DataFrame({'count':nulls,'percent':(nulls/df_1.shape[0])*100})\n",
    "null.sort_values('percent',ascending=False) "
   ]
  },
  {
   "cell_type": "code",
   "execution_count": null,
   "id": "47f4cbd5",
   "metadata": {},
   "outputs": [],
   "source": []
  },
  {
   "cell_type": "code",
   "execution_count": 65,
   "id": "bf2d37c3",
   "metadata": {},
   "outputs": [],
   "source": [
    "#null Treated Data\n",
    "df_1_treated=df_1.copy(deep=True)\n",
    "#df_1_final=df_1.copy(deep=True)"
   ]
  },
  {
   "cell_type": "code",
   "execution_count": 66,
   "id": "007f2f86",
   "metadata": {},
   "outputs": [
    {
     "data": {
      "text/html": [
       "<div>\n",
       "<style scoped>\n",
       "    .dataframe tbody tr th:only-of-type {\n",
       "        vertical-align: middle;\n",
       "    }\n",
       "\n",
       "    .dataframe tbody tr th {\n",
       "        vertical-align: top;\n",
       "    }\n",
       "\n",
       "    .dataframe thead th {\n",
       "        text-align: right;\n",
       "    }\n",
       "</style>\n",
       "<table border=\"1\" class=\"dataframe\">\n",
       "  <thead>\n",
       "    <tr style=\"text-align: right;\">\n",
       "      <th></th>\n",
       "      <th>count</th>\n",
       "      <th>mean</th>\n",
       "      <th>std</th>\n",
       "      <th>min</th>\n",
       "      <th>25%</th>\n",
       "      <th>50%</th>\n",
       "      <th>75%</th>\n",
       "      <th>max</th>\n",
       "    </tr>\n",
       "  </thead>\n",
       "  <tbody>\n",
       "    <tr>\n",
       "      <th>Year_of_Release</th>\n",
       "      <td>16719.0</td>\n",
       "      <td>2006.501705</td>\n",
       "      <td>5.838035</td>\n",
       "      <td>1980.00</td>\n",
       "      <td>2003.000000</td>\n",
       "      <td>2007.00000</td>\n",
       "      <td>2010.000000</td>\n",
       "      <td>2020.00</td>\n",
       "    </tr>\n",
       "    <tr>\n",
       "      <th>NA_Sales</th>\n",
       "      <td>16719.0</td>\n",
       "      <td>0.263330</td>\n",
       "      <td>0.813514</td>\n",
       "      <td>0.00</td>\n",
       "      <td>0.000000</td>\n",
       "      <td>0.08000</td>\n",
       "      <td>0.240000</td>\n",
       "      <td>41.36</td>\n",
       "    </tr>\n",
       "    <tr>\n",
       "      <th>EU_Sales</th>\n",
       "      <td>16719.0</td>\n",
       "      <td>0.145025</td>\n",
       "      <td>0.503283</td>\n",
       "      <td>0.00</td>\n",
       "      <td>0.000000</td>\n",
       "      <td>0.02000</td>\n",
       "      <td>0.110000</td>\n",
       "      <td>28.96</td>\n",
       "    </tr>\n",
       "    <tr>\n",
       "      <th>JP_Sales</th>\n",
       "      <td>16719.0</td>\n",
       "      <td>0.077602</td>\n",
       "      <td>0.308818</td>\n",
       "      <td>0.00</td>\n",
       "      <td>0.000000</td>\n",
       "      <td>0.00000</td>\n",
       "      <td>0.040000</td>\n",
       "      <td>10.22</td>\n",
       "    </tr>\n",
       "    <tr>\n",
       "      <th>Critic_Score</th>\n",
       "      <td>16719.0</td>\n",
       "      <td>68.759865</td>\n",
       "      <td>9.887799</td>\n",
       "      <td>13.00</td>\n",
       "      <td>66.619503</td>\n",
       "      <td>68.05835</td>\n",
       "      <td>72.652646</td>\n",
       "      <td>98.00</td>\n",
       "    </tr>\n",
       "    <tr>\n",
       "      <th>Critic_Count</th>\n",
       "      <td>16719.0</td>\n",
       "      <td>16.891142</td>\n",
       "      <td>16.490340</td>\n",
       "      <td>3.00</td>\n",
       "      <td>5.000000</td>\n",
       "      <td>12.00000</td>\n",
       "      <td>21.000000</td>\n",
       "      <td>113.00</td>\n",
       "    </tr>\n",
       "    <tr>\n",
       "      <th>User_Score</th>\n",
       "      <td>16719.0</td>\n",
       "      <td>7.101722</td>\n",
       "      <td>1.108214</td>\n",
       "      <td>0.00</td>\n",
       "      <td>6.900000</td>\n",
       "      <td>7.07861</td>\n",
       "      <td>7.610964</td>\n",
       "      <td>9.70</td>\n",
       "    </tr>\n",
       "    <tr>\n",
       "      <th>User_Count</th>\n",
       "      <td>16719.0</td>\n",
       "      <td>76.901370</td>\n",
       "      <td>386.089193</td>\n",
       "      <td>4.00</td>\n",
       "      <td>6.000000</td>\n",
       "      <td>6.00000</td>\n",
       "      <td>20.000000</td>\n",
       "      <td>10665.00</td>\n",
       "    </tr>\n",
       "    <tr>\n",
       "      <th>Rating</th>\n",
       "      <td>16719.0</td>\n",
       "      <td>1.093486</td>\n",
       "      <td>1.114051</td>\n",
       "      <td>0.00</td>\n",
       "      <td>0.000000</td>\n",
       "      <td>1.00000</td>\n",
       "      <td>2.000000</td>\n",
       "      <td>3.00</td>\n",
       "    </tr>\n",
       "    <tr>\n",
       "      <th>Global_Sales</th>\n",
       "      <td>14576.0</td>\n",
       "      <td>0.598972</td>\n",
       "      <td>1.647699</td>\n",
       "      <td>0.01</td>\n",
       "      <td>0.050000</td>\n",
       "      <td>0.22000</td>\n",
       "      <td>0.550000</td>\n",
       "      <td>82.53</td>\n",
       "    </tr>\n",
       "  </tbody>\n",
       "</table>\n",
       "</div>"
      ],
      "text/plain": [
       "                   count         mean         std      min          25%  \\\n",
       "Year_of_Release  16719.0  2006.501705    5.838035  1980.00  2003.000000   \n",
       "NA_Sales         16719.0     0.263330    0.813514     0.00     0.000000   \n",
       "EU_Sales         16719.0     0.145025    0.503283     0.00     0.000000   \n",
       "JP_Sales         16719.0     0.077602    0.308818     0.00     0.000000   \n",
       "Critic_Score     16719.0    68.759865    9.887799    13.00    66.619503   \n",
       "Critic_Count     16719.0    16.891142   16.490340     3.00     5.000000   \n",
       "User_Score       16719.0     7.101722    1.108214     0.00     6.900000   \n",
       "User_Count       16719.0    76.901370  386.089193     4.00     6.000000   \n",
       "Rating           16719.0     1.093486    1.114051     0.00     0.000000   \n",
       "Global_Sales     14576.0     0.598972    1.647699     0.01     0.050000   \n",
       "\n",
       "                        50%          75%       max  \n",
       "Year_of_Release  2007.00000  2010.000000   2020.00  \n",
       "NA_Sales            0.08000     0.240000     41.36  \n",
       "EU_Sales            0.02000     0.110000     28.96  \n",
       "JP_Sales            0.00000     0.040000     10.22  \n",
       "Critic_Score       68.05835    72.652646     98.00  \n",
       "Critic_Count       12.00000    21.000000    113.00  \n",
       "User_Score          7.07861     7.610964      9.70  \n",
       "User_Count          6.00000    20.000000  10665.00  \n",
       "Rating              1.00000     2.000000      3.00  \n",
       "Global_Sales        0.22000     0.550000     82.53  "
      ]
     },
     "execution_count": 66,
     "metadata": {},
     "output_type": "execute_result"
    }
   ],
   "source": [
    "#STatistical summary after null Treatment\n",
    "\n",
    "# numerical Features\n",
    "df_1_treated.describe().T"
   ]
  },
  {
   "cell_type": "code",
   "execution_count": 67,
   "id": "d2caa65d",
   "metadata": {},
   "outputs": [
    {
     "data": {
      "text/html": [
       "<div>\n",
       "<style scoped>\n",
       "    .dataframe tbody tr th:only-of-type {\n",
       "        vertical-align: middle;\n",
       "    }\n",
       "\n",
       "    .dataframe tbody tr th {\n",
       "        vertical-align: top;\n",
       "    }\n",
       "\n",
       "    .dataframe thead th {\n",
       "        text-align: right;\n",
       "    }\n",
       "</style>\n",
       "<table border=\"1\" class=\"dataframe\">\n",
       "  <thead>\n",
       "    <tr style=\"text-align: right;\">\n",
       "      <th></th>\n",
       "      <th>count</th>\n",
       "      <th>unique</th>\n",
       "      <th>top</th>\n",
       "      <th>freq</th>\n",
       "    </tr>\n",
       "  </thead>\n",
       "  <tbody>\n",
       "    <tr>\n",
       "      <th>Name</th>\n",
       "      <td>16719</td>\n",
       "      <td>11562</td>\n",
       "      <td>Need for Speed: Most Wanted</td>\n",
       "      <td>14</td>\n",
       "    </tr>\n",
       "    <tr>\n",
       "      <th>Platform</th>\n",
       "      <td>16719</td>\n",
       "      <td>31</td>\n",
       "      <td>PS2</td>\n",
       "      <td>2161</td>\n",
       "    </tr>\n",
       "    <tr>\n",
       "      <th>Genre</th>\n",
       "      <td>16719</td>\n",
       "      <td>12</td>\n",
       "      <td>Action</td>\n",
       "      <td>3372</td>\n",
       "    </tr>\n",
       "    <tr>\n",
       "      <th>Publisher</th>\n",
       "      <td>16719</td>\n",
       "      <td>580</td>\n",
       "      <td>Electronic Arts</td>\n",
       "      <td>1410</td>\n",
       "    </tr>\n",
       "    <tr>\n",
       "      <th>Developer</th>\n",
       "      <td>16719</td>\n",
       "      <td>1696</td>\n",
       "      <td>Omega Force</td>\n",
       "      <td>1226</td>\n",
       "    </tr>\n",
       "  </tbody>\n",
       "</table>\n",
       "</div>"
      ],
      "text/plain": [
       "           count unique                          top  freq\n",
       "Name       16719  11562  Need for Speed: Most Wanted    14\n",
       "Platform   16719     31                          PS2  2161\n",
       "Genre      16719     12                       Action  3372\n",
       "Publisher  16719    580              Electronic Arts  1410\n",
       "Developer  16719   1696                  Omega Force  1226"
      ]
     },
     "execution_count": 67,
     "metadata": {},
     "output_type": "execute_result"
    }
   ],
   "source": [
    "#categorical Features\n",
    "df_1_treated.describe(include=object).T"
   ]
  },
  {
   "cell_type": "markdown",
   "id": "fcf766ae",
   "metadata": {},
   "source": [
    "### Feature Engineering of Genre column"
   ]
  },
  {
   "cell_type": "code",
   "execution_count": 68,
   "id": "827c5ec2",
   "metadata": {},
   "outputs": [
    {
     "name": "stdout",
     "output_type": "stream",
     "text": [
      "['Sports' 'Platform' 'Racing' 'Role-Playing' 'Puzzle' 'Misc' 'Shooter'\n",
      " 'Simulation' 'Action' 'Fighting' 'Adventure' 'Strategy']\n",
      "12\n"
     ]
    }
   ],
   "source": [
    "print(df_1_treated.Genre.unique())\n",
    "print(len(df_1_treated.Genre.unique()))"
   ]
  },
  {
   "cell_type": "code",
   "execution_count": 69,
   "id": "2c29d2fd",
   "metadata": {},
   "outputs": [
    {
     "data": {
      "text/plain": [
       "Action          3372\n",
       "Sports          2348\n",
       "Misc            1750\n",
       "Role-Playing    1500\n",
       "Shooter         1323\n",
       "Adventure       1303\n",
       "Racing          1249\n",
       "Platform         888\n",
       "Simulation       874\n",
       "Fighting         849\n",
       "Strategy         683\n",
       "Puzzle           580\n",
       "Name: Genre, dtype: int64"
      ]
     },
     "execution_count": 69,
     "metadata": {},
     "output_type": "execute_result"
    }
   ],
   "source": [
    "df_1_treated.Genre.value_counts()"
   ]
  },
  {
   "cell_type": "code",
   "execution_count": 70,
   "id": "fe53c8d3",
   "metadata": {},
   "outputs": [],
   "source": [
    "df_1_treated['Genre'].replace(['Fighting','Platform','Shooter'],'Action',inplace=True)"
   ]
  },
  {
   "cell_type": "code",
   "execution_count": 71,
   "id": "e744e5f1",
   "metadata": {},
   "outputs": [],
   "source": [
    "df_1_treated['Genre'].replace('Racing','Sports',inplace=True)"
   ]
  },
  {
   "cell_type": "code",
   "execution_count": 72,
   "id": "7fe425b5",
   "metadata": {},
   "outputs": [
    {
     "name": "stdout",
     "output_type": "stream",
     "text": [
      "['Sports' 'Action' 'Role-Playing' 'Puzzle' 'Misc' 'Simulation' 'Adventure'\n",
      " 'Strategy']\n",
      "8\n"
     ]
    }
   ],
   "source": [
    "print(df_1_treated.Genre.unique())\n",
    "print(len(df_1_treated.Genre.unique()))"
   ]
  },
  {
   "cell_type": "code",
   "execution_count": 73,
   "id": "831737e5",
   "metadata": {},
   "outputs": [],
   "source": [
    "# Label Encoding of genre columns\n",
    "df_1_treated['Genre'].replace(['Sports','Action','Role-Playing','Puzzle','Misc','Simulation','Adventure','Strategy'],[0,1,2,3,4,5,6,7],inplace=True)"
   ]
  },
  {
   "cell_type": "code",
   "execution_count": null,
   "id": "26eadae8",
   "metadata": {},
   "outputs": [],
   "source": []
  },
  {
   "cell_type": "markdown",
   "id": "a88aef11",
   "metadata": {},
   "source": [
    "### Feature engineering Platform column"
   ]
  },
  {
   "cell_type": "code",
   "execution_count": 74,
   "id": "9ab1b561",
   "metadata": {},
   "outputs": [
    {
     "name": "stdout",
     "output_type": "stream",
     "text": [
      "['Wii' 'NES' 'GB' 'DS' 'X360' 'PS3' 'PS2' 'SNES' 'GBA' 'PS4' '3DS' 'N64'\n",
      " 'PS' 'XB' 'PC' '2600' 'PSP' 'XOne' 'WiiU' 'GC' 'GEN' 'DC' 'PSV' 'SAT'\n",
      " 'SCD' 'WS' 'NG' 'TG16' '3DO' 'GG' 'PCFX']\n",
      "31\n"
     ]
    }
   ],
   "source": [
    "print(df_1_treated.Platform.unique())\n",
    "print(len(df_1_treated.Platform.unique()))"
   ]
  },
  {
   "cell_type": "code",
   "execution_count": 75,
   "id": "7c53b356",
   "metadata": {},
   "outputs": [],
   "source": [
    "df_1_treated['Platform'].replace(['PSP','PS', 'PS4', 'PS2','PS3','PSV'],'PS',inplace=True)\n",
    "df_1_treated['Platform'].replace(['XB','XOne','X360'],'Xbox',inplace=True)\n",
    "df_1_treated['Platform'].replace(['NES','N64','DS','3DS','3DO','GB','GC','GBA','Wii','SNES','WiiU'],'Nintendo',inplace=True)\n",
    "df_1_treated['Platform'].replace('PCFX','PC',inplace=True)\n",
    "df_1_treated['Platform'].replace(['PCFX','GEN'],'PC',inplace=True)\n",
    "df_1_treated['Platform'].replace(['2600','DC','SAT','SCD','WS','NG','TG16','GG'],'others',inplace=True)\n"
   ]
  },
  {
   "cell_type": "code",
   "execution_count": 76,
   "id": "7e79ae3d",
   "metadata": {},
   "outputs": [
    {
     "name": "stdout",
     "output_type": "stream",
     "text": [
      "['Nintendo' 'Xbox' 'PS' 'PC' 'others']\n",
      "5\n"
     ]
    }
   ],
   "source": [
    "print(df_1_treated.Platform.unique())\n",
    "print(len(df_1_treated.Platform.unique()))"
   ]
  },
  {
   "cell_type": "code",
   "execution_count": 77,
   "id": "dafe319a",
   "metadata": {},
   "outputs": [],
   "source": [
    "# label encoded the categories\n",
    "df_1_treated['Platform'].replace(['Nintendo' ,'Xbox' ,'PS', 'PC' ,'others'],[0,1,2,3,4],inplace=True)"
   ]
  },
  {
   "cell_type": "code",
   "execution_count": 78,
   "id": "b22434bf",
   "metadata": {},
   "outputs": [
    {
     "data": {
      "text/html": [
       "<div>\n",
       "<style scoped>\n",
       "    .dataframe tbody tr th:only-of-type {\n",
       "        vertical-align: middle;\n",
       "    }\n",
       "\n",
       "    .dataframe tbody tr th {\n",
       "        vertical-align: top;\n",
       "    }\n",
       "\n",
       "    .dataframe thead th {\n",
       "        text-align: right;\n",
       "    }\n",
       "</style>\n",
       "<table border=\"1\" class=\"dataframe\">\n",
       "  <thead>\n",
       "    <tr style=\"text-align: right;\">\n",
       "      <th></th>\n",
       "      <th>count</th>\n",
       "      <th>unique</th>\n",
       "      <th>top</th>\n",
       "      <th>freq</th>\n",
       "    </tr>\n",
       "  </thead>\n",
       "  <tbody>\n",
       "    <tr>\n",
       "      <th>Name</th>\n",
       "      <td>16719</td>\n",
       "      <td>11562</td>\n",
       "      <td>Need for Speed: Most Wanted</td>\n",
       "      <td>14</td>\n",
       "    </tr>\n",
       "    <tr>\n",
       "      <th>Publisher</th>\n",
       "      <td>16719</td>\n",
       "      <td>580</td>\n",
       "      <td>Electronic Arts</td>\n",
       "      <td>1410</td>\n",
       "    </tr>\n",
       "    <tr>\n",
       "      <th>Developer</th>\n",
       "      <td>16719</td>\n",
       "      <td>1696</td>\n",
       "      <td>Omega Force</td>\n",
       "      <td>1226</td>\n",
       "    </tr>\n",
       "  </tbody>\n",
       "</table>\n",
       "</div>"
      ],
      "text/plain": [
       "           count unique                          top  freq\n",
       "Name       16719  11562  Need for Speed: Most Wanted    14\n",
       "Publisher  16719    580              Electronic Arts  1410\n",
       "Developer  16719   1696                  Omega Force  1226"
      ]
     },
     "execution_count": 78,
     "metadata": {},
     "output_type": "execute_result"
    }
   ],
   "source": [
    "#categorical Features\n",
    "df_1_treated.describe(include=object).T"
   ]
  },
  {
   "cell_type": "code",
   "execution_count": null,
   "id": "0af172bc",
   "metadata": {},
   "outputs": [],
   "source": []
  },
  {
   "cell_type": "code",
   "execution_count": 79,
   "id": "9d584d38",
   "metadata": {},
   "outputs": [],
   "source": [
    "# final treated and feature engineered data\n",
    "df_final=df_1_treated.copy(deep=True)"
   ]
  },
  {
   "cell_type": "markdown",
   "id": "809cdcda",
   "metadata": {},
   "source": [
    "so here in these categorical columns we have lots of unique values which is not feasible for label encoding\n",
    "so we drop those columns"
   ]
  },
  {
   "cell_type": "code",
   "execution_count": 80,
   "id": "23d081ff",
   "metadata": {},
   "outputs": [
    {
     "data": {
      "text/plain": [
       "<AxesSubplot:>"
      ]
     },
     "execution_count": 80,
     "metadata": {},
     "output_type": "execute_result"
    },
    {
     "data": {
      "image/png": "[encoded data removed]",
      "text/plain": [
       "<Figure size 1080x576 with 2 Axes>"
      ]
     },
     "metadata": {
      "needs_background": "light"
     },
     "output_type": "display_data"
    }
   ],
   "source": [
    "plt.figure(figsize=(15,8))\n",
    "sns.heatmap(df_final.corr(),annot=True)"
   ]
  },
  {
   "cell_type": "code",
   "execution_count": 81,
   "id": "21d84c1b",
   "metadata": {},
   "outputs": [
    {
     "data": {
      "text/html": [
       "<div>\n",
       "<style scoped>\n",
       "    .dataframe tbody tr th:only-of-type {\n",
       "        vertical-align: middle;\n",
       "    }\n",
       "\n",
       "    .dataframe tbody tr th {\n",
       "        vertical-align: top;\n",
       "    }\n",
       "\n",
       "    .dataframe thead th {\n",
       "        text-align: right;\n",
       "    }\n",
       "</style>\n",
       "<table border=\"1\" class=\"dataframe\">\n",
       "  <thead>\n",
       "    <tr style=\"text-align: right;\">\n",
       "      <th></th>\n",
       "      <th>Features</th>\n",
       "      <th>VIF</th>\n",
       "    </tr>\n",
       "  </thead>\n",
       "  <tbody>\n",
       "    <tr>\n",
       "      <th>0</th>\n",
       "      <td>Platform</td>\n",
       "      <td>2.460522</td>\n",
       "    </tr>\n",
       "    <tr>\n",
       "      <th>1</th>\n",
       "      <td>Year_of_Release</td>\n",
       "      <td>68.427896</td>\n",
       "    </tr>\n",
       "    <tr>\n",
       "      <th>2</th>\n",
       "      <td>Genre</td>\n",
       "      <td>2.053929</td>\n",
       "    </tr>\n",
       "    <tr>\n",
       "      <th>3</th>\n",
       "      <td>NA_Sales</td>\n",
       "      <td>2.822086</td>\n",
       "    </tr>\n",
       "    <tr>\n",
       "      <th>4</th>\n",
       "      <td>EU_Sales</td>\n",
       "      <td>2.819981</td>\n",
       "    </tr>\n",
       "    <tr>\n",
       "      <th>5</th>\n",
       "      <td>JP_Sales</td>\n",
       "      <td>1.402058</td>\n",
       "    </tr>\n",
       "    <tr>\n",
       "      <th>6</th>\n",
       "      <td>Critic_Score</td>\n",
       "      <td>74.916707</td>\n",
       "    </tr>\n",
       "    <tr>\n",
       "      <th>7</th>\n",
       "      <td>Critic_Count</td>\n",
       "      <td>3.077028</td>\n",
       "    </tr>\n",
       "    <tr>\n",
       "      <th>8</th>\n",
       "      <td>User_Score</td>\n",
       "      <td>54.834713</td>\n",
       "    </tr>\n",
       "    <tr>\n",
       "      <th>9</th>\n",
       "      <td>User_Count</td>\n",
       "      <td>1.345500</td>\n",
       "    </tr>\n",
       "    <tr>\n",
       "      <th>10</th>\n",
       "      <td>Rating</td>\n",
       "      <td>2.440981</td>\n",
       "    </tr>\n",
       "  </tbody>\n",
       "</table>\n",
       "</div>"
      ],
      "text/plain": [
       "           Features        VIF\n",
       "0          Platform   2.460522\n",
       "1   Year_of_Release  68.427896\n",
       "2             Genre   2.053929\n",
       "3          NA_Sales   2.822086\n",
       "4          EU_Sales   2.819981\n",
       "5          JP_Sales   1.402058\n",
       "6      Critic_Score  74.916707\n",
       "7      Critic_Count   3.077028\n",
       "8        User_Score  54.834713\n",
       "9        User_Count   1.345500\n",
       "10           Rating   2.440981"
      ]
     },
     "execution_count": 81,
     "metadata": {},
     "output_type": "execute_result"
    }
   ],
   "source": [
    "from statsmodels.stats.outliers_influence import variance_inflation_factor as VIF\n",
    "\n",
    "\n",
    "X=df_final.drop(['Name','Publisher','Developer','Global_Sales'],axis=1)\n",
    "df_vif =pd.DataFrame()\n",
    "df_vif['Features']=X.columns\n",
    "df_vif['VIF']=[VIF(X.values,i) for i in range(len(X.columns))]\n",
    "df_vif\n"
   ]
  },
  {
   "cell_type": "markdown",
   "id": "65c85deb",
   "metadata": {},
   "source": [
    "### Retrieving the original Train data,Test data"
   ]
  },
  {
   "cell_type": "code",
   "execution_count": 82,
   "id": "22bf0382",
   "metadata": {},
   "outputs": [
    {
     "data": {
      "text/html": [
       "<div>\n",
       "<style scoped>\n",
       "    .dataframe tbody tr th:only-of-type {\n",
       "        vertical-align: middle;\n",
       "    }\n",
       "\n",
       "    .dataframe tbody tr th {\n",
       "        vertical-align: top;\n",
       "    }\n",
       "\n",
       "    .dataframe thead th {\n",
       "        text-align: right;\n",
       "    }\n",
       "</style>\n",
       "<table border=\"1\" class=\"dataframe\">\n",
       "  <thead>\n",
       "    <tr style=\"text-align: right;\">\n",
       "      <th></th>\n",
       "      <th>count</th>\n",
       "      <th>percent</th>\n",
       "    </tr>\n",
       "  </thead>\n",
       "  <tbody>\n",
       "    <tr>\n",
       "      <th>Global_Sales</th>\n",
       "      <td>2143</td>\n",
       "      <td>12.817752</td>\n",
       "    </tr>\n",
       "    <tr>\n",
       "      <th>Name</th>\n",
       "      <td>0</td>\n",
       "      <td>0.000000</td>\n",
       "    </tr>\n",
       "    <tr>\n",
       "      <th>Platform</th>\n",
       "      <td>0</td>\n",
       "      <td>0.000000</td>\n",
       "    </tr>\n",
       "    <tr>\n",
       "      <th>Year_of_Release</th>\n",
       "      <td>0</td>\n",
       "      <td>0.000000</td>\n",
       "    </tr>\n",
       "    <tr>\n",
       "      <th>Genre</th>\n",
       "      <td>0</td>\n",
       "      <td>0.000000</td>\n",
       "    </tr>\n",
       "    <tr>\n",
       "      <th>Publisher</th>\n",
       "      <td>0</td>\n",
       "      <td>0.000000</td>\n",
       "    </tr>\n",
       "    <tr>\n",
       "      <th>NA_Sales</th>\n",
       "      <td>0</td>\n",
       "      <td>0.000000</td>\n",
       "    </tr>\n",
       "    <tr>\n",
       "      <th>EU_Sales</th>\n",
       "      <td>0</td>\n",
       "      <td>0.000000</td>\n",
       "    </tr>\n",
       "    <tr>\n",
       "      <th>JP_Sales</th>\n",
       "      <td>0</td>\n",
       "      <td>0.000000</td>\n",
       "    </tr>\n",
       "    <tr>\n",
       "      <th>Critic_Score</th>\n",
       "      <td>0</td>\n",
       "      <td>0.000000</td>\n",
       "    </tr>\n",
       "    <tr>\n",
       "      <th>Critic_Count</th>\n",
       "      <td>0</td>\n",
       "      <td>0.000000</td>\n",
       "    </tr>\n",
       "    <tr>\n",
       "      <th>User_Score</th>\n",
       "      <td>0</td>\n",
       "      <td>0.000000</td>\n",
       "    </tr>\n",
       "    <tr>\n",
       "      <th>User_Count</th>\n",
       "      <td>0</td>\n",
       "      <td>0.000000</td>\n",
       "    </tr>\n",
       "    <tr>\n",
       "      <th>Developer</th>\n",
       "      <td>0</td>\n",
       "      <td>0.000000</td>\n",
       "    </tr>\n",
       "    <tr>\n",
       "      <th>Rating</th>\n",
       "      <td>0</td>\n",
       "      <td>0.000000</td>\n",
       "    </tr>\n",
       "  </tbody>\n",
       "</table>\n",
       "</div>"
      ],
      "text/plain": [
       "                 count    percent\n",
       "Global_Sales      2143  12.817752\n",
       "Name                 0   0.000000\n",
       "Platform             0   0.000000\n",
       "Year_of_Release      0   0.000000\n",
       "Genre                0   0.000000\n",
       "Publisher            0   0.000000\n",
       "NA_Sales             0   0.000000\n",
       "EU_Sales             0   0.000000\n",
       "JP_Sales             0   0.000000\n",
       "Critic_Score         0   0.000000\n",
       "Critic_Count         0   0.000000\n",
       "User_Score           0   0.000000\n",
       "User_Count           0   0.000000\n",
       "Developer            0   0.000000\n",
       "Rating               0   0.000000"
      ]
     },
     "execution_count": 82,
     "metadata": {},
     "output_type": "execute_result"
    }
   ],
   "source": [
    " # Checking the null values\n",
    "nulls=df_1_treated.isnull().sum()\n",
    "null=pd.DataFrame({'count':nulls,'percent':(nulls/df_1_treated.shape[0])*100})\n",
    "null.sort_values('percent',ascending=False) "
   ]
  },
  {
   "cell_type": "code",
   "execution_count": 83,
   "id": "48addd8a",
   "metadata": {},
   "outputs": [
    {
     "name": "stdout",
     "output_type": "stream",
     "text": [
      "shape of train: (14576, 15)\n",
      "shape of test: (2143, 14)\n"
     ]
    }
   ],
   "source": [
    "print('shape of train:',df_train.shape)\n",
    "print('shape of test:',df_test.shape)"
   ]
  },
  {
   "cell_type": "markdown",
   "id": "3bf4891c",
   "metadata": {},
   "source": [
    "### Final treated Data"
   ]
  },
  {
   "cell_type": "code",
   "execution_count": 84,
   "id": "5bd1290b",
   "metadata": {},
   "outputs": [],
   "source": [
    "#treated nulls and feature engineered test data\n",
    "df_test_final=df_final[df_final['Global_Sales'].isnull()]\n",
    "df_test_final=df_test_final.drop('Global_Sales',axis=1)"
   ]
  },
  {
   "cell_type": "code",
   "execution_count": 85,
   "id": "3e6d6e8d",
   "metadata": {
    "scrolled": true
   },
   "outputs": [],
   "source": [
    "#treated nulls and feature engineered train data\n",
    "df_train_final=df_final[~df_final['Global_Sales'].isnull()]\n"
   ]
  },
  {
   "cell_type": "code",
   "execution_count": 86,
   "id": "210f6fcc",
   "metadata": {},
   "outputs": [
    {
     "data": {
      "text/html": [
       "<div>\n",
       "<style scoped>\n",
       "    .dataframe tbody tr th:only-of-type {\n",
       "        vertical-align: middle;\n",
       "    }\n",
       "\n",
       "    .dataframe tbody tr th {\n",
       "        vertical-align: top;\n",
       "    }\n",
       "\n",
       "    .dataframe thead th {\n",
       "        text-align: right;\n",
       "    }\n",
       "</style>\n",
       "<table border=\"1\" class=\"dataframe\">\n",
       "  <thead>\n",
       "    <tr style=\"text-align: right;\">\n",
       "      <th></th>\n",
       "      <th>count</th>\n",
       "      <th>unique</th>\n",
       "      <th>top</th>\n",
       "      <th>freq</th>\n",
       "    </tr>\n",
       "  </thead>\n",
       "  <tbody>\n",
       "    <tr>\n",
       "      <th>Name</th>\n",
       "      <td>14576</td>\n",
       "      <td>10327</td>\n",
       "      <td>Need for Speed: Most Wanted</td>\n",
       "      <td>13</td>\n",
       "    </tr>\n",
       "    <tr>\n",
       "      <th>Publisher</th>\n",
       "      <td>14576</td>\n",
       "      <td>552</td>\n",
       "      <td>Electronic Arts</td>\n",
       "      <td>1316</td>\n",
       "    </tr>\n",
       "    <tr>\n",
       "      <th>Developer</th>\n",
       "      <td>14576</td>\n",
       "      <td>1577</td>\n",
       "      <td>Omega Force</td>\n",
       "      <td>1075</td>\n",
       "    </tr>\n",
       "  </tbody>\n",
       "</table>\n",
       "</div>"
      ],
      "text/plain": [
       "           count unique                          top  freq\n",
       "Name       14576  10327  Need for Speed: Most Wanted    13\n",
       "Publisher  14576    552              Electronic Arts  1316\n",
       "Developer  14576   1577                  Omega Force  1075"
      ]
     },
     "execution_count": 86,
     "metadata": {},
     "output_type": "execute_result"
    }
   ],
   "source": [
    "df_train_final.describe(include=object).T"
   ]
  },
  {
   "cell_type": "markdown",
   "id": "3018628f",
   "metadata": {},
   "source": [
    "## Distribution of Variables\n"
   ]
  },
  {
   "cell_type": "code",
   "execution_count": 87,
   "id": "31631c0f",
   "metadata": {
    "scrolled": true
   },
   "outputs": [
    {
     "data": {
      "image/png": "[encoded data removed]",
      "text/plain": [
       "<Figure size 1800x1080 with 12 Axes>"
      ]
     },
     "metadata": {
      "needs_background": "light"
     },
     "output_type": "display_data"
    }
   ],
   "source": [
    "# ploting the distplot\n",
    "df_train_plot=df_train_final.drop(['Name','Publisher','Developer'],axis=1)\n",
    "\n",
    "fig,ax=plt.subplots(nrows=3,ncols=4,figsize=(25,15))\n",
    "\n",
    "\n",
    "for  variable, subplot in zip(df_train_plot, ax.flatten()):\n",
    "    \n",
    "    sns.distplot(df_train_plot[variable],kde=True,ax = subplot)\n"
   ]
  },
  {
   "cell_type": "code",
   "execution_count": 88,
   "id": "fcd7cdce",
   "metadata": {},
   "outputs": [
    {
     "data": {
      "image/png": "[encoded data removed]",
      "text/plain": [
       "<Figure size 1296x1296 with 12 Axes>"
      ]
     },
     "metadata": {
      "needs_background": "light"
     },
     "output_type": "display_data"
    }
   ],
   "source": [
    "fig=df_train_final.hist(figsize=(18,18))"
   ]
  },
  {
   "cell_type": "code",
   "execution_count": null,
   "id": "8f610803",
   "metadata": {},
   "outputs": [],
   "source": []
  },
  {
   "cell_type": "markdown",
   "id": "c854c27e",
   "metadata": {},
   "source": [
    "## MODEL BUILDING"
   ]
  },
  {
   "cell_type": "code",
   "execution_count": 90,
   "id": "529d0d25",
   "metadata": {},
   "outputs": [],
   "source": [
    "from sklearn import metrics\n",
    "from sklearn.metrics import r2_score,mean_squared_error\n",
    "import numpy as np"
   ]
  },
  {
   "cell_type": "code",
   "execution_count": 91,
   "id": "c9fc1f14",
   "metadata": {},
   "outputs": [],
   "source": [
    "# create an empty dataframe to store the scores for various classification algorithms\n",
    "score_card = pd.DataFrame(columns=['Model', 'RMSE','R2Score'\n",
    "                                   ])\n",
    "\n",
    "# append the result table for all performance scores\n",
    "# compile the required information in a user defined function \n",
    "def update_score_card(model_name):\n",
    "    \n",
    "    # assign 'score_card' as global variable\n",
    "    global score_card\n",
    "\n",
    "    # append the results to the dataframe 'score_card'\n",
    "    # 'ignore_index = True' do not consider the index labels\n",
    "    score_card = score_card.append({'Model': model_name,\n",
    "                                    'RMSE': np.sqrt(mean_squared_error(y_train, train_pred)),\n",
    "                                    'R2_Score':round((r2_score(y_train,train_pred)),10)} \n",
    "                                     ,ignore_index = True)\n",
    "    return(score_card)"
   ]
  },
  {
   "cell_type": "markdown",
   "id": "e202979a",
   "metadata": {},
   "source": [
    "### INPUT Dataset"
   ]
  },
  {
   "cell_type": "code",
   "execution_count": 92,
   "id": "63602efc",
   "metadata": {},
   "outputs": [],
   "source": [
    "#Train Data\n",
    "# we drop the Name ,Developer and Publisher columns as they have so many unique category values\n",
    "\n",
    "x_train=df_train_final.drop(['Name','Publisher','Developer','Global_Sales'],axis=1)\n",
    "y_train=df_train_final['Global_Sales']\n",
    "y_train_log=np.log(y_train)"
   ]
  },
  {
   "cell_type": "code",
   "execution_count": 93,
   "id": "896b3285",
   "metadata": {},
   "outputs": [],
   "source": [
    "#Test Data\n",
    "# we drop the Name ,Developer and Publisher columns as they have so many unique category values\n",
    "x_test=df_test_final.drop(['Name','Publisher','Developer'],axis=1)"
   ]
  },
  {
   "cell_type": "markdown",
   "id": "1e57bafb",
   "metadata": {},
   "source": [
    "### Standardizing the data"
   ]
  },
  {
   "cell_type": "code",
   "execution_count": 94,
   "id": "d23dfd78",
   "metadata": {},
   "outputs": [],
   "source": [
    "from sklearn.preprocessing import StandardScaler\n",
    "sc=StandardScaler()\n",
    "\n",
    "# scaling the data\n",
    "x_train_sc =sc.fit_transform(x_train)\n",
    "x_test_sc=sc.transform(x_test)\n"
   ]
  },
  {
   "cell_type": "code",
   "execution_count": null,
   "id": "77a3880d",
   "metadata": {},
   "outputs": [],
   "source": []
  },
  {
   "cell_type": "markdown",
   "id": "0ea21b80",
   "metadata": {},
   "source": [
    "### Linear Regression Base Model"
   ]
  },
  {
   "cell_type": "code",
   "execution_count": 96,
   "id": "56ff86c9",
   "metadata": {},
   "outputs": [],
   "source": [
    "from sklearn.linear_model import LinearRegression\n"
   ]
  },
  {
   "cell_type": "code",
   "execution_count": 97,
   "id": "66e33280",
   "metadata": {},
   "outputs": [
    {
     "name": "stdout",
     "output_type": "stream",
     "text": [
      "RMse of trained data is: 0.13392283259636897\n",
      "R2_score of trained data is: 0.9933933193734958\n"
     ]
    }
   ],
   "source": [
    "lr =LinearRegression()\n",
    "\n",
    "# fitting the data in the model\n",
    "\n",
    "lr.fit(x_train_sc,y_train)\n",
    "\n",
    "# Predicting the model\n",
    "\n",
    "train_pred=lr.predict(x_train_sc)\n",
    "test_pred=lr.predict(x_test_sc)\n",
    "\n",
    "\n",
    "# results\n",
    "print('RMse of trained data is:',np.sqrt(mean_squared_error(y_train,train_pred)))\n",
    "print('R2_score of trained data is:',r2_score(y_train,train_pred))\n",
    "\n"
   ]
  },
  {
   "cell_type": "code",
   "execution_count": null,
   "id": "05328236",
   "metadata": {},
   "outputs": [],
   "source": [
    "update_score_card(lr)"
   ]
  },
  {
   "cell_type": "markdown",
   "id": "3f080f2b",
   "metadata": {},
   "source": [
    "### DECISION TREE REGRESSOR BASE MODEL"
   ]
  },
  {
   "cell_type": "code",
   "execution_count": 122,
   "id": "4438ca1f",
   "metadata": {},
   "outputs": [],
   "source": [
    "from sklearn.tree import DecisionTreeRegressor"
   ]
  },
  {
   "cell_type": "code",
   "execution_count": 124,
   "id": "4b3cacce",
   "metadata": {},
   "outputs": [
    {
     "name": "stdout",
     "output_type": "stream",
     "text": [
      "RMse of trained data is: 0.0006103525101186387\n",
      "R2_score of trained data is: 0.9999998627742762\n"
     ]
    }
   ],
   "source": [
    "DCTr=DecisionTreeRegressor()\n",
    "\n",
    "DCTr.fit(x_train_sc,y_train)\n",
    "\n",
    "# Predicting the model\n",
    "\n",
    "train_pred=DCTr.predict(x_train_sc)\n",
    "DecisionTreetest_pred=DCTr.predict(x_test_sc)\n",
    "\n",
    "\n",
    "# Regression results\n",
    "print('RMse of trained data is:',np.sqrt(mean_squared_error(y_train,train_pred)))\n",
    "print('R2_score of trained data is:',r2_score(y_train,train_pred))\n",
    "\n"
   ]
  },
  {
   "cell_type": "code",
   "execution_count": null,
   "id": "9a9c2eb6",
   "metadata": {},
   "outputs": [],
   "source": [
    "update_score_card(DCTr)"
   ]
  },
  {
   "cell_type": "markdown",
   "id": "595fdca3",
   "metadata": {},
   "source": [
    "### Random Forest Regressor Model"
   ]
  },
  {
   "cell_type": "code",
   "execution_count": 100,
   "id": "07d100a5",
   "metadata": {},
   "outputs": [],
   "source": [
    "from sklearn.ensemble import RandomForestRegressor"
   ]
  },
  {
   "cell_type": "code",
   "execution_count": 101,
   "id": "68d7f515",
   "metadata": {},
   "outputs": [
    {
     "name": "stdout",
     "output_type": "stream",
     "text": [
      "RMse of trained data is: 0.15070226244761936\n",
      "R2_score of trained data is: 0.9916340819759987\n"
     ]
    }
   ],
   "source": [
    "rfr=RandomForestRegressor(n_estimators=100,random_state=42,oob_score=True)\n",
    "\n",
    "rfr.fit(x_train_sc,y_train)\n",
    "\n",
    "# Predicting the model\n",
    "\n",
    "train_pred=rfr.predict(x_train_sc)\n",
    "test_pred=rfr.predict(x_test_sc)\n",
    "\n",
    "\n",
    "# Regression results\n",
    "print('RMse of trained data is:',np.sqrt(mean_squared_error(y_train,train_pred)))\n",
    "print('R2_score of trained data is:',r2_score(y_train,train_pred))\n",
    "\n"
   ]
  },
  {
   "cell_type": "code",
   "execution_count": null,
   "id": "f1357534",
   "metadata": {},
   "outputs": [],
   "source": [
    "update_score_card(rfr)"
   ]
  },
  {
   "cell_type": "markdown",
   "id": "18ef2ad7",
   "metadata": {},
   "source": [
    "### Random Forest Grid Search Model"
   ]
  },
  {
   "cell_type": "code",
   "execution_count": 102,
   "id": "e564bc71",
   "metadata": {},
   "outputs": [],
   "source": [
    "from sklearn.model_selection import GridSearchCV"
   ]
  },
  {
   "cell_type": "code",
   "execution_count": 103,
   "id": "b75a048a",
   "metadata": {},
   "outputs": [],
   "source": [
    "rfrg=RandomForestRegressor(random_state=42,n_jobs=-1,oob_score=True)"
   ]
  },
  {
   "cell_type": "code",
   "execution_count": 104,
   "id": "3e6f8f00",
   "metadata": {},
   "outputs": [],
   "source": [
    "params={ 'max_depth':[5,10,15],'min_samples_leaf':[10,20,25,40],'n_estimators':[10,20,30]}\n",
    "gd_search=GridSearchCV(estimator=rfr, param_grid=params, cv=4, n_jobs=-1,scoring ='accuracy')"
   ]
  },
  {
   "cell_type": "code",
   "execution_count": 105,
   "id": "021084a1",
   "metadata": {},
   "outputs": [
    {
     "data": {
      "text/plain": [
       "GridSearchCV(cv=4,\n",
       "             estimator=RandomForestRegressor(oob_score=True, random_state=42),\n",
       "             n_jobs=-1,\n",
       "             param_grid={'max_depth': [5, 10, 15],\n",
       "                         'min_samples_leaf': [10, 20, 25, 40],\n",
       "                         'n_estimators': [10, 20, 30]},\n",
       "             scoring='accuracy')"
      ]
     },
     "execution_count": 105,
     "metadata": {},
     "output_type": "execute_result"
    }
   ],
   "source": [
    "gd_search.fit(x_train_sc,y_train)"
   ]
  },
  {
   "cell_type": "code",
   "execution_count": 106,
   "id": "894391c6",
   "metadata": {},
   "outputs": [
    {
     "data": {
      "text/plain": [
       "{'max_depth': 5, 'min_samples_leaf': 10, 'n_estimators': 10}"
      ]
     },
     "execution_count": 106,
     "metadata": {},
     "output_type": "execute_result"
    }
   ],
   "source": [
    "gd_best_param=gd_search.best_params_\n",
    "gd_best_param"
   ]
  },
  {
   "cell_type": "code",
   "execution_count": 107,
   "id": "ab436e8f",
   "metadata": {},
   "outputs": [
    {
     "data": {
      "text/plain": [
       "RandomForestRegressor(max_depth=5, min_samples_leaf=10, n_estimators=10,\n",
       "                      oob_score=True, random_state=42)"
      ]
     },
     "execution_count": 107,
     "metadata": {},
     "output_type": "execute_result"
    }
   ],
   "source": [
    "gd_best=gd_search.best_estimator_\n",
    "gd_best"
   ]
  },
  {
   "cell_type": "code",
   "execution_count": 108,
   "id": "5db848fe",
   "metadata": {},
   "outputs": [
    {
     "name": "stdout",
     "output_type": "stream",
     "text": [
      "RMse of trained data is: 0.5605238794029045\n",
      "R2_score of trained data is: 0.8842656442772479\n"
     ]
    }
   ],
   "source": [
    "gd_best.fit(x_train_sc,y_train)\n",
    "\n",
    "# Predicting the model\n",
    "\n",
    "train_pred=gd_best.predict(x_train_sc)\n",
    "test_pred=gd_best.predict(x_test_sc)\n",
    "\n",
    "\n",
    "# Regression results\n",
    "print('RMse of trained data is:',np.sqrt(mean_squared_error(y_train,train_pred)))\n",
    "print('R2_score of trained data is:',r2_score(y_train,train_pred))\n"
   ]
  },
  {
   "cell_type": "markdown",
   "id": "d33d0f13",
   "metadata": {},
   "source": [
    "### Gradient Boosting Regressor"
   ]
  },
  {
   "cell_type": "code",
   "execution_count": 109,
   "id": "406db879",
   "metadata": {},
   "outputs": [],
   "source": [
    "#Parameter grid for Gradient Boosting Regressor\n",
    "param_grid_gbr = [\n",
    "    {'n_estimators': [20, 30, 40, 70], 'max_features': [6, 8, 10, 12], 'max_depth': [5, 7, 9]}]\n"
   ]
  },
  {
   "cell_type": "code",
   "execution_count": 110,
   "id": "9d7c637f",
   "metadata": {},
   "outputs": [
    {
     "data": {
      "text/plain": [
       "GridSearchCV(cv=5, estimator=GradientBoostingRegressor(),\n",
       "             param_grid=[{'max_depth': [5, 7, 9],\n",
       "                          'max_features': [6, 8, 10, 12],\n",
       "                          'n_estimators': [20, 30, 40, 70]}],\n",
       "             scoring='neg_mean_squared_error')"
      ]
     },
     "execution_count": 110,
     "metadata": {},
     "output_type": "execute_result"
    }
   ],
   "source": [
    "from sklearn.ensemble import GradientBoostingRegressor\n",
    "\n",
    "gd_search_gbr = GridSearchCV(GradientBoostingRegressor(), param_grid_gbr, cv=5, scoring='neg_mean_squared_error')\n",
    "\n",
    "# model fitting\n",
    "gd_search_gbr.fit(x_train_sc, y_train)\n"
   ]
  },
  {
   "cell_type": "code",
   "execution_count": 111,
   "id": "468a8707",
   "metadata": {},
   "outputs": [
    {
     "data": {
      "text/plain": [
       "{'max_depth': 5, 'max_features': 6, 'n_estimators': 70}"
      ]
     },
     "execution_count": 111,
     "metadata": {},
     "output_type": "execute_result"
    }
   ],
   "source": [
    "gd_best_gbr_param=gd_search_gbr.best_params_\n",
    "gd_best_gbr_param"
   ]
  },
  {
   "cell_type": "code",
   "execution_count": 112,
   "id": "f98ed53b",
   "metadata": {},
   "outputs": [
    {
     "data": {
      "text/plain": [
       "GradientBoostingRegressor(max_depth=5, max_features=6, n_estimators=70)"
      ]
     },
     "execution_count": 112,
     "metadata": {},
     "output_type": "execute_result"
    }
   ],
   "source": [
    "gd_best_gbr=gd_search_gbr.best_estimator_\n",
    "gd_best_gbr"
   ]
  },
  {
   "cell_type": "code",
   "execution_count": 113,
   "id": "51fd318f",
   "metadata": {},
   "outputs": [
    {
     "name": "stdout",
     "output_type": "stream",
     "text": [
      "RMse of trained data is: 0.06389630924559556\n",
      "R2_score of trained data is: 0.998496076980707\n"
     ]
    }
   ],
   "source": [
    "# Predicting the model\n",
    "\n",
    "train_pred=gd_best_gbr.predict(x_train_sc)\n",
    "test_pred=gd_best_gbr.predict(x_test_sc)\n",
    "\n",
    "# Regression results\n",
    "print('RMse of trained data is:',np.sqrt(mean_squared_error(y_train,train_pred)))\n",
    "print('R2_score of trained data is:',r2_score(y_train,train_pred))\n"
   ]
  },
  {
   "cell_type": "code",
   "execution_count": null,
   "id": "cfc23536",
   "metadata": {},
   "outputs": [],
   "source": []
  },
  {
   "cell_type": "markdown",
   "id": "c6eb6986",
   "metadata": {},
   "source": [
    "# SVM Regressor"
   ]
  },
  {
   "cell_type": "code",
   "execution_count": 116,
   "id": "1fb56820",
   "metadata": {},
   "outputs": [],
   "source": [
    "from sklearn.svm import SVR"
   ]
  },
  {
   "cell_type": "code",
   "execution_count": 117,
   "id": "3849b906",
   "metadata": {},
   "outputs": [],
   "source": [
    "#Parameter grid for Support Vector Regressor\n",
    "param_grid_svr = [\n",
    "    {'C': [0.01, 0.1, 1, 10], 'gamma': [ 0.001, 0.01, 0.1, 1],\n",
    "     'kernel': ['rbf']}]"
   ]
  },
  {
   "cell_type": "code",
   "execution_count": 118,
   "id": "5149ee3f",
   "metadata": {},
   "outputs": [
    {
     "name": "stdout",
     "output_type": "stream",
     "text": [
      "RMse of trained data is: 0.06389630924559556\n",
      "R2_score of trained data is: 0.998496076980707\n"
     ]
    }
   ],
   "source": [
    "\n",
    "\n",
    "gd_search_svr = GridSearchCV(SVR(), param_grid_svr, cv=5, scoring='neg_mean_squared_error')\n",
    "gd_search_svr.fit(x_train_sc, y_train)\n",
    "\n",
    "# Predicting the model\n",
    "\n",
    "train_pred=gd_best_gbr.predict(x_train_sc)\n",
    "test_pred=gd_best_gbr.predict(x_test_sc)\n",
    "\n",
    "# Regression results\n",
    "print('RMse of trained data is:',np.sqrt(mean_squared_error(y_train,train_pred)))\n",
    "print('R2_score of trained data is:',r2_score(y_train,train_pred))\n"
   ]
  },
  {
   "cell_type": "markdown",
   "id": "732f51cd",
   "metadata": {},
   "source": [
    "### Best Model"
   ]
  },
  {
   "cell_type": "markdown",
   "id": "ac694f2c",
   "metadata": {},
   "source": [
    "Decision Tree is the best model as we got the best RMSE score of 0.0006103525101186387\n",
    "R2_score of model is: 0.9999998627742762"
   ]
  },
  {
   "cell_type": "code",
   "execution_count": null,
   "id": "793694f4",
   "metadata": {},
   "outputs": [],
   "source": [
    "#Define target and ID columns:\n",
    "target = df_test_final['Global_Sales']\n",
    "IDcol = df_test_final['Name']\n",
    "## Creating Submission File\n",
    "IDcol.append(target)\n",
    "\n",
    "## Creating the Global_Sales column in test dataset with predicted Sales\n",
    "bm_test[target] = DecisionTreetest_pred\n",
    "\n",
    "submission_file = pd.DataFrame({x: bm_test[x] for x in IDcol})\n",
    "submission_file.to_csv('BM_Sales_LR_Model_Prediction.csv', index = False)"
   ]
  },
  {
   "cell_type": "code",
   "execution_count": null,
   "id": "59c3e075",
   "metadata": {},
   "outputs": [],
   "source": [
    "y_pred_final_3         = np.mean(preds_3,axis=0)    \n",
    "sub['Response']=y_pred_final_3\n",
    "\n",
    "print('ROC_AUC - CV Score: {}'.format((sum(rocauc_score)/10)),'\\n')\n",
    "print(\"Score : \",rocauc_score)\n",
    "\n",
    "# Download and Show Submission File :\n",
    "\n",
    "display(\"sample_submmission\",sub)\n",
    "sub_file_name_3 = \"S3. XGB_GPU_TargetEnc_Vehicle_Damage_me_1994SEED_LGBM_NoScaler_MyStyle.csv\"\n",
    "sub.to_csv(sub_file_name_3,index=False)\n",
    "Blend_model_3 = sub.copy()\n",
    "sub.head(5)"
   ]
  },
  {
   "cell_type": "code",
   "execution_count": 125,
   "id": "7a4a4092",
   "metadata": {},
   "outputs": [
    {
     "data": {
      "text/plain": [
       "14576    0.130\n",
       "14577    0.140\n",
       "14578    0.140\n",
       "14579    0.140\n",
       "14580    0.140\n",
       "         ...  \n",
       "16714    0.050\n",
       "16715    0.060\n",
       "16716    0.060\n",
       "16717    0.055\n",
       "16718    0.050\n",
       "Name: Global_Sales, Length: 2143, dtype: float64"
      ]
     },
     "execution_count": 125,
     "metadata": {},
     "output_type": "execute_result"
    }
   ],
   "source": [
    "df_test_final['Global_Sales']=DecisionTreetest_pred\n",
    "df_test_final['Global_Sales']"
   ]
  },
  {
   "cell_type": "code",
   "execution_count": 135,
   "id": "19127033",
   "metadata": {},
   "outputs": [
    {
     "data": {
      "text/plain": [
       "Index(['Name', 'Platform', 'Year_of_Release', 'Genre', 'Publisher', 'NA_Sales',\n",
       "       'EU_Sales', 'JP_Sales', 'Critic_Score', 'Critic_Count', 'User_Score',\n",
       "       'User_Count', 'Developer', 'Rating', 'Global_Sales'],\n",
       "      dtype='object')"
      ]
     },
     "execution_count": 135,
     "metadata": {},
     "output_type": "execute_result"
    }
   ],
   "source": [
    "df_test_final.columns"
   ]
  },
  {
   "cell_type": "code",
   "execution_count": 155,
   "id": "03c8a20d",
   "metadata": {},
   "outputs": [
    {
     "data": {
      "text/html": [
       "<div>\n",
       "<style scoped>\n",
       "    .dataframe tbody tr th:only-of-type {\n",
       "        vertical-align: middle;\n",
       "    }\n",
       "\n",
       "    .dataframe tbody tr th {\n",
       "        vertical-align: top;\n",
       "    }\n",
       "\n",
       "    .dataframe thead th {\n",
       "        text-align: right;\n",
       "    }\n",
       "</style>\n",
       "<table border=\"1\" class=\"dataframe\">\n",
       "  <thead>\n",
       "    <tr style=\"text-align: right;\">\n",
       "      <th></th>\n",
       "      <th>Name</th>\n",
       "      <th>Global_Sales</th>\n",
       "    </tr>\n",
       "  </thead>\n",
       "  <tbody>\n",
       "    <tr>\n",
       "      <th>14576</th>\n",
       "      <td>Nicktoons: MLB</td>\n",
       "      <td>0.130</td>\n",
       "    </tr>\n",
       "    <tr>\n",
       "      <th>14577</th>\n",
       "      <td>Shonen Jump's One Piece: Grand Battle</td>\n",
       "      <td>0.140</td>\n",
       "    </tr>\n",
       "    <tr>\n",
       "      <th>14578</th>\n",
       "      <td>Learn Math</td>\n",
       "      <td>0.140</td>\n",
       "    </tr>\n",
       "    <tr>\n",
       "      <th>14579</th>\n",
       "      <td>Nitrobike</td>\n",
       "      <td>0.140</td>\n",
       "    </tr>\n",
       "    <tr>\n",
       "      <th>14580</th>\n",
       "      <td>Cruise Ship Vacation Games</td>\n",
       "      <td>0.140</td>\n",
       "    </tr>\n",
       "    <tr>\n",
       "      <th>...</th>\n",
       "      <td>...</td>\n",
       "      <td>...</td>\n",
       "    </tr>\n",
       "    <tr>\n",
       "      <th>16714</th>\n",
       "      <td>Theresia...</td>\n",
       "      <td>0.050</td>\n",
       "    </tr>\n",
       "    <tr>\n",
       "      <th>16715</th>\n",
       "      <td>Sacred 2: Fallen Angel</td>\n",
       "      <td>0.060</td>\n",
       "    </tr>\n",
       "    <tr>\n",
       "      <th>16716</th>\n",
       "      <td>Dance Sensation!</td>\n",
       "      <td>0.060</td>\n",
       "    </tr>\n",
       "    <tr>\n",
       "      <th>16717</th>\n",
       "      <td>Adventure Time: The Secret of the Nameless Kin...</td>\n",
       "      <td>0.055</td>\n",
       "    </tr>\n",
       "    <tr>\n",
       "      <th>16718</th>\n",
       "      <td>Teenage Mutant Ninja Turtles 3: Mutant Nightmare</td>\n",
       "      <td>0.050</td>\n",
       "    </tr>\n",
       "  </tbody>\n",
       "</table>\n",
       "<p>2143 rows × 2 columns</p>\n",
       "</div>"
      ],
      "text/plain": [
       "                                                    Name  Global_Sales\n",
       "14576                                     Nicktoons: MLB         0.130\n",
       "14577              Shonen Jump's One Piece: Grand Battle         0.140\n",
       "14578                                         Learn Math         0.140\n",
       "14579                                          Nitrobike         0.140\n",
       "14580                         Cruise Ship Vacation Games         0.140\n",
       "...                                                  ...           ...\n",
       "16714                                        Theresia...         0.050\n",
       "16715                             Sacred 2: Fallen Angel         0.060\n",
       "16716                                   Dance Sensation!         0.060\n",
       "16717  Adventure Time: The Secret of the Nameless Kin...         0.055\n",
       "16718   Teenage Mutant Ninja Turtles 3: Mutant Nightmare         0.050\n",
       "\n",
       "[2143 rows x 2 columns]"
      ]
     },
     "execution_count": 155,
     "metadata": {},
     "output_type": "execute_result"
    }
   ],
   "source": [
    "submission_files=df_test_final.drop(['Platform', 'Year_of_Release', 'Genre', 'Publisher', 'NA_Sales',\n",
    "       'EU_Sales', 'JP_Sales', 'Critic_Score', 'Critic_Count', 'User_Score',\n",
    "       'User_Count', 'Developer', 'Rating'],axis=1)\n",
    "submission_files"
   ]
  },
  {
   "cell_type": "code",
   "execution_count": 157,
   "id": "41214c79",
   "metadata": {},
   "outputs": [],
   "source": [
    "submission_files =submission_files.reset_index(drop=True)\n"
   ]
  },
  {
   "cell_type": "code",
   "execution_count": 158,
   "id": "f993cf3b",
   "metadata": {},
   "outputs": [
    {
     "data": {
      "text/html": [
       "<div>\n",
       "<style scoped>\n",
       "    .dataframe tbody tr th:only-of-type {\n",
       "        vertical-align: middle;\n",
       "    }\n",
       "\n",
       "    .dataframe tbody tr th {\n",
       "        vertical-align: top;\n",
       "    }\n",
       "\n",
       "    .dataframe thead th {\n",
       "        text-align: right;\n",
       "    }\n",
       "</style>\n",
       "<table border=\"1\" class=\"dataframe\">\n",
       "  <thead>\n",
       "    <tr style=\"text-align: right;\">\n",
       "      <th></th>\n",
       "      <th>Name</th>\n",
       "      <th>Global_Sales</th>\n",
       "    </tr>\n",
       "  </thead>\n",
       "  <tbody>\n",
       "    <tr>\n",
       "      <th>0</th>\n",
       "      <td>Nicktoons: MLB</td>\n",
       "      <td>0.130</td>\n",
       "    </tr>\n",
       "    <tr>\n",
       "      <th>1</th>\n",
       "      <td>Shonen Jump's One Piece: Grand Battle</td>\n",
       "      <td>0.140</td>\n",
       "    </tr>\n",
       "    <tr>\n",
       "      <th>2</th>\n",
       "      <td>Learn Math</td>\n",
       "      <td>0.140</td>\n",
       "    </tr>\n",
       "    <tr>\n",
       "      <th>3</th>\n",
       "      <td>Nitrobike</td>\n",
       "      <td>0.140</td>\n",
       "    </tr>\n",
       "    <tr>\n",
       "      <th>4</th>\n",
       "      <td>Cruise Ship Vacation Games</td>\n",
       "      <td>0.140</td>\n",
       "    </tr>\n",
       "    <tr>\n",
       "      <th>...</th>\n",
       "      <td>...</td>\n",
       "      <td>...</td>\n",
       "    </tr>\n",
       "    <tr>\n",
       "      <th>2138</th>\n",
       "      <td>Theresia...</td>\n",
       "      <td>0.050</td>\n",
       "    </tr>\n",
       "    <tr>\n",
       "      <th>2139</th>\n",
       "      <td>Sacred 2: Fallen Angel</td>\n",
       "      <td>0.060</td>\n",
       "    </tr>\n",
       "    <tr>\n",
       "      <th>2140</th>\n",
       "      <td>Dance Sensation!</td>\n",
       "      <td>0.060</td>\n",
       "    </tr>\n",
       "    <tr>\n",
       "      <th>2141</th>\n",
       "      <td>Adventure Time: The Secret of the Nameless Kin...</td>\n",
       "      <td>0.055</td>\n",
       "    </tr>\n",
       "    <tr>\n",
       "      <th>2142</th>\n",
       "      <td>Teenage Mutant Ninja Turtles 3: Mutant Nightmare</td>\n",
       "      <td>0.050</td>\n",
       "    </tr>\n",
       "  </tbody>\n",
       "</table>\n",
       "<p>2143 rows × 2 columns</p>\n",
       "</div>"
      ],
      "text/plain": [
       "                                                   Name  Global_Sales\n",
       "0                                        Nicktoons: MLB         0.130\n",
       "1                 Shonen Jump's One Piece: Grand Battle         0.140\n",
       "2                                            Learn Math         0.140\n",
       "3                                             Nitrobike         0.140\n",
       "4                            Cruise Ship Vacation Games         0.140\n",
       "...                                                 ...           ...\n",
       "2138                                        Theresia...         0.050\n",
       "2139                             Sacred 2: Fallen Angel         0.060\n",
       "2140                                   Dance Sensation!         0.060\n",
       "2141  Adventure Time: The Secret of the Nameless Kin...         0.055\n",
       "2142   Teenage Mutant Ninja Turtles 3: Mutant Nightmare         0.050\n",
       "\n",
       "[2143 rows x 2 columns]"
      ]
     },
     "execution_count": 158,
     "metadata": {},
     "output_type": "execute_result"
    }
   ],
   "source": [
    "submission_files"
   ]
  },
  {
   "cell_type": "code",
   "execution_count": 162,
   "id": "a2ff0700",
   "metadata": {},
   "outputs": [
    {
     "data": {
      "text/html": [
       "<div>\n",
       "<style scoped>\n",
       "    .dataframe tbody tr th:only-of-type {\n",
       "        vertical-align: middle;\n",
       "    }\n",
       "\n",
       "    .dataframe tbody tr th {\n",
       "        vertical-align: top;\n",
       "    }\n",
       "\n",
       "    .dataframe thead th {\n",
       "        text-align: right;\n",
       "    }\n",
       "</style>\n",
       "<table border=\"1\" class=\"dataframe\">\n",
       "  <thead>\n",
       "    <tr style=\"text-align: right;\">\n",
       "      <th></th>\n",
       "      <th>name</th>\n",
       "      <th>global sales</th>\n",
       "    </tr>\n",
       "  </thead>\n",
       "  <tbody>\n",
       "    <tr>\n",
       "      <th>0</th>\n",
       "      <td>Nicktoons: MLB</td>\n",
       "      <td>0.130</td>\n",
       "    </tr>\n",
       "    <tr>\n",
       "      <th>1</th>\n",
       "      <td>Shonen Jump's One Piece: Grand Battle</td>\n",
       "      <td>0.140</td>\n",
       "    </tr>\n",
       "    <tr>\n",
       "      <th>2</th>\n",
       "      <td>Learn Math</td>\n",
       "      <td>0.140</td>\n",
       "    </tr>\n",
       "    <tr>\n",
       "      <th>3</th>\n",
       "      <td>Nitrobike</td>\n",
       "      <td>0.140</td>\n",
       "    </tr>\n",
       "    <tr>\n",
       "      <th>4</th>\n",
       "      <td>Cruise Ship Vacation Games</td>\n",
       "      <td>0.140</td>\n",
       "    </tr>\n",
       "    <tr>\n",
       "      <th>...</th>\n",
       "      <td>...</td>\n",
       "      <td>...</td>\n",
       "    </tr>\n",
       "    <tr>\n",
       "      <th>2138</th>\n",
       "      <td>Theresia...</td>\n",
       "      <td>0.050</td>\n",
       "    </tr>\n",
       "    <tr>\n",
       "      <th>2139</th>\n",
       "      <td>Sacred 2: Fallen Angel</td>\n",
       "      <td>0.060</td>\n",
       "    </tr>\n",
       "    <tr>\n",
       "      <th>2140</th>\n",
       "      <td>Dance Sensation!</td>\n",
       "      <td>0.060</td>\n",
       "    </tr>\n",
       "    <tr>\n",
       "      <th>2141</th>\n",
       "      <td>Adventure Time: The Secret of the Nameless Kin...</td>\n",
       "      <td>0.055</td>\n",
       "    </tr>\n",
       "    <tr>\n",
       "      <th>2142</th>\n",
       "      <td>Teenage Mutant Ninja Turtles 3: Mutant Nightmare</td>\n",
       "      <td>0.050</td>\n",
       "    </tr>\n",
       "  </tbody>\n",
       "</table>\n",
       "<p>2143 rows × 2 columns</p>\n",
       "</div>"
      ],
      "text/plain": [
       "                                                   name  global sales\n",
       "0                                        Nicktoons: MLB         0.130\n",
       "1                 Shonen Jump's One Piece: Grand Battle         0.140\n",
       "2                                            Learn Math         0.140\n",
       "3                                             Nitrobike         0.140\n",
       "4                            Cruise Ship Vacation Games         0.140\n",
       "...                                                 ...           ...\n",
       "2138                                        Theresia...         0.050\n",
       "2139                             Sacred 2: Fallen Angel         0.060\n",
       "2140                                   Dance Sensation!         0.060\n",
       "2141  Adventure Time: The Secret of the Nameless Kin...         0.055\n",
       "2142   Teenage Mutant Ninja Turtles 3: Mutant Nightmare         0.050\n",
       "\n",
       "[2143 rows x 2 columns]"
      ]
     },
     "execution_count": 162,
     "metadata": {},
     "output_type": "execute_result"
    }
   ],
   "source": [
    "submission_files.rename(columns={\"Name\":\"name\", \"Global_Sales\":\"global sales\"},inplace=True)\n",
    "submission_files"
   ]
  },
  {
   "cell_type": "code",
   "execution_count": 163,
   "id": "55b269a1",
   "metadata": {},
   "outputs": [],
   "source": [
    "submission_files.to_csv('Global_Sales_Prediction1.csv', index = False)"
   ]
  },
  {
   "cell_type": "code",
   "execution_count": 164,
   "id": "14528116",
   "metadata": {},
   "outputs": [
    {
     "data": {
      "text/html": [
       "<div>\n",
       "<style scoped>\n",
       "    .dataframe tbody tr th:only-of-type {\n",
       "        vertical-align: middle;\n",
       "    }\n",
       "\n",
       "    .dataframe tbody tr th {\n",
       "        vertical-align: top;\n",
       "    }\n",
       "\n",
       "    .dataframe thead th {\n",
       "        text-align: right;\n",
       "    }\n",
       "</style>\n",
       "<table border=\"1\" class=\"dataframe\">\n",
       "  <thead>\n",
       "    <tr style=\"text-align: right;\">\n",
       "      <th></th>\n",
       "      <th>name</th>\n",
       "      <th>global sales</th>\n",
       "    </tr>\n",
       "  </thead>\n",
       "  <tbody>\n",
       "    <tr>\n",
       "      <th>0</th>\n",
       "      <td>Nicktoons: MLB</td>\n",
       "      <td>0.130</td>\n",
       "    </tr>\n",
       "    <tr>\n",
       "      <th>1</th>\n",
       "      <td>Shonen Jump's One Piece: Grand Battle</td>\n",
       "      <td>0.140</td>\n",
       "    </tr>\n",
       "    <tr>\n",
       "      <th>2</th>\n",
       "      <td>Learn Math</td>\n",
       "      <td>0.140</td>\n",
       "    </tr>\n",
       "    <tr>\n",
       "      <th>3</th>\n",
       "      <td>Nitrobike</td>\n",
       "      <td>0.140</td>\n",
       "    </tr>\n",
       "    <tr>\n",
       "      <th>4</th>\n",
       "      <td>Cruise Ship Vacation Games</td>\n",
       "      <td>0.140</td>\n",
       "    </tr>\n",
       "    <tr>\n",
       "      <th>...</th>\n",
       "      <td>...</td>\n",
       "      <td>...</td>\n",
       "    </tr>\n",
       "    <tr>\n",
       "      <th>2138</th>\n",
       "      <td>Theresia...</td>\n",
       "      <td>0.050</td>\n",
       "    </tr>\n",
       "    <tr>\n",
       "      <th>2139</th>\n",
       "      <td>Sacred 2: Fallen Angel</td>\n",
       "      <td>0.060</td>\n",
       "    </tr>\n",
       "    <tr>\n",
       "      <th>2140</th>\n",
       "      <td>Dance Sensation!</td>\n",
       "      <td>0.060</td>\n",
       "    </tr>\n",
       "    <tr>\n",
       "      <th>2141</th>\n",
       "      <td>Adventure Time: The Secret of the Nameless Kin...</td>\n",
       "      <td>0.055</td>\n",
       "    </tr>\n",
       "    <tr>\n",
       "      <th>2142</th>\n",
       "      <td>Teenage Mutant Ninja Turtles 3: Mutant Nightmare</td>\n",
       "      <td>0.050</td>\n",
       "    </tr>\n",
       "  </tbody>\n",
       "</table>\n",
       "<p>2143 rows × 2 columns</p>\n",
       "</div>"
      ],
      "text/plain": [
       "                                                   name  global sales\n",
       "0                                        Nicktoons: MLB         0.130\n",
       "1                 Shonen Jump's One Piece: Grand Battle         0.140\n",
       "2                                            Learn Math         0.140\n",
       "3                                             Nitrobike         0.140\n",
       "4                            Cruise Ship Vacation Games         0.140\n",
       "...                                                 ...           ...\n",
       "2138                                        Theresia...         0.050\n",
       "2139                             Sacred 2: Fallen Angel         0.060\n",
       "2140                                   Dance Sensation!         0.060\n",
       "2141  Adventure Time: The Secret of the Nameless Kin...         0.055\n",
       "2142   Teenage Mutant Ninja Turtles 3: Mutant Nightmare         0.050\n",
       "\n",
       "[2143 rows x 2 columns]"
      ]
     },
     "execution_count": 164,
     "metadata": {},
     "output_type": "execute_result"
    }
   ],
   "source": [
    "df_ss=pd.read_csv('Global_Sales_Prediction1.csv')\n",
    "df_ss"
   ]
  },
  {
   "cell_type": "code",
   "execution_count": null,
   "id": "cc0248a4",
   "metadata": {},
   "outputs": [],
   "source": [
    "df_ss"
   ]
  },
  {
   "cell_type": "code",
   "execution_count": null,
   "id": "0c23793b",
   "metadata": {},
   "outputs": [],
   "source": []
  }
 ],
 "metadata": {
  "kernelspec": {
   "display_name": "Python 3 (ipykernel)",
   "language": "python",
   "name": "python3"
  },
  "language_info": {
   "codemirror_mode": {
    "name": "ipython",
    "version": 3
   },
   "file_extension": ".py",
   "mimetype": "text/x-python",
   "name": "python",
   "nbconvert_exporter": "python",
   "pygments_lexer": "ipython3",
   "version": "3.9.7"
  }
 },
 "nbformat": 4,
 "nbformat_minor": 5
}
