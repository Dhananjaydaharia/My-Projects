{
 "cells": [
  {
   "cell_type": "markdown",
   "id": "752f4e6c",
   "metadata": {},
   "source": [
    "## Content\n",
    "\n",
    "1. **[Import packages](#import_packages)**\n",
    "2. **[Load data](#load_data)**\n",
    "3. **[Data preparation](#data_preparation)**\n",
    "    - 3.1 - [Dimensions of Dataset](#data_dimension)\n",
    "    - 3.2 - [Statistical Summary](#Stat_sum)\n",
    "    - 3.3 - [Checking Data Type and Missing Values](#check_data_type)\n",
    "    - 3.4 - [Indexing with Date](#Indexing_with_Date)\n",
    "4. **[Time Series Analysis](#Time_Series_Analysis)**\n",
    "    - 4.1 - [Visualizing data](#Visualizing_data)\n",
    "    - 4.2 - [Sampling](#Sampling)\n",
    "    - 4.3 - [Checking Stationarity](#Checking_Stationarity)\n",
    "    - 4.4 - [Decomposing](#Decomposing)\n",
    "5. **[Time Series Forcasting using ARIMA](#Time_Series_Forcasting_using_ARIMA)**\n",
    "    - 5.1 - [Parameter Selection](#Parameter_Selection)\n",
    "    - 5.2 - [Fitting the ARIMA model](#Fitting_the_ARIMA)\n",
    "    - 5.3 - [Validating Forecasts](#Validating_Forecasts)\n",
    "    - 5.4 - [Calculating MSE and RMSE](#Calculating_MSE_and_RMSE)\n",
    "    - 5.5 - [Visualizing the Forecast](#Visualizing_the_Forecast)\n",
    "6. **[Conclusion](#Conclusion)**"
   ]
  },
  {
   "cell_type": "markdown",
   "id": "982b6575",
   "metadata": {},
   "source": [
    "<a id='import_packages'></a>\n",
    "# 1. Import Packages"
   ]
  },
  {
   "cell_type": "code",
   "execution_count": 102,
   "id": "5c6a7e5e",
   "metadata": {},
   "outputs": [],
   "source": [
    "import numpy as np\n",
    "import pandas as pd\n",
    "from dateutil.parser import parse\n",
    "import matplotlib.pyplot as plt\n",
    "import seaborn as sns\n",
    "sns.set()\n",
    "from pandas.plotting import lag_plot\n",
    "#plt.rcParams.update({'figure.figsize':(8,4),'figure.dpi':200})\n",
    "\n",
    "import itertools\n",
    "import statsmodels.api as sm\n",
    "\n",
    "import warnings\n",
    "warnings.filterwarnings(\"ignore\")\n",
    "import os"
   ]
  },
  {
   "cell_type": "code",
   "execution_count": null,
   "id": "0d055cd3",
   "metadata": {},
   "outputs": [],
   "source": []
  },
  {
   "cell_type": "code",
   "execution_count": 103,
   "id": "2ad591e0",
   "metadata": {},
   "outputs": [
    {
     "data": {
      "text/plain": [
       "'C:\\\\Users\\\\Dhananjay\\\\Documents\\\\PGDA Data Science\\\\imarticus PGDA\\\\Projects\\\\Capstone Project\\\\SBI Stocks'"
      ]
     },
     "execution_count": 103,
     "metadata": {},
     "output_type": "execute_result"
    }
   ],
   "source": [
    "os.getcwd()"
   ]
  },
  {
   "cell_type": "markdown",
   "id": "173f39cb",
   "metadata": {},
   "source": [
    "<a id='load_data'></a>\n",
    "# 2. Load Data"
   ]
  },
  {
   "cell_type": "code",
   "execution_count": 104,
   "id": "9818d784",
   "metadata": {},
   "outputs": [
    {
     "data": {
      "text/html": [
       "<div>\n",
       "<style scoped>\n",
       "    .dataframe tbody tr th:only-of-type {\n",
       "        vertical-align: middle;\n",
       "    }\n",
       "\n",
       "    .dataframe tbody tr th {\n",
       "        vertical-align: top;\n",
       "    }\n",
       "\n",
       "    .dataframe thead th {\n",
       "        text-align: right;\n",
       "    }\n",
       "</style>\n",
       "<table border=\"1\" class=\"dataframe\">\n",
       "  <thead>\n",
       "    <tr style=\"text-align: right;\">\n",
       "      <th></th>\n",
       "      <th>Date</th>\n",
       "      <th>Price</th>\n",
       "      <th>Open</th>\n",
       "      <th>High</th>\n",
       "      <th>Low</th>\n",
       "      <th>Vol.</th>\n",
       "      <th>Change %</th>\n",
       "    </tr>\n",
       "  </thead>\n",
       "  <tbody>\n",
       "    <tr>\n",
       "      <th>0</th>\n",
       "      <td>2020-08-07</td>\n",
       "      <td>190.65</td>\n",
       "      <td>191.45</td>\n",
       "      <td>192.10</td>\n",
       "      <td>189.55</td>\n",
       "      <td>44.82M</td>\n",
       "      <td>-0.16%</td>\n",
       "    </tr>\n",
       "    <tr>\n",
       "      <th>1</th>\n",
       "      <td>2020-08-06</td>\n",
       "      <td>190.95</td>\n",
       "      <td>192.30</td>\n",
       "      <td>194.50</td>\n",
       "      <td>190.25</td>\n",
       "      <td>59.74M</td>\n",
       "      <td>-0.26%</td>\n",
       "    </tr>\n",
       "    <tr>\n",
       "      <th>2</th>\n",
       "      <td>2020-08-05</td>\n",
       "      <td>191.45</td>\n",
       "      <td>192.75</td>\n",
       "      <td>196.85</td>\n",
       "      <td>191.00</td>\n",
       "      <td>68.89M</td>\n",
       "      <td>-0.08%</td>\n",
       "    </tr>\n",
       "    <tr>\n",
       "      <th>3</th>\n",
       "      <td>2020-08-04</td>\n",
       "      <td>191.60</td>\n",
       "      <td>193.35</td>\n",
       "      <td>193.80</td>\n",
       "      <td>190.50</td>\n",
       "      <td>43.87M</td>\n",
       "      <td>-0.34%</td>\n",
       "    </tr>\n",
       "    <tr>\n",
       "      <th>4</th>\n",
       "      <td>2020-08-03</td>\n",
       "      <td>192.25</td>\n",
       "      <td>192.00</td>\n",
       "      <td>194.60</td>\n",
       "      <td>190.05</td>\n",
       "      <td>72.46M</td>\n",
       "      <td>0.42%</td>\n",
       "    </tr>\n",
       "    <tr>\n",
       "      <th>...</th>\n",
       "      <td>...</td>\n",
       "      <td>...</td>\n",
       "      <td>...</td>\n",
       "      <td>...</td>\n",
       "      <td>...</td>\n",
       "      <td>...</td>\n",
       "      <td>...</td>\n",
       "    </tr>\n",
       "    <tr>\n",
       "      <th>1380</th>\n",
       "      <td>2015-01-07</td>\n",
       "      <td>300.15</td>\n",
       "      <td>300.00</td>\n",
       "      <td>302.55</td>\n",
       "      <td>295.15</td>\n",
       "      <td>15.05M</td>\n",
       "      <td>0.08%</td>\n",
       "    </tr>\n",
       "    <tr>\n",
       "      <th>1381</th>\n",
       "      <td>2015-01-06</td>\n",
       "      <td>299.90</td>\n",
       "      <td>310.00</td>\n",
       "      <td>311.10</td>\n",
       "      <td>298.70</td>\n",
       "      <td>15.33M</td>\n",
       "      <td>-4.11%</td>\n",
       "    </tr>\n",
       "    <tr>\n",
       "      <th>1382</th>\n",
       "      <td>2015-01-05</td>\n",
       "      <td>312.75</td>\n",
       "      <td>316.25</td>\n",
       "      <td>316.80</td>\n",
       "      <td>312.10</td>\n",
       "      <td>9.14M</td>\n",
       "      <td>-0.79%</td>\n",
       "    </tr>\n",
       "    <tr>\n",
       "      <th>1383</th>\n",
       "      <td>2015-01-02</td>\n",
       "      <td>315.25</td>\n",
       "      <td>314.35</td>\n",
       "      <td>318.30</td>\n",
       "      <td>314.35</td>\n",
       "      <td>9.94M</td>\n",
       "      <td>0.40%</td>\n",
       "    </tr>\n",
       "    <tr>\n",
       "      <th>1384</th>\n",
       "      <td>2015-01-01</td>\n",
       "      <td>314.00</td>\n",
       "      <td>312.45</td>\n",
       "      <td>315.00</td>\n",
       "      <td>310.70</td>\n",
       "      <td>6.14M</td>\n",
       "      <td>0.69%</td>\n",
       "    </tr>\n",
       "  </tbody>\n",
       "</table>\n",
       "<p>1385 rows × 7 columns</p>\n",
       "</div>"
      ],
      "text/plain": [
       "           Date   Price    Open    High     Low    Vol. Change %\n",
       "0    2020-08-07  190.65  191.45  192.10  189.55  44.82M   -0.16%\n",
       "1    2020-08-06  190.95  192.30  194.50  190.25  59.74M   -0.26%\n",
       "2    2020-08-05  191.45  192.75  196.85  191.00  68.89M   -0.08%\n",
       "3    2020-08-04  191.60  193.35  193.80  190.50  43.87M   -0.34%\n",
       "4    2020-08-03  192.25  192.00  194.60  190.05  72.46M    0.42%\n",
       "...         ...     ...     ...     ...     ...     ...      ...\n",
       "1380 2015-01-07  300.15  300.00  302.55  295.15  15.05M    0.08%\n",
       "1381 2015-01-06  299.90  310.00  311.10  298.70  15.33M   -4.11%\n",
       "1382 2015-01-05  312.75  316.25  316.80  312.10   9.14M   -0.79%\n",
       "1383 2015-01-02  315.25  314.35  318.30  314.35   9.94M    0.40%\n",
       "1384 2015-01-01  314.00  312.45  315.00  310.70   6.14M    0.69%\n",
       "\n",
       "[1385 rows x 7 columns]"
      ]
     },
     "execution_count": 104,
     "metadata": {},
     "output_type": "execute_result"
    }
   ],
   "source": [
    "df=pd.read_csv('SBI_Historical_Data.csv',parse_dates=['Date'])\n",
    "df"
   ]
  },
  {
   "cell_type": "markdown",
   "id": "c519f3a2",
   "metadata": {},
   "source": [
    " <a id='data_preparation'></a>\n",
    " # 2.Data Preparatiopn"
   ]
  },
  {
   "cell_type": "markdown",
   "id": "01ed56a2",
   "metadata": {},
   "source": [
    "<table align=\"left\">\n",
    "    <tr>\n",
    "        <td width=\"8%\">\n",
    "            <img src=\"key.png\">\n",
    "        </td>\n",
    "        <td>\n",
    "            <div align=\"left\", style=\"font-size:120%\">\n",
    "                    <b>The process of data preparation entails cleansing, structuring and integrating data to make it ready for analysis. <br><br>\n",
    "                        Here we will analyze and prepare data to perform regression techniques:<br>\n",
    "                        1. Check dimensions and data types of the dataframe <br>\n",
    "                        2. Study summary statistics<br> \n",
    "                        3. Converting date into standard format<br> \n",
    "                        4. Check for missing values<br>\n",
    "                        5. Study correlation<br>\n",
    "                                       </b>\n",
    "                </font>\n",
    "            </div>\n",
    "        </td>\n",
    "    </tr>\n",
    "</table>"
   ]
  },
  {
   "cell_type": "markdown",
   "id": "8ab5ba51",
   "metadata": {},
   "source": [
    "<a id='data_dimension'></a>\n",
    "# 3.1 Dimensions of Dataset\n",
    "We get a quick idea of how many instances (rows) and how many attributes (columns) the data contains with the shape property."
   ]
  },
  {
   "cell_type": "code",
   "execution_count": 105,
   "id": "d3f1326a",
   "metadata": {},
   "outputs": [
    {
     "data": {
      "text/plain": [
       "(1385, 7)"
      ]
     },
     "execution_count": 105,
     "metadata": {},
     "output_type": "execute_result"
    }
   ],
   "source": [
    "df.shape"
   ]
  },
  {
   "cell_type": "markdown",
   "id": "5e47d4df",
   "metadata": {},
   "source": [
    "<a id='Stat_sum'></a>\n",
    "# 3.2 Statistical Summary\n",
    "Here we take a look at the summary of each attribute.\n",
    "\n",
    "This includes the count, mean, the min and max values as well as percentiles."
   ]
  },
  {
   "cell_type": "code",
   "execution_count": 106,
   "id": "210274ba",
   "metadata": {},
   "outputs": [
    {
     "data": {
      "text/html": [
       "<div>\n",
       "<style scoped>\n",
       "    .dataframe tbody tr th:only-of-type {\n",
       "        vertical-align: middle;\n",
       "    }\n",
       "\n",
       "    .dataframe tbody tr th {\n",
       "        vertical-align: top;\n",
       "    }\n",
       "\n",
       "    .dataframe thead th {\n",
       "        text-align: right;\n",
       "    }\n",
       "</style>\n",
       "<table border=\"1\" class=\"dataframe\">\n",
       "  <thead>\n",
       "    <tr style=\"text-align: right;\">\n",
       "      <th></th>\n",
       "      <th>Price</th>\n",
       "      <th>Open</th>\n",
       "      <th>High</th>\n",
       "      <th>Low</th>\n",
       "    </tr>\n",
       "  </thead>\n",
       "  <tbody>\n",
       "    <tr>\n",
       "      <th>count</th>\n",
       "      <td>1385.000000</td>\n",
       "      <td>1385.000000</td>\n",
       "      <td>1385.000000</td>\n",
       "      <td>1385.000000</td>\n",
       "    </tr>\n",
       "    <tr>\n",
       "      <th>mean</th>\n",
       "      <td>266.274404</td>\n",
       "      <td>266.903213</td>\n",
       "      <td>270.343682</td>\n",
       "      <td>262.757906</td>\n",
       "    </tr>\n",
       "    <tr>\n",
       "      <th>std</th>\n",
       "      <td>45.555277</td>\n",
       "      <td>45.590664</td>\n",
       "      <td>45.829745</td>\n",
       "      <td>45.248334</td>\n",
       "    </tr>\n",
       "    <tr>\n",
       "      <th>min</th>\n",
       "      <td>150.850000</td>\n",
       "      <td>151.950000</td>\n",
       "      <td>153.200000</td>\n",
       "      <td>148.250000</td>\n",
       "    </tr>\n",
       "    <tr>\n",
       "      <th>25%</th>\n",
       "      <td>245.650000</td>\n",
       "      <td>245.900000</td>\n",
       "      <td>248.800000</td>\n",
       "      <td>242.550000</td>\n",
       "    </tr>\n",
       "    <tr>\n",
       "      <th>50%</th>\n",
       "      <td>270.800000</td>\n",
       "      <td>271.150000</td>\n",
       "      <td>274.600000</td>\n",
       "      <td>267.400000</td>\n",
       "    </tr>\n",
       "    <tr>\n",
       "      <th>75%</th>\n",
       "      <td>296.150000</td>\n",
       "      <td>296.500000</td>\n",
       "      <td>300.750000</td>\n",
       "      <td>292.200000</td>\n",
       "    </tr>\n",
       "    <tr>\n",
       "      <th>max</th>\n",
       "      <td>372.400000</td>\n",
       "      <td>371.950000</td>\n",
       "      <td>373.800000</td>\n",
       "      <td>366.200000</td>\n",
       "    </tr>\n",
       "  </tbody>\n",
       "</table>\n",
       "</div>"
      ],
      "text/plain": [
       "             Price         Open         High          Low\n",
       "count  1385.000000  1385.000000  1385.000000  1385.000000\n",
       "mean    266.274404   266.903213   270.343682   262.757906\n",
       "std      45.555277    45.590664    45.829745    45.248334\n",
       "min     150.850000   151.950000   153.200000   148.250000\n",
       "25%     245.650000   245.900000   248.800000   242.550000\n",
       "50%     270.800000   271.150000   274.600000   267.400000\n",
       "75%     296.150000   296.500000   300.750000   292.200000\n",
       "max     372.400000   371.950000   373.800000   366.200000"
      ]
     },
     "execution_count": 106,
     "metadata": {},
     "output_type": "execute_result"
    }
   ],
   "source": [
    "# numerical features\n",
    "df.describe()"
   ]
  },
  {
   "cell_type": "code",
   "execution_count": 107,
   "id": "164421fc",
   "metadata": {},
   "outputs": [
    {
     "data": {
      "text/html": [
       "<div>\n",
       "<style scoped>\n",
       "    .dataframe tbody tr th:only-of-type {\n",
       "        vertical-align: middle;\n",
       "    }\n",
       "\n",
       "    .dataframe tbody tr th {\n",
       "        vertical-align: top;\n",
       "    }\n",
       "\n",
       "    .dataframe thead th {\n",
       "        text-align: right;\n",
       "    }\n",
       "</style>\n",
       "<table border=\"1\" class=\"dataframe\">\n",
       "  <thead>\n",
       "    <tr style=\"text-align: right;\">\n",
       "      <th></th>\n",
       "      <th>Vol.</th>\n",
       "      <th>Change %</th>\n",
       "    </tr>\n",
       "  </thead>\n",
       "  <tbody>\n",
       "    <tr>\n",
       "      <th>count</th>\n",
       "      <td>1385</td>\n",
       "      <td>1385</td>\n",
       "    </tr>\n",
       "    <tr>\n",
       "      <th>unique</th>\n",
       "      <td>1147</td>\n",
       "      <td>638</td>\n",
       "    </tr>\n",
       "    <tr>\n",
       "      <th>top</th>\n",
       "      <td>9.08M</td>\n",
       "      <td>-0.02%</td>\n",
       "    </tr>\n",
       "    <tr>\n",
       "      <th>freq</th>\n",
       "      <td>4</td>\n",
       "      <td>13</td>\n",
       "    </tr>\n",
       "  </tbody>\n",
       "</table>\n",
       "</div>"
      ],
      "text/plain": [
       "         Vol. Change %\n",
       "count    1385     1385\n",
       "unique   1147      638\n",
       "top     9.08M   -0.02%\n",
       "freq        4       13"
      ]
     },
     "execution_count": 107,
     "metadata": {},
     "output_type": "execute_result"
    }
   ],
   "source": [
    "#categorical features\n",
    "df.describe(include=object)"
   ]
  },
  {
   "cell_type": "markdown",
   "id": "0af9d1d3",
   "metadata": {},
   "source": [
    "<a id='check_data_type'></a>\n",
    "## 3.3 Checking Datatype and Missing Values "
   ]
  },
  {
   "cell_type": "code",
   "execution_count": 108,
   "id": "322509c8",
   "metadata": {},
   "outputs": [
    {
     "name": "stdout",
     "output_type": "stream",
     "text": [
      "<class 'pandas.core.frame.DataFrame'>\n",
      "RangeIndex: 1385 entries, 0 to 1384\n",
      "Data columns (total 7 columns):\n",
      " #   Column    Non-Null Count  Dtype         \n",
      "---  ------    --------------  -----         \n",
      " 0   Date      1385 non-null   datetime64[ns]\n",
      " 1   Price     1385 non-null   float64       \n",
      " 2   Open      1385 non-null   float64       \n",
      " 3   High      1385 non-null   float64       \n",
      " 4   Low       1385 non-null   float64       \n",
      " 5   Vol.      1385 non-null   object        \n",
      " 6   Change %  1385 non-null   object        \n",
      "dtypes: datetime64[ns](1), float64(4), object(2)\n",
      "memory usage: 75.9+ KB\n"
     ]
    }
   ],
   "source": [
    "df.info()"
   ]
  },
  {
   "cell_type": "markdown",
   "id": "a4105a5c",
   "metadata": {},
   "source": [
    "we drop the unnecessary columns and then checking null values"
   ]
  },
  {
   "cell_type": "code",
   "execution_count": 109,
   "id": "cb054ef9",
   "metadata": {},
   "outputs": [
    {
     "data": {
      "text/plain": [
       "Index(['Date', 'Price', 'Open', 'High', 'Low', 'Vol.', 'Change %'], dtype='object')"
      ]
     },
     "execution_count": 109,
     "metadata": {},
     "output_type": "execute_result"
    }
   ],
   "source": [
    "df.columns"
   ]
  },
  {
   "cell_type": "code",
   "execution_count": 110,
   "id": "5a7498e1",
   "metadata": {},
   "outputs": [
    {
     "data": {
      "text/html": [
       "<div>\n",
       "<style scoped>\n",
       "    .dataframe tbody tr th:only-of-type {\n",
       "        vertical-align: middle;\n",
       "    }\n",
       "\n",
       "    .dataframe tbody tr th {\n",
       "        vertical-align: top;\n",
       "    }\n",
       "\n",
       "    .dataframe thead th {\n",
       "        text-align: right;\n",
       "    }\n",
       "</style>\n",
       "<table border=\"1\" class=\"dataframe\">\n",
       "  <thead>\n",
       "    <tr style=\"text-align: right;\">\n",
       "      <th></th>\n",
       "      <th>Date</th>\n",
       "      <th>Price</th>\n",
       "    </tr>\n",
       "  </thead>\n",
       "  <tbody>\n",
       "    <tr>\n",
       "      <th>0</th>\n",
       "      <td>2020-08-07</td>\n",
       "      <td>190.65</td>\n",
       "    </tr>\n",
       "    <tr>\n",
       "      <th>1</th>\n",
       "      <td>2020-08-06</td>\n",
       "      <td>190.95</td>\n",
       "    </tr>\n",
       "    <tr>\n",
       "      <th>2</th>\n",
       "      <td>2020-08-05</td>\n",
       "      <td>191.45</td>\n",
       "    </tr>\n",
       "    <tr>\n",
       "      <th>3</th>\n",
       "      <td>2020-08-04</td>\n",
       "      <td>191.60</td>\n",
       "    </tr>\n",
       "    <tr>\n",
       "      <th>4</th>\n",
       "      <td>2020-08-03</td>\n",
       "      <td>192.25</td>\n",
       "    </tr>\n",
       "    <tr>\n",
       "      <th>...</th>\n",
       "      <td>...</td>\n",
       "      <td>...</td>\n",
       "    </tr>\n",
       "    <tr>\n",
       "      <th>1380</th>\n",
       "      <td>2015-01-07</td>\n",
       "      <td>300.15</td>\n",
       "    </tr>\n",
       "    <tr>\n",
       "      <th>1381</th>\n",
       "      <td>2015-01-06</td>\n",
       "      <td>299.90</td>\n",
       "    </tr>\n",
       "    <tr>\n",
       "      <th>1382</th>\n",
       "      <td>2015-01-05</td>\n",
       "      <td>312.75</td>\n",
       "    </tr>\n",
       "    <tr>\n",
       "      <th>1383</th>\n",
       "      <td>2015-01-02</td>\n",
       "      <td>315.25</td>\n",
       "    </tr>\n",
       "    <tr>\n",
       "      <th>1384</th>\n",
       "      <td>2015-01-01</td>\n",
       "      <td>314.00</td>\n",
       "    </tr>\n",
       "  </tbody>\n",
       "</table>\n",
       "<p>1385 rows × 2 columns</p>\n",
       "</div>"
      ],
      "text/plain": [
       "           Date   Price\n",
       "0    2020-08-07  190.65\n",
       "1    2020-08-06  190.95\n",
       "2    2020-08-05  191.45\n",
       "3    2020-08-04  191.60\n",
       "4    2020-08-03  192.25\n",
       "...         ...     ...\n",
       "1380 2015-01-07  300.15\n",
       "1381 2015-01-06  299.90\n",
       "1382 2015-01-05  312.75\n",
       "1383 2015-01-02  315.25\n",
       "1384 2015-01-01  314.00\n",
       "\n",
       "[1385 rows x 2 columns]"
      ]
     },
     "execution_count": 110,
     "metadata": {},
     "output_type": "execute_result"
    }
   ],
   "source": [
    "df.drop(['Open', 'High', 'Low', 'Vol.', 'Change %'],axis=1,inplace=True)\n",
    "df"
   ]
  },
  {
   "cell_type": "markdown",
   "id": "ffd49197",
   "metadata": {},
   "source": [
    "#### Checking nulls"
   ]
  },
  {
   "cell_type": "code",
   "execution_count": 111,
   "id": "e468d329",
   "metadata": {},
   "outputs": [
    {
     "data": {
      "text/plain": [
       "Date     0\n",
       "Price    0\n",
       "dtype: int64"
      ]
     },
     "execution_count": 111,
     "metadata": {},
     "output_type": "execute_result"
    }
   ],
   "source": [
    "df.isnull().sum()"
   ]
  },
  {
   "cell_type": "code",
   "execution_count": 112,
   "id": "54009625",
   "metadata": {},
   "outputs": [
    {
     "data": {
      "text/plain": [
       "0"
      ]
     },
     "execution_count": 112,
     "metadata": {},
     "output_type": "execute_result"
    }
   ],
   "source": [
    "df.duplicated().sum()"
   ]
  },
  {
   "cell_type": "markdown",
   "id": "14ebedf8",
   "metadata": {},
   "source": [
    "#### Checking the stock time stamp"
   ]
  },
  {
   "cell_type": "code",
   "execution_count": 113,
   "id": "112ab72b",
   "metadata": {},
   "outputs": [
    {
     "data": {
      "text/plain": [
       "(Timestamp('2015-01-01 00:00:00'), Timestamp('2020-08-07 00:00:00'))"
      ]
     },
     "execution_count": 113,
     "metadata": {},
     "output_type": "execute_result"
    }
   ],
   "source": [
    "df.Date.min(),df.Date.max()"
   ]
  },
  {
   "cell_type": "code",
   "execution_count": 114,
   "id": "1d5b3e7d",
   "metadata": {},
   "outputs": [
    {
     "data": {
      "text/plain": [
       "1385"
      ]
     },
     "execution_count": 114,
     "metadata": {},
     "output_type": "execute_result"
    }
   ],
   "source": [
    "len(df.Date.unique())"
   ]
  },
  {
   "cell_type": "code",
   "execution_count": 115,
   "id": "4aaad445",
   "metadata": {},
   "outputs": [
    {
     "data": {
      "text/html": [
       "<div>\n",
       "<style scoped>\n",
       "    .dataframe tbody tr th:only-of-type {\n",
       "        vertical-align: middle;\n",
       "    }\n",
       "\n",
       "    .dataframe tbody tr th {\n",
       "        vertical-align: top;\n",
       "    }\n",
       "\n",
       "    .dataframe thead th {\n",
       "        text-align: right;\n",
       "    }\n",
       "</style>\n",
       "<table border=\"1\" class=\"dataframe\">\n",
       "  <thead>\n",
       "    <tr style=\"text-align: right;\">\n",
       "      <th></th>\n",
       "      <th>Date</th>\n",
       "      <th>Price</th>\n",
       "    </tr>\n",
       "  </thead>\n",
       "  <tbody>\n",
       "    <tr>\n",
       "      <th>0</th>\n",
       "      <td>2015-01-01</td>\n",
       "      <td>314.00</td>\n",
       "    </tr>\n",
       "    <tr>\n",
       "      <th>1</th>\n",
       "      <td>2015-01-02</td>\n",
       "      <td>315.25</td>\n",
       "    </tr>\n",
       "    <tr>\n",
       "      <th>2</th>\n",
       "      <td>2015-01-05</td>\n",
       "      <td>312.75</td>\n",
       "    </tr>\n",
       "    <tr>\n",
       "      <th>3</th>\n",
       "      <td>2015-01-06</td>\n",
       "      <td>299.90</td>\n",
       "    </tr>\n",
       "    <tr>\n",
       "      <th>4</th>\n",
       "      <td>2015-01-07</td>\n",
       "      <td>300.15</td>\n",
       "    </tr>\n",
       "    <tr>\n",
       "      <th>...</th>\n",
       "      <td>...</td>\n",
       "      <td>...</td>\n",
       "    </tr>\n",
       "    <tr>\n",
       "      <th>1380</th>\n",
       "      <td>2020-08-03</td>\n",
       "      <td>192.25</td>\n",
       "    </tr>\n",
       "    <tr>\n",
       "      <th>1381</th>\n",
       "      <td>2020-08-04</td>\n",
       "      <td>191.60</td>\n",
       "    </tr>\n",
       "    <tr>\n",
       "      <th>1382</th>\n",
       "      <td>2020-08-05</td>\n",
       "      <td>191.45</td>\n",
       "    </tr>\n",
       "    <tr>\n",
       "      <th>1383</th>\n",
       "      <td>2020-08-06</td>\n",
       "      <td>190.95</td>\n",
       "    </tr>\n",
       "    <tr>\n",
       "      <th>1384</th>\n",
       "      <td>2020-08-07</td>\n",
       "      <td>190.65</td>\n",
       "    </tr>\n",
       "  </tbody>\n",
       "</table>\n",
       "<p>1385 rows × 2 columns</p>\n",
       "</div>"
      ],
      "text/plain": [
       "           Date   Price\n",
       "0    2015-01-01  314.00\n",
       "1    2015-01-02  315.25\n",
       "2    2015-01-05  312.75\n",
       "3    2015-01-06  299.90\n",
       "4    2015-01-07  300.15\n",
       "...         ...     ...\n",
       "1380 2020-08-03  192.25\n",
       "1381 2020-08-04  191.60\n",
       "1382 2020-08-05  191.45\n",
       "1383 2020-08-06  190.95\n",
       "1384 2020-08-07  190.65\n",
       "\n",
       "[1385 rows x 2 columns]"
      ]
     },
     "execution_count": 115,
     "metadata": {},
     "output_type": "execute_result"
    }
   ],
   "source": [
    "df=df.sort_values('Date',ignore_index=True)\n",
    "df"
   ]
  },
  {
   "cell_type": "markdown",
   "id": "e39739df",
   "metadata": {},
   "source": [
    "<a id='check_data_type'></a>\n",
    "## 3.4 Indexing with Date "
   ]
  },
  {
   "cell_type": "code",
   "execution_count": 116,
   "id": "c51db03c",
   "metadata": {},
   "outputs": [
    {
     "data": {
      "text/html": [
       "<div>\n",
       "<style scoped>\n",
       "    .dataframe tbody tr th:only-of-type {\n",
       "        vertical-align: middle;\n",
       "    }\n",
       "\n",
       "    .dataframe tbody tr th {\n",
       "        vertical-align: top;\n",
       "    }\n",
       "\n",
       "    .dataframe thead th {\n",
       "        text-align: right;\n",
       "    }\n",
       "</style>\n",
       "<table border=\"1\" class=\"dataframe\">\n",
       "  <thead>\n",
       "    <tr style=\"text-align: right;\">\n",
       "      <th></th>\n",
       "      <th>Price</th>\n",
       "    </tr>\n",
       "    <tr>\n",
       "      <th>Date</th>\n",
       "      <th></th>\n",
       "    </tr>\n",
       "  </thead>\n",
       "  <tbody>\n",
       "    <tr>\n",
       "      <th>2015-01-01</th>\n",
       "      <td>314.00</td>\n",
       "    </tr>\n",
       "    <tr>\n",
       "      <th>2015-01-02</th>\n",
       "      <td>315.25</td>\n",
       "    </tr>\n",
       "    <tr>\n",
       "      <th>2015-01-05</th>\n",
       "      <td>312.75</td>\n",
       "    </tr>\n",
       "    <tr>\n",
       "      <th>2015-01-06</th>\n",
       "      <td>299.90</td>\n",
       "    </tr>\n",
       "    <tr>\n",
       "      <th>2015-01-07</th>\n",
       "      <td>300.15</td>\n",
       "    </tr>\n",
       "    <tr>\n",
       "      <th>...</th>\n",
       "      <td>...</td>\n",
       "    </tr>\n",
       "    <tr>\n",
       "      <th>2020-08-03</th>\n",
       "      <td>192.25</td>\n",
       "    </tr>\n",
       "    <tr>\n",
       "      <th>2020-08-04</th>\n",
       "      <td>191.60</td>\n",
       "    </tr>\n",
       "    <tr>\n",
       "      <th>2020-08-05</th>\n",
       "      <td>191.45</td>\n",
       "    </tr>\n",
       "    <tr>\n",
       "      <th>2020-08-06</th>\n",
       "      <td>190.95</td>\n",
       "    </tr>\n",
       "    <tr>\n",
       "      <th>2020-08-07</th>\n",
       "      <td>190.65</td>\n",
       "    </tr>\n",
       "  </tbody>\n",
       "</table>\n",
       "<p>1385 rows × 1 columns</p>\n",
       "</div>"
      ],
      "text/plain": [
       "             Price\n",
       "Date              \n",
       "2015-01-01  314.00\n",
       "2015-01-02  315.25\n",
       "2015-01-05  312.75\n",
       "2015-01-06  299.90\n",
       "2015-01-07  300.15\n",
       "...            ...\n",
       "2020-08-03  192.25\n",
       "2020-08-04  191.60\n",
       "2020-08-05  191.45\n",
       "2020-08-06  190.95\n",
       "2020-08-07  190.65\n",
       "\n",
       "[1385 rows x 1 columns]"
      ]
     },
     "execution_count": 116,
     "metadata": {},
     "output_type": "execute_result"
    }
   ],
   "source": [
    "#Average Daily Sales\n",
    "sbi=df.pivot_table(values='Price',index='Date')\n",
    "sbi"
   ]
  },
  {
   "cell_type": "markdown",
   "id": "ccf897a0",
   "metadata": {},
   "source": [
    "<a id='Time_Series_Analysis'></a>\n",
    "# 4. Time Series Analysis"
   ]
  },
  {
   "cell_type": "markdown",
   "id": "dce085d8",
   "metadata": {},
   "source": [
    "<table align=\"left\">\n",
    "    <tr>\n",
    "        <td width=\"8%\">\n",
    "            <img src=\"key.png\">\n",
    "        </td>\n",
    "        <td>\n",
    "            <div align=\"left\", style=\"font-size:120%\">\n",
    "                    <b> Now we analysis Time series data to do so we need to perform following steps <br><br>\n",
    "                        1. Visualizing Data <br>\n",
    "                        2. Sampling<br>\n",
    "                        3. Checking Stationarity <br>\n",
    "                        4. Decomposing<br>\n",
    "                      </b>\n",
    "                </font>\n",
    "            </div>\n",
    "        </td>\n",
    "    </tr>\n",
    "</table>"
   ]
  },
  {
   "cell_type": "markdown",
   "id": "0ff9b3bb",
   "metadata": {},
   "source": [
    "<a id='Visualizing_data'></a>\n",
    "## 4.1 Visualizing data"
   ]
  },
  {
   "cell_type": "code",
   "execution_count": 117,
   "id": "a6febd64",
   "metadata": {},
   "outputs": [
    {
     "data": {
      "text/plain": [
       "<AxesSubplot:xlabel='Date'>"
      ]
     },
     "execution_count": 117,
     "metadata": {},
     "output_type": "execute_result"
    },
    {
     "data": {
      "image/png": "[encoded data removed]",
      "text/plain": [
       "<Figure size 1080x432 with 1 Axes>"
      ]
     },
     "metadata": {},
     "output_type": "display_data"
    }
   ],
   "source": [
    "sbi.plot(figsize=(15, 6))"
   ]
  },
  {
   "cell_type": "code",
   "execution_count": 118,
   "id": "0eaa75a4",
   "metadata": {},
   "outputs": [
    {
     "data": {
      "text/html": [
       "<div>\n",
       "<style scoped>\n",
       "    .dataframe tbody tr th:only-of-type {\n",
       "        vertical-align: middle;\n",
       "    }\n",
       "\n",
       "    .dataframe tbody tr th {\n",
       "        vertical-align: top;\n",
       "    }\n",
       "\n",
       "    .dataframe thead th {\n",
       "        text-align: right;\n",
       "    }\n",
       "</style>\n",
       "<table border=\"1\" class=\"dataframe\">\n",
       "  <thead>\n",
       "    <tr style=\"text-align: right;\">\n",
       "      <th></th>\n",
       "      <th>Price</th>\n",
       "      <th>month</th>\n",
       "      <th>year</th>\n",
       "    </tr>\n",
       "    <tr>\n",
       "      <th>Date</th>\n",
       "      <th></th>\n",
       "      <th></th>\n",
       "      <th></th>\n",
       "    </tr>\n",
       "  </thead>\n",
       "  <tbody>\n",
       "    <tr>\n",
       "      <th>2015-01-01</th>\n",
       "      <td>314.00</td>\n",
       "      <td>1</td>\n",
       "      <td>2015</td>\n",
       "    </tr>\n",
       "    <tr>\n",
       "      <th>2015-01-02</th>\n",
       "      <td>315.25</td>\n",
       "      <td>1</td>\n",
       "      <td>2015</td>\n",
       "    </tr>\n",
       "    <tr>\n",
       "      <th>2015-01-05</th>\n",
       "      <td>312.75</td>\n",
       "      <td>1</td>\n",
       "      <td>2015</td>\n",
       "    </tr>\n",
       "    <tr>\n",
       "      <th>2015-01-06</th>\n",
       "      <td>299.90</td>\n",
       "      <td>1</td>\n",
       "      <td>2015</td>\n",
       "    </tr>\n",
       "    <tr>\n",
       "      <th>2015-01-07</th>\n",
       "      <td>300.15</td>\n",
       "      <td>1</td>\n",
       "      <td>2015</td>\n",
       "    </tr>\n",
       "    <tr>\n",
       "      <th>...</th>\n",
       "      <td>...</td>\n",
       "      <td>...</td>\n",
       "      <td>...</td>\n",
       "    </tr>\n",
       "    <tr>\n",
       "      <th>2020-08-03</th>\n",
       "      <td>192.25</td>\n",
       "      <td>8</td>\n",
       "      <td>2020</td>\n",
       "    </tr>\n",
       "    <tr>\n",
       "      <th>2020-08-04</th>\n",
       "      <td>191.60</td>\n",
       "      <td>8</td>\n",
       "      <td>2020</td>\n",
       "    </tr>\n",
       "    <tr>\n",
       "      <th>2020-08-05</th>\n",
       "      <td>191.45</td>\n",
       "      <td>8</td>\n",
       "      <td>2020</td>\n",
       "    </tr>\n",
       "    <tr>\n",
       "      <th>2020-08-06</th>\n",
       "      <td>190.95</td>\n",
       "      <td>8</td>\n",
       "      <td>2020</td>\n",
       "    </tr>\n",
       "    <tr>\n",
       "      <th>2020-08-07</th>\n",
       "      <td>190.65</td>\n",
       "      <td>8</td>\n",
       "      <td>2020</td>\n",
       "    </tr>\n",
       "  </tbody>\n",
       "</table>\n",
       "<p>1385 rows × 3 columns</p>\n",
       "</div>"
      ],
      "text/plain": [
       "             Price  month  year\n",
       "Date                           \n",
       "2015-01-01  314.00      1  2015\n",
       "2015-01-02  315.25      1  2015\n",
       "2015-01-05  312.75      1  2015\n",
       "2015-01-06  299.90      1  2015\n",
       "2015-01-07  300.15      1  2015\n",
       "...            ...    ...   ...\n",
       "2020-08-03  192.25      8  2020\n",
       "2020-08-04  191.60      8  2020\n",
       "2020-08-05  191.45      8  2020\n",
       "2020-08-06  190.95      8  2020\n",
       "2020-08-07  190.65      8  2020\n",
       "\n",
       "[1385 rows x 3 columns]"
      ]
     },
     "execution_count": 118,
     "metadata": {},
     "output_type": "execute_result"
    }
   ],
   "source": [
    "sbi['month']=sbi.index.month\n",
    "sbi['year']=sbi.index.year\n",
    "sbi"
   ]
  },
  {
   "cell_type": "code",
   "execution_count": 119,
   "id": "5c0e9330",
   "metadata": {},
   "outputs": [
    {
     "name": "stdout",
     "output_type": "stream",
     "text": [
      "<class 'pandas.core.frame.DataFrame'>\n",
      "DatetimeIndex: 1385 entries, 2015-01-01 to 2020-08-07\n",
      "Data columns (total 3 columns):\n",
      " #   Column  Non-Null Count  Dtype  \n",
      "---  ------  --------------  -----  \n",
      " 0   Price   1385 non-null   float64\n",
      " 1   month   1385 non-null   int64  \n",
      " 2   year    1385 non-null   int64  \n",
      "dtypes: float64(1), int64(2)\n",
      "memory usage: 43.3 KB\n"
     ]
    }
   ],
   "source": [
    "sbi.info()"
   ]
  },
  {
   "cell_type": "code",
   "execution_count": 120,
   "id": "7b7bd78c",
   "metadata": {},
   "outputs": [
    {
     "name": "stdout",
     "output_type": "stream",
     "text": [
      "(68, 1)\n"
     ]
    },
    {
     "data": {
      "text/html": [
       "<div>\n",
       "<style scoped>\n",
       "    .dataframe tbody tr th:only-of-type {\n",
       "        vertical-align: middle;\n",
       "    }\n",
       "\n",
       "    .dataframe tbody tr th {\n",
       "        vertical-align: top;\n",
       "    }\n",
       "\n",
       "    .dataframe thead th {\n",
       "        text-align: right;\n",
       "    }\n",
       "</style>\n",
       "<table border=\"1\" class=\"dataframe\">\n",
       "  <thead>\n",
       "    <tr style=\"text-align: right;\">\n",
       "      <th></th>\n",
       "      <th></th>\n",
       "      <th>Price</th>\n",
       "    </tr>\n",
       "    <tr>\n",
       "      <th>Date</th>\n",
       "      <th>Date</th>\n",
       "      <th></th>\n",
       "    </tr>\n",
       "  </thead>\n",
       "  <tbody>\n",
       "    <tr>\n",
       "      <th rowspan=\"12\" valign=\"top\">2015</th>\n",
       "      <th>1</th>\n",
       "      <td>314.902381</td>\n",
       "    </tr>\n",
       "    <tr>\n",
       "      <th>2</th>\n",
       "      <td>296.115000</td>\n",
       "    </tr>\n",
       "    <tr>\n",
       "      <th>3</th>\n",
       "      <td>281.002381</td>\n",
       "    </tr>\n",
       "    <tr>\n",
       "      <th>4</th>\n",
       "      <td>279.800000</td>\n",
       "    </tr>\n",
       "    <tr>\n",
       "      <th>5</th>\n",
       "      <td>277.922500</td>\n",
       "    </tr>\n",
       "    <tr>\n",
       "      <th>6</th>\n",
       "      <td>260.229545</td>\n",
       "    </tr>\n",
       "    <tr>\n",
       "      <th>7</th>\n",
       "      <td>266.926087</td>\n",
       "    </tr>\n",
       "    <tr>\n",
       "      <th>8</th>\n",
       "      <td>268.185714</td>\n",
       "    </tr>\n",
       "    <tr>\n",
       "      <th>9</th>\n",
       "      <td>234.717500</td>\n",
       "    </tr>\n",
       "    <tr>\n",
       "      <th>10</th>\n",
       "      <td>245.530000</td>\n",
       "    </tr>\n",
       "    <tr>\n",
       "      <th>11</th>\n",
       "      <td>242.628947</td>\n",
       "    </tr>\n",
       "    <tr>\n",
       "      <th>12</th>\n",
       "      <td>232.109091</td>\n",
       "    </tr>\n",
       "    <tr>\n",
       "      <th rowspan=\"12\" valign=\"top\">2016</th>\n",
       "      <th>1</th>\n",
       "      <td>195.842500</td>\n",
       "    </tr>\n",
       "    <tr>\n",
       "      <th>2</th>\n",
       "      <td>161.923810</td>\n",
       "    </tr>\n",
       "    <tr>\n",
       "      <th>3</th>\n",
       "      <td>186.602500</td>\n",
       "    </tr>\n",
       "    <tr>\n",
       "      <th>4</th>\n",
       "      <td>190.850000</td>\n",
       "    </tr>\n",
       "    <tr>\n",
       "      <th>5</th>\n",
       "      <td>182.988636</td>\n",
       "    </tr>\n",
       "    <tr>\n",
       "      <th>6</th>\n",
       "      <td>210.304545</td>\n",
       "    </tr>\n",
       "    <tr>\n",
       "      <th>7</th>\n",
       "      <td>226.597500</td>\n",
       "    </tr>\n",
       "    <tr>\n",
       "      <th>8</th>\n",
       "      <td>242.052273</td>\n",
       "    </tr>\n",
       "    <tr>\n",
       "      <th>9</th>\n",
       "      <td>255.657500</td>\n",
       "    </tr>\n",
       "    <tr>\n",
       "      <th>10</th>\n",
       "      <td>257.268421</td>\n",
       "    </tr>\n",
       "    <tr>\n",
       "      <th>11</th>\n",
       "      <td>261.307143</td>\n",
       "    </tr>\n",
       "    <tr>\n",
       "      <th>12</th>\n",
       "      <td>256.340909</td>\n",
       "    </tr>\n",
       "    <tr>\n",
       "      <th rowspan=\"4\" valign=\"top\">2017</th>\n",
       "      <th>1</th>\n",
       "      <td>252.897619</td>\n",
       "    </tr>\n",
       "    <tr>\n",
       "      <th>2</th>\n",
       "      <td>272.478947</td>\n",
       "    </tr>\n",
       "    <tr>\n",
       "      <th>3</th>\n",
       "      <td>275.254545</td>\n",
       "    </tr>\n",
       "    <tr>\n",
       "      <th>4</th>\n",
       "      <td>288.886111</td>\n",
       "    </tr>\n",
       "  </tbody>\n",
       "</table>\n",
       "</div>"
      ],
      "text/plain": [
       "                Price\n",
       "Date Date            \n",
       "2015 1     314.902381\n",
       "     2     296.115000\n",
       "     3     281.002381\n",
       "     4     279.800000\n",
       "     5     277.922500\n",
       "     6     260.229545\n",
       "     7     266.926087\n",
       "     8     268.185714\n",
       "     9     234.717500\n",
       "     10    245.530000\n",
       "     11    242.628947\n",
       "     12    232.109091\n",
       "2016 1     195.842500\n",
       "     2     161.923810\n",
       "     3     186.602500\n",
       "     4     190.850000\n",
       "     5     182.988636\n",
       "     6     210.304545\n",
       "     7     226.597500\n",
       "     8     242.052273\n",
       "     9     255.657500\n",
       "     10    257.268421\n",
       "     11    261.307143\n",
       "     12    256.340909\n",
       "2017 1     252.897619\n",
       "     2     272.478947\n",
       "     3     275.254545\n",
       "     4     288.886111"
      ]
     },
     "execution_count": 120,
     "metadata": {},
     "output_type": "execute_result"
    }
   ],
   "source": [
    "#Average Monthly Stocks Price\n",
    "month_sbi=df.pivot_table(values='Price',index=[df['Date'].dt.year,df['Date'].dt.month])\n",
    "print(month_sbi.shape)\n",
    "month_sbi.head(28)"
   ]
  },
  {
   "cell_type": "markdown",
   "id": "1b06c267",
   "metadata": {},
   "source": [
    "<a id='Sampling'></a>\n",
    "## 4.2 Samplimg"
   ]
  },
  {
   "cell_type": "code",
   "execution_count": 121,
   "id": "678391eb",
   "metadata": {},
   "outputs": [
    {
     "data": {
      "text/html": [
       "<div>\n",
       "<style scoped>\n",
       "    .dataframe tbody tr th:only-of-type {\n",
       "        vertical-align: middle;\n",
       "    }\n",
       "\n",
       "    .dataframe tbody tr th {\n",
       "        vertical-align: top;\n",
       "    }\n",
       "\n",
       "    .dataframe thead th {\n",
       "        text-align: right;\n",
       "    }\n",
       "</style>\n",
       "<table border=\"1\" class=\"dataframe\">\n",
       "  <thead>\n",
       "    <tr style=\"text-align: right;\">\n",
       "      <th></th>\n",
       "      <th>min</th>\n",
       "      <th>max</th>\n",
       "      <th>mean</th>\n",
       "      <th>sum</th>\n",
       "    </tr>\n",
       "    <tr>\n",
       "      <th>Date</th>\n",
       "      <th></th>\n",
       "      <th></th>\n",
       "      <th></th>\n",
       "      <th></th>\n",
       "    </tr>\n",
       "  </thead>\n",
       "  <tbody>\n",
       "    <tr>\n",
       "      <th>2015-01-01</th>\n",
       "      <td>299.90</td>\n",
       "      <td>334.60</td>\n",
       "      <td>314.902381</td>\n",
       "      <td>6612.95</td>\n",
       "    </tr>\n",
       "    <tr>\n",
       "      <th>2015-02-01</th>\n",
       "      <td>279.50</td>\n",
       "      <td>307.50</td>\n",
       "      <td>296.115000</td>\n",
       "      <td>5922.30</td>\n",
       "    </tr>\n",
       "    <tr>\n",
       "      <th>2015-03-01</th>\n",
       "      <td>256.65</td>\n",
       "      <td>302.60</td>\n",
       "      <td>281.002381</td>\n",
       "      <td>5901.05</td>\n",
       "    </tr>\n",
       "    <tr>\n",
       "      <th>2015-04-01</th>\n",
       "      <td>267.05</td>\n",
       "      <td>292.40</td>\n",
       "      <td>279.800000</td>\n",
       "      <td>5316.20</td>\n",
       "    </tr>\n",
       "    <tr>\n",
       "      <th>2015-05-01</th>\n",
       "      <td>260.95</td>\n",
       "      <td>292.60</td>\n",
       "      <td>277.922500</td>\n",
       "      <td>5558.45</td>\n",
       "    </tr>\n",
       "    <tr>\n",
       "      <th>...</th>\n",
       "      <td>...</td>\n",
       "      <td>...</td>\n",
       "      <td>...</td>\n",
       "      <td>...</td>\n",
       "    </tr>\n",
       "    <tr>\n",
       "      <th>2020-04-01</th>\n",
       "      <td>175.50</td>\n",
       "      <td>193.25</td>\n",
       "      <td>185.833333</td>\n",
       "      <td>3345.00</td>\n",
       "    </tr>\n",
       "    <tr>\n",
       "      <th>2020-05-01</th>\n",
       "      <td>150.85</td>\n",
       "      <td>178.85</td>\n",
       "      <td>162.755263</td>\n",
       "      <td>3092.35</td>\n",
       "    </tr>\n",
       "    <tr>\n",
       "      <th>2020-06-01</th>\n",
       "      <td>170.05</td>\n",
       "      <td>192.45</td>\n",
       "      <td>180.377273</td>\n",
       "      <td>3968.30</td>\n",
       "    </tr>\n",
       "    <tr>\n",
       "      <th>2020-07-01</th>\n",
       "      <td>183.80</td>\n",
       "      <td>199.10</td>\n",
       "      <td>189.928261</td>\n",
       "      <td>4368.35</td>\n",
       "    </tr>\n",
       "    <tr>\n",
       "      <th>2020-08-01</th>\n",
       "      <td>190.65</td>\n",
       "      <td>192.25</td>\n",
       "      <td>191.380000</td>\n",
       "      <td>956.90</td>\n",
       "    </tr>\n",
       "  </tbody>\n",
       "</table>\n",
       "<p>68 rows × 4 columns</p>\n",
       "</div>"
      ],
      "text/plain": [
       "               min     max        mean      sum\n",
       "Date                                           \n",
       "2015-01-01  299.90  334.60  314.902381  6612.95\n",
       "2015-02-01  279.50  307.50  296.115000  5922.30\n",
       "2015-03-01  256.65  302.60  281.002381  5901.05\n",
       "2015-04-01  267.05  292.40  279.800000  5316.20\n",
       "2015-05-01  260.95  292.60  277.922500  5558.45\n",
       "...            ...     ...         ...      ...\n",
       "2020-04-01  175.50  193.25  185.833333  3345.00\n",
       "2020-05-01  150.85  178.85  162.755263  3092.35\n",
       "2020-06-01  170.05  192.45  180.377273  3968.30\n",
       "2020-07-01  183.80  199.10  189.928261  4368.35\n",
       "2020-08-01  190.65  192.25  191.380000   956.90\n",
       "\n",
       "[68 rows x 4 columns]"
      ]
     },
     "execution_count": 121,
     "metadata": {},
     "output_type": "execute_result"
    }
   ],
   "source": [
    "sbi.Price.resample('MS').agg(['min','max', 'mean','sum'])"
   ]
  },
  {
   "cell_type": "code",
   "execution_count": 122,
   "id": "294646d6",
   "metadata": {},
   "outputs": [
    {
     "data": {
      "text/plain": [
       "Date\n",
       "2015-01-01    314.902381\n",
       "2015-02-01    296.115000\n",
       "2015-03-01    281.002381\n",
       "2015-04-01    279.800000\n",
       "2015-05-01    277.922500\n",
       "2015-06-01    260.229545\n",
       "2015-07-01    266.926087\n",
       "2015-08-01    268.185714\n",
       "2015-09-01    234.717500\n",
       "2015-10-01    245.530000\n",
       "2015-11-01    242.628947\n",
       "2015-12-01    232.109091\n",
       "2016-01-01    195.842500\n",
       "2016-02-01    161.923810\n",
       "2016-03-01    186.602500\n",
       "2016-04-01    190.850000\n",
       "2016-05-01    182.988636\n",
       "2016-06-01    210.304545\n",
       "2016-07-01    226.597500\n",
       "2016-08-01    242.052273\n",
       "2016-09-01    255.657500\n",
       "2016-10-01    257.268421\n",
       "2016-11-01    261.307143\n",
       "2016-12-01    256.340909\n",
       "2017-01-01    252.897619\n",
       "2017-02-01    272.478947\n",
       "2017-03-01    275.254545\n",
       "2017-04-01    288.886111\n",
       "2017-05-01    295.136364\n",
       "2017-06-01    285.483333\n",
       "2017-07-01    289.345238\n",
       "2017-08-01    288.376190\n",
       "2017-09-01    268.014286\n",
       "2017-10-01    267.302500\n",
       "2017-11-01    327.336364\n",
       "2017-12-01    315.342500\n",
       "2018-01-01    307.663636\n",
       "2018-02-01    282.592105\n",
       "2018-03-01    251.665789\n",
       "2018-04-01    248.671429\n",
       "2018-05-01    252.909091\n",
       "2018-06-01    270.904762\n",
       "2018-07-01    266.120455\n",
       "2018-08-01    303.523810\n",
       "2018-09-01    281.219444\n",
       "2018-10-01    264.573810\n",
       "2018-11-01    285.555000\n",
       "2018-12-01    287.920000\n",
       "2019-01-01    294.830435\n",
       "2019-02-01    273.615000\n",
       "Freq: MS, Name: Price, dtype: float64"
      ]
     },
     "execution_count": 122,
     "metadata": {},
     "output_type": "execute_result"
    }
   ],
   "source": [
    "# Resampling for Average monthly stock price\n",
    "y=sbi['Price'].resample('MS').mean()\n",
    "y.head(50)"
   ]
  },
  {
   "cell_type": "code",
   "execution_count": 123,
   "id": "6241b490",
   "metadata": {},
   "outputs": [
    {
     "data": {
      "text/plain": [
       "<AxesSubplot:xlabel='Date'>"
      ]
     },
     "execution_count": 123,
     "metadata": {},
     "output_type": "execute_result"
    },
    {
     "data": {
      "image/png": "[encoded data removed]",
      "text/plain": [
       "<Figure size 1080x432 with 1 Axes>"
      ]
     },
     "metadata": {},
     "output_type": "display_data"
    }
   ],
   "source": [
    "y.plot(figsize=(15, 6))"
   ]
  },
  {
   "cell_type": "markdown",
   "id": "d1f2fe94",
   "metadata": {},
   "source": [
    "<a id='Decomposition'></a>\n",
    "## 4.2 Decomposition"
   ]
  },
  {
   "cell_type": "markdown",
   "id": "24b636f2",
   "metadata": {},
   "source": [
    "Decomposing the time series into three distinct components: trend, seasonality, and noise."
   ]
  },
  {
   "cell_type": "code",
   "execution_count": 125,
   "id": "bcd69a34",
   "metadata": {},
   "outputs": [],
   "source": [
    "from statsmodels.tsa.seasonal import seasonal_decompose\n",
    "decomposition = seasonal_decompose(y)"
   ]
  },
  {
   "cell_type": "code",
   "execution_count": 126,
   "id": "e2b62d94",
   "metadata": {},
   "outputs": [
    {
     "data": {
      "image/png": "[encoded data removed]",
      "text/plain": [
       "<Figure size 720x360 with 1 Axes>"
      ]
     },
     "metadata": {},
     "output_type": "display_data"
    },
    {
     "data": {
      "image/png": "[encoded data removed]",
      "text/plain": [
       "<Figure size 432x288 with 1 Axes>"
      ]
     },
     "metadata": {},
     "output_type": "display_data"
    },
    {
     "data": {
      "image/png": "[encoded data removed]",
      "text/plain": [
       "<Figure size 720x360 with 1 Axes>"
      ]
     },
     "metadata": {},
     "output_type": "display_data"
    },
    {
     "data": {
      "text/plain": [
       "<matplotlib.legend.Legend at 0x27fe69e0a30>"
      ]
     },
     "execution_count": 126,
     "metadata": {},
     "output_type": "execute_result"
    },
    {
     "data": {
      "image/png": "[encoded data removed]",
      "text/plain": [
       "<Figure size 432x288 with 1 Axes>"
      ]
     },
     "metadata": {},
     "output_type": "display_data"
    }
   ],
   "source": [
    "from statsmodels.tsa.seasonal import seasonal_decompose\n",
    "decomposition = seasonal_decompose(y)\n",
    "\n",
    "plt.figure(figsize=(10,5))\n",
    "plt.plot(y, label = 'Original')\n",
    "plt.legend(loc = 'best')\n",
    "\n",
    "trend = decomposition.trend\n",
    "plt.show()\n",
    "plt.plot(trend, label = 'Trend')\n",
    "plt.legend(loc = 'best')\n",
    "\n",
    "seasonal = decomposition.seasonal\n",
    "plt.show()\n",
    "plt.figure(figsize=(10,5))\n",
    "plt.plot(seasonal, label = 'Seasonal')\n",
    "plt.legend(loc = 'best')\n",
    "\n",
    "residual = decomposition.resid\n",
    "plt.show()\n",
    "plt.plot(residual, label = 'Residual')\n",
    "plt.legend(loc='best')"
   ]
  },
  {
   "cell_type": "markdown",
   "id": "a867b8c9",
   "metadata": {},
   "source": [
    "so We see that seasonality is present in our  stocks data"
   ]
  },
  {
   "cell_type": "markdown",
   "id": "57b70483",
   "metadata": {},
   "source": [
    "<table align=\"left\">\n",
    "    <tr>\n",
    "        <td width=\"8%\">\n",
    "            <img src=\"0.png\">\n",
    "        </td>\n",
    "        <td>\n",
    "            <div align=\"left\", style=\"font-size:120%\">\n",
    "                    <b>The plot clearly indicates that the time series has seasonality pattern.The stock prices are always high at the beginning of the year and high but slightly down trend at the end of the year. There is always an upward trend within any single year with a couple of low months after start the year and when approching end of the year</b>\n",
    "                </font>\n",
    "            </div>\n",
    "        </td>\n",
    "    </tr>\n",
    "</table>\n",
    "\n"
   ]
  },
  {
   "cell_type": "markdown",
   "id": "ee48ef3b",
   "metadata": {},
   "source": [
    "<a id=\"Checking_Stationarity\"></a>\n",
    "## 4.3 Checking Stationarity\n",
    "\n",
    "## ADF Test"
   ]
  },
  {
   "cell_type": "markdown",
   "id": "df08e302",
   "metadata": {},
   "source": [
    "Our first step in time-series analysis should be to check whether\n",
    "there is any evidence of a trend or seasonal effects and, if there is, remove them.\n",
    "Augmented Dickey-Fuller(ADF) statistics is one of the more widely used statistical test\n",
    "to check whether your time series is stationary or non-stationary. It uses an autoregressive\n",
    "model and optimizes an information criterion across multiple different lag values.\n"
   ]
  },
  {
   "cell_type": "markdown",
   "id": "a13df6b2",
   "metadata": {},
   "source": [
    "**Null Hypothesis: The series has a unit root (value of a =1)(not stationary)**\n",
    "\n",
    "**Alternate Hypothesis: The series has no unit root (stationary)**"
   ]
  },
  {
   "cell_type": "code",
   "execution_count": 127,
   "id": "57189dd2",
   "metadata": {},
   "outputs": [],
   "source": [
    "from statsmodels.tsa.stattools import adfuller"
   ]
  },
  {
   "cell_type": "code",
   "execution_count": 128,
   "id": "5261ca33",
   "metadata": {
    "scrolled": true
   },
   "outputs": [
    {
     "name": "stdout",
     "output_type": "stream",
     "text": [
      "ADF Statistic: -2.460279\n",
      "p-value: 0.125440\n",
      "Critical Values:\n",
      "\t1%: -3.534\n",
      "\t5%: -2.906\n",
      "\t10%: -2.591\n"
     ]
    }
   ],
   "source": [
    "from pandas import Series\n",
    "from statsmodels.tsa.stattools import adfuller\n",
    "#series = Series.from_csv('Sbi stocks Price.csv', header=0)\n",
    "result = adfuller(y)\n",
    "print('ADF Statistic: %f' % result[0])\n",
    "print('p-value: %f' % result[1])\n",
    "print('Critical Values:')\n",
    "for key, value in result[4].items():\n",
    "    print('\\t%s: %.3f' % (key, value))"
   ]
  },
  {
   "cell_type": "markdown",
   "id": "b185dae9",
   "metadata": {},
   "source": [
    "**So by this statistical test we say p-value of 0.12 is greater than 0.05 so we accept the Null hypothesis or \n",
    "also  statistical value of -2.46 is greater than 1% critical value of -3.534 so we accept the Null Hypothresis\n",
    "so this Series is not Stationary**"
   ]
  },
  {
   "cell_type": "markdown",
   "id": "610f0e08",
   "metadata": {},
   "source": [
    "### KPSS Test\n",
    "\n",
    "**Null Hypothesis: The series has no  unit root ( stationary)**\n",
    "\n",
    "**Alternate Hypothesis: The series has no unit root (not stationary)**"
   ]
  },
  {
   "cell_type": "code",
   "execution_count": 129,
   "id": "d22033f9",
   "metadata": {},
   "outputs": [
    {
     "name": "stdout",
     "output_type": "stream",
     "text": [
      "Results of KPSS Test:\n",
      "Test Statistic           0.388692\n",
      "p-value                  0.082029\n",
      "#Lags Used               1.000000\n",
      "Critical Value (10%)     0.347000\n",
      "Critical Value (5%)      0.463000\n",
      "Critical Value (2.5%)    0.574000\n",
      "Critical Value (1%)      0.739000\n",
      "dtype: float64\n"
     ]
    }
   ],
   "source": [
    "# Function to print out results in customised manner\n",
    "from statsmodels.tsa.stattools import kpss\n",
    "print('Results of KPSS Test:')\n",
    "kpsstest = kpss(y, regression='c', nlags=1)\n",
    "kpss_output = pd.Series(kpsstest[0:3], index=['Test Statistic','p-value','#Lags Used'])\n",
    "for key,value in kpsstest[3].items():\n",
    "    kpss_output['Critical Value (%s)'%key] = value\n",
    "print(kpss_output)"
   ]
  },
  {
   "cell_type": "markdown",
   "id": "b8477728",
   "metadata": {},
   "source": [
    "So here P-value of 0.08 is greater than 0.05 confidence value so we accep the null hypothesis"
   ]
  },
  {
   "cell_type": "markdown",
   "id": "646c0d3d",
   "metadata": {},
   "source": [
    "#### 1.  Log Transformation"
   ]
  },
  {
   "cell_type": "code",
   "execution_count": 130,
   "id": "163fc977",
   "metadata": {},
   "outputs": [],
   "source": [
    "# Original data before transformation\n",
    "y_original=y"
   ]
  },
  {
   "cell_type": "code",
   "execution_count": 131,
   "id": "45ed8174",
   "metadata": {},
   "outputs": [
    {
     "name": "stdout",
     "output_type": "stream",
     "text": [
      "ADF Statistic: -2.410727\n",
      "p-value: 0.138732\n",
      "Critical Values:\n",
      "\t1%: -3.534\n",
      "\t5%: -2.906\n",
      "\t10%: -2.591\n"
     ]
    }
   ],
   "source": [
    "# if the data is not stationary we can make use of two methods to make it stationary\n",
    "# 1.  log transformation \n",
    "# 2. differencing\n",
    "\n",
    "\n",
    "# code\n",
    "\n",
    "\n",
    "y = np.log(y)\n",
    "result = adfuller(y ) # code for  log transformation\n",
    "print('ADF Statistic: %f' % result[0])\n",
    "print('p-value: %f' % result[1])\n",
    "print('Critical Values:')\n",
    "for key, value in result[4].items():\n",
    "    print('\\t%s: %.3f' % (key, value))\n",
    "\n"
   ]
  },
  {
   "cell_type": "code",
   "execution_count": 197,
   "id": "4d83aeb1",
   "metadata": {},
   "outputs": [
    {
     "data": {
      "text/plain": [
       "<AxesSubplot:xlabel='Date'>"
      ]
     },
     "execution_count": 197,
     "metadata": {},
     "output_type": "execute_result"
    },
    {
     "data": {
      "image/png": "[encoded data removed]",
      "text/plain": [
       "<Figure size 432x288 with 1 Axes>"
      ]
     },
     "metadata": {},
     "output_type": "display_data"
    }
   ],
   "source": [
    "y.plot()"
   ]
  },
  {
   "cell_type": "code",
   "execution_count": 132,
   "id": "d9223b50",
   "metadata": {},
   "outputs": [
    {
     "data": {
      "text/plain": [
       "Date\n",
       "2015-01-01    5.752263\n",
       "2015-02-01    5.690748\n",
       "2015-03-01    5.638363\n",
       "2015-04-01    5.634075\n",
       "2015-05-01    5.627342\n",
       "Freq: MS, Name: Price, dtype: float64"
      ]
     },
     "execution_count": 132,
     "metadata": {},
     "output_type": "execute_result"
    }
   ],
   "source": [
    "y.head()"
   ]
  },
  {
   "cell_type": "markdown",
   "id": "6d32348f",
   "metadata": {},
   "source": [
    "#### 2.  Differencing"
   ]
  },
  {
   "cell_type": "code",
   "execution_count": 133,
   "id": "0298a206",
   "metadata": {},
   "outputs": [
    {
     "data": {
      "text/plain": [
       "\"\\n\\ny=y.diff()[1:] # differencing code\\nresult = adfuller(y)\\nprint('ADF Statistic: %f' % result[0])\\nprint('p-value: %f' % result[1])\\nprint('Critical Values:')\\nfor key, value in result[4].items():\\n    print('\\t%s: %.3f' % (key, value))\\n\\n\""
      ]
     },
     "execution_count": 133,
     "metadata": {},
     "output_type": "execute_result"
    }
   ],
   "source": [
    "'''\n",
    "\n",
    "y=y.diff()[1:] # differencing code\n",
    "result = adfuller(y)\n",
    "print('ADF Statistic: %f' % result[0])\n",
    "print('p-value: %f' % result[1])\n",
    "print('Critical Values:')\n",
    "for key, value in result[4].items():\n",
    "    print('\\t%s: %.3f' % (key, value))\n",
    "\n",
    "'''"
   ]
  },
  {
   "cell_type": "code",
   "execution_count": null,
   "id": "f6a663e7",
   "metadata": {},
   "outputs": [],
   "source": []
  },
  {
   "cell_type": "code",
   "execution_count": 124,
   "id": "779d7faa",
   "metadata": {},
   "outputs": [
    {
     "data": {
      "text/plain": [
       "\"''[fig, ax = plt.subplots(nrows = 3, ncols = 3, figsize=(25, 20))\\n\\n\\nfor variable, subplot in zip(y, ax.flatten()):\\n    \\n    \\n    lag_plot(dfInput[variable], ax = subplot)\\n\\n\\nplt.title('SBI Autocorrelation plot')]\""
      ]
     },
     "execution_count": 124,
     "metadata": {},
     "output_type": "execute_result"
    }
   ],
   "source": [
    "'''''[fig, ax = plt.subplots(nrows = 3, ncols = 3, figsize=(25, 20))\n",
    "\n",
    "\n",
    "for variable, subplot in zip(y, ax.flatten()):\n",
    "    \n",
    "    \n",
    "    lag_plot(dfInput[variable], ax = subplot)\n",
    "\n",
    "\n",
    "plt.title('SBI Autocorrelation plot')]'''''"
   ]
  },
  {
   "cell_type": "markdown",
   "id": "243729e0",
   "metadata": {},
   "source": [
    "<a id='Time_Series_Forcasting_using_ARIMA'></a>\n",
    "# 5. Time Series Forcasting using ARIMA"
   ]
  },
  {
   "cell_type": "markdown",
   "id": "d22c3cc3",
   "metadata": {},
   "source": [
    "<table align=\"left\">\n",
    "    <tr>\n",
    "        <td width=\"8%\">\n",
    "            <img src=\"key.png\">\n",
    "        </td>\n",
    "        <td>\n",
    "            <div align=\"left\", style=\"font-size:120%\">\n",
    "                    <b> We will use ARIMA for forecasting our time series. ARIMA is also denoted as ARIMA(p,d,q) where p,d,q accounts for seasonality, trend and noise in the time series data</b>\n",
    "                </font>\n",
    "            </div>\n",
    "        </td>\n",
    "    </tr>\n",
    "</table>\n"
   ]
  },
  {
   "cell_type": "code",
   "execution_count": 134,
   "id": "4cf9bbd2",
   "metadata": {},
   "outputs": [
    {
     "name": "stdout",
     "output_type": "stream",
     "text": [
      "Examples of parameter combinations for Seasonal ARIMA...\n",
      "SARIMAX: (0, 0, 1) x (0, 0, 1, 12)\n",
      "SARIMAX: (0, 0, 1) x (0, 1, 0, 12)\n",
      "SARIMAX: (0, 1, 0) x (0, 1, 1, 12)\n",
      "SARIMAX: (0, 1, 0) x (1, 0, 0, 12)\n"
     ]
    }
   ],
   "source": [
    "p = d = q = [0,1]\n",
    "pdq = list(itertools.product(p, d, q))\n",
    "seasonal_pdq = [(x[0], x[1], x[2], 12) for x in list(itertools.product(p, d, q))]\n",
    "print('Examples of parameter combinations for Seasonal ARIMA...')\n",
    "print('SARIMAX: {} x {}'.format(pdq[1], seasonal_pdq[1]))\n",
    "print('SARIMAX: {} x {}'.format(pdq[1], seasonal_pdq[2]))\n",
    "print('SARIMAX: {} x {}'.format(pdq[2], seasonal_pdq[3]))\n",
    "print('SARIMAX: {} x {}'.format(pdq[2], seasonal_pdq[4]))"
   ]
  },
  {
   "cell_type": "markdown",
   "id": "ec69d9a5",
   "metadata": {},
   "source": [
    "<a id='Parameter_Selection'></a>\n",
    "## 5.1 Parameter Selection "
   ]
  },
  {
   "cell_type": "markdown",
   "id": "d4574a5d",
   "metadata": {},
   "source": [
    "<table align=\"left\">\n",
    "    <tr>\n",
    "        <td width=\"8%\">\n",
    "            <img src=\"key.png\">\n",
    "        </td>\n",
    "        <td>\n",
    "            <div align=\"left\", style=\"font-size:120%\">\n",
    "                    <b>We use “grid search” to find the optimal set of parameters that yields the best performance for our model</b>\n",
    "                </font>\n",
    "            </div>\n",
    "        </td>\n",
    "    </tr>\n",
    "</table>"
   ]
  },
  {
   "cell_type": "code",
   "execution_count": 135,
   "id": "105365e0",
   "metadata": {},
   "outputs": [
    {
     "name": "stdout",
     "output_type": "stream",
     "text": [
      "ARIMA(0, 0, 0)x(0, 0, 0, 12)12 - AIC:422.15120778308534\n",
      "ARIMA(0, 0, 0)x(0, 0, 1, 12)12 - AIC:302.0706060897905\n",
      "ARIMA(0, 0, 0)x(0, 1, 0, 12)12 - AIC:19.81866010862017\n",
      "ARIMA(0, 0, 0)x(0, 1, 1, 12)12 - AIC:-4.64902386066349\n",
      "ARIMA(0, 0, 0)x(1, 0, 0, 12)12 - AIC:23.39433953211323\n",
      "ARIMA(0, 0, 0)x(1, 0, 1, 12)12 - AIC:1.1403045627959383\n",
      "ARIMA(0, 0, 0)x(1, 1, 0, 12)12 - AIC:-7.6563368721284135\n",
      "ARIMA(0, 0, 0)x(1, 1, 1, 12)12 - AIC:-4.626174512135579\n",
      "ARIMA(0, 0, 1)x(0, 0, 0, 12)12 - AIC:331.5216096374912\n",
      "ARIMA(0, 0, 1)x(0, 0, 1, 12)12 - AIC:228.15630454796133\n",
      "ARIMA(0, 0, 1)x(0, 1, 0, 12)12 - AIC:-34.341727672019594\n",
      "ARIMA(0, 0, 1)x(0, 1, 1, 12)12 - AIC:-38.1822414530428\n",
      "ARIMA(0, 0, 1)x(1, 0, 0, 12)12 - AIC:-27.923698927918778\n",
      "ARIMA(0, 0, 1)x(1, 0, 1, 12)12 - AIC:-44.31739270659311\n",
      "ARIMA(0, 0, 1)x(1, 1, 0, 12)12 - AIC:-43.13025724260881\n",
      "ARIMA(0, 0, 1)x(1, 1, 1, 12)12 - AIC:-38.84616357303541\n",
      "ARIMA(0, 1, 0)x(0, 0, 0, 12)12 - AIC:-125.45332944330865\n",
      "ARIMA(0, 1, 0)x(0, 0, 1, 12)12 - AIC:-100.01308731273448\n",
      "ARIMA(0, 1, 0)x(0, 1, 0, 12)12 - AIC:-63.829162191288304\n",
      "ARIMA(0, 1, 0)x(0, 1, 1, 12)12 - AIC:-68.409857879201\n",
      "ARIMA(0, 1, 0)x(1, 0, 0, 12)12 - AIC:-99.29337405098006\n",
      "ARIMA(0, 1, 0)x(1, 0, 1, 12)12 - AIC:-99.80510273554665\n",
      "ARIMA(0, 1, 0)x(1, 1, 0, 12)12 - AIC:-73.27825878838132\n",
      "ARIMA(0, 1, 0)x(1, 1, 1, 12)12 - AIC:-73.08824150107118\n",
      "ARIMA(0, 1, 1)x(0, 0, 0, 12)12 - AIC:-123.1476245216474\n",
      "ARIMA(0, 1, 1)x(0, 0, 1, 12)12 - AIC:-99.43318759745439\n",
      "ARIMA(0, 1, 1)x(0, 1, 0, 12)12 - AIC:-63.53531280292867\n",
      "ARIMA(0, 1, 1)x(0, 1, 1, 12)12 - AIC:-65.08699176585449\n",
      "ARIMA(0, 1, 1)x(1, 0, 0, 12)12 - AIC:-98.25562769900482\n",
      "ARIMA(0, 1, 1)x(1, 0, 1, 12)12 - AIC:-98.91871018613719\n",
      "ARIMA(0, 1, 1)x(1, 1, 0, 12)12 - AIC:-71.45344034711925\n",
      "ARIMA(0, 1, 1)x(1, 1, 1, 12)12 - AIC:-68.63184575348473\n",
      "ARIMA(1, 0, 0)x(0, 0, 0, 12)12 - AIC:-126.46465342167824\n",
      "ARIMA(1, 0, 0)x(0, 0, 1, 12)12 - AIC:-95.54207895460087\n",
      "ARIMA(1, 0, 0)x(0, 1, 0, 12)12 - AIC:-66.46419435995088\n",
      "ARIMA(1, 0, 0)x(0, 1, 1, 12)12 - AIC:-66.33626340939274\n",
      "ARIMA(1, 0, 0)x(1, 0, 0, 12)12 - AIC:-97.30459706624103\n",
      "ARIMA(1, 0, 0)x(1, 0, 1, 12)12 - AIC:-94.85964186600445\n",
      "ARIMA(1, 0, 0)x(1, 1, 0, 12)12 - AIC:-72.04012973092014\n",
      "ARIMA(1, 0, 0)x(1, 1, 1, 12)12 - AIC:-71.27981383387406\n",
      "ARIMA(1, 0, 1)x(0, 0, 0, 12)12 - AIC:-124.08987753167341\n",
      "ARIMA(1, 0, 1)x(0, 0, 1, 12)12 - AIC:-97.25007483092513\n",
      "ARIMA(1, 0, 1)x(0, 1, 0, 12)12 - AIC:-66.84675682516894\n",
      "ARIMA(1, 0, 1)x(0, 1, 1, 12)12 - AIC:-66.79206042115969\n",
      "ARIMA(1, 0, 1)x(1, 0, 0, 12)12 - AIC:-96.27744011211682\n",
      "ARIMA(1, 0, 1)x(1, 0, 1, 12)12 - AIC:-95.59812832909911\n",
      "ARIMA(1, 0, 1)x(1, 1, 0, 12)12 - AIC:-70.58388512951666\n",
      "ARIMA(1, 0, 1)x(1, 1, 1, 12)12 - AIC:-70.35378117539868\n",
      "ARIMA(1, 1, 0)x(0, 0, 0, 12)12 - AIC:-125.82883148188918\n",
      "ARIMA(1, 1, 0)x(0, 0, 1, 12)12 - AIC:-99.04797100395635\n",
      "ARIMA(1, 1, 0)x(0, 1, 0, 12)12 - AIC:-63.23962683295811\n",
      "ARIMA(1, 1, 0)x(0, 1, 1, 12)12 - AIC:-67.51400805495814\n",
      "ARIMA(1, 1, 0)x(1, 0, 0, 12)12 - AIC:-99.94330151768013\n",
      "ARIMA(1, 1, 0)x(1, 0, 1, 12)12 - AIC:-98.92186534883547\n",
      "ARIMA(1, 1, 0)x(1, 1, 0, 12)12 - AIC:-71.6232806782275\n",
      "ARIMA(1, 1, 0)x(1, 1, 1, 12)12 - AIC:-71.40849367229464\n",
      "ARIMA(1, 1, 1)x(0, 0, 0, 12)12 - AIC:-121.15309538991427\n",
      "ARIMA(1, 1, 1)x(0, 0, 1, 12)12 - AIC:-97.57128571251667\n",
      "ARIMA(1, 1, 1)x(0, 1, 0, 12)12 - AIC:-61.94655977701947\n",
      "ARIMA(1, 1, 1)x(0, 1, 1, 12)12 - AIC:-63.37087237903269\n",
      "ARIMA(1, 1, 1)x(1, 0, 0, 12)12 - AIC:-99.87973036375791\n",
      "ARIMA(1, 1, 1)x(1, 0, 1, 12)12 - AIC:-96.98731086499004\n",
      "ARIMA(1, 1, 1)x(1, 1, 0, 12)12 - AIC:-69.62340968254424\n",
      "ARIMA(1, 1, 1)x(1, 1, 1, 12)12 - AIC:-66.63328986900684\n"
     ]
    }
   ],
   "source": [
    "result_dict = {}\n",
    "from pylab import rcParams\n",
    "for param in pdq:\n",
    "    for param_seasonal in seasonal_pdq:\n",
    "        try:\n",
    "            mod = sm.tsa.statespace.SARIMAX(y, order=param,\n",
    "                        seasonal_order=param_seasonal,\n",
    "                        enforce_stationarity=False, \n",
    "                        enforce_invertibility=False)\n",
    "            results = mod.fit()\n",
    "            print('ARIMA{}x{}12 - AIC:{}'.format(param, param_seasonal, results.aic))\n",
    "            result_dict[round(results.aic,0)] = str(param)+str(param_seasonal)\n",
    "        except:\n",
    "            continue"
   ]
  },
  {
   "cell_type": "code",
   "execution_count": 136,
   "id": "8887e990",
   "metadata": {},
   "outputs": [
    {
     "data": {
      "text/plain": [
       "38"
      ]
     },
     "execution_count": 136,
     "metadata": {},
     "output_type": "execute_result"
    }
   ],
   "source": [
    "len(result_dict)"
   ]
  },
  {
   "cell_type": "code",
   "execution_count": 212,
   "id": "9cafb6a0",
   "metadata": {},
   "outputs": [
    {
     "name": "stdout",
     "output_type": "stream",
     "text": [
      "[-126.0, -125.0, -124.0, -123.0, -121.0, -100.0, -99.0, -98.0, -97.0, -96.0, -95.0, -73.0, -72.0, -71.0, -70.0, -69.0, -68.0, -67.0, -66.0, -65.0, -64.0, -63.0, -62.0, -44.0, -43.0, -39.0, -38.0, -34.0, -28.0, -8.0, -5.0, 1.0, 20.0, 23.0, 228.0, 302.0, 332.0, 422.0]\n"
     ]
    },
    {
     "data": {
      "text/plain": [
       "'(1, 1, 1)(1, 0, 0, 12)'"
      ]
     },
     "execution_count": 212,
     "metadata": {},
     "output_type": "execute_result"
    }
   ],
   "source": [
    "print(sorted(result_dict.keys()))\n",
    "result_dict[-100]"
   ]
  },
  {
   "cell_type": "markdown",
   "id": "aa850f25",
   "metadata": {},
   "source": [
    "**We are selecting those parameter which has minimum AIC score**"
   ]
  },
  {
   "cell_type": "markdown",
   "id": "7b07dabe",
   "metadata": {},
   "source": [
    "<a id='Fitting_the_ARIMA'></a>\n",
    "## 5.2 Fitting the ARIMA model"
   ]
  },
  {
   "cell_type": "code",
   "execution_count": 213,
   "id": "d447a672",
   "metadata": {},
   "outputs": [
    {
     "name": "stdout",
     "output_type": "stream",
     "text": [
      "==============================================================================\n",
      "                 coef    std err          z      P>|z|      [0.025      0.975]\n",
      "------------------------------------------------------------------------------\n",
      "ar.L1          0.1768      0.107      1.657      0.098      -0.032       0.386\n",
      "ar.S.L12      -0.1248      0.153     -0.813      0.416      -0.425       0.176\n",
      "sigma2         0.0080      0.001      7.531      0.000       0.006       0.010\n",
      "==============================================================================\n"
     ]
    }
   ],
   "source": [
    "mod = sm.tsa.statespace.SARIMAX(y,\n",
    "                                order=(1, 1, 0),\n",
    "                                seasonal_order=(1, 0, 0, 12),\n",
    "                                enforce_invertibility=False)\n",
    "results = mod.fit()\n",
    "print(results.summary().tables[1])"
   ]
  },
  {
   "cell_type": "markdown",
   "id": "9d7788f3",
   "metadata": {},
   "source": [
    "**Running model diagnostiscs to check any unusual behaviour**\n",
    "<br>1. If the model is correctly specified and the parameter estimates are reasonably close to the true values, then the residuals should have nearly the properties of white noise.\n",
    "\n",
    "<br>2. Plots can be used to better understand the distribution of errors beyond summary statistics. We would expect the forecast errors to be normally distributed around a zero mean.\n",
    "\n",
    "<br>3. The Q-Q plot can be used to quickly check the normality of the distribution of residual errors.\n",
    "\n",
    "<br>4. Finally, visualizing the autocorrelation for the residual errors. The x-axis shows the lag and the y-axis shows the correlation between an observation and the lag variable, where correlation values are between -1 and 1 for negative and positive correlations respectively. We would not expect there to be any correlation between the residuals. This would be shown by autocorrelation scores being below the threshold of significance (dashed and dotted horizontal lines on the plot)."
   ]
  },
  {
   "cell_type": "code",
   "execution_count": 214,
   "id": "8496509f",
   "metadata": {},
   "outputs": [
    {
     "data": {
      "image/png": "[encoded data removed]",
      "text/plain": [
       "<Figure size 1152x792 with 4 Axes>"
      ]
     },
     "metadata": {},
     "output_type": "display_data"
    }
   ],
   "source": [
    "results.plot_diagnostics(figsize=(16, 11))\n",
    "plt.show()"
   ]
  },
  {
   "cell_type": "markdown",
   "id": "0f07cad3",
   "metadata": {},
   "source": [
    "**The model diagnostics indicates that the model residuals are near normally distributed**"
   ]
  },
  {
   "cell_type": "markdown",
   "id": "f4d6354c",
   "metadata": {},
   "source": [
    "<a id='Validating_Forecasts'></a>\n",
    "## 5.3 Validating Forecasts"
   ]
  },
  {
   "cell_type": "markdown",
   "id": "ec10cb33",
   "metadata": {},
   "source": [
    "**We compare predicted sales to real sales of the time series to understand the accuracy of our forecasts**"
   ]
  },
  {
   "cell_type": "code",
   "execution_count": 215,
   "id": "62ee2f53",
   "metadata": {},
   "outputs": [
    {
     "data": {
      "text/plain": [
       "Date\n",
       "2020-04-01    5.224850\n",
       "2020-05-01    5.092248\n",
       "2020-06-01    5.195051\n",
       "2020-07-01    5.246646\n",
       "2020-08-01    5.254261\n",
       "Freq: MS, Name: Price, dtype: float64"
      ]
     },
     "execution_count": 215,
     "metadata": {},
     "output_type": "execute_result"
    }
   ],
   "source": [
    "y.tail()"
   ]
  },
  {
   "cell_type": "code",
   "execution_count": 216,
   "id": "25e0b16d",
   "metadata": {},
   "outputs": [
    {
     "data": {
      "image/png": "[encoded data removed]",
      "text/plain": [
       "<Figure size 1008x504 with 1 Axes>"
      ]
     },
     "metadata": {},
     "output_type": "display_data"
    }
   ],
   "source": [
    "#set forecasts to start at 2019–01–01 to the end of the data to forecast\n",
    "pred = results.get_prediction(start=pd.to_datetime('2019-01-01'), dynamic=False)\n",
    "pred_ci = pred.conf_int()\n",
    "ax = y['2015':].plot(label='observed')\n",
    "\n",
    "\n",
    "pred.predicted_mean.plot(ax=ax, label='One-step ahead Forecast', alpha=.7, figsize=(14, 7))\n",
    "ax.fill_between(pred_ci.index,\n",
    "                pred_ci.iloc[:, 0],\n",
    "                pred_ci.iloc[:, 1], color='k', alpha=.2)\n",
    "ax.set_xlabel('Date')\n",
    "ax.set_ylabel('SBI Stock Price')\n",
    "plt.legend()\n",
    "plt.show()"
   ]
  },
  {
   "cell_type": "markdown",
   "id": "9fedd8a5",
   "metadata": {},
   "source": [
    "The above plot indicates the observed value and the rolling forecast predications (A rolling forecast is an add/drop process for predicting the future over a set period of time). The predicated values align well with the true values."
   ]
  },
  {
   "cell_type": "markdown",
   "id": "b2f532d8",
   "metadata": {},
   "source": [
    "<a id=\"Calculating_MSE_and_RMSE\"> </a>\n",
    "## 5.4 Calculating MSE and RMSE\n"
   ]
  },
  {
   "cell_type": "code",
   "execution_count": 217,
   "id": "50bfbb1e",
   "metadata": {},
   "outputs": [
    {
     "data": {
      "text/html": [
       "<div>\n",
       "<style scoped>\n",
       "    .dataframe tbody tr th:only-of-type {\n",
       "        vertical-align: middle;\n",
       "    }\n",
       "\n",
       "    .dataframe tbody tr th {\n",
       "        vertical-align: top;\n",
       "    }\n",
       "\n",
       "    .dataframe thead th {\n",
       "        text-align: right;\n",
       "    }\n",
       "</style>\n",
       "<table border=\"1\" class=\"dataframe\">\n",
       "  <thead>\n",
       "    <tr style=\"text-align: right;\">\n",
       "      <th></th>\n",
       "      <th>lower Price</th>\n",
       "      <th>upper Price</th>\n",
       "    </tr>\n",
       "    <tr>\n",
       "      <th>Date</th>\n",
       "      <th></th>\n",
       "      <th></th>\n",
       "    </tr>\n",
       "  </thead>\n",
       "  <tbody>\n",
       "    <tr>\n",
       "      <th>2019-01-01</th>\n",
       "      <td>5.490985</td>\n",
       "      <td>5.841802</td>\n",
       "    </tr>\n",
       "    <tr>\n",
       "      <th>2019-02-01</th>\n",
       "      <td>5.525247</td>\n",
       "      <td>5.876064</td>\n",
       "    </tr>\n",
       "    <tr>\n",
       "      <th>2019-03-01</th>\n",
       "      <td>5.435691</td>\n",
       "      <td>5.786508</td>\n",
       "    </tr>\n",
       "    <tr>\n",
       "      <th>2019-04-01</th>\n",
       "      <td>5.522351</td>\n",
       "      <td>5.873168</td>\n",
       "    </tr>\n",
       "    <tr>\n",
       "      <th>2019-05-01</th>\n",
       "      <td>5.584949</td>\n",
       "      <td>5.935766</td>\n",
       "    </tr>\n",
       "    <tr>\n",
       "      <th>2019-06-01</th>\n",
       "      <td>5.614837</td>\n",
       "      <td>5.965654</td>\n",
       "    </tr>\n",
       "    <tr>\n",
       "      <th>2019-07-01</th>\n",
       "      <td>5.691848</td>\n",
       "      <td>6.042665</td>\n",
       "    </tr>\n",
       "    <tr>\n",
       "      <th>2019-08-01</th>\n",
       "      <td>5.683003</td>\n",
       "      <td>6.033819</td>\n",
       "    </tr>\n",
       "    <tr>\n",
       "      <th>2019-09-01</th>\n",
       "      <td>5.461731</td>\n",
       "      <td>5.812548</td>\n",
       "    </tr>\n",
       "    <tr>\n",
       "      <th>2019-10-01</th>\n",
       "      <td>5.473285</td>\n",
       "      <td>5.824102</td>\n",
       "    </tr>\n",
       "    <tr>\n",
       "      <th>2019-11-01</th>\n",
       "      <td>5.390340</td>\n",
       "      <td>5.741157</td>\n",
       "    </tr>\n",
       "    <tr>\n",
       "      <th>2019-12-01</th>\n",
       "      <td>5.644415</td>\n",
       "      <td>5.995232</td>\n",
       "    </tr>\n",
       "    <tr>\n",
       "      <th>2020-01-01</th>\n",
       "      <td>5.623000</td>\n",
       "      <td>5.973817</td>\n",
       "    </tr>\n",
       "    <tr>\n",
       "      <th>2020-02-01</th>\n",
       "      <td>5.606849</td>\n",
       "      <td>5.957666</td>\n",
       "    </tr>\n",
       "    <tr>\n",
       "      <th>2020-03-01</th>\n",
       "      <td>5.571936</td>\n",
       "      <td>5.922753</td>\n",
       "    </tr>\n",
       "    <tr>\n",
       "      <th>2020-04-01</th>\n",
       "      <td>5.184099</td>\n",
       "      <td>5.534916</td>\n",
       "    </tr>\n",
       "    <tr>\n",
       "      <th>2020-05-01</th>\n",
       "      <td>5.010410</td>\n",
       "      <td>5.361227</td>\n",
       "    </tr>\n",
       "    <tr>\n",
       "      <th>2020-06-01</th>\n",
       "      <td>4.886625</td>\n",
       "      <td>5.237442</td>\n",
       "    </tr>\n",
       "    <tr>\n",
       "      <th>2020-07-01</th>\n",
       "      <td>5.036786</td>\n",
       "      <td>5.387603</td>\n",
       "    </tr>\n",
       "    <tr>\n",
       "      <th>2020-08-01</th>\n",
       "      <td>5.106980</td>\n",
       "      <td>5.457797</td>\n",
       "    </tr>\n",
       "  </tbody>\n",
       "</table>\n",
       "</div>"
      ],
      "text/plain": [
       "            lower Price  upper Price\n",
       "Date                                \n",
       "2019-01-01     5.490985     5.841802\n",
       "2019-02-01     5.525247     5.876064\n",
       "2019-03-01     5.435691     5.786508\n",
       "2019-04-01     5.522351     5.873168\n",
       "2019-05-01     5.584949     5.935766\n",
       "2019-06-01     5.614837     5.965654\n",
       "2019-07-01     5.691848     6.042665\n",
       "2019-08-01     5.683003     6.033819\n",
       "2019-09-01     5.461731     5.812548\n",
       "2019-10-01     5.473285     5.824102\n",
       "2019-11-01     5.390340     5.741157\n",
       "2019-12-01     5.644415     5.995232\n",
       "2020-01-01     5.623000     5.973817\n",
       "2020-02-01     5.606849     5.957666\n",
       "2020-03-01     5.571936     5.922753\n",
       "2020-04-01     5.184099     5.534916\n",
       "2020-05-01     5.010410     5.361227\n",
       "2020-06-01     4.886625     5.237442\n",
       "2020-07-01     5.036786     5.387603\n",
       "2020-08-01     5.106980     5.457797"
      ]
     },
     "execution_count": 217,
     "metadata": {},
     "output_type": "execute_result"
    }
   ],
   "source": [
    "pred.conf_int()"
   ]
  },
  {
   "cell_type": "code",
   "execution_count": 218,
   "id": "e094f8a0",
   "metadata": {},
   "outputs": [
    {
     "name": "stdout",
     "output_type": "stream",
     "text": [
      "The Mean Squared Error of our forecasts is 0.01\n",
      "The Root Mean Squared Error of our forecasts is 0.11\n"
     ]
    }
   ],
   "source": [
    "y_forecasted = pred.predicted_mean\n",
    "y_truth = y['2019-01-01':]\n",
    "mse = ((y_forecasted - y_truth) ** 2).mean()\n",
    "print('The Mean Squared Error of our forecasts is {}'.format(round(mse, 2)))\n",
    "\n",
    "print('The Root Mean Squared Error of our forecasts is {}'.format(round(np.sqrt(mse), 2)))"
   ]
  },
  {
   "cell_type": "markdown",
   "id": "7e7aeea8",
   "metadata": {},
   "source": [
    "**MSE measures the average of the squares of the errors of an estimator i.e. the average squared difference between the estimated values and what is estimated. RMSE tells us that our model was able to forecast the average daily Stock Prices in the test set within 0.12 of the real stock prices**"
   ]
  },
  {
   "cell_type": "markdown",
   "id": "7dfa491f",
   "metadata": {},
   "source": [
    "### R2_Score of our forecast"
   ]
  },
  {
   "cell_type": "code",
   "execution_count": 219,
   "id": "d8a0b19f",
   "metadata": {},
   "outputs": [
    {
     "data": {
      "text/plain": [
       "0.7692294854395396"
      ]
     },
     "execution_count": 219,
     "metadata": {},
     "output_type": "execute_result"
    }
   ],
   "source": [
    "from sklearn.metrics import r2_score\n",
    "r2_score(y_forecasted,  y_truth)"
   ]
  },
  {
   "cell_type": "markdown",
   "id": "0d363fa1",
   "metadata": {},
   "source": [
    "<a id=\"Visualizing_the_Forecast\"> </a>\n",
    "## 5.5 Visualizing the Forecast \n"
   ]
  },
  {
   "cell_type": "markdown",
   "id": "15a4a665",
   "metadata": {},
   "source": [
    "plot(forecast(auto.arima(ts(temps,frequency=365),D=1),h=365))"
   ]
  },
  {
   "cell_type": "code",
   "execution_count": 220,
   "id": "5dc6f01e",
   "metadata": {},
   "outputs": [
    {
     "name": "stdout",
     "output_type": "stream",
     "text": [
      "            lower Price  upper Price\n",
      "2020-09-01     5.077590     5.428407\n",
      "2020-10-01     4.988845     5.530622\n",
      "2020-11-01     4.891087     5.578948\n",
      "2020-12-01     4.828723     5.637691\n",
      "2021-01-01     4.778819     5.693149\n",
      "2021-02-01     4.733520     5.742292\n",
      "2021-03-01     4.732218     5.827322\n",
      "2021-04-01     4.717232     5.892342\n",
      "2021-05-01     4.696326     5.946334\n",
      "2021-06-01     4.648173     5.968836\n",
      "2021-07-01     4.608205     5.995931\n",
      "2021-08-01     4.575271     6.026965\n",
      "2021-09-01     4.550666     6.051885\n",
      "2021-10-01     4.526800     6.074070\n",
      "2021-11-01     4.507685     6.099352\n",
      "2021-12-01     4.486343     6.121146\n",
      "2022-01-01     4.464987     6.141809\n",
      "2022-02-01     4.444253     6.162063\n",
      "2022-03-01     4.419014     6.176857\n",
      "2022-04-01     4.396322     6.193307\n",
      "2022-05-01     4.375105     6.210396\n",
      "2022-06-01     4.357943     6.230758\n",
      "2022-07-01     4.340353     6.249954\n",
      "2022-08-01     4.322426     6.268118\n"
     ]
    },
    {
     "data": {
      "image/png": "[encoded data removed]",
      "text/plain": [
       "<Figure size 1008x504 with 1 Axes>"
      ]
     },
     "metadata": {},
     "output_type": "display_data"
    }
   ],
   "source": [
    "pred_uc = results.get_forecast(steps=24)\n",
    "pred_ci = pred_uc.conf_int()\n",
    "ax = y.plot(label='observed', figsize=(14, 7))\n",
    "pred_uc.predicted_mean.plot(ax=ax, label='Forecast')\n",
    "ax.fill_between(pred_ci.index,\n",
    "                pred_ci.iloc[:, 0],\n",
    "                pred_ci.iloc[:, 1], color='k', alpha=.25)\n",
    "ax.set_xlabel('Date')\n",
    "ax.set_ylabel('SBI Stock Prices')\n",
    "print(pred_ci)\n",
    "plt.legend()\n",
    "plt.show()"
   ]
  },
  {
   "cell_type": "markdown",
   "id": "cace1470",
   "metadata": {},
   "source": [
    "<a id=\"Conclusion\"> </a>\n",
    "# 6 Conclusion"
   ]
  },
  {
   "cell_type": "markdown",
   "id": "ce167391",
   "metadata": {},
   "source": [
    "**We observe that Prices of SBI Stocks produces seasonal pattern. Early of the year is in season for Stocks investments in the SBI. The Stock Prices decreases linearly over time and again toward the end of the season and in coming years it saturates .**"
   ]
  },
  {
   "cell_type": "code",
   "execution_count": null,
   "id": "f67770f0",
   "metadata": {},
   "outputs": [],
   "source": []
  }
 ],
 "metadata": {
  "kernelspec": {
   "display_name": "Python 3 (ipykernel)",
   "language": "python",
   "name": "python3"
  },
  "language_info": {
   "codemirror_mode": {
    "name": "ipython",
    "version": 3
   },
   "file_extension": ".py",
   "mimetype": "text/x-python",
   "name": "python",
   "nbconvert_exporter": "python",
   "pygments_lexer": "ipython3",
   "version": "3.9.12"
  }
 },
 "nbformat": 4,
 "nbformat_minor": 5
}
