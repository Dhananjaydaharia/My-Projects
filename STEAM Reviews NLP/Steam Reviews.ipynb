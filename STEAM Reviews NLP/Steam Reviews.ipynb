{
 "cells": [
  {
   "cell_type": "code",
   "execution_count": 7,
   "id": "appreciated-supervisor",
   "metadata": {
    "_cell_guid": "b1076dfc-b9ad-4769-8c92-a6c4dae69d19",
    "_uuid": "8f2839f25d086af736a60e9eeb907d3b93b6e0e5",
    "execution": {
     "iopub.execute_input": "2021-06-13T15:48:16.087035Z",
     "iopub.status.busy": "2021-06-13T15:48:16.086106Z",
     "iopub.status.idle": "2021-06-13T15:48:16.089092Z",
     "shell.execute_reply": "2021-06-13T15:48:16.089514Z",
     "shell.execute_reply.started": "2021-06-13T15:47:33.291288Z"
    },
    "papermill": {
     "duration": 0.025931,
     "end_time": "2021-06-13T15:48:16.089771",
     "exception": false,
     "start_time": "2021-06-13T15:48:16.063840",
     "status": "completed"
    },
    "tags": []
   },
   "outputs": [],
   "source": [
    "import numpy as np\n",
    "import pandas as pd\n",
    "\n",
    "import os\n"
   ]
  },
  {
   "cell_type": "code",
   "execution_count": 8,
   "id": "suburban-single",
   "metadata": {
    "execution": {
     "iopub.execute_input": "2021-06-13T15:48:16.129780Z",
     "iopub.status.busy": "2021-06-13T15:48:16.129180Z",
     "iopub.status.idle": "2021-06-13T15:48:16.192250Z",
     "shell.execute_reply": "2021-06-13T15:48:16.192678Z",
     "shell.execute_reply.started": "2021-06-13T15:47:33.300335Z"
    },
    "papermill": {
     "duration": 0.084707,
     "end_time": "2021-06-13T15:48:16.192835",
     "exception": false,
     "start_time": "2021-06-13T15:48:16.108128",
     "status": "completed"
    },
    "tags": []
   },
   "outputs": [],
   "source": [
    "train = pd.read_csv('train.csv')\n",
    "df=train.copy(deep=True)\n",
    "test= pd.read_csv('test.csv')\n",
    "overview=pd.read_csv('game_overview.csv')"
   ]
  },
  {
   "cell_type": "code",
   "execution_count": 9,
   "id": "5d3714c3",
   "metadata": {},
   "outputs": [
    {
     "data": {
      "text/html": [
       "<div>\n",
       "<style scoped>\n",
       "    .dataframe tbody tr th:only-of-type {\n",
       "        vertical-align: middle;\n",
       "    }\n",
       "\n",
       "    .dataframe tbody tr th {\n",
       "        vertical-align: top;\n",
       "    }\n",
       "\n",
       "    .dataframe thead th {\n",
       "        text-align: right;\n",
       "    }\n",
       "</style>\n",
       "<table border=\"1\" class=\"dataframe\">\n",
       "  <thead>\n",
       "    <tr style=\"text-align: right;\">\n",
       "      <th></th>\n",
       "      <th>review_id</th>\n",
       "      <th>title</th>\n",
       "      <th>year</th>\n",
       "      <th>user_review</th>\n",
       "      <th>user_suggestion</th>\n",
       "    </tr>\n",
       "  </thead>\n",
       "  <tbody>\n",
       "    <tr>\n",
       "      <th>0</th>\n",
       "      <td>1</td>\n",
       "      <td>Spooky's Jump Scare Mansion</td>\n",
       "      <td>2016.0</td>\n",
       "      <td>I'm scared and hearing creepy voices.  So I'll...</td>\n",
       "      <td>1</td>\n",
       "    </tr>\n",
       "    <tr>\n",
       "      <th>1</th>\n",
       "      <td>2</td>\n",
       "      <td>Spooky's Jump Scare Mansion</td>\n",
       "      <td>2016.0</td>\n",
       "      <td>Best game, more better than Sam Pepper's YouTu...</td>\n",
       "      <td>1</td>\n",
       "    </tr>\n",
       "    <tr>\n",
       "      <th>2</th>\n",
       "      <td>3</td>\n",
       "      <td>Spooky's Jump Scare Mansion</td>\n",
       "      <td>2016.0</td>\n",
       "      <td>A littly iffy on the controls, but once you kn...</td>\n",
       "      <td>1</td>\n",
       "    </tr>\n",
       "    <tr>\n",
       "      <th>3</th>\n",
       "      <td>4</td>\n",
       "      <td>Spooky's Jump Scare Mansion</td>\n",
       "      <td>2015.0</td>\n",
       "      <td>Great game, fun and colorful and all that.A si...</td>\n",
       "      <td>1</td>\n",
       "    </tr>\n",
       "    <tr>\n",
       "      <th>4</th>\n",
       "      <td>5</td>\n",
       "      <td>Spooky's Jump Scare Mansion</td>\n",
       "      <td>2015.0</td>\n",
       "      <td>Not many games have the cute tag right next to...</td>\n",
       "      <td>1</td>\n",
       "    </tr>\n",
       "    <tr>\n",
       "      <th>...</th>\n",
       "      <td>...</td>\n",
       "      <td>...</td>\n",
       "      <td>...</td>\n",
       "      <td>...</td>\n",
       "      <td>...</td>\n",
       "    </tr>\n",
       "    <tr>\n",
       "      <th>17489</th>\n",
       "      <td>25535</td>\n",
       "      <td>EverQuest II</td>\n",
       "      <td>2012.0</td>\n",
       "      <td>Arguably the single greatest mmorp that exists...</td>\n",
       "      <td>1</td>\n",
       "    </tr>\n",
       "    <tr>\n",
       "      <th>17490</th>\n",
       "      <td>25536</td>\n",
       "      <td>EverQuest II</td>\n",
       "      <td>2017.0</td>\n",
       "      <td>An older game, to be sure, but has its own cha...</td>\n",
       "      <td>1</td>\n",
       "    </tr>\n",
       "    <tr>\n",
       "      <th>17491</th>\n",
       "      <td>25537</td>\n",
       "      <td>EverQuest II</td>\n",
       "      <td>2011.0</td>\n",
       "      <td>When I frist started playing Everquest 2 it wa...</td>\n",
       "      <td>1</td>\n",
       "    </tr>\n",
       "    <tr>\n",
       "      <th>17492</th>\n",
       "      <td>25538</td>\n",
       "      <td>EverQuest II</td>\n",
       "      <td>NaN</td>\n",
       "      <td>cool game. THe only thing that REALLY PISSES M...</td>\n",
       "      <td>1</td>\n",
       "    </tr>\n",
       "    <tr>\n",
       "      <th>17493</th>\n",
       "      <td>25539</td>\n",
       "      <td>EverQuest II</td>\n",
       "      <td>NaN</td>\n",
       "      <td>this game since I was a little kid, always hav...</td>\n",
       "      <td>1</td>\n",
       "    </tr>\n",
       "  </tbody>\n",
       "</table>\n",
       "<p>17494 rows × 5 columns</p>\n",
       "</div>"
      ],
      "text/plain": [
       "       review_id                        title    year  \\\n",
       "0              1  Spooky's Jump Scare Mansion  2016.0   \n",
       "1              2  Spooky's Jump Scare Mansion  2016.0   \n",
       "2              3  Spooky's Jump Scare Mansion  2016.0   \n",
       "3              4  Spooky's Jump Scare Mansion  2015.0   \n",
       "4              5  Spooky's Jump Scare Mansion  2015.0   \n",
       "...          ...                          ...     ...   \n",
       "17489      25535                 EverQuest II  2012.0   \n",
       "17490      25536                 EverQuest II  2017.0   \n",
       "17491      25537                 EverQuest II  2011.0   \n",
       "17492      25538                 EverQuest II     NaN   \n",
       "17493      25539                 EverQuest II     NaN   \n",
       "\n",
       "                                             user_review  user_suggestion  \n",
       "0      I'm scared and hearing creepy voices.  So I'll...                1  \n",
       "1      Best game, more better than Sam Pepper's YouTu...                1  \n",
       "2      A littly iffy on the controls, but once you kn...                1  \n",
       "3      Great game, fun and colorful and all that.A si...                1  \n",
       "4      Not many games have the cute tag right next to...                1  \n",
       "...                                                  ...              ...  \n",
       "17489  Arguably the single greatest mmorp that exists...                1  \n",
       "17490  An older game, to be sure, but has its own cha...                1  \n",
       "17491  When I frist started playing Everquest 2 it wa...                1  \n",
       "17492  cool game. THe only thing that REALLY PISSES M...                1  \n",
       "17493  this game since I was a little kid, always hav...                1  \n",
       "\n",
       "[17494 rows x 5 columns]"
      ]
     },
     "execution_count": 9,
     "metadata": {},
     "output_type": "execute_result"
    }
   ],
   "source": [
    "df"
   ]
  },
  {
   "cell_type": "code",
   "execution_count": 10,
   "id": "73bcf69f",
   "metadata": {},
   "outputs": [
    {
     "data": {
      "text/html": [
       "<div>\n",
       "<style scoped>\n",
       "    .dataframe tbody tr th:only-of-type {\n",
       "        vertical-align: middle;\n",
       "    }\n",
       "\n",
       "    .dataframe tbody tr th {\n",
       "        vertical-align: top;\n",
       "    }\n",
       "\n",
       "    .dataframe thead th {\n",
       "        text-align: right;\n",
       "    }\n",
       "</style>\n",
       "<table border=\"1\" class=\"dataframe\">\n",
       "  <thead>\n",
       "    <tr style=\"text-align: right;\">\n",
       "      <th></th>\n",
       "      <th>title</th>\n",
       "      <th>developer</th>\n",
       "      <th>publisher</th>\n",
       "      <th>tags</th>\n",
       "      <th>overview</th>\n",
       "    </tr>\n",
       "  </thead>\n",
       "  <tbody>\n",
       "    <tr>\n",
       "      <th>0</th>\n",
       "      <td>Spooky's Jump Scare Mansion</td>\n",
       "      <td>Lag Studios</td>\n",
       "      <td>Lag Studios</td>\n",
       "      <td>['Horror', 'Free to Play', 'Cute', 'First-Pers...</td>\n",
       "      <td>Can you survive 1000 rooms of cute terror? Or ...</td>\n",
       "    </tr>\n",
       "    <tr>\n",
       "      <th>1</th>\n",
       "      <td>Sakura Clicker</td>\n",
       "      <td>Winged Cloud</td>\n",
       "      <td>Winged Cloud</td>\n",
       "      <td>['Nudity', 'Anime', 'Free to Play', 'Mature', ...</td>\n",
       "      <td>The latest entry in the Sakura series is more ...</td>\n",
       "    </tr>\n",
       "    <tr>\n",
       "      <th>2</th>\n",
       "      <td>WARMODE</td>\n",
       "      <td>WARTEAM</td>\n",
       "      <td>WARTEAM</td>\n",
       "      <td>['Early Access', 'Free to Play', 'FPS', 'Multi...</td>\n",
       "      <td>Free to play shooter about the confrontation o...</td>\n",
       "    </tr>\n",
       "    <tr>\n",
       "      <th>3</th>\n",
       "      <td>Fractured Space</td>\n",
       "      <td>Edge Case Games Ltd.</td>\n",
       "      <td>Edge Case Games Ltd.</td>\n",
       "      <td>['Space', 'Multiplayer', 'Free to Play', 'PvP'...</td>\n",
       "      <td>Take the helm of a gigantic capital ship and g...</td>\n",
       "    </tr>\n",
       "    <tr>\n",
       "      <th>4</th>\n",
       "      <td>Counter-Strike: Global Offensive</td>\n",
       "      <td>Valve, Hidden Path Entertainment</td>\n",
       "      <td>Valve</td>\n",
       "      <td>['FPS', 'Multiplayer', 'Shooter', 'Action', 'T...</td>\n",
       "      <td>Counter-Strike: Global Offensive (CS: GO) expa...</td>\n",
       "    </tr>\n",
       "    <tr>\n",
       "      <th>...</th>\n",
       "      <td>...</td>\n",
       "      <td>...</td>\n",
       "      <td>...</td>\n",
       "      <td>...</td>\n",
       "      <td>...</td>\n",
       "    </tr>\n",
       "    <tr>\n",
       "      <th>59</th>\n",
       "      <td>Bloons TD Battles</td>\n",
       "      <td>Ninja Kiwi</td>\n",
       "      <td>Ninja Kiwi</td>\n",
       "      <td>['Free to Play', 'Tower Defense', 'Multiplayer...</td>\n",
       "      <td>Play the top-rated tower defense franchise in ...</td>\n",
       "    </tr>\n",
       "    <tr>\n",
       "      <th>60</th>\n",
       "      <td>Cuisine Royale</td>\n",
       "      <td>Darkflow Software</td>\n",
       "      <td>Gaijin Distribution KFT</td>\n",
       "      <td>['Early Access', 'Free to Play', 'Battle Royal...</td>\n",
       "      <td>Cuisine Royale is an all-kitchen-warfare Battl...</td>\n",
       "    </tr>\n",
       "    <tr>\n",
       "      <th>61</th>\n",
       "      <td>GUNS UP!</td>\n",
       "      <td>Valkyrie Entertainment, LLC</td>\n",
       "      <td>PlayStation Mobile, Inc.</td>\n",
       "      <td>['Free to Play', 'Strategy', 'Multiplayer', 'A...</td>\n",
       "      <td>In a mashup of RTS &amp; Tower Defense, GUNS UP! i...</td>\n",
       "    </tr>\n",
       "    <tr>\n",
       "      <th>62</th>\n",
       "      <td>School of Dragons</td>\n",
       "      <td>JumpStart Games, Inc.</td>\n",
       "      <td>JumpStart Games, Inc.</td>\n",
       "      <td>['Free to Play', 'Dragons', 'Adventure', 'Mult...</td>\n",
       "      <td>**Changewing Dragon now Available**Fly Fast. T...</td>\n",
       "    </tr>\n",
       "    <tr>\n",
       "      <th>63</th>\n",
       "      <td>EverQuest II</td>\n",
       "      <td>Daybreak Game Company</td>\n",
       "      <td>Daybreak Game Company</td>\n",
       "      <td>['Free to Play', 'Massively Multiplayer', 'RPG...</td>\n",
       "      <td>EverQuest® II is the epitome of massively mult...</td>\n",
       "    </tr>\n",
       "  </tbody>\n",
       "</table>\n",
       "<p>64 rows × 5 columns</p>\n",
       "</div>"
      ],
      "text/plain": [
       "                               title                          developer  \\\n",
       "0        Spooky's Jump Scare Mansion                       Lag Studios    \n",
       "1                     Sakura Clicker                      Winged Cloud    \n",
       "2                            WARMODE                           WARTEAM    \n",
       "3                    Fractured Space              Edge Case Games Ltd.    \n",
       "4   Counter-Strike: Global Offensive  Valve, Hidden Path Entertainment    \n",
       "..                               ...                                ...   \n",
       "59                 Bloons TD Battles                        Ninja Kiwi    \n",
       "60                    Cuisine Royale                 Darkflow Software    \n",
       "61                          GUNS UP!       Valkyrie Entertainment, LLC    \n",
       "62                 School of Dragons             JumpStart Games, Inc.    \n",
       "63                      EverQuest II             Daybreak Game Company    \n",
       "\n",
       "                    publisher  \\\n",
       "0                Lag Studios    \n",
       "1               Winged Cloud    \n",
       "2                    WARTEAM    \n",
       "3       Edge Case Games Ltd.    \n",
       "4                      Valve    \n",
       "..                        ...   \n",
       "59                Ninja Kiwi    \n",
       "60   Gaijin Distribution KFT    \n",
       "61  PlayStation Mobile, Inc.    \n",
       "62     JumpStart Games, Inc.    \n",
       "63     Daybreak Game Company    \n",
       "\n",
       "                                                 tags  \\\n",
       "0   ['Horror', 'Free to Play', 'Cute', 'First-Pers...   \n",
       "1   ['Nudity', 'Anime', 'Free to Play', 'Mature', ...   \n",
       "2   ['Early Access', 'Free to Play', 'FPS', 'Multi...   \n",
       "3   ['Space', 'Multiplayer', 'Free to Play', 'PvP'...   \n",
       "4   ['FPS', 'Multiplayer', 'Shooter', 'Action', 'T...   \n",
       "..                                                ...   \n",
       "59  ['Free to Play', 'Tower Defense', 'Multiplayer...   \n",
       "60  ['Early Access', 'Free to Play', 'Battle Royal...   \n",
       "61  ['Free to Play', 'Strategy', 'Multiplayer', 'A...   \n",
       "62  ['Free to Play', 'Dragons', 'Adventure', 'Mult...   \n",
       "63  ['Free to Play', 'Massively Multiplayer', 'RPG...   \n",
       "\n",
       "                                             overview  \n",
       "0   Can you survive 1000 rooms of cute terror? Or ...  \n",
       "1   The latest entry in the Sakura series is more ...  \n",
       "2   Free to play shooter about the confrontation o...  \n",
       "3   Take the helm of a gigantic capital ship and g...  \n",
       "4   Counter-Strike: Global Offensive (CS: GO) expa...  \n",
       "..                                                ...  \n",
       "59  Play the top-rated tower defense franchise in ...  \n",
       "60  Cuisine Royale is an all-kitchen-warfare Battl...  \n",
       "61  In a mashup of RTS & Tower Defense, GUNS UP! i...  \n",
       "62  **Changewing Dragon now Available**Fly Fast. T...  \n",
       "63  EverQuest® II is the epitome of massively mult...  \n",
       "\n",
       "[64 rows x 5 columns]"
      ]
     },
     "execution_count": 10,
     "metadata": {},
     "output_type": "execute_result"
    }
   ],
   "source": [
    "overview"
   ]
  },
  {
   "cell_type": "markdown",
   "id": "52488f44",
   "metadata": {},
   "source": [
    "### Data Info"
   ]
  },
  {
   "cell_type": "code",
   "execution_count": 11,
   "id": "ef01209e",
   "metadata": {},
   "outputs": [
    {
     "name": "stdout",
     "output_type": "stream",
     "text": [
      "<class 'pandas.core.frame.DataFrame'>\n",
      "RangeIndex: 17494 entries, 0 to 17493\n",
      "Data columns (total 5 columns):\n",
      " #   Column           Non-Null Count  Dtype  \n",
      "---  ------           --------------  -----  \n",
      " 0   review_id        17494 non-null  int64  \n",
      " 1   title            17494 non-null  object \n",
      " 2   year             17316 non-null  float64\n",
      " 3   user_review      17494 non-null  object \n",
      " 4   user_suggestion  17494 non-null  int64  \n",
      "dtypes: float64(1), int64(2), object(2)\n",
      "memory usage: 683.5+ KB\n"
     ]
    }
   ],
   "source": [
    "df.info()"
   ]
  },
  {
   "cell_type": "markdown",
   "id": "1b5d91fa",
   "metadata": {},
   "source": [
    "### Statistical Summary"
   ]
  },
  {
   "cell_type": "code",
   "execution_count": 12,
   "id": "ab080ee8",
   "metadata": {
    "scrolled": true
   },
   "outputs": [
    {
     "data": {
      "text/html": [
       "<div>\n",
       "<style scoped>\n",
       "    .dataframe tbody tr th:only-of-type {\n",
       "        vertical-align: middle;\n",
       "    }\n",
       "\n",
       "    .dataframe tbody tr th {\n",
       "        vertical-align: top;\n",
       "    }\n",
       "\n",
       "    .dataframe thead th {\n",
       "        text-align: right;\n",
       "    }\n",
       "</style>\n",
       "<table border=\"1\" class=\"dataframe\">\n",
       "  <thead>\n",
       "    <tr style=\"text-align: right;\">\n",
       "      <th></th>\n",
       "      <th>count</th>\n",
       "      <th>mean</th>\n",
       "      <th>std</th>\n",
       "      <th>min</th>\n",
       "      <th>25%</th>\n",
       "      <th>50%</th>\n",
       "      <th>75%</th>\n",
       "      <th>max</th>\n",
       "    </tr>\n",
       "  </thead>\n",
       "  <tbody>\n",
       "    <tr>\n",
       "      <th>review_id</th>\n",
       "      <td>17494.0</td>\n",
       "      <td>12423.216989</td>\n",
       "      <td>7653.367660</td>\n",
       "      <td>1.0</td>\n",
       "      <td>5769.25</td>\n",
       "      <td>11756.5</td>\n",
       "      <td>18926.75</td>\n",
       "      <td>25539.0</td>\n",
       "    </tr>\n",
       "    <tr>\n",
       "      <th>year</th>\n",
       "      <td>17316.0</td>\n",
       "      <td>2016.388427</td>\n",
       "      <td>1.390356</td>\n",
       "      <td>2011.0</td>\n",
       "      <td>2015.00</td>\n",
       "      <td>2017.0</td>\n",
       "      <td>2018.00</td>\n",
       "      <td>2018.0</td>\n",
       "    </tr>\n",
       "    <tr>\n",
       "      <th>user_suggestion</th>\n",
       "      <td>17494.0</td>\n",
       "      <td>0.569795</td>\n",
       "      <td>0.495119</td>\n",
       "      <td>0.0</td>\n",
       "      <td>0.00</td>\n",
       "      <td>1.0</td>\n",
       "      <td>1.00</td>\n",
       "      <td>1.0</td>\n",
       "    </tr>\n",
       "  </tbody>\n",
       "</table>\n",
       "</div>"
      ],
      "text/plain": [
       "                   count          mean          std     min      25%      50%  \\\n",
       "review_id        17494.0  12423.216989  7653.367660     1.0  5769.25  11756.5   \n",
       "year             17316.0   2016.388427     1.390356  2011.0  2015.00   2017.0   \n",
       "user_suggestion  17494.0      0.569795     0.495119     0.0     0.00      1.0   \n",
       "\n",
       "                      75%      max  \n",
       "review_id        18926.75  25539.0  \n",
       "year              2018.00   2018.0  \n",
       "user_suggestion      1.00      1.0  "
      ]
     },
     "execution_count": 12,
     "metadata": {},
     "output_type": "execute_result"
    }
   ],
   "source": [
    "df.describe().T"
   ]
  },
  {
   "cell_type": "code",
   "execution_count": 13,
   "id": "118db1c4",
   "metadata": {},
   "outputs": [
    {
     "data": {
      "text/html": [
       "<div>\n",
       "<style scoped>\n",
       "    .dataframe tbody tr th:only-of-type {\n",
       "        vertical-align: middle;\n",
       "    }\n",
       "\n",
       "    .dataframe tbody tr th {\n",
       "        vertical-align: top;\n",
       "    }\n",
       "\n",
       "    .dataframe thead th {\n",
       "        text-align: right;\n",
       "    }\n",
       "</style>\n",
       "<table border=\"1\" class=\"dataframe\">\n",
       "  <thead>\n",
       "    <tr style=\"text-align: right;\">\n",
       "      <th></th>\n",
       "      <th>count</th>\n",
       "      <th>unique</th>\n",
       "      <th>top</th>\n",
       "      <th>freq</th>\n",
       "    </tr>\n",
       "  </thead>\n",
       "  <tbody>\n",
       "    <tr>\n",
       "      <th>title</th>\n",
       "      <td>17494</td>\n",
       "      <td>44</td>\n",
       "      <td>Robocraft</td>\n",
       "      <td>842</td>\n",
       "    </tr>\n",
       "    <tr>\n",
       "      <th>user_review</th>\n",
       "      <td>17494</td>\n",
       "      <td>17490</td>\n",
       "      <td>#NAME?</td>\n",
       "      <td>5</td>\n",
       "    </tr>\n",
       "  </tbody>\n",
       "</table>\n",
       "</div>"
      ],
      "text/plain": [
       "             count unique        top freq\n",
       "title        17494     44  Robocraft  842\n",
       "user_review  17494  17490     #NAME?    5"
      ]
     },
     "execution_count": 13,
     "metadata": {},
     "output_type": "execute_result"
    }
   ],
   "source": [
    "df.describe(include=object).T"
   ]
  },
  {
   "cell_type": "markdown",
   "id": "ac18837c",
   "metadata": {},
   "source": [
    "### Checking Nulls"
   ]
  },
  {
   "cell_type": "code",
   "execution_count": 14,
   "id": "92e250ea",
   "metadata": {},
   "outputs": [
    {
     "data": {
      "text/plain": [
       "review_id            0\n",
       "title                0\n",
       "year               178\n",
       "user_review          0\n",
       "user_suggestion      0\n",
       "dtype: int64"
      ]
     },
     "execution_count": 14,
     "metadata": {},
     "output_type": "execute_result"
    }
   ],
   "source": [
    "df.isnull().sum()"
   ]
  },
  {
   "cell_type": "code",
   "execution_count": 15,
   "id": "advanced-receptor",
   "metadata": {
    "execution": {
     "iopub.execute_input": "2021-06-13T15:48:16.241525Z",
     "iopub.status.busy": "2021-06-13T15:48:16.240698Z",
     "iopub.status.idle": "2021-06-13T15:48:16.244809Z",
     "shell.execute_reply": "2021-06-13T15:48:16.244309Z",
     "shell.execute_reply.started": "2021-06-13T15:47:33.341921Z"
    },
    "papermill": {
     "duration": 0.031598,
     "end_time": "2021-06-13T15:48:16.244995",
     "exception": false,
     "start_time": "2021-06-13T15:48:16.213397",
     "status": "completed"
    },
    "tags": []
   },
   "outputs": [
    {
     "data": {
      "text/html": [
       "<div>\n",
       "<style scoped>\n",
       "    .dataframe tbody tr th:only-of-type {\n",
       "        vertical-align: middle;\n",
       "    }\n",
       "\n",
       "    .dataframe tbody tr th {\n",
       "        vertical-align: top;\n",
       "    }\n",
       "\n",
       "    .dataframe thead th {\n",
       "        text-align: right;\n",
       "    }\n",
       "</style>\n",
       "<table border=\"1\" class=\"dataframe\">\n",
       "  <thead>\n",
       "    <tr style=\"text-align: right;\">\n",
       "      <th></th>\n",
       "      <th>user_review</th>\n",
       "      <th>user_suggestion</th>\n",
       "    </tr>\n",
       "  </thead>\n",
       "  <tbody>\n",
       "    <tr>\n",
       "      <th>0</th>\n",
       "      <td>I'm scared and hearing creepy voices.  So I'll...</td>\n",
       "      <td>1</td>\n",
       "    </tr>\n",
       "    <tr>\n",
       "      <th>1</th>\n",
       "      <td>Best game, more better than Sam Pepper's YouTu...</td>\n",
       "      <td>1</td>\n",
       "    </tr>\n",
       "    <tr>\n",
       "      <th>2</th>\n",
       "      <td>A littly iffy on the controls, but once you kn...</td>\n",
       "      <td>1</td>\n",
       "    </tr>\n",
       "    <tr>\n",
       "      <th>3</th>\n",
       "      <td>Great game, fun and colorful and all that.A si...</td>\n",
       "      <td>1</td>\n",
       "    </tr>\n",
       "    <tr>\n",
       "      <th>4</th>\n",
       "      <td>Not many games have the cute tag right next to...</td>\n",
       "      <td>1</td>\n",
       "    </tr>\n",
       "  </tbody>\n",
       "</table>\n",
       "</div>"
      ],
      "text/plain": [
       "                                         user_review  user_suggestion\n",
       "0  I'm scared and hearing creepy voices.  So I'll...                1\n",
       "1  Best game, more better than Sam Pepper's YouTu...                1\n",
       "2  A littly iffy on the controls, but once you kn...                1\n",
       "3  Great game, fun and colorful and all that.A si...                1\n",
       "4  Not many games have the cute tag right next to...                1"
      ]
     },
     "execution_count": 15,
     "metadata": {},
     "output_type": "execute_result"
    }
   ],
   "source": [
    "df.drop(['review_id','year','title'],axis=1,inplace=True)\n",
    "df.head()"
   ]
  },
  {
   "cell_type": "code",
   "execution_count": 16,
   "id": "3856f7c6",
   "metadata": {},
   "outputs": [
    {
     "data": {
      "text/html": [
       "<div>\n",
       "<style scoped>\n",
       "    .dataframe tbody tr th:only-of-type {\n",
       "        vertical-align: middle;\n",
       "    }\n",
       "\n",
       "    .dataframe tbody tr th {\n",
       "        vertical-align: top;\n",
       "    }\n",
       "\n",
       "    .dataframe thead th {\n",
       "        text-align: right;\n",
       "    }\n",
       "</style>\n",
       "<table border=\"1\" class=\"dataframe\">\n",
       "  <thead>\n",
       "    <tr style=\"text-align: right;\">\n",
       "      <th></th>\n",
       "      <th>user_review</th>\n",
       "      <th>user_suggestion</th>\n",
       "    </tr>\n",
       "  </thead>\n",
       "  <tbody>\n",
       "    <tr>\n",
       "      <th>0</th>\n",
       "      <td>I'm scared and hearing creepy voices.  So I'll...</td>\n",
       "      <td>1</td>\n",
       "    </tr>\n",
       "    <tr>\n",
       "      <th>1</th>\n",
       "      <td>Best game, more better than Sam Pepper's YouTu...</td>\n",
       "      <td>1</td>\n",
       "    </tr>\n",
       "    <tr>\n",
       "      <th>2</th>\n",
       "      <td>A littly iffy on the controls, but once you kn...</td>\n",
       "      <td>1</td>\n",
       "    </tr>\n",
       "    <tr>\n",
       "      <th>3</th>\n",
       "      <td>Great game, fun and colorful and all that.A si...</td>\n",
       "      <td>1</td>\n",
       "    </tr>\n",
       "    <tr>\n",
       "      <th>4</th>\n",
       "      <td>Not many games have the cute tag right next to...</td>\n",
       "      <td>1</td>\n",
       "    </tr>\n",
       "    <tr>\n",
       "      <th>...</th>\n",
       "      <td>...</td>\n",
       "      <td>...</td>\n",
       "    </tr>\n",
       "    <tr>\n",
       "      <th>17489</th>\n",
       "      <td>Arguably the single greatest mmorp that exists...</td>\n",
       "      <td>1</td>\n",
       "    </tr>\n",
       "    <tr>\n",
       "      <th>17490</th>\n",
       "      <td>An older game, to be sure, but has its own cha...</td>\n",
       "      <td>1</td>\n",
       "    </tr>\n",
       "    <tr>\n",
       "      <th>17491</th>\n",
       "      <td>When I frist started playing Everquest 2 it wa...</td>\n",
       "      <td>1</td>\n",
       "    </tr>\n",
       "    <tr>\n",
       "      <th>17492</th>\n",
       "      <td>cool game. THe only thing that REALLY PISSES M...</td>\n",
       "      <td>1</td>\n",
       "    </tr>\n",
       "    <tr>\n",
       "      <th>17493</th>\n",
       "      <td>this game since I was a little kid, always hav...</td>\n",
       "      <td>1</td>\n",
       "    </tr>\n",
       "  </tbody>\n",
       "</table>\n",
       "<p>17494 rows × 2 columns</p>\n",
       "</div>"
      ],
      "text/plain": [
       "                                             user_review  user_suggestion\n",
       "0      I'm scared and hearing creepy voices.  So I'll...                1\n",
       "1      Best game, more better than Sam Pepper's YouTu...                1\n",
       "2      A littly iffy on the controls, but once you kn...                1\n",
       "3      Great game, fun and colorful and all that.A si...                1\n",
       "4      Not many games have the cute tag right next to...                1\n",
       "...                                                  ...              ...\n",
       "17489  Arguably the single greatest mmorp that exists...                1\n",
       "17490  An older game, to be sure, but has its own cha...                1\n",
       "17491  When I frist started playing Everquest 2 it wa...                1\n",
       "17492  cool game. THe only thing that REALLY PISSES M...                1\n",
       "17493  this game since I was a little kid, always hav...                1\n",
       "\n",
       "[17494 rows x 2 columns]"
      ]
     },
     "execution_count": 16,
     "metadata": {},
     "output_type": "execute_result"
    }
   ],
   "source": [
    "df"
   ]
  },
  {
   "cell_type": "code",
   "execution_count": 17,
   "id": "significant-remains",
   "metadata": {
    "execution": {
     "iopub.execute_input": "2021-06-13T15:48:16.291118Z",
     "iopub.status.busy": "2021-06-13T15:48:16.290552Z",
     "iopub.status.idle": "2021-06-13T15:48:16.295350Z",
     "shell.execute_reply": "2021-06-13T15:48:16.295756Z",
     "shell.execute_reply.started": "2021-06-13T15:47:33.359278Z"
    },
    "papermill": {
     "duration": 0.031525,
     "end_time": "2021-06-13T15:48:16.295923",
     "exception": false,
     "start_time": "2021-06-13T15:48:16.264398",
     "status": "completed"
    },
    "tags": []
   },
   "outputs": [
    {
     "data": {
      "text/plain": [
       "1    9968\n",
       "0    7526\n",
       "Name: user_suggestion, dtype: int64"
      ]
     },
     "execution_count": 17,
     "metadata": {},
     "output_type": "execute_result"
    }
   ],
   "source": [
    "df.user_suggestion.value_counts()"
   ]
  },
  {
   "cell_type": "code",
   "execution_count": 18,
   "id": "given-survivor",
   "metadata": {
    "execution": {
     "iopub.execute_input": "2021-06-13T15:48:16.337639Z",
     "iopub.status.busy": "2021-06-13T15:48:16.337089Z",
     "iopub.status.idle": "2021-06-13T15:48:16.344295Z",
     "shell.execute_reply": "2021-06-13T15:48:16.343870Z",
     "shell.execute_reply.started": "2021-06-13T15:47:33.373396Z"
    },
    "papermill": {
     "duration": 0.029141,
     "end_time": "2021-06-13T15:48:16.344437",
     "exception": false,
     "start_time": "2021-06-13T15:48:16.315296",
     "status": "completed"
    },
    "tags": []
   },
   "outputs": [
    {
     "data": {
      "text/plain": [
       "0        I'm scared and hearing creepy voices.  So I'll...\n",
       "1        Best game, more better than Sam Pepper's YouTu...\n",
       "2        A littly iffy on the controls, but once you kn...\n",
       "3        Great game, fun and colorful and all that.A si...\n",
       "4        Not many games have the cute tag right next to...\n",
       "                               ...                        \n",
       "17489    Arguably the single greatest mmorp that exists...\n",
       "17490    An older game, to be sure, but has its own cha...\n",
       "17491    When I frist started playing Everquest 2 it wa...\n",
       "17492    cool game. THe only thing that REALLY PISSES M...\n",
       "17493    this game since I was a little kid, always hav...\n",
       "Name: user_review, Length: 17494, dtype: object"
      ]
     },
     "execution_count": 18,
     "metadata": {},
     "output_type": "execute_result"
    }
   ],
   "source": [
    "df.user_review"
   ]
  },
  {
   "cell_type": "code",
   "execution_count": 19,
   "id": "hawaiian-reggae",
   "metadata": {
    "execution": {
     "iopub.execute_input": "2021-06-13T15:48:16.391264Z",
     "iopub.status.busy": "2021-06-13T15:48:16.390417Z",
     "iopub.status.idle": "2021-06-13T15:48:16.394744Z",
     "shell.execute_reply": "2021-06-13T15:48:16.394172Z",
     "shell.execute_reply.started": "2021-06-13T15:47:33.385487Z"
    },
    "papermill": {
     "duration": 0.030573,
     "end_time": "2021-06-13T15:48:16.394884",
     "exception": false,
     "start_time": "2021-06-13T15:48:16.364311",
     "status": "completed"
    },
    "tags": []
   },
   "outputs": [
    {
     "data": {
      "text/plain": [
       "user_review        0\n",
       "user_suggestion    0\n",
       "dtype: int64"
      ]
     },
     "execution_count": 19,
     "metadata": {},
     "output_type": "execute_result"
    }
   ],
   "source": [
    "df.isna().sum()"
   ]
  },
  {
   "cell_type": "code",
   "execution_count": 20,
   "id": "european-brother",
   "metadata": {
    "execution": {
     "iopub.execute_input": "2021-06-13T15:48:16.499650Z",
     "iopub.status.busy": "2021-06-13T15:48:16.499101Z",
     "iopub.status.idle": "2021-06-13T15:48:16.505613Z",
     "shell.execute_reply": "2021-06-13T15:48:16.506107Z",
     "shell.execute_reply.started": "2021-06-13T15:47:33.420032Z"
    },
    "papermill": {
     "duration": 0.029228,
     "end_time": "2021-06-13T15:48:16.506258",
     "exception": false,
     "start_time": "2021-06-13T15:48:16.477030",
     "status": "completed"
    },
    "tags": []
   },
   "outputs": [
    {
     "data": {
      "text/plain": [
       "user_review        0\n",
       "user_suggestion    0\n",
       "dtype: int64"
      ]
     },
     "execution_count": 20,
     "metadata": {},
     "output_type": "execute_result"
    }
   ],
   "source": [
    "df.isna().sum()"
   ]
  },
  {
   "cell_type": "code",
   "execution_count": 21,
   "id": "treated-accommodation",
   "metadata": {
    "execution": {
     "iopub.execute_input": "2021-06-13T15:48:16.548613Z",
     "iopub.status.busy": "2021-06-13T15:48:16.548080Z",
     "iopub.status.idle": "2021-06-13T15:48:16.552054Z",
     "shell.execute_reply": "2021-06-13T15:48:16.552436Z",
     "shell.execute_reply.started": "2021-06-13T15:47:33.434727Z"
    },
    "papermill": {
     "duration": 0.026485,
     "end_time": "2021-06-13T15:48:16.552607",
     "exception": false,
     "start_time": "2021-06-13T15:48:16.526122",
     "status": "completed"
    },
    "tags": []
   },
   "outputs": [
    {
     "data": {
      "text/plain": [
       "(17494, 2)"
      ]
     },
     "execution_count": 21,
     "metadata": {},
     "output_type": "execute_result"
    }
   ],
   "source": [
    "df.shape"
   ]
  },
  {
   "cell_type": "code",
   "execution_count": 22,
   "id": "local-basin",
   "metadata": {
    "execution": {
     "iopub.execute_input": "2021-06-13T15:48:16.595748Z",
     "iopub.status.busy": "2021-06-13T15:48:16.595220Z",
     "iopub.status.idle": "2021-06-13T15:48:16.602243Z",
     "shell.execute_reply": "2021-06-13T15:48:16.601783Z",
     "shell.execute_reply.started": "2021-06-13T15:47:33.447694Z"
    },
    "papermill": {
     "duration": 0.029617,
     "end_time": "2021-06-13T15:48:16.602369",
     "exception": false,
     "start_time": "2021-06-13T15:48:16.572752",
     "status": "completed"
    },
    "tags": []
   },
   "outputs": [
    {
     "data": {
      "text/plain": [
       "\"I'm scared and hearing creepy voices.  So I'll pause for a moment and write a review while I wait for my heart beat to return to atleast somewhat calmer times.  This game is adorable and creepy like my happy tree friends but with the graphics sceme of my childhood (but more bubble and 'clean').  Hello 1990's.What charactes there are (that isnot trying to kill me) were likable and a bit odd.  I did do a few noob things though, such as:Oh look a class room full of ghosts from dead children, lets shine my flashlight on them and stand there staring at them..Or, hmm creepy music, I'll turn around and see if I can see what's chasing me.Never before in a game have I been this afraid of finding a locked door.\""
      ]
     },
     "execution_count": 22,
     "metadata": {},
     "output_type": "execute_result"
    }
   ],
   "source": [
    "df.user_review[0]"
   ]
  },
  {
   "cell_type": "code",
   "execution_count": 23,
   "id": "governing-monday",
   "metadata": {
    "execution": {
     "iopub.execute_input": "2021-06-13T15:48:16.647528Z",
     "iopub.status.busy": "2021-06-13T15:48:16.647004Z",
     "iopub.status.idle": "2021-06-13T15:48:18.237606Z",
     "shell.execute_reply": "2021-06-13T15:48:18.238136Z",
     "shell.execute_reply.started": "2021-06-13T15:47:33.464062Z"
    },
    "papermill": {
     "duration": 1.615534,
     "end_time": "2021-06-13T15:48:18.238295",
     "exception": false,
     "start_time": "2021-06-13T15:48:16.622761",
     "status": "completed"
    },
    "tags": []
   },
   "outputs": [],
   "source": [
    "import string\n",
    "from nltk.tokenize import word_tokenize\n",
    "from sklearn.feature_extraction.text import ENGLISH_STOP_WORDS"
   ]
  },
  {
   "cell_type": "code",
   "execution_count": 24,
   "id": "universal-twelve",
   "metadata": {
    "execution": {
     "iopub.execute_input": "2021-06-13T15:48:18.342383Z",
     "iopub.status.busy": "2021-06-13T15:48:18.341651Z",
     "iopub.status.idle": "2021-06-13T15:48:18.470844Z",
     "shell.execute_reply": "2021-06-13T15:48:18.471347Z",
     "shell.execute_reply.started": "2021-06-13T15:47:33.491658Z"
    },
    "papermill": {
     "duration": 0.160298,
     "end_time": "2021-06-13T15:48:18.471566",
     "exception": false,
     "start_time": "2021-06-13T15:48:18.311268",
     "status": "completed"
    },
    "tags": []
   },
   "outputs": [
    {
     "name": "stderr",
     "output_type": "stream",
     "text": [
      "[nltk_data] Downloading package wordnet to\n",
      "[nltk_data]     C:\\Users\\Dhananjay\\AppData\\Roaming\\nltk_data...\n",
      "[nltk_data]   Package wordnet is already up-to-date!\n"
     ]
    }
   ],
   "source": [
    "import nltk\n",
    "nltk.download('wordnet')\n",
    "wn = nltk.WordNetLemmatizer()\n"
   ]
  },
  {
   "cell_type": "code",
   "execution_count": 25,
   "id": "diverse-bread",
   "metadata": {
    "execution": {
     "iopub.execute_input": "2021-06-13T15:48:18.518649Z",
     "iopub.status.busy": "2021-06-13T15:48:18.517763Z",
     "iopub.status.idle": "2021-06-13T15:48:18.520056Z",
     "shell.execute_reply": "2021-06-13T15:48:18.520485Z",
     "shell.execute_reply.started": "2021-06-13T15:47:33.507673Z"
    },
    "papermill": {
     "duration": 0.027832,
     "end_time": "2021-06-13T15:48:18.520641",
     "exception": false,
     "start_time": "2021-06-13T15:48:18.492809",
     "status": "completed"
    },
    "tags": []
   },
   "outputs": [],
   "source": [
    "import re"
   ]
  },
  {
   "cell_type": "code",
   "execution_count": 26,
   "id": "central-motion",
   "metadata": {
    "execution": {
     "iopub.execute_input": "2021-06-13T15:48:18.566695Z",
     "iopub.status.busy": "2021-06-13T15:48:18.565792Z",
     "iopub.status.idle": "2021-06-13T15:48:18.575723Z",
     "shell.execute_reply": "2021-06-13T15:48:18.575191Z",
     "shell.execute_reply.started": "2021-06-13T15:47:33.517765Z"
    },
    "papermill": {
     "duration": 0.034101,
     "end_time": "2021-06-13T15:48:18.575882",
     "exception": false,
     "start_time": "2021-06-13T15:48:18.541781",
     "status": "completed"
    },
    "tags": []
   },
   "outputs": [],
   "source": [
    "stopword = nltk.corpus.stopwords.words('english')"
   ]
  },
  {
   "cell_type": "code",
   "execution_count": 27,
   "id": "baking-paragraph",
   "metadata": {
    "execution": {
     "iopub.execute_input": "2021-06-13T15:48:18.623471Z",
     "iopub.status.busy": "2021-06-13T15:48:18.622579Z",
     "iopub.status.idle": "2021-06-13T15:48:18.628065Z",
     "shell.execute_reply": "2021-06-13T15:48:18.628635Z",
     "shell.execute_reply.started": "2021-06-13T15:47:33.530507Z"
    },
    "papermill": {
     "duration": 0.03131,
     "end_time": "2021-06-13T15:48:18.628803",
     "exception": false,
     "start_time": "2021-06-13T15:48:18.597493",
     "status": "completed"
    },
    "tags": []
   },
   "outputs": [],
   "source": [
    "def clean_text(text):\n",
    "    text_lc = \"\".join([word.lower() for word in text if word not in string.punctuation])\n",
    "    text_rc = re.sub('[0-9]+','',text_lc)\n",
    "    tokens = word_tokenize(text_rc,language='english')\n",
    "    text = [wn.lemmatize(word) for word in tokens if word not in stopword]\n",
    "    return text\n",
    "    "
   ]
  },
  {
   "cell_type": "code",
   "execution_count": 28,
   "id": "educational-rotation",
   "metadata": {
    "execution": {
     "iopub.execute_input": "2021-06-13T15:48:18.675177Z",
     "iopub.status.busy": "2021-06-13T15:48:18.674293Z",
     "iopub.status.idle": "2021-06-13T15:48:20.186316Z",
     "shell.execute_reply": "2021-06-13T15:48:20.186866Z",
     "shell.execute_reply.started": "2021-06-13T15:47:33.542345Z"
    },
    "papermill": {
     "duration": 1.537048,
     "end_time": "2021-06-13T15:48:20.187026",
     "exception": false,
     "start_time": "2021-06-13T15:48:18.649978",
     "status": "completed"
    },
    "tags": []
   },
   "outputs": [
    {
     "name": "stdout",
     "output_type": "stream",
     "text": [
      "['seem', 'plenty', 'review', 'perspective', 'people', 'ccg', 'veteran', 'many', 'ccg', 'novice', 'writing', 'review', 'someone', 'te', 'legend', 'first', 'ccg', 'also', 'playing', 'game', 'month', 'via', 'bethesda', 'launcher', 'low', 'hour', 'recorded', 'steam', 'accuratetesl', 'provides', 'excellent', 'new', 'player', 'experience', 'unfamiliar', 'ccg', 'mechanic', 'gently', 'firmly', 'move', 'towards', 'understanding', 'concept', 'creaturebased', 'card', 'game', 'whole', 'also', 'smoothly', 'integrated', 'game', 'unique', 'mechanic', 'learning', 'process', 'well', 'lane', 'prophecy', 'system', 'story', 'campaign', 'serf', 'extended', 'tutorial', 'provided', 'five', 'separate', 'deck', 'free', 'allow', 'experience', 'different', 'class', 'archetype', 'play', 'relatively', 'easy', 'move', 'story', 'using', 'reconstructed', 'deck', 'final', 'encounter', 'campaign', 'difficult', 'enough', 'forced', 'deck', 'builder', 'try', 'craft', 'deck', 'better', 'starter', 'deck', 'veteran', 'ccg', 'player', 'might', 'scoff', 'difficulty', 'pve', 'campaign', 'new', 'ccg', 'player', 'legitimate', 'challenge', 'forced', 'learn', 'mechanic', 'think', 'choice', 'result', 'felt', 'much', 'prepared', 'began', 'challenging', 'actual', 'human', 'long', 'afteras', 'fp', 'title', 'monezation', 'game', 'need', 'addressed', 'overall', 'feel', 'tesl', 'offer', 'great', 'value', 'simply', 'playing', 'game', 'either', 'winning', 'consistently', 'ladder', 'competing', 'vssolo', 'arena', 'told', 'quite', 'viable', 'fp', 'player', 'lot', 'fun', 'game', 'plenty', 'people', 'subreddit', 'hit', 'legend', 'using', 'nothing', 'fp', 'deck', 'think', 'necessary', 'mention', 'fp', 'player', 'given', 'minimal', 'monetary', 'investment', 'put', 'game', 'feel', 'like', 'provided', 'solid', 'foundation', 'allows', 'avoid', 'spending', 'money', 'later', 'rather', 'feeling', 'like', 'need', 'continuously', 'inject', 'cash', 'stay', 'competitive', 'game', 'play', 'casually', 'important', 'imagine', 'many', 'others', 'wellfinally', 'need', 'talk', 'setting', 'elder', 'scroll', 'fan', 'love', 'able', 'recognize', 'reference', 'card', 'collection', 'feel', 'ability', 'artwork', 'voice', 'line', 'complement', 'character', 'intended', 'potray', 'card', 'reference', 'fairly', 'obscure', 'odhaviing', 'miraak', 'divayth', 'fyr', 'may', 'immediately', 'recognizable', 'many', 'te', 'veteran', 'character', 'ahnassi', 'gortwog', 'allena', 'benoch', 'needed', 'look', 'uptldr', 'tesl', 'great', 'game', 'people', 'new', 'ccgs', 'well', 'offer', 'fair', 'fp', 'character', 'appeal', 'te', 'fan', 'pretty', 'much', 'game', 'highly', 'recommend', 'especially', 'given', 'free', 'seriously', 'freeeee', 'literally', 'barrier', 'trying', 'besides', 'maybe', 'min', 'download', 'time', 'possibly', 'cap', 'downloads', 'per', 'month', 'try']\n"
     ]
    }
   ],
   "source": [
    "print(clean_text(df.user_review[7000]))"
   ]
  },
  {
   "cell_type": "code",
   "execution_count": null,
   "id": "indoor-public",
   "metadata": {
    "execution": {
     "iopub.execute_input": "2021-06-13T15:48:20.232509Z",
     "iopub.status.busy": "2021-06-13T15:48:20.231612Z",
     "iopub.status.idle": "2021-06-13T15:48:20.235288Z",
     "shell.execute_reply": "2021-06-13T15:48:20.235725Z",
     "shell.execute_reply.started": "2021-06-13T15:47:33.556036Z"
    },
    "papermill": {
     "duration": 0.027902,
     "end_time": "2021-06-13T15:48:20.235891",
     "exception": false,
     "start_time": "2021-06-13T15:48:20.207989",
     "status": "completed"
    },
    "tags": []
   },
   "outputs": [],
   "source": [
    "from sklearn.feature_extraction.text import CountVectorizer\n",
    "from sklearn.model_selection import train_test_split\n",
    "import sklearn.metrics"
   ]
  },
  {
   "cell_type": "code",
   "execution_count": 132,
   "id": "verbal-spank",
   "metadata": {
    "execution": {
     "iopub.execute_input": "2021-06-13T15:48:20.280790Z",
     "iopub.status.busy": "2021-06-13T15:48:20.279971Z",
     "iopub.status.idle": "2021-06-13T15:48:21.344228Z",
     "shell.execute_reply": "2021-06-13T15:48:21.344647Z",
     "shell.execute_reply.started": "2021-06-13T15:47:33.568969Z"
    },
    "papermill": {
     "duration": 1.088145,
     "end_time": "2021-06-13T15:48:21.344820",
     "exception": false,
     "start_time": "2021-06-13T15:48:20.256675",
     "status": "completed"
    },
    "tags": []
   },
   "outputs": [],
   "source": [
    "df['clean_user_review'] = df['user_review'].apply(lambda x: clean_text(x))"
   ]
  },
  {
   "cell_type": "code",
   "execution_count": 133,
   "id": "neither-thriller",
   "metadata": {
    "execution": {
     "iopub.execute_input": "2021-06-13T15:48:21.390952Z",
     "iopub.status.busy": "2021-06-13T15:48:21.390134Z",
     "iopub.status.idle": "2021-06-13T15:48:21.401839Z",
     "shell.execute_reply": "2021-06-13T15:48:21.402215Z",
     "shell.execute_reply.started": "2021-06-13T15:47:35.331676Z"
    },
    "papermill": {
     "duration": 0.036634,
     "end_time": "2021-06-13T15:48:21.402372",
     "exception": false,
     "start_time": "2021-06-13T15:48:21.365738",
     "status": "completed"
    },
    "tags": []
   },
   "outputs": [
    {
     "data": {
      "text/html": [
       "<div>\n",
       "<style scoped>\n",
       "    .dataframe tbody tr th:only-of-type {\n",
       "        vertical-align: middle;\n",
       "    }\n",
       "\n",
       "    .dataframe tbody tr th {\n",
       "        vertical-align: top;\n",
       "    }\n",
       "\n",
       "    .dataframe thead th {\n",
       "        text-align: right;\n",
       "    }\n",
       "</style>\n",
       "<table border=\"1\" class=\"dataframe\">\n",
       "  <thead>\n",
       "    <tr style=\"text-align: right;\">\n",
       "      <th></th>\n",
       "      <th>user_review</th>\n",
       "      <th>user_suggestion</th>\n",
       "      <th>clean_user_review</th>\n",
       "    </tr>\n",
       "  </thead>\n",
       "  <tbody>\n",
       "    <tr>\n",
       "      <th>0</th>\n",
       "      <td>I'm scared and hearing creepy voices.  So I'll...</td>\n",
       "      <td>1</td>\n",
       "      <td>[im, scared, hearing, creepy, voice, ill, paus...</td>\n",
       "    </tr>\n",
       "    <tr>\n",
       "      <th>1</th>\n",
       "      <td>Best game, more better than Sam Pepper's YouTu...</td>\n",
       "      <td>1</td>\n",
       "      <td>[best, game, better, sam, pepper, youtube, acc...</td>\n",
       "    </tr>\n",
       "    <tr>\n",
       "      <th>2</th>\n",
       "      <td>A littly iffy on the controls, but once you kn...</td>\n",
       "      <td>1</td>\n",
       "      <td>[littly, iffy, control, know, play, easy, mast...</td>\n",
       "    </tr>\n",
       "    <tr>\n",
       "      <th>3</th>\n",
       "      <td>Great game, fun and colorful and all that.A si...</td>\n",
       "      <td>1</td>\n",
       "      <td>[great, game, fun, colorful, thata, side, note...</td>\n",
       "    </tr>\n",
       "    <tr>\n",
       "      <th>4</th>\n",
       "      <td>Not many games have the cute tag right next to...</td>\n",
       "      <td>1</td>\n",
       "      <td>[many, game, cute, tag, right, next, horror, t...</td>\n",
       "    </tr>\n",
       "  </tbody>\n",
       "</table>\n",
       "</div>"
      ],
      "text/plain": [
       "                                         user_review  user_suggestion  \\\n",
       "0  I'm scared and hearing creepy voices.  So I'll...                1   \n",
       "1  Best game, more better than Sam Pepper's YouTu...                1   \n",
       "2  A littly iffy on the controls, but once you kn...                1   \n",
       "3  Great game, fun and colorful and all that.A si...                1   \n",
       "4  Not many games have the cute tag right next to...                1   \n",
       "\n",
       "                                   clean_user_review  \n",
       "0  [im, scared, hearing, creepy, voice, ill, paus...  \n",
       "1  [best, game, better, sam, pepper, youtube, acc...  \n",
       "2  [littly, iffy, control, know, play, easy, mast...  \n",
       "3  [great, game, fun, colorful, thata, side, note...  \n",
       "4  [many, game, cute, tag, right, next, horror, t...  "
      ]
     },
     "execution_count": 133,
     "metadata": {},
     "output_type": "execute_result"
    }
   ],
   "source": [
    "df.head()"
   ]
  },
  {
   "cell_type": "code",
   "execution_count": 134,
   "id": "dirty-designer",
   "metadata": {
    "execution": {
     "iopub.execute_input": "2021-06-13T15:48:21.448194Z",
     "iopub.status.busy": "2021-06-13T15:48:21.447353Z",
     "iopub.status.idle": "2021-06-13T15:48:21.451760Z",
     "shell.execute_reply": "2021-06-13T15:48:21.452135Z",
     "shell.execute_reply.started": "2021-06-13T15:47:35.355845Z"
    },
    "papermill": {
     "duration": 0.028816,
     "end_time": "2021-06-13T15:48:21.452294",
     "exception": false,
     "start_time": "2021-06-13T15:48:21.423478",
     "status": "completed"
    },
    "tags": []
   },
   "outputs": [],
   "source": [
    "X = df['clean_user_review']\n",
    "y = df.user_suggestion.values"
   ]
  },
  {
   "cell_type": "code",
   "execution_count": 135,
   "id": "regular-syndicate",
   "metadata": {
    "execution": {
     "iopub.execute_input": "2021-06-13T15:48:21.514670Z",
     "iopub.status.busy": "2021-06-13T15:48:21.509689Z",
     "iopub.status.idle": "2021-06-13T15:48:22.577099Z",
     "shell.execute_reply": "2021-06-13T15:48:22.575990Z",
     "shell.execute_reply.started": "2021-06-13T15:47:35.364819Z"
    },
    "papermill": {
     "duration": 1.102476,
     "end_time": "2021-06-13T15:48:22.577235",
     "exception": false,
     "start_time": "2021-06-13T15:48:21.474759",
     "status": "completed"
    },
    "tags": []
   },
   "outputs": [],
   "source": [
    "cvt = CountVectorizer(analyzer=clean_text,ngram_range=(1, 3))\n",
    "X_v = cvt.fit_transform(X)"
   ]
  },
  {
   "cell_type": "code",
   "execution_count": 136,
   "id": "seeing-treatment",
   "metadata": {
    "execution": {
     "iopub.execute_input": "2021-06-13T15:48:22.624235Z",
     "iopub.status.busy": "2021-06-13T15:48:22.623691Z",
     "iopub.status.idle": "2021-06-13T15:48:22.740473Z",
     "shell.execute_reply": "2021-06-13T15:48:22.739878Z",
     "shell.execute_reply.started": "2021-06-13T15:47:37.228823Z"
    },
    "papermill": {
     "duration": 0.141653,
     "end_time": "2021-06-13T15:48:22.740612",
     "exception": false,
     "start_time": "2021-06-13T15:48:22.598959",
     "status": "completed"
    },
    "tags": []
   },
   "outputs": [],
   "source": [
    "from sklearn.ensemble import RandomForestClassifier"
   ]
  },
  {
   "cell_type": "code",
   "execution_count": 137,
   "id": "6ec23979",
   "metadata": {},
   "outputs": [],
   "source": [
    "from sklearn.naive_bayes import MultinomialNB"
   ]
  },
  {
   "cell_type": "code",
   "execution_count": 138,
   "id": "5b50e8fe",
   "metadata": {},
   "outputs": [],
   "source": [
    "clf = MultinomialNB()"
   ]
  },
  {
   "cell_type": "code",
   "execution_count": 140,
   "id": "dressed-cradle",
   "metadata": {
    "execution": {
     "iopub.execute_input": "2021-06-13T15:48:22.835326Z",
     "iopub.status.busy": "2021-06-13T15:48:22.834717Z",
     "iopub.status.idle": "2021-06-13T15:48:22.843404Z",
     "shell.execute_reply": "2021-06-13T15:48:22.843879Z",
     "shell.execute_reply.started": "2021-06-13T15:47:37.248026Z"
    },
    "papermill": {
     "duration": 0.03282,
     "end_time": "2021-06-13T15:48:22.844030",
     "exception": false,
     "start_time": "2021-06-13T15:48:22.811210",
     "status": "completed"
    },
    "tags": []
   },
   "outputs": [],
   "source": [
    "X_train,X_test,y_train,y_test = train_test_split(X_v,y,test_size=0.33,stratify=y)"
   ]
  },
  {
   "cell_type": "code",
   "execution_count": 141,
   "id": "latter-taste",
   "metadata": {
    "execution": {
     "iopub.execute_input": "2021-06-13T15:48:22.889420Z",
     "iopub.status.busy": "2021-06-13T15:48:22.888910Z",
     "iopub.status.idle": "2021-06-13T15:48:22.892783Z",
     "shell.execute_reply": "2021-06-13T15:48:22.893137Z",
     "shell.execute_reply.started": "2021-06-13T15:47:37.266720Z"
    },
    "papermill": {
     "duration": 0.028065,
     "end_time": "2021-06-13T15:48:22.893283",
     "exception": false,
     "start_time": "2021-06-13T15:48:22.865218",
     "status": "completed"
    },
    "tags": []
   },
   "outputs": [
    {
     "data": {
      "text/plain": [
       "array([1, 0, 0, ..., 0, 1, 1], dtype=int64)"
      ]
     },
     "execution_count": 141,
     "metadata": {},
     "output_type": "execute_result"
    }
   ],
   "source": [
    "y_train"
   ]
  },
  {
   "cell_type": "markdown",
   "id": "c00b51c9",
   "metadata": {},
   "source": [
    "#### Naive Bayes"
   ]
  },
  {
   "cell_type": "code",
   "execution_count": 144,
   "id": "7d940741",
   "metadata": {},
   "outputs": [
    {
     "data": {
      "text/plain": [
       "MultinomialNB()"
      ]
     },
     "execution_count": 144,
     "metadata": {},
     "output_type": "execute_result"
    }
   ],
   "source": [
    "clf.fit(X_train,y_train)"
   ]
  },
  {
   "cell_type": "code",
   "execution_count": 145,
   "id": "4b22b525",
   "metadata": {},
   "outputs": [],
   "source": [
    "y_pred_n_train = clf.predict(X_train)\n",
    "y_pred_n = clf.predict(X_test)"
   ]
  },
  {
   "cell_type": "code",
   "execution_count": 146,
   "id": "e180aef6",
   "metadata": {},
   "outputs": [],
   "source": [
    "cm = sklearn.metrics.confusion_matrix(y_train,y_pred_n_train)"
   ]
  },
  {
   "cell_type": "code",
   "execution_count": 148,
   "id": "74afa09c",
   "metadata": {},
   "outputs": [
    {
     "name": "stdout",
     "output_type": "stream",
     "text": [
      "0.999914675767918\n",
      "0.9999251328891218\n"
     ]
    }
   ],
   "source": [
    "# Train Results\n",
    "print(sklearn.metrics.accuracy_score(y_train,y_pred_n_train))\n",
    "print(sklearn.metrics.f1_score(y_train,y_pred_n_train))"
   ]
  },
  {
   "cell_type": "code",
   "execution_count": 149,
   "id": "16a5b42a",
   "metadata": {},
   "outputs": [],
   "source": [
    "cm = sklearn.metrics.confusion_matrix(y_test,y_pred_n)"
   ]
  },
  {
   "cell_type": "code",
   "execution_count": 151,
   "id": "a17763fb",
   "metadata": {},
   "outputs": [
    {
     "name": "stdout",
     "output_type": "stream",
     "text": [
      "0.5689296847939037\n",
      "0.7251849398255492\n"
     ]
    }
   ],
   "source": [
    "# Test Results\n",
    "print(sklearn.metrics.accuracy_score(y_test,y_pred_n))\n",
    "print(sklearn.metrics.f1_score(y_test,y_pred_n))"
   ]
  },
  {
   "cell_type": "markdown",
   "id": "6c55a773",
   "metadata": {},
   "source": [
    "#### Random Forest"
   ]
  },
  {
   "cell_type": "code",
   "execution_count": 152,
   "id": "stainless-antenna",
   "metadata": {
    "execution": {
     "iopub.execute_input": "2021-06-13T15:48:22.787824Z",
     "iopub.status.busy": "2021-06-13T15:48:22.787135Z",
     "iopub.status.idle": "2021-06-13T15:48:22.789907Z",
     "shell.execute_reply": "2021-06-13T15:48:22.789375Z",
     "shell.execute_reply.started": "2021-06-13T15:47:37.235830Z"
    },
    "papermill": {
     "duration": 0.028042,
     "end_time": "2021-06-13T15:48:22.790029",
     "exception": false,
     "start_time": "2021-06-13T15:48:22.761987",
     "status": "completed"
    },
    "tags": []
   },
   "outputs": [],
   "source": [
    "rf = RandomForestClassifier()"
   ]
  },
  {
   "cell_type": "code",
   "execution_count": 153,
   "id": "heavy-turkish",
   "metadata": {
    "execution": {
     "iopub.execute_input": "2021-06-13T15:48:22.940891Z",
     "iopub.status.busy": "2021-06-13T15:48:22.940141Z",
     "iopub.status.idle": "2021-06-13T15:48:24.588782Z",
     "shell.execute_reply": "2021-06-13T15:48:24.589177Z",
     "shell.execute_reply.started": "2021-06-13T15:47:37.278841Z"
    },
    "papermill": {
     "duration": 1.674599,
     "end_time": "2021-06-13T15:48:24.589340",
     "exception": false,
     "start_time": "2021-06-13T15:48:22.914741",
     "status": "completed"
    },
    "tags": []
   },
   "outputs": [
    {
     "data": {
      "text/plain": [
       "RandomForestClassifier()"
      ]
     },
     "execution_count": 153,
     "metadata": {},
     "output_type": "execute_result"
    }
   ],
   "source": [
    "rf.fit(X_train,y_train)"
   ]
  },
  {
   "cell_type": "code",
   "execution_count": 154,
   "id": "backed-radar",
   "metadata": {
    "execution": {
     "iopub.execute_input": "2021-06-13T15:48:24.635417Z",
     "iopub.status.busy": "2021-06-13T15:48:24.634885Z",
     "iopub.status.idle": "2021-06-13T15:48:24.686848Z",
     "shell.execute_reply": "2021-06-13T15:48:24.687258Z",
     "shell.execute_reply.started": "2021-06-13T15:47:39.088024Z"
    },
    "papermill": {
     "duration": 0.076519,
     "end_time": "2021-06-13T15:48:24.687425",
     "exception": false,
     "start_time": "2021-06-13T15:48:24.610906",
     "status": "completed"
    },
    "tags": []
   },
   "outputs": [],
   "source": [
    "y_pred_rf_train = rf.predict(X_train)\n",
    "y_pred_rf = rf.predict(X_test)"
   ]
  },
  {
   "cell_type": "code",
   "execution_count": 155,
   "id": "fc00eb49",
   "metadata": {},
   "outputs": [],
   "source": [
    "cm = sklearn.metrics.confusion_matrix(y_train,y_pred_rf_train)"
   ]
  },
  {
   "cell_type": "code",
   "execution_count": 156,
   "id": "3d180a41",
   "metadata": {},
   "outputs": [
    {
     "name": "stdout",
     "output_type": "stream",
     "text": [
      "0.9995733788395904\n",
      "0.9996257765137341\n"
     ]
    }
   ],
   "source": [
    "# Train Results\n",
    "print(sklearn.metrics.accuracy_score(y_train,y_pred_rf_train))\n",
    "print(sklearn.metrics.f1_score(y_train,y_pred_rf_train))"
   ]
  },
  {
   "cell_type": "code",
   "execution_count": 157,
   "id": "honest-repository",
   "metadata": {
    "execution": {
     "iopub.execute_input": "2021-06-13T15:48:24.733810Z",
     "iopub.status.busy": "2021-06-13T15:48:24.733248Z",
     "iopub.status.idle": "2021-06-13T15:48:24.738219Z",
     "shell.execute_reply": "2021-06-13T15:48:24.737720Z",
     "shell.execute_reply.started": "2021-06-13T15:47:39.150868Z"
    },
    "papermill": {
     "duration": 0.029212,
     "end_time": "2021-06-13T15:48:24.738343",
     "exception": false,
     "start_time": "2021-06-13T15:48:24.709131",
     "status": "completed"
    },
    "tags": []
   },
   "outputs": [],
   "source": [
    "cm = sklearn.metrics.confusion_matrix(y_test,y_pred_rf)"
   ]
  },
  {
   "cell_type": "code",
   "execution_count": 158,
   "id": "centered-guide",
   "metadata": {
    "execution": {
     "iopub.execute_input": "2021-06-13T15:48:25.043489Z",
     "iopub.status.busy": "2021-06-13T15:48:25.042916Z",
     "iopub.status.idle": "2021-06-13T15:48:25.047878Z",
     "shell.execute_reply": "2021-06-13T15:48:25.047465Z",
     "shell.execute_reply.started": "2021-06-13T15:47:39.171793Z"
    },
    "papermill": {
     "duration": 0.029341,
     "end_time": "2021-06-13T15:48:25.048008",
     "exception": false,
     "start_time": "2021-06-13T15:48:25.018667",
     "status": "completed"
    },
    "tags": []
   },
   "outputs": [
    {
     "name": "stdout",
     "output_type": "stream",
     "text": [
      "0.5694492552823\n",
      "0.7256676230412713\n"
     ]
    }
   ],
   "source": [
    "# Test Results\n",
    "print(sklearn.metrics.accuracy_score(y_test,y_pred_rf))\n",
    "print(sklearn.metrics.f1_score(y_test,y_pred_rf))"
   ]
  },
  {
   "cell_type": "code",
   "execution_count": 92,
   "id": "lined-influence",
   "metadata": {
    "execution": {
     "iopub.execute_input": "2021-06-13T15:48:24.784651Z",
     "iopub.status.busy": "2021-06-13T15:48:24.784066Z",
     "iopub.status.idle": "2021-06-13T15:48:24.996106Z",
     "shell.execute_reply": "2021-06-13T15:48:24.996608Z",
     "shell.execute_reply.started": "2021-06-13T15:47:39.159830Z"
    },
    "papermill": {
     "duration": 0.236774,
     "end_time": "2021-06-13T15:48:24.996785",
     "exception": false,
     "start_time": "2021-06-13T15:48:24.760011",
     "status": "completed"
    },
    "tags": []
   },
   "outputs": [],
   "source": [
    "import seaborn as sns"
   ]
  },
  {
   "cell_type": "code",
   "execution_count": 48,
   "id": "spoken-brunswick",
   "metadata": {
    "execution": {
     "iopub.execute_input": "2021-06-13T15:48:25.097609Z",
     "iopub.status.busy": "2021-06-13T15:48:25.097022Z",
     "iopub.status.idle": "2021-06-13T15:48:25.099780Z",
     "shell.execute_reply": "2021-06-13T15:48:25.099231Z",
     "shell.execute_reply.started": "2021-06-13T15:47:39.188688Z"
    },
    "papermill": {
     "duration": 0.029817,
     "end_time": "2021-06-13T15:48:25.099916",
     "exception": false,
     "start_time": "2021-06-13T15:48:25.070099",
     "status": "completed"
    },
    "tags": []
   },
   "outputs": [],
   "source": [
    "df_test  = cm\n",
    "df_test = pd.DataFrame(df_test)"
   ]
  },
  {
   "cell_type": "code",
   "execution_count": 49,
   "id": "distinguished-original",
   "metadata": {
    "execution": {
     "iopub.execute_input": "2021-06-13T15:48:25.148355Z",
     "iopub.status.busy": "2021-06-13T15:48:25.147832Z",
     "iopub.status.idle": "2021-06-13T15:48:25.404009Z",
     "shell.execute_reply": "2021-06-13T15:48:25.403555Z",
     "shell.execute_reply.started": "2021-06-13T15:47:39.201576Z"
    },
    "papermill": {
     "duration": 0.281048,
     "end_time": "2021-06-13T15:48:25.404144",
     "exception": false,
     "start_time": "2021-06-13T15:48:25.123096",
     "status": "completed"
    },
    "tags": []
   },
   "outputs": [
    {
     "data": {
      "image/png": "[encoded data removed]",
      "text/plain": [
       "<Figure size 432x288 with 2 Axes>"
      ]
     },
     "metadata": {
      "needs_background": "light"
     },
     "output_type": "display_data"
    }
   ],
   "source": [
    "ax = sns.heatmap(df_test,fmt= ' ',annot=True)\n",
    "ax.set_xlabel('y_test')\n",
    "ax.set_ylabel('y_pred')\n",
    "ax.set_xticklabels(list(set(y_test)))\n",
    "ax.set_yticklabels(list(set(y_test)));\n",
    "\n"
   ]
  },
  {
   "cell_type": "code",
   "execution_count": null,
   "id": "a0ada1ee",
   "metadata": {},
   "outputs": [],
   "source": []
  }
 ],
 "metadata": {
  "kernelspec": {
   "display_name": "Python 3 (ipykernel)",
   "language": "python",
   "name": "python3"
  },
  "language_info": {
   "codemirror_mode": {
    "name": "ipython",
    "version": 3
   },
   "file_extension": ".py",
   "mimetype": "text/x-python",
   "name": "python",
   "nbconvert_exporter": "python",
   "pygments_lexer": "ipython3",
   "version": "3.9.12"
  },
  "papermill": {
   "default_parameters": {},
   "duration": 15.419594,
   "end_time": "2021-06-13T15:48:26.335919",
   "environment_variables": {},
   "exception": null,
   "input_path": "__notebook__.ipynb",
   "output_path": "__notebook__.ipynb",
   "parameters": {},
   "start_time": "2021-06-13T15:48:10.916325",
   "version": "2.3.2"
  }
 },
 "nbformat": 4,
 "nbformat_minor": 5
}
