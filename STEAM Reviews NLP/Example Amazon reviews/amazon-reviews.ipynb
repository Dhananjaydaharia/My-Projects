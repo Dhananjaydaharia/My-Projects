{
 "cells": [
  {
   "cell_type": "code",
   "execution_count": 1,
   "id": "appreciated-supervisor",
   "metadata": {
    "_cell_guid": "b1076dfc-b9ad-4769-8c92-a6c4dae69d19",
    "_uuid": "8f2839f25d086af736a60e9eeb907d3b93b6e0e5",
    "execution": {
     "iopub.execute_input": "2021-06-13T15:48:16.087035Z",
     "iopub.status.busy": "2021-06-13T15:48:16.086106Z",
     "iopub.status.idle": "2021-06-13T15:48:16.089092Z",
     "shell.execute_reply": "2021-06-13T15:48:16.089514Z",
     "shell.execute_reply.started": "2021-06-13T15:47:33.291288Z"
    },
    "papermill": {
     "duration": 0.025931,
     "end_time": "2021-06-13T15:48:16.089771",
     "exception": false,
     "start_time": "2021-06-13T15:48:16.063840",
     "status": "completed"
    },
    "tags": []
   },
   "outputs": [],
   "source": [
    "import numpy as np\n",
    "import pandas as pd\n"
   ]
  },
  {
   "cell_type": "code",
   "execution_count": 2,
   "id": "suburban-single",
   "metadata": {
    "execution": {
     "iopub.execute_input": "2021-06-13T15:48:16.129780Z",
     "iopub.status.busy": "2021-06-13T15:48:16.129180Z",
     "iopub.status.idle": "2021-06-13T15:48:16.192250Z",
     "shell.execute_reply": "2021-06-13T15:48:16.192678Z",
     "shell.execute_reply.started": "2021-06-13T15:47:33.300335Z"
    },
    "papermill": {
     "duration": 0.084707,
     "end_time": "2021-06-13T15:48:16.192835",
     "exception": false,
     "start_time": "2021-06-13T15:48:16.108128",
     "status": "completed"
    },
    "tags": []
   },
   "outputs": [
    {
     "data": {
      "text/html": [
       "<div>\n",
       "<style scoped>\n",
       "    .dataframe tbody tr th:only-of-type {\n",
       "        vertical-align: middle;\n",
       "    }\n",
       "\n",
       "    .dataframe tbody tr th {\n",
       "        vertical-align: top;\n",
       "    }\n",
       "\n",
       "    .dataframe thead th {\n",
       "        text-align: right;\n",
       "    }\n",
       "</style>\n",
       "<table border=\"1\" class=\"dataframe\">\n",
       "  <thead>\n",
       "    <tr style=\"text-align: right;\">\n",
       "      <th></th>\n",
       "      <th>asin</th>\n",
       "      <th>name</th>\n",
       "      <th>date</th>\n",
       "      <th>rating</th>\n",
       "      <th>review</th>\n",
       "    </tr>\n",
       "  </thead>\n",
       "  <tbody>\n",
       "    <tr>\n",
       "      <th>0</th>\n",
       "      <td>B07W7CTLD1</td>\n",
       "      <td>Mamaearth-Onion-Growth-Control-Redensyl</td>\n",
       "      <td>2019-09-06</td>\n",
       "      <td>1</td>\n",
       "      <td>I bought this hair oil after viewing so many g...</td>\n",
       "    </tr>\n",
       "    <tr>\n",
       "      <th>1</th>\n",
       "      <td>B07W7CTLD1</td>\n",
       "      <td>Mamaearth-Onion-Growth-Control-Redensyl</td>\n",
       "      <td>2019-08-14</td>\n",
       "      <td>5</td>\n",
       "      <td>Used This Mama Earth Newly Launched Onion Oil ...</td>\n",
       "    </tr>\n",
       "    <tr>\n",
       "      <th>2</th>\n",
       "      <td>B07W7CTLD1</td>\n",
       "      <td>Mamaearth-Onion-Growth-Control-Redensyl</td>\n",
       "      <td>2019-10-19</td>\n",
       "      <td>1</td>\n",
       "      <td>So bad product...My hair falling increase too ...</td>\n",
       "    </tr>\n",
       "    <tr>\n",
       "      <th>3</th>\n",
       "      <td>B07W7CTLD1</td>\n",
       "      <td>Mamaearth-Onion-Growth-Control-Redensyl</td>\n",
       "      <td>2019-09-16</td>\n",
       "      <td>1</td>\n",
       "      <td>Product just smells similar to navarathna hair...</td>\n",
       "    </tr>\n",
       "    <tr>\n",
       "      <th>4</th>\n",
       "      <td>B07W7CTLD1</td>\n",
       "      <td>Mamaearth-Onion-Growth-Control-Redensyl</td>\n",
       "      <td>2019-08-18</td>\n",
       "      <td>5</td>\n",
       "      <td>I have been trying different onion oil for my ...</td>\n",
       "    </tr>\n",
       "  </tbody>\n",
       "</table>\n",
       "</div>"
      ],
      "text/plain": [
       "         asin                                     name        date  rating  \\\n",
       "0  B07W7CTLD1  Mamaearth-Onion-Growth-Control-Redensyl  2019-09-06       1   \n",
       "1  B07W7CTLD1  Mamaearth-Onion-Growth-Control-Redensyl  2019-08-14       5   \n",
       "2  B07W7CTLD1  Mamaearth-Onion-Growth-Control-Redensyl  2019-10-19       1   \n",
       "3  B07W7CTLD1  Mamaearth-Onion-Growth-Control-Redensyl  2019-09-16       1   \n",
       "4  B07W7CTLD1  Mamaearth-Onion-Growth-Control-Redensyl  2019-08-18       5   \n",
       "\n",
       "                                              review  \n",
       "0  I bought this hair oil after viewing so many g...  \n",
       "1  Used This Mama Earth Newly Launched Onion Oil ...  \n",
       "2  So bad product...My hair falling increase too ...  \n",
       "3  Product just smells similar to navarathna hair...  \n",
       "4  I have been trying different onion oil for my ...  "
      ]
     },
     "execution_count": 2,
     "metadata": {},
     "output_type": "execute_result"
    }
   ],
   "source": [
    "df = pd.read_csv('C:/Users/MAVERICK/OneDrive/Desktop/Deep Learning/DATASET/Indian Amazon Product Review/amazon_vfl_reviews.csv')\n",
    "df.head()"
   ]
  },
  {
   "cell_type": "code",
   "execution_count": 3,
   "id": "advanced-receptor",
   "metadata": {
    "execution": {
     "iopub.execute_input": "2021-06-13T15:48:16.241525Z",
     "iopub.status.busy": "2021-06-13T15:48:16.240698Z",
     "iopub.status.idle": "2021-06-13T15:48:16.244809Z",
     "shell.execute_reply": "2021-06-13T15:48:16.244309Z",
     "shell.execute_reply.started": "2021-06-13T15:47:33.341921Z"
    },
    "papermill": {
     "duration": 0.031598,
     "end_time": "2021-06-13T15:48:16.244995",
     "exception": false,
     "start_time": "2021-06-13T15:48:16.213397",
     "status": "completed"
    },
    "tags": []
   },
   "outputs": [
    {
     "data": {
      "text/html": [
       "<div>\n",
       "<style scoped>\n",
       "    .dataframe tbody tr th:only-of-type {\n",
       "        vertical-align: middle;\n",
       "    }\n",
       "\n",
       "    .dataframe tbody tr th {\n",
       "        vertical-align: top;\n",
       "    }\n",
       "\n",
       "    .dataframe thead th {\n",
       "        text-align: right;\n",
       "    }\n",
       "</style>\n",
       "<table border=\"1\" class=\"dataframe\">\n",
       "  <thead>\n",
       "    <tr style=\"text-align: right;\">\n",
       "      <th></th>\n",
       "      <th>rating</th>\n",
       "      <th>review</th>\n",
       "    </tr>\n",
       "  </thead>\n",
       "  <tbody>\n",
       "    <tr>\n",
       "      <th>0</th>\n",
       "      <td>1</td>\n",
       "      <td>I bought this hair oil after viewing so many g...</td>\n",
       "    </tr>\n",
       "    <tr>\n",
       "      <th>1</th>\n",
       "      <td>5</td>\n",
       "      <td>Used This Mama Earth Newly Launched Onion Oil ...</td>\n",
       "    </tr>\n",
       "    <tr>\n",
       "      <th>2</th>\n",
       "      <td>1</td>\n",
       "      <td>So bad product...My hair falling increase too ...</td>\n",
       "    </tr>\n",
       "    <tr>\n",
       "      <th>3</th>\n",
       "      <td>1</td>\n",
       "      <td>Product just smells similar to navarathna hair...</td>\n",
       "    </tr>\n",
       "    <tr>\n",
       "      <th>4</th>\n",
       "      <td>5</td>\n",
       "      <td>I have been trying different onion oil for my ...</td>\n",
       "    </tr>\n",
       "  </tbody>\n",
       "</table>\n",
       "</div>"
      ],
      "text/plain": [
       "   rating                                             review\n",
       "0       1  I bought this hair oil after viewing so many g...\n",
       "1       5  Used This Mama Earth Newly Launched Onion Oil ...\n",
       "2       1  So bad product...My hair falling increase too ...\n",
       "3       1  Product just smells similar to navarathna hair...\n",
       "4       5  I have been trying different onion oil for my ..."
      ]
     },
     "execution_count": 3,
     "metadata": {},
     "output_type": "execute_result"
    }
   ],
   "source": [
    "df.drop(['asin','name','date'],axis=1,inplace=True)\n",
    "df.head()"
   ]
  },
  {
   "cell_type": "code",
   "execution_count": 4,
   "id": "significant-remains",
   "metadata": {
    "execution": {
     "iopub.execute_input": "2021-06-13T15:48:16.291118Z",
     "iopub.status.busy": "2021-06-13T15:48:16.290552Z",
     "iopub.status.idle": "2021-06-13T15:48:16.295350Z",
     "shell.execute_reply": "2021-06-13T15:48:16.295756Z",
     "shell.execute_reply.started": "2021-06-13T15:47:33.359278Z"
    },
    "papermill": {
     "duration": 0.031525,
     "end_time": "2021-06-13T15:48:16.295923",
     "exception": false,
     "start_time": "2021-06-13T15:48:16.264398",
     "status": "completed"
    },
    "tags": []
   },
   "outputs": [
    {
     "data": {
      "text/plain": [
       "2782"
      ]
     },
     "execution_count": 4,
     "metadata": {},
     "output_type": "execute_result"
    }
   ],
   "source": [
    "df.rating.value_counts().sum()"
   ]
  },
  {
   "cell_type": "code",
   "execution_count": 5,
   "id": "given-survivor",
   "metadata": {
    "execution": {
     "iopub.execute_input": "2021-06-13T15:48:16.337639Z",
     "iopub.status.busy": "2021-06-13T15:48:16.337089Z",
     "iopub.status.idle": "2021-06-13T15:48:16.344295Z",
     "shell.execute_reply": "2021-06-13T15:48:16.343870Z",
     "shell.execute_reply.started": "2021-06-13T15:47:33.373396Z"
    },
    "papermill": {
     "duration": 0.029141,
     "end_time": "2021-06-13T15:48:16.344437",
     "exception": false,
     "start_time": "2021-06-13T15:48:16.315296",
     "status": "completed"
    },
    "tags": []
   },
   "outputs": [
    {
     "data": {
      "text/plain": [
       "0       I bought this hair oil after viewing so many g...\n",
       "1       Used This Mama Earth Newly Launched Onion Oil ...\n",
       "2       So bad product...My hair falling increase too ...\n",
       "3       Product just smells similar to navarathna hair...\n",
       "4       I have been trying different onion oil for my ...\n",
       "                              ...                        \n",
       "2777           Long lasting freshness throughout the day.\n",
       "2778                                    My preferred soap\n",
       "2779                                         ठीक नहीं लगा\n",
       "2780                                        Super Product\n",
       "2781    Best soothing, cooling fragrance for hot summe...\n",
       "Name: review, Length: 2782, dtype: object"
      ]
     },
     "execution_count": 5,
     "metadata": {},
     "output_type": "execute_result"
    }
   ],
   "source": [
    "df.review"
   ]
  },
  {
   "cell_type": "code",
   "execution_count": 6,
   "id": "hawaiian-reggae",
   "metadata": {
    "execution": {
     "iopub.execute_input": "2021-06-13T15:48:16.391264Z",
     "iopub.status.busy": "2021-06-13T15:48:16.390417Z",
     "iopub.status.idle": "2021-06-13T15:48:16.394744Z",
     "shell.execute_reply": "2021-06-13T15:48:16.394172Z",
     "shell.execute_reply.started": "2021-06-13T15:47:33.385487Z"
    },
    "papermill": {
     "duration": 0.030573,
     "end_time": "2021-06-13T15:48:16.394884",
     "exception": false,
     "start_time": "2021-06-13T15:48:16.364311",
     "status": "completed"
    },
    "tags": []
   },
   "outputs": [
    {
     "data": {
      "text/plain": [
       "rating    0\n",
       "review    4\n",
       "dtype: int64"
      ]
     },
     "execution_count": 6,
     "metadata": {},
     "output_type": "execute_result"
    }
   ],
   "source": [
    "df.isna().sum()"
   ]
  },
  {
   "cell_type": "code",
   "execution_count": 7,
   "id": "blind-addiction",
   "metadata": {
    "execution": {
     "iopub.execute_input": "2021-06-13T15:48:16.437804Z",
     "iopub.status.busy": "2021-06-13T15:48:16.437231Z",
     "iopub.status.idle": "2021-06-13T15:48:16.457093Z",
     "shell.execute_reply": "2021-06-13T15:48:16.456521Z",
     "shell.execute_reply.started": "2021-06-13T15:47:33.401652Z"
    },
    "papermill": {
     "duration": 0.042155,
     "end_time": "2021-06-13T15:48:16.457221",
     "exception": false,
     "start_time": "2021-06-13T15:48:16.415066",
     "status": "completed"
    },
    "tags": []
   },
   "outputs": [],
   "source": [
    "df.dropna(inplace=True)"
   ]
  },
  {
   "cell_type": "code",
   "execution_count": 8,
   "id": "european-brother",
   "metadata": {
    "execution": {
     "iopub.execute_input": "2021-06-13T15:48:16.499650Z",
     "iopub.status.busy": "2021-06-13T15:48:16.499101Z",
     "iopub.status.idle": "2021-06-13T15:48:16.505613Z",
     "shell.execute_reply": "2021-06-13T15:48:16.506107Z",
     "shell.execute_reply.started": "2021-06-13T15:47:33.420032Z"
    },
    "papermill": {
     "duration": 0.029228,
     "end_time": "2021-06-13T15:48:16.506258",
     "exception": false,
     "start_time": "2021-06-13T15:48:16.477030",
     "status": "completed"
    },
    "tags": []
   },
   "outputs": [
    {
     "data": {
      "text/plain": [
       "rating    0\n",
       "review    0\n",
       "dtype: int64"
      ]
     },
     "execution_count": 8,
     "metadata": {},
     "output_type": "execute_result"
    }
   ],
   "source": [
    "df.isna().sum()"
   ]
  },
  {
   "cell_type": "code",
   "execution_count": 9,
   "id": "treated-accommodation",
   "metadata": {
    "execution": {
     "iopub.execute_input": "2021-06-13T15:48:16.548613Z",
     "iopub.status.busy": "2021-06-13T15:48:16.548080Z",
     "iopub.status.idle": "2021-06-13T15:48:16.552054Z",
     "shell.execute_reply": "2021-06-13T15:48:16.552436Z",
     "shell.execute_reply.started": "2021-06-13T15:47:33.434727Z"
    },
    "papermill": {
     "duration": 0.026485,
     "end_time": "2021-06-13T15:48:16.552607",
     "exception": false,
     "start_time": "2021-06-13T15:48:16.526122",
     "status": "completed"
    },
    "tags": []
   },
   "outputs": [
    {
     "data": {
      "text/plain": [
       "(2778, 2)"
      ]
     },
     "execution_count": 9,
     "metadata": {},
     "output_type": "execute_result"
    }
   ],
   "source": [
    "df.shape"
   ]
  },
  {
   "cell_type": "code",
   "execution_count": 10,
   "id": "local-basin",
   "metadata": {
    "execution": {
     "iopub.execute_input": "2021-06-13T15:48:16.595748Z",
     "iopub.status.busy": "2021-06-13T15:48:16.595220Z",
     "iopub.status.idle": "2021-06-13T15:48:16.602243Z",
     "shell.execute_reply": "2021-06-13T15:48:16.601783Z",
     "shell.execute_reply.started": "2021-06-13T15:47:33.447694Z"
    },
    "papermill": {
     "duration": 0.029617,
     "end_time": "2021-06-13T15:48:16.602369",
     "exception": false,
     "start_time": "2021-06-13T15:48:16.572752",
     "status": "completed"
    },
    "tags": []
   },
   "outputs": [
    {
     "data": {
      "text/plain": [
       "\"I bought this hair oil after viewing so many good comments. But this product is not good enough.First of all it's Expensive...Second thing the amount of the product is low (half bottle) YES!The bottle is not completely filled with oil. If you cheating on your customers #Mamaearth trust me on this you can't fool people more than once. Now I know that your Brand is not good enough. I am not going to buy any product from your Brand again.Thumbs down for mamaearth onion oil !!\""
      ]
     },
     "execution_count": 10,
     "metadata": {},
     "output_type": "execute_result"
    }
   ],
   "source": [
    "df.review[0]"
   ]
  },
  {
   "cell_type": "code",
   "execution_count": 11,
   "id": "governing-monday",
   "metadata": {
    "execution": {
     "iopub.execute_input": "2021-06-13T15:48:16.647528Z",
     "iopub.status.busy": "2021-06-13T15:48:16.647004Z",
     "iopub.status.idle": "2021-06-13T15:48:18.237606Z",
     "shell.execute_reply": "2021-06-13T15:48:18.238136Z",
     "shell.execute_reply.started": "2021-06-13T15:47:33.464062Z"
    },
    "papermill": {
     "duration": 1.615534,
     "end_time": "2021-06-13T15:48:18.238295",
     "exception": false,
     "start_time": "2021-06-13T15:48:16.622761",
     "status": "completed"
    },
    "tags": []
   },
   "outputs": [],
   "source": [
    "import string\n",
    "from nltk.tokenize import word_tokenize\n",
    "from sklearn.feature_extraction.text import ENGLISH_STOP_WORDS"
   ]
  },
  {
   "cell_type": "code",
   "execution_count": 9,
   "id": "universal-twelve",
   "metadata": {
    "execution": {
     "iopub.execute_input": "2021-06-13T15:48:18.342383Z",
     "iopub.status.busy": "2021-06-13T15:48:18.341651Z",
     "iopub.status.idle": "2021-06-13T15:48:18.470844Z",
     "shell.execute_reply": "2021-06-13T15:48:18.471347Z",
     "shell.execute_reply.started": "2021-06-13T15:47:33.491658Z"
    },
    "papermill": {
     "duration": 0.160298,
     "end_time": "2021-06-13T15:48:18.471566",
     "exception": false,
     "start_time": "2021-06-13T15:48:18.311268",
     "status": "completed"
    },
    "tags": []
   },
   "outputs": [
    {
     "name": "stderr",
     "output_type": "stream",
     "text": [
      "[nltk_data] Downloading package wordnet to\n",
      "[nltk_data]     C:\\Users\\MAVERICK\\AppData\\Roaming\\nltk_data...\n",
      "[nltk_data]   Package wordnet is already up-to-date!\n"
     ]
    }
   ],
   "source": [
    "import nltk\n",
    "nltk.download('wordnet')\n",
    "wn = nltk.WordNetLemmatizer()\n"
   ]
  },
  {
   "cell_type": "code",
   "execution_count": 13,
   "id": "diverse-bread",
   "metadata": {
    "execution": {
     "iopub.execute_input": "2021-06-13T15:48:18.518649Z",
     "iopub.status.busy": "2021-06-13T15:48:18.517763Z",
     "iopub.status.idle": "2021-06-13T15:48:18.520056Z",
     "shell.execute_reply": "2021-06-13T15:48:18.520485Z",
     "shell.execute_reply.started": "2021-06-13T15:47:33.507673Z"
    },
    "papermill": {
     "duration": 0.027832,
     "end_time": "2021-06-13T15:48:18.520641",
     "exception": false,
     "start_time": "2021-06-13T15:48:18.492809",
     "status": "completed"
    },
    "tags": []
   },
   "outputs": [],
   "source": [
    "import re"
   ]
  },
  {
   "cell_type": "code",
   "execution_count": 14,
   "id": "central-motion",
   "metadata": {
    "execution": {
     "iopub.execute_input": "2021-06-13T15:48:18.566695Z",
     "iopub.status.busy": "2021-06-13T15:48:18.565792Z",
     "iopub.status.idle": "2021-06-13T15:48:18.575723Z",
     "shell.execute_reply": "2021-06-13T15:48:18.575191Z",
     "shell.execute_reply.started": "2021-06-13T15:47:33.517765Z"
    },
    "papermill": {
     "duration": 0.034101,
     "end_time": "2021-06-13T15:48:18.575882",
     "exception": false,
     "start_time": "2021-06-13T15:48:18.541781",
     "status": "completed"
    },
    "tags": []
   },
   "outputs": [],
   "source": [
    "stopword = nltk.corpus.stopwords.words('english')"
   ]
  },
  {
   "cell_type": "code",
   "execution_count": 15,
   "id": "baking-paragraph",
   "metadata": {
    "execution": {
     "iopub.execute_input": "2021-06-13T15:48:18.623471Z",
     "iopub.status.busy": "2021-06-13T15:48:18.622579Z",
     "iopub.status.idle": "2021-06-13T15:48:18.628065Z",
     "shell.execute_reply": "2021-06-13T15:48:18.628635Z",
     "shell.execute_reply.started": "2021-06-13T15:47:33.530507Z"
    },
    "papermill": {
     "duration": 0.03131,
     "end_time": "2021-06-13T15:48:18.628803",
     "exception": false,
     "start_time": "2021-06-13T15:48:18.597493",
     "status": "completed"
    },
    "tags": []
   },
   "outputs": [],
   "source": [
    "def clean_text(text):\n",
    "    text_lc = \"\".join([word.lower() for word in text if word not in string.punctuation])\n",
    "    text_rc = re.sub('[0-9]+','',text_lc)\n",
    "    tokens = word_tokenize(text_rc,language='english')\n",
    "    text = [wn.lemmatize(word) for word in tokens if word not in stopword]\n",
    "    return text\n",
    "    "
   ]
  },
  {
   "cell_type": "code",
   "execution_count": 16,
   "id": "educational-rotation",
   "metadata": {
    "execution": {
     "iopub.execute_input": "2021-06-13T15:48:18.675177Z",
     "iopub.status.busy": "2021-06-13T15:48:18.674293Z",
     "iopub.status.idle": "2021-06-13T15:48:20.186316Z",
     "shell.execute_reply": "2021-06-13T15:48:20.186866Z",
     "shell.execute_reply.started": "2021-06-13T15:47:33.542345Z"
    },
    "papermill": {
     "duration": 1.537048,
     "end_time": "2021-06-13T15:48:20.187026",
     "exception": false,
     "start_time": "2021-06-13T15:48:18.649978",
     "status": "completed"
    },
    "tags": []
   },
   "outputs": [
    {
     "name": "stdout",
     "output_type": "stream",
     "text": [
      "['ठीक', 'नहीं', 'लगा']\n"
     ]
    }
   ],
   "source": [
    "print(clean_text(df.review[2779]))"
   ]
  },
  {
   "cell_type": "code",
   "execution_count": 17,
   "id": "indoor-public",
   "metadata": {
    "execution": {
     "iopub.execute_input": "2021-06-13T15:48:20.232509Z",
     "iopub.status.busy": "2021-06-13T15:48:20.231612Z",
     "iopub.status.idle": "2021-06-13T15:48:20.235288Z",
     "shell.execute_reply": "2021-06-13T15:48:20.235725Z",
     "shell.execute_reply.started": "2021-06-13T15:47:33.556036Z"
    },
    "papermill": {
     "duration": 0.027902,
     "end_time": "2021-06-13T15:48:20.235891",
     "exception": false,
     "start_time": "2021-06-13T15:48:20.207989",
     "status": "completed"
    },
    "tags": []
   },
   "outputs": [],
   "source": [
    "from sklearn.feature_extraction.text import CountVectorizer\n",
    "from sklearn.model_selection import train_test_split\n",
    "import sklearn.metrics"
   ]
  },
  {
   "cell_type": "code",
   "execution_count": 18,
   "id": "verbal-spank",
   "metadata": {
    "execution": {
     "iopub.execute_input": "2021-06-13T15:48:20.280790Z",
     "iopub.status.busy": "2021-06-13T15:48:20.279971Z",
     "iopub.status.idle": "2021-06-13T15:48:21.344228Z",
     "shell.execute_reply": "2021-06-13T15:48:21.344647Z",
     "shell.execute_reply.started": "2021-06-13T15:47:33.568969Z"
    },
    "papermill": {
     "duration": 1.088145,
     "end_time": "2021-06-13T15:48:21.344820",
     "exception": false,
     "start_time": "2021-06-13T15:48:20.256675",
     "status": "completed"
    },
    "tags": []
   },
   "outputs": [],
   "source": [
    "df['cleaned_review'] = df['review'].apply(lambda x: clean_text(x))"
   ]
  },
  {
   "cell_type": "code",
   "execution_count": 19,
   "id": "neither-thriller",
   "metadata": {
    "execution": {
     "iopub.execute_input": "2021-06-13T15:48:21.390952Z",
     "iopub.status.busy": "2021-06-13T15:48:21.390134Z",
     "iopub.status.idle": "2021-06-13T15:48:21.401839Z",
     "shell.execute_reply": "2021-06-13T15:48:21.402215Z",
     "shell.execute_reply.started": "2021-06-13T15:47:35.331676Z"
    },
    "papermill": {
     "duration": 0.036634,
     "end_time": "2021-06-13T15:48:21.402372",
     "exception": false,
     "start_time": "2021-06-13T15:48:21.365738",
     "status": "completed"
    },
    "tags": []
   },
   "outputs": [
    {
     "data": {
      "text/html": [
       "<div>\n",
       "<style scoped>\n",
       "    .dataframe tbody tr th:only-of-type {\n",
       "        vertical-align: middle;\n",
       "    }\n",
       "\n",
       "    .dataframe tbody tr th {\n",
       "        vertical-align: top;\n",
       "    }\n",
       "\n",
       "    .dataframe thead th {\n",
       "        text-align: right;\n",
       "    }\n",
       "</style>\n",
       "<table border=\"1\" class=\"dataframe\">\n",
       "  <thead>\n",
       "    <tr style=\"text-align: right;\">\n",
       "      <th></th>\n",
       "      <th>rating</th>\n",
       "      <th>review</th>\n",
       "      <th>cleaned_review</th>\n",
       "    </tr>\n",
       "  </thead>\n",
       "  <tbody>\n",
       "    <tr>\n",
       "      <th>0</th>\n",
       "      <td>1</td>\n",
       "      <td>I bought this hair oil after viewing so many g...</td>\n",
       "      <td>[bought, hair, oil, viewing, many, good, comme...</td>\n",
       "    </tr>\n",
       "    <tr>\n",
       "      <th>1</th>\n",
       "      <td>5</td>\n",
       "      <td>Used This Mama Earth Newly Launched Onion Oil ...</td>\n",
       "      <td>[used, mama, earth, newly, launched, onion, oi...</td>\n",
       "    </tr>\n",
       "    <tr>\n",
       "      <th>2</th>\n",
       "      <td>1</td>\n",
       "      <td>So bad product...My hair falling increase too ...</td>\n",
       "      <td>[bad, productmy, hair, falling, increase, much...</td>\n",
       "    </tr>\n",
       "    <tr>\n",
       "      <th>3</th>\n",
       "      <td>1</td>\n",
       "      <td>Product just smells similar to navarathna hair...</td>\n",
       "      <td>[product, smell, similar, navarathna, hair, oi...</td>\n",
       "    </tr>\n",
       "    <tr>\n",
       "      <th>4</th>\n",
       "      <td>5</td>\n",
       "      <td>I have been trying different onion oil for my ...</td>\n",
       "      <td>[trying, different, onion, oil, hair, hair, he...</td>\n",
       "    </tr>\n",
       "  </tbody>\n",
       "</table>\n",
       "</div>"
      ],
      "text/plain": [
       "   rating                                             review  \\\n",
       "0       1  I bought this hair oil after viewing so many g...   \n",
       "1       5  Used This Mama Earth Newly Launched Onion Oil ...   \n",
       "2       1  So bad product...My hair falling increase too ...   \n",
       "3       1  Product just smells similar to navarathna hair...   \n",
       "4       5  I have been trying different onion oil for my ...   \n",
       "\n",
       "                                      cleaned_review  \n",
       "0  [bought, hair, oil, viewing, many, good, comme...  \n",
       "1  [used, mama, earth, newly, launched, onion, oi...  \n",
       "2  [bad, productmy, hair, falling, increase, much...  \n",
       "3  [product, smell, similar, navarathna, hair, oi...  \n",
       "4  [trying, different, onion, oil, hair, hair, he...  "
      ]
     },
     "execution_count": 19,
     "metadata": {},
     "output_type": "execute_result"
    }
   ],
   "source": [
    "df.head()"
   ]
  },
  {
   "cell_type": "code",
   "execution_count": 20,
   "id": "dirty-designer",
   "metadata": {
    "execution": {
     "iopub.execute_input": "2021-06-13T15:48:21.448194Z",
     "iopub.status.busy": "2021-06-13T15:48:21.447353Z",
     "iopub.status.idle": "2021-06-13T15:48:21.451760Z",
     "shell.execute_reply": "2021-06-13T15:48:21.452135Z",
     "shell.execute_reply.started": "2021-06-13T15:47:35.355845Z"
    },
    "papermill": {
     "duration": 0.028816,
     "end_time": "2021-06-13T15:48:21.452294",
     "exception": false,
     "start_time": "2021-06-13T15:48:21.423478",
     "status": "completed"
    },
    "tags": []
   },
   "outputs": [],
   "source": [
    "X = df['review']\n",
    "y = df.rating.values"
   ]
  },
  {
   "cell_type": "code",
   "execution_count": 21,
   "id": "regular-syndicate",
   "metadata": {
    "execution": {
     "iopub.execute_input": "2021-06-13T15:48:21.514670Z",
     "iopub.status.busy": "2021-06-13T15:48:21.509689Z",
     "iopub.status.idle": "2021-06-13T15:48:22.577099Z",
     "shell.execute_reply": "2021-06-13T15:48:22.575990Z",
     "shell.execute_reply.started": "2021-06-13T15:47:35.364819Z"
    },
    "papermill": {
     "duration": 1.102476,
     "end_time": "2021-06-13T15:48:22.577235",
     "exception": false,
     "start_time": "2021-06-13T15:48:21.474759",
     "status": "completed"
    },
    "tags": []
   },
   "outputs": [],
   "source": [
    "cvt = CountVectorizer(analyzer=clean_text)\n",
    "X_v = cvt.fit_transform(X)"
   ]
  },
  {
   "cell_type": "code",
   "execution_count": 22,
   "id": "seeing-treatment",
   "metadata": {
    "execution": {
     "iopub.execute_input": "2021-06-13T15:48:22.624235Z",
     "iopub.status.busy": "2021-06-13T15:48:22.623691Z",
     "iopub.status.idle": "2021-06-13T15:48:22.740473Z",
     "shell.execute_reply": "2021-06-13T15:48:22.739878Z",
     "shell.execute_reply.started": "2021-06-13T15:47:37.228823Z"
    },
    "papermill": {
     "duration": 0.141653,
     "end_time": "2021-06-13T15:48:22.740612",
     "exception": false,
     "start_time": "2021-06-13T15:48:22.598959",
     "status": "completed"
    },
    "tags": []
   },
   "outputs": [],
   "source": [
    "from sklearn.ensemble import RandomForestClassifier"
   ]
  },
  {
   "cell_type": "code",
   "execution_count": 23,
   "id": "stainless-antenna",
   "metadata": {
    "execution": {
     "iopub.execute_input": "2021-06-13T15:48:22.787824Z",
     "iopub.status.busy": "2021-06-13T15:48:22.787135Z",
     "iopub.status.idle": "2021-06-13T15:48:22.789907Z",
     "shell.execute_reply": "2021-06-13T15:48:22.789375Z",
     "shell.execute_reply.started": "2021-06-13T15:47:37.235830Z"
    },
    "papermill": {
     "duration": 0.028042,
     "end_time": "2021-06-13T15:48:22.790029",
     "exception": false,
     "start_time": "2021-06-13T15:48:22.761987",
     "status": "completed"
    },
    "tags": []
   },
   "outputs": [],
   "source": [
    "rf = RandomForestClassifier()"
   ]
  },
  {
   "cell_type": "code",
   "execution_count": 24,
   "id": "dressed-cradle",
   "metadata": {
    "execution": {
     "iopub.execute_input": "2021-06-13T15:48:22.835326Z",
     "iopub.status.busy": "2021-06-13T15:48:22.834717Z",
     "iopub.status.idle": "2021-06-13T15:48:22.843404Z",
     "shell.execute_reply": "2021-06-13T15:48:22.843879Z",
     "shell.execute_reply.started": "2021-06-13T15:47:37.248026Z"
    },
    "papermill": {
     "duration": 0.03282,
     "end_time": "2021-06-13T15:48:22.844030",
     "exception": false,
     "start_time": "2021-06-13T15:48:22.811210",
     "status": "completed"
    },
    "tags": []
   },
   "outputs": [],
   "source": [
    "X_train,X_test,y_train,y_test = train_test_split(X_v,y,test_size=0.33,stratify=y)"
   ]
  },
  {
   "cell_type": "code",
   "execution_count": 25,
   "id": "latter-taste",
   "metadata": {
    "execution": {
     "iopub.execute_input": "2021-06-13T15:48:22.889420Z",
     "iopub.status.busy": "2021-06-13T15:48:22.888910Z",
     "iopub.status.idle": "2021-06-13T15:48:22.892783Z",
     "shell.execute_reply": "2021-06-13T15:48:22.893137Z",
     "shell.execute_reply.started": "2021-06-13T15:47:37.266720Z"
    },
    "papermill": {
     "duration": 0.028065,
     "end_time": "2021-06-13T15:48:22.893283",
     "exception": false,
     "start_time": "2021-06-13T15:48:22.865218",
     "status": "completed"
    },
    "tags": []
   },
   "outputs": [
    {
     "data": {
      "text/plain": [
       "array([1, 5, 5, ..., 1, 5, 5], dtype=int64)"
      ]
     },
     "execution_count": 25,
     "metadata": {},
     "output_type": "execute_result"
    }
   ],
   "source": [
    "y_train"
   ]
  },
  {
   "cell_type": "code",
   "execution_count": 26,
   "id": "heavy-turkish",
   "metadata": {
    "execution": {
     "iopub.execute_input": "2021-06-13T15:48:22.940891Z",
     "iopub.status.busy": "2021-06-13T15:48:22.940141Z",
     "iopub.status.idle": "2021-06-13T15:48:24.588782Z",
     "shell.execute_reply": "2021-06-13T15:48:24.589177Z",
     "shell.execute_reply.started": "2021-06-13T15:47:37.278841Z"
    },
    "papermill": {
     "duration": 1.674599,
     "end_time": "2021-06-13T15:48:24.589340",
     "exception": false,
     "start_time": "2021-06-13T15:48:22.914741",
     "status": "completed"
    },
    "tags": []
   },
   "outputs": [
    {
     "data": {
      "text/plain": [
       "RandomForestClassifier()"
      ]
     },
     "execution_count": 26,
     "metadata": {},
     "output_type": "execute_result"
    }
   ],
   "source": [
    "rf.fit(X_train,y_train)"
   ]
  },
  {
   "cell_type": "code",
   "execution_count": 27,
   "id": "backed-radar",
   "metadata": {
    "execution": {
     "iopub.execute_input": "2021-06-13T15:48:24.635417Z",
     "iopub.status.busy": "2021-06-13T15:48:24.634885Z",
     "iopub.status.idle": "2021-06-13T15:48:24.686848Z",
     "shell.execute_reply": "2021-06-13T15:48:24.687258Z",
     "shell.execute_reply.started": "2021-06-13T15:47:39.088024Z"
    },
    "papermill": {
     "duration": 0.076519,
     "end_time": "2021-06-13T15:48:24.687425",
     "exception": false,
     "start_time": "2021-06-13T15:48:24.610906",
     "status": "completed"
    },
    "tags": []
   },
   "outputs": [],
   "source": [
    "y_pred = rf.predict(X_test)"
   ]
  },
  {
   "cell_type": "code",
   "execution_count": 28,
   "id": "honest-repository",
   "metadata": {
    "execution": {
     "iopub.execute_input": "2021-06-13T15:48:24.733810Z",
     "iopub.status.busy": "2021-06-13T15:48:24.733248Z",
     "iopub.status.idle": "2021-06-13T15:48:24.738219Z",
     "shell.execute_reply": "2021-06-13T15:48:24.737720Z",
     "shell.execute_reply.started": "2021-06-13T15:47:39.150868Z"
    },
    "papermill": {
     "duration": 0.029212,
     "end_time": "2021-06-13T15:48:24.738343",
     "exception": false,
     "start_time": "2021-06-13T15:48:24.709131",
     "status": "completed"
    },
    "tags": []
   },
   "outputs": [],
   "source": [
    "cm = sklearn.metrics.confusion_matrix(y_test,y_pred)"
   ]
  },
  {
   "cell_type": "code",
   "execution_count": 29,
   "id": "lined-influence",
   "metadata": {
    "execution": {
     "iopub.execute_input": "2021-06-13T15:48:24.784651Z",
     "iopub.status.busy": "2021-06-13T15:48:24.784066Z",
     "iopub.status.idle": "2021-06-13T15:48:24.996106Z",
     "shell.execute_reply": "2021-06-13T15:48:24.996608Z",
     "shell.execute_reply.started": "2021-06-13T15:47:39.159830Z"
    },
    "papermill": {
     "duration": 0.236774,
     "end_time": "2021-06-13T15:48:24.996785",
     "exception": false,
     "start_time": "2021-06-13T15:48:24.760011",
     "status": "completed"
    },
    "tags": []
   },
   "outputs": [],
   "source": [
    "import seaborn as sns"
   ]
  },
  {
   "cell_type": "code",
   "execution_count": 30,
   "id": "centered-guide",
   "metadata": {
    "execution": {
     "iopub.execute_input": "2021-06-13T15:48:25.043489Z",
     "iopub.status.busy": "2021-06-13T15:48:25.042916Z",
     "iopub.status.idle": "2021-06-13T15:48:25.047878Z",
     "shell.execute_reply": "2021-06-13T15:48:25.047465Z",
     "shell.execute_reply.started": "2021-06-13T15:47:39.171793Z"
    },
    "papermill": {
     "duration": 0.029341,
     "end_time": "2021-06-13T15:48:25.048008",
     "exception": false,
     "start_time": "2021-06-13T15:48:25.018667",
     "status": "completed"
    },
    "tags": []
   },
   "outputs": [
    {
     "name": "stdout",
     "output_type": "stream",
     "text": [
      "0.8854961832061069\n"
     ]
    }
   ],
   "source": [
    "print(sklearn.metrics.accuracy_score(y_test,y_pred))"
   ]
  },
  {
   "cell_type": "code",
   "execution_count": 31,
   "id": "spoken-brunswick",
   "metadata": {
    "execution": {
     "iopub.execute_input": "2021-06-13T15:48:25.097609Z",
     "iopub.status.busy": "2021-06-13T15:48:25.097022Z",
     "iopub.status.idle": "2021-06-13T15:48:25.099780Z",
     "shell.execute_reply": "2021-06-13T15:48:25.099231Z",
     "shell.execute_reply.started": "2021-06-13T15:47:39.188688Z"
    },
    "papermill": {
     "duration": 0.029817,
     "end_time": "2021-06-13T15:48:25.099916",
     "exception": false,
     "start_time": "2021-06-13T15:48:25.070099",
     "status": "completed"
    },
    "tags": []
   },
   "outputs": [],
   "source": [
    "df_test  = cm\n",
    "df_test = pd.DataFrame(df_test)"
   ]
  },
  {
   "cell_type": "code",
   "execution_count": 32,
   "id": "distinguished-original",
   "metadata": {
    "execution": {
     "iopub.execute_input": "2021-06-13T15:48:25.148355Z",
     "iopub.status.busy": "2021-06-13T15:48:25.147832Z",
     "iopub.status.idle": "2021-06-13T15:48:25.404009Z",
     "shell.execute_reply": "2021-06-13T15:48:25.403555Z",
     "shell.execute_reply.started": "2021-06-13T15:47:39.201576Z"
    },
    "papermill": {
     "duration": 0.281048,
     "end_time": "2021-06-13T15:48:25.404144",
     "exception": false,
     "start_time": "2021-06-13T15:48:25.123096",
     "status": "completed"
    },
    "tags": []
   },
   "outputs": [
    {
     "data": {
      "image/png": "[encoded data removed]",
      "text/plain": [
       "<Figure size 432x288 with 2 Axes>"
      ]
     },
     "metadata": {
      "needs_background": "light"
     },
     "output_type": "display_data"
    }
   ],
   "source": [
    "ax = sns.heatmap(df_test,fmt= ' ',annot=True)\n",
    "ax.set_xlabel('y_test')\n",
    "ax.set_ylabel('y_pred')\n",
    "ax.set_xticklabels(list(set(y_test)))\n",
    "ax.set_yticklabels(list(set(y_test)));\n",
    "\n"
   ]
  }
 ],
 "metadata": {
  "kernelspec": {
   "display_name": "Python 3 (ipykernel)",
   "language": "python",
   "name": "python3"
  },
  "language_info": {
   "codemirror_mode": {
    "name": "ipython",
    "version": 3
   },
   "file_extension": ".py",
   "mimetype": "text/x-python",
   "name": "python",
   "nbconvert_exporter": "python",
   "pygments_lexer": "ipython3",
   "version": "3.9.12"
  },
  "papermill": {
   "default_parameters": {},
   "duration": 15.419594,
   "end_time": "2021-06-13T15:48:26.335919",
   "environment_variables": {},
   "exception": null,
   "input_path": "__notebook__.ipynb",
   "output_path": "__notebook__.ipynb",
   "parameters": {},
   "start_time": "2021-06-13T15:48:10.916325",
   "version": "2.3.2"
  }
 },
 "nbformat": 4,
 "nbformat_minor": 5
}
