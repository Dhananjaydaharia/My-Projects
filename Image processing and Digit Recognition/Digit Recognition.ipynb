{
 "cells": [
  {
   "cell_type": "code",
   "execution_count": 15,
   "id": "629f7733",
   "metadata": {},
   "outputs": [],
   "source": [
    "import h5py\n",
    "import numpy as np\n",
    "import os\n",
    "import matplotlib.pyplot as plt"
   ]
  },
  {
   "cell_type": "code",
   "execution_count": 16,
   "id": "d1b18886",
   "metadata": {},
   "outputs": [
    {
     "data": {
      "text/plain": [
       "'C:\\\\Users\\\\Dhananjay\\\\3D Objects\\\\PGDA Data Science\\\\imarticus PGDA\\\\Deep Learning\\\\ANN & DIgit Recognition\\\\Project'"
      ]
     },
     "execution_count": 16,
     "metadata": {},
     "output_type": "execute_result"
    }
   ],
   "source": [
    "os.getcwd()"
   ]
  },
  {
   "cell_type": "code",
   "execution_count": 17,
   "id": "10a1f4a4",
   "metadata": {},
   "outputs": [],
   "source": [
    "# open the file read 0nly\n",
    "h5f=h5py.File('SVHN_digit.h5','r')"
   ]
  },
  {
   "cell_type": "markdown",
   "id": "e40424ad",
   "metadata": {},
   "source": [
    "### Splitting the dataset into Train & Test"
   ]
  },
  {
   "cell_type": "code",
   "execution_count": 18,
   "id": "d6a6fa3b",
   "metadata": {},
   "outputs": [
    {
     "ename": "SyntaxError",
     "evalue": "invalid syntax (3872721092.py, line 1)",
     "output_type": "error",
     "traceback": [
      "\u001b[1;36m  Input \u001b[1;32mIn [18]\u001b[1;36m\u001b[0m\n\u001b[1;33m    Also normalize the data by dividing with 255.0(dividing by 255.0)\u001b[0m\n\u001b[1;37m         ^\u001b[0m\n\u001b[1;31mSyntaxError\u001b[0m\u001b[1;31m:\u001b[0m invalid syntax\n"
     ]
    }
   ],
   "source": [
    "Also normalize the data by dividing with 255.0(dividing by 255.0)"
   ]
  },
  {
   "cell_type": "code",
   "execution_count": 19,
   "id": "81044512",
   "metadata": {},
   "outputs": [],
   "source": [
    "# Loading the Train and Test Data\n",
    "X_train=h5f['X_train'][:]\n",
    "y_train=h5f['y_train'][:]\n",
    "X_test=h5f['X_test'][:]\n",
    "y_test=h5f['y_test'][:]\n",
    "\n",
    "# closing this file\n",
    "h5f.close()"
   ]
  },
  {
   "cell_type": "code",
   "execution_count": 20,
   "id": "d93321e9",
   "metadata": {},
   "outputs": [
    {
     "name": "stdout",
     "output_type": "stream",
     "text": [
      "(42000, 32, 32) (18000, 32, 32)\n"
     ]
    }
   ],
   "source": [
    "print(X_train.shape,X_test.shape)"
   ]
  },
  {
   "cell_type": "code",
   "execution_count": 21,
   "id": "46fa5eac",
   "metadata": {},
   "outputs": [
    {
     "data": {
      "text/plain": [
       "numpy.ndarray"
      ]
     },
     "execution_count": 21,
     "metadata": {},
     "output_type": "execute_result"
    }
   ],
   "source": [
    "type(X_train)"
   ]
  },
  {
   "cell_type": "code",
   "execution_count": 22,
   "id": "3c4be9a0",
   "metadata": {},
   "outputs": [
    {
     "data": {
      "text/plain": [
       "<matplotlib.image.AxesImage at 0x22bc20f9eb0>"
      ]
     },
     "execution_count": 22,
     "metadata": {},
     "output_type": "execute_result"
    },
    {
     "data": {
      "image/png": "[encoded data removed]",
      "text/plain": [
       "<Figure size 432x288 with 1 Axes>"
      ]
     },
     "metadata": {
      "needs_background": "light"
     },
     "output_type": "display_data"
    }
   ],
   "source": [
    "plt.imshow(X_train[0])"
   ]
  },
  {
   "cell_type": "code",
   "execution_count": 27,
   "id": "9375aa6f",
   "metadata": {},
   "outputs": [
    {
     "name": "stdout",
     "output_type": "stream",
     "text": [
      "[0 1 2 3 4 5 6 7 8 9]\n",
      "[0 1 2 3 4 5 6 7 8 9]\n"
     ]
    }
   ],
   "source": [
    "print(np.unique(y_train))\n",
    "print(np.unique(y_test))"
   ]
  },
  {
   "cell_type": "markdown",
   "id": "93594f2f",
   "metadata": {},
   "source": [
    "###  converting to 1d array to multi dimensional"
   ]
  },
  {
   "cell_type": "code",
   "execution_count": 28,
   "id": "6b5ad17c",
   "metadata": {},
   "outputs": [
    {
     "name": "stdout",
     "output_type": "stream",
     "text": [
      "Training Dataset (42000, 1024) (42000,)\n",
      "Test Dataset (18000, 1024) (18000,)\n"
     ]
    }
   ],
   "source": [
    "X_train=X_train.reshape(X_train.shape[0],1024)\n",
    "X_test=X_test.reshape(X_test.shape[0],1024)\n",
    "\n",
    "# normalize inputs from 0-255 to 0-1\n",
    "X_train=X_train/255.0\n",
    "X_test=X_test/255.0\n",
    "\n",
    "\n",
    "print('Training Dataset',X_train.shape,y_train.shape)\n",
    "print('Test Dataset',X_test.shape,y_test.shape)"
   ]
  },
  {
   "cell_type": "markdown",
   "id": "92d48c3b",
   "metadata": {},
   "source": [
    "## Building the neural Network"
   ]
  },
  {
   "cell_type": "code",
   "execution_count": 37,
   "id": "f02b2f9f",
   "metadata": {},
   "outputs": [],
   "source": [
    "import keras\n",
    "from keras.models import Sequential\n",
    "from keras.layers import Dense"
   ]
  },
  {
   "cell_type": "code",
   "execution_count": 38,
   "id": "775a6f37",
   "metadata": {},
   "outputs": [],
   "source": [
    "model=Sequential()"
   ]
  },
  {
   "cell_type": "code",
   "execution_count": 44,
   "id": "aca4fb81",
   "metadata": {},
   "outputs": [],
   "source": [
    "model.add(Dense(128,kernel_initializer='uniform',activation='relu',input_dim=1024))\n",
    "model.add(Dense(64,kernel_initializer='uniform',activation='relu'))\n",
    "model.add(Dense(32,kernel_initializer='uniform',activation='relu'))"
   ]
  },
  {
   "cell_type": "code",
   "execution_count": 42,
   "id": "8f61b30f",
   "metadata": {},
   "outputs": [
    {
     "ename": "SyntaxError",
     "evalue": "invalid syntax (2784452099.py, line 2)",
     "output_type": "error",
     "traceback": [
      "\u001b[1;36m  Input \u001b[1;32mIn [42]\u001b[1;36m\u001b[0m\n\u001b[1;33m    model.add(Dense(64, kernel_initializer='uniform',activation='relu'))\u001b[0m\n\u001b[1;37m    ^\u001b[0m\n\u001b[1;31mSyntaxError\u001b[0m\u001b[1;31m:\u001b[0m invalid syntax\n"
     ]
    }
   ],
   "source": [
    "# Find whats wrong\n",
    "model.add(Dense(128, kernel_initializer='uniform',activation='relu',input_shape=(1024,))\n",
    "model.add(Dense(64, kernel_initializer='uniform',activation='relu')) \n",
    "model.add(Dense(32, kernel_initializer='uniform',activation ='relu'))          "
   ]
  },
  {
   "cell_type": "code",
   "execution_count": 45,
   "id": "b2c0155c",
   "metadata": {},
   "outputs": [],
   "source": [
    "# Adding the output layer\n",
    "\n",
    "model.add(Dense(10,activation='softmax'))"
   ]
  },
  {
   "cell_type": "code",
   "execution_count": 62,
   "id": "665a7ba7",
   "metadata": {},
   "outputs": [],
   "source": [
    "# compiling the model wit Adam optimizer\n",
    "model.compile(optimizer='Adam',loss='sparse_categorical_crossentropy',metrics='accuracy')"
   ]
  },
  {
   "cell_type": "markdown",
   "id": "713d0068",
   "metadata": {},
   "source": [
    "### Validation Split"
   ]
  },
  {
   "cell_type": "code",
   "execution_count": 63,
   "id": "4ed15d07",
   "metadata": {},
   "outputs": [
    {
     "name": "stdout",
     "output_type": "stream",
     "text": [
      "Epoch 1/50\n",
      "985/985 [==============================] - 4s 3ms/step - loss: 2.3027 - accuracy: 0.1012 - val_loss: 2.3030 - val_accuracy: 0.1010\n",
      "Epoch 2/50\n",
      "985/985 [==============================] - 3s 3ms/step - loss: 2.3027 - accuracy: 0.1028 - val_loss: 2.3033 - val_accuracy: 0.0950\n",
      "Epoch 3/50\n",
      "985/985 [==============================] - 3s 3ms/step - loss: 2.3027 - accuracy: 0.1001 - val_loss: 2.3032 - val_accuracy: 0.0950\n",
      "Epoch 4/50\n",
      "985/985 [==============================] - 3s 3ms/step - loss: 2.3027 - accuracy: 0.1012 - val_loss: 2.3031 - val_accuracy: 0.0966\n",
      "Epoch 5/50\n",
      "985/985 [==============================] - 3s 3ms/step - loss: 2.3027 - accuracy: 0.1025 - val_loss: 2.3029 - val_accuracy: 0.1010\n",
      "Epoch 6/50\n",
      "985/985 [==============================] - 3s 3ms/step - loss: 2.3027 - accuracy: 0.1009 - val_loss: 2.3032 - val_accuracy: 0.0950\n",
      "Epoch 7/50\n",
      "985/985 [==============================] - 3s 3ms/step - loss: 2.3027 - accuracy: 0.1013 - val_loss: 2.3031 - val_accuracy: 0.0950\n",
      "Epoch 8/50\n",
      "985/985 [==============================] - 3s 3ms/step - loss: 2.3027 - accuracy: 0.1016 - val_loss: 2.3031 - val_accuracy: 0.1010\n",
      "Epoch 9/50\n",
      "985/985 [==============================] - 3s 3ms/step - loss: 2.3027 - accuracy: 0.1022 - val_loss: 2.3031 - val_accuracy: 0.0950\n",
      "Epoch 10/50\n",
      "985/985 [==============================] - 3s 3ms/step - loss: 2.3027 - accuracy: 0.1003 - val_loss: 2.3030 - val_accuracy: 0.0950\n",
      "Epoch 11/50\n",
      "985/985 [==============================] - 3s 3ms/step - loss: 2.3027 - accuracy: 0.1008 - val_loss: 2.3032 - val_accuracy: 0.0950\n",
      "Epoch 12/50\n",
      "985/985 [==============================] - 3s 3ms/step - loss: 2.3027 - accuracy: 0.0990 - val_loss: 2.3032 - val_accuracy: 0.1010\n",
      "Epoch 13/50\n",
      "985/985 [==============================] - 3s 3ms/step - loss: 2.3027 - accuracy: 0.1010 - val_loss: 2.3030 - val_accuracy: 0.1010\n",
      "Epoch 14/50\n",
      "985/985 [==============================] - 3s 3ms/step - loss: 2.3027 - accuracy: 0.1013 - val_loss: 2.3031 - val_accuracy: 0.0950\n",
      "Epoch 15/50\n",
      "985/985 [==============================] - 3s 3ms/step - loss: 2.3027 - accuracy: 0.1024 - val_loss: 2.3030 - val_accuracy: 0.0950\n",
      "Epoch 16/50\n",
      "985/985 [==============================] - 3s 3ms/step - loss: 2.3027 - accuracy: 0.1027 - val_loss: 2.3030 - val_accuracy: 0.0950\n",
      "Epoch 17/50\n",
      "985/985 [==============================] - 3s 3ms/step - loss: 2.3027 - accuracy: 0.1019 - val_loss: 2.3028 - val_accuracy: 0.1010\n",
      "Epoch 18/50\n",
      "985/985 [==============================] - 3s 3ms/step - loss: 2.3027 - accuracy: 0.0995 - val_loss: 2.3030 - val_accuracy: 0.1010\n",
      "Epoch 19/50\n",
      "985/985 [==============================] - 3s 3ms/step - loss: 2.3027 - accuracy: 0.1002 - val_loss: 2.3032 - val_accuracy: 0.0950\n",
      "Epoch 20/50\n",
      "985/985 [==============================] - 3s 3ms/step - loss: 2.3027 - accuracy: 0.1007 - val_loss: 2.3032 - val_accuracy: 0.0950\n",
      "Epoch 21/50\n",
      "985/985 [==============================] - 3s 3ms/step - loss: 2.3027 - accuracy: 0.1015 - val_loss: 2.3031 - val_accuracy: 0.0950\n",
      "Epoch 22/50\n",
      "985/985 [==============================] - 3s 3ms/step - loss: 2.3027 - accuracy: 0.1023 - val_loss: 2.3033 - val_accuracy: 0.1010\n",
      "Epoch 23/50\n",
      "985/985 [==============================] - 3s 3ms/step - loss: 2.3027 - accuracy: 0.1014 - val_loss: 2.3030 - val_accuracy: 0.1010\n",
      "Epoch 24/50\n",
      "985/985 [==============================] - 3s 3ms/step - loss: 2.3027 - accuracy: 0.1010 - val_loss: 2.3033 - val_accuracy: 0.0950\n",
      "Epoch 25/50\n",
      "985/985 [==============================] - 3s 3ms/step - loss: 2.3027 - accuracy: 0.1001 - val_loss: 2.3033 - val_accuracy: 0.0950\n",
      "Epoch 26/50\n",
      "985/985 [==============================] - 3s 3ms/step - loss: 2.3027 - accuracy: 0.1019 - val_loss: 2.3030 - val_accuracy: 0.0950\n",
      "Epoch 27/50\n",
      "985/985 [==============================] - 3s 3ms/step - loss: 2.3027 - accuracy: 0.1025 - val_loss: 2.3030 - val_accuracy: 0.1010\n",
      "Epoch 28/50\n",
      "985/985 [==============================] - 3s 3ms/step - loss: 2.3027 - accuracy: 0.0990 - val_loss: 2.3030 - val_accuracy: 0.0950\n",
      "Epoch 29/50\n",
      "985/985 [==============================] - 3s 3ms/step - loss: 2.3027 - accuracy: 0.1005 - val_loss: 2.3033 - val_accuracy: 0.0950\n",
      "Epoch 30/50\n",
      "985/985 [==============================] - 3s 3ms/step - loss: 2.3027 - accuracy: 0.1019 - val_loss: 2.3032 - val_accuracy: 0.0950\n",
      "Epoch 31/50\n",
      "985/985 [==============================] - 3s 3ms/step - loss: 2.3027 - accuracy: 0.0987 - val_loss: 2.3033 - val_accuracy: 0.0950\n",
      "Epoch 32/50\n",
      "985/985 [==============================] - 3s 3ms/step - loss: 2.3027 - accuracy: 0.1013 - val_loss: 2.3031 - val_accuracy: 0.1010\n",
      "Epoch 33/50\n",
      "985/985 [==============================] - 3s 3ms/step - loss: 2.3027 - accuracy: 0.0991 - val_loss: 2.3030 - val_accuracy: 0.0950\n",
      "Epoch 34/50\n",
      "985/985 [==============================] - 3s 3ms/step - loss: 2.3027 - accuracy: 0.1026 - val_loss: 2.3032 - val_accuracy: 0.0950\n",
      "Epoch 35/50\n",
      "985/985 [==============================] - 3s 3ms/step - loss: 2.3026 - accuracy: 0.1032 - val_loss: 2.3030 - val_accuracy: 0.1010\n",
      "Epoch 36/50\n",
      "985/985 [==============================] - 3s 3ms/step - loss: 2.3027 - accuracy: 0.0994 - val_loss: 2.3029 - val_accuracy: 0.1010\n",
      "Epoch 37/50\n",
      "985/985 [==============================] - 3s 3ms/step - loss: 2.3027 - accuracy: 0.0991 - val_loss: 2.3032 - val_accuracy: 0.0950\n",
      "Epoch 38/50\n",
      "985/985 [==============================] - 3s 3ms/step - loss: 2.3027 - accuracy: 0.1000 - val_loss: 2.3032 - val_accuracy: 0.0950\n",
      "Epoch 39/50\n",
      "985/985 [==============================] - 3s 3ms/step - loss: 2.3027 - accuracy: 0.1027 - val_loss: 2.3032 - val_accuracy: 0.1010\n",
      "Epoch 40/50\n",
      "985/985 [==============================] - 3s 3ms/step - loss: 2.3027 - accuracy: 0.1003 - val_loss: 2.3030 - val_accuracy: 0.0950\n",
      "Epoch 41/50\n",
      "985/985 [==============================] - 3s 3ms/step - loss: 2.3027 - accuracy: 0.1024 - val_loss: 2.3031 - val_accuracy: 0.0950\n",
      "Epoch 42/50\n",
      "985/985 [==============================] - 3s 3ms/step - loss: 2.3027 - accuracy: 0.1003 - val_loss: 2.3032 - val_accuracy: 0.0950\n",
      "Epoch 43/50\n",
      "985/985 [==============================] - 3s 3ms/step - loss: 2.3027 - accuracy: 0.1017 - val_loss: 2.3031 - val_accuracy: 0.0950\n",
      "Epoch 44/50\n",
      "985/985 [==============================] - 3s 3ms/step - loss: 2.3027 - accuracy: 0.1013 - val_loss: 2.3030 - val_accuracy: 0.0950\n",
      "Epoch 45/50\n",
      "985/985 [==============================] - 3s 3ms/step - loss: 2.3027 - accuracy: 0.1014 - val_loss: 2.3031 - val_accuracy: 0.0950\n",
      "Epoch 46/50\n",
      "985/985 [==============================] - 3s 3ms/step - loss: 2.3027 - accuracy: 0.0993 - val_loss: 2.3033 - val_accuracy: 0.0950\n",
      "Epoch 47/50\n",
      "985/985 [==============================] - 3s 3ms/step - loss: 2.3027 - accuracy: 0.1012 - val_loss: 2.3034 - val_accuracy: 0.0950\n",
      "Epoch 48/50\n",
      "985/985 [==============================] - 3s 3ms/step - loss: 2.3027 - accuracy: 0.1017 - val_loss: 2.3033 - val_accuracy: 0.0950\n",
      "Epoch 49/50\n",
      "985/985 [==============================] - 3s 3ms/step - loss: 2.3027 - accuracy: 0.0999 - val_loss: 2.3031 - val_accuracy: 0.0950\n",
      "Epoch 50/50\n",
      "985/985 [==============================] - 3s 3ms/step - loss: 2.3027 - accuracy: 0.1000 - val_loss: 2.3031 - val_accuracy: 0.0950\n"
     ]
    },
    {
     "data": {
      "text/plain": [
       "<keras.callbacks.History at 0x22bd476fdf0>"
      ]
     },
     "execution_count": 63,
     "metadata": {},
     "output_type": "execute_result"
    }
   ],
   "source": [
    "# fitting the model\n",
    "\n",
    "model.fit(X_train,y_train,epochs=50,validation_split=0.25)"
   ]
  },
  {
   "cell_type": "code",
   "execution_count": 64,
   "id": "c70f77ae",
   "metadata": {},
   "outputs": [
    {
     "name": "stdout",
     "output_type": "stream",
     "text": [
      "1313/1313 [==============================] - 2s 1ms/step\n",
      "563/563 [==============================] - 1s 1ms/step\n"
     ]
    }
   ],
   "source": [
    "# predicting the model\n",
    "train_pred=model.predict(X_train)\n",
    "test_pred=model.predict(X_test)"
   ]
  },
  {
   "cell_type": "code",
   "execution_count": 49,
   "id": "777de9f1",
   "metadata": {},
   "outputs": [
    {
     "data": {
      "text/plain": [
       "array([[0.099, 0.101, 0.1  , 0.102, 0.099, 0.103, 0.1  , 0.097, 0.1  ,\n",
       "        0.099],\n",
       "       [0.099, 0.101, 0.1  , 0.102, 0.099, 0.103, 0.1  , 0.097, 0.1  ,\n",
       "        0.099],\n",
       "       [0.099, 0.101, 0.1  , 0.102, 0.099, 0.103, 0.1  , 0.097, 0.1  ,\n",
       "        0.099],\n",
       "       [0.099, 0.101, 0.1  , 0.102, 0.099, 0.103, 0.1  , 0.097, 0.1  ,\n",
       "        0.099],\n",
       "       [0.099, 0.101, 0.1  , 0.102, 0.099, 0.103, 0.1  , 0.097, 0.1  ,\n",
       "        0.099],\n",
       "       [0.099, 0.101, 0.1  , 0.102, 0.099, 0.103, 0.1  , 0.097, 0.1  ,\n",
       "        0.099],\n",
       "       [0.099, 0.101, 0.1  , 0.102, 0.099, 0.103, 0.1  , 0.097, 0.1  ,\n",
       "        0.099],\n",
       "       [0.099, 0.101, 0.1  , 0.102, 0.099, 0.103, 0.1  , 0.097, 0.1  ,\n",
       "        0.099],\n",
       "       [0.099, 0.101, 0.1  , 0.102, 0.099, 0.103, 0.1  , 0.097, 0.1  ,\n",
       "        0.099],\n",
       "       [0.099, 0.101, 0.1  , 0.102, 0.099, 0.103, 0.1  , 0.097, 0.1  ,\n",
       "        0.099]], dtype=float32)"
      ]
     },
     "execution_count": 49,
     "metadata": {},
     "output_type": "execute_result"
    }
   ],
   "source": [
    "np.round(test_pred[:10],3)"
   ]
  },
  {
   "cell_type": "code",
   "execution_count": 50,
   "id": "4d5fa0c9",
   "metadata": {},
   "outputs": [
    {
     "data": {
      "text/plain": [
       "array([5, 5, 5, 5, 5, 5, 5, 5, 5, 5], dtype=int64)"
      ]
     },
     "execution_count": 50,
     "metadata": {},
     "output_type": "execute_result"
    }
   ],
   "source": [
    "np.argmax(np.round(test_pred[:10],3),axis=1)"
   ]
  },
  {
   "cell_type": "code",
   "execution_count": 51,
   "id": "64c6eae3",
   "metadata": {},
   "outputs": [
    {
     "data": {
      "text/plain": [
       "5.0"
      ]
     },
     "execution_count": 51,
     "metadata": {},
     "output_type": "execute_result"
    }
   ],
   "source": [
    "np.mean(np.argmax(np.round(test_pred[:10],3),axis=1))"
   ]
  },
  {
   "cell_type": "code",
   "execution_count": 65,
   "id": "f72d017f",
   "metadata": {},
   "outputs": [],
   "source": [
    "from sklearn.metrics import accuracy_score,r2_score,confusion_matrix,classification_report\n",
    "from sklearn.metrics import mean_squared_error"
   ]
  },
  {
   "cell_type": "code",
   "execution_count": null,
   "id": "4c9e16d9",
   "metadata": {},
   "outputs": [],
   "source": [
    " "
   ]
  },
  {
   "cell_type": "code",
   "execution_count": 67,
   "id": "a39f36a6",
   "metadata": {},
   "outputs": [
    {
     "name": "stdout",
     "output_type": "stream",
     "text": [
      "563/563 [==============================] - 1s 1ms/step\n"
     ]
    },
    {
     "ename": "ValueError",
     "evalue": "Classification metrics can't handle a mix of multiclass and multilabel-indicator targets",
     "output_type": "error",
     "traceback": [
      "\u001b[1;31m---------------------------------------------------------------------------\u001b[0m",
      "\u001b[1;31mValueError\u001b[0m                                Traceback (most recent call last)",
      "Input \u001b[1;32mIn [67]\u001b[0m, in \u001b[0;36m<cell line: 6>\u001b[1;34m()\u001b[0m\n\u001b[0;32m      2\u001b[0m test_pred\u001b[38;5;241m=\u001b[39mnp\u001b[38;5;241m.\u001b[39mround(test_pred)\n\u001b[0;32m      5\u001b[0m \u001b[38;5;66;03m# classification_report\u001b[39;00m\n\u001b[1;32m----> 6\u001b[0m \u001b[38;5;28mprint\u001b[39m(\u001b[43mclassification_report\u001b[49m\u001b[43m(\u001b[49m\u001b[43my_test\u001b[49m\u001b[43m,\u001b[49m\u001b[43mtest_pred\u001b[49m\u001b[43m)\u001b[49m)\n",
      "File \u001b[1;32m~\\anaconda3\\lib\\site-packages\\sklearn\\metrics\\_classification.py:2110\u001b[0m, in \u001b[0;36mclassification_report\u001b[1;34m(y_true, y_pred, labels, target_names, sample_weight, digits, output_dict, zero_division)\u001b[0m\n\u001b[0;32m   1998\u001b[0m \u001b[38;5;28;01mdef\u001b[39;00m \u001b[38;5;21mclassification_report\u001b[39m(\n\u001b[0;32m   1999\u001b[0m     y_true,\n\u001b[0;32m   2000\u001b[0m     y_pred,\n\u001b[1;32m   (...)\u001b[0m\n\u001b[0;32m   2007\u001b[0m     zero_division\u001b[38;5;241m=\u001b[39m\u001b[38;5;124m\"\u001b[39m\u001b[38;5;124mwarn\u001b[39m\u001b[38;5;124m\"\u001b[39m,\n\u001b[0;32m   2008\u001b[0m ):\n\u001b[0;32m   2009\u001b[0m     \u001b[38;5;124;03m\"\"\"Build a text report showing the main classification metrics.\u001b[39;00m\n\u001b[0;32m   2010\u001b[0m \n\u001b[0;32m   2011\u001b[0m \u001b[38;5;124;03m    Read more in the :ref:`User Guide <classification_report>`.\u001b[39;00m\n\u001b[1;32m   (...)\u001b[0m\n\u001b[0;32m   2107\u001b[0m \u001b[38;5;124;03m    <BLANKLINE>\u001b[39;00m\n\u001b[0;32m   2108\u001b[0m \u001b[38;5;124;03m    \"\"\"\u001b[39;00m\n\u001b[1;32m-> 2110\u001b[0m     y_type, y_true, y_pred \u001b[38;5;241m=\u001b[39m \u001b[43m_check_targets\u001b[49m\u001b[43m(\u001b[49m\u001b[43my_true\u001b[49m\u001b[43m,\u001b[49m\u001b[43m \u001b[49m\u001b[43my_pred\u001b[49m\u001b[43m)\u001b[49m\n\u001b[0;32m   2112\u001b[0m     \u001b[38;5;28;01mif\u001b[39;00m labels \u001b[38;5;129;01mis\u001b[39;00m \u001b[38;5;28;01mNone\u001b[39;00m:\n\u001b[0;32m   2113\u001b[0m         labels \u001b[38;5;241m=\u001b[39m unique_labels(y_true, y_pred)\n",
      "File \u001b[1;32m~\\anaconda3\\lib\\site-packages\\sklearn\\metrics\\_classification.py:93\u001b[0m, in \u001b[0;36m_check_targets\u001b[1;34m(y_true, y_pred)\u001b[0m\n\u001b[0;32m     90\u001b[0m     y_type \u001b[38;5;241m=\u001b[39m {\u001b[38;5;124m\"\u001b[39m\u001b[38;5;124mmulticlass\u001b[39m\u001b[38;5;124m\"\u001b[39m}\n\u001b[0;32m     92\u001b[0m \u001b[38;5;28;01mif\u001b[39;00m \u001b[38;5;28mlen\u001b[39m(y_type) \u001b[38;5;241m>\u001b[39m \u001b[38;5;241m1\u001b[39m:\n\u001b[1;32m---> 93\u001b[0m     \u001b[38;5;28;01mraise\u001b[39;00m \u001b[38;5;167;01mValueError\u001b[39;00m(\n\u001b[0;32m     94\u001b[0m         \u001b[38;5;124m\"\u001b[39m\u001b[38;5;124mClassification metrics can\u001b[39m\u001b[38;5;124m'\u001b[39m\u001b[38;5;124mt handle a mix of \u001b[39m\u001b[38;5;132;01m{0}\u001b[39;00m\u001b[38;5;124m and \u001b[39m\u001b[38;5;132;01m{1}\u001b[39;00m\u001b[38;5;124m targets\u001b[39m\u001b[38;5;124m\"\u001b[39m\u001b[38;5;241m.\u001b[39mformat(\n\u001b[0;32m     95\u001b[0m             type_true, type_pred\n\u001b[0;32m     96\u001b[0m         )\n\u001b[0;32m     97\u001b[0m     )\n\u001b[0;32m     99\u001b[0m \u001b[38;5;66;03m# We can't have more than one value on y_type => The set is no more needed\u001b[39;00m\n\u001b[0;32m    100\u001b[0m y_type \u001b[38;5;241m=\u001b[39m y_type\u001b[38;5;241m.\u001b[39mpop()\n",
      "\u001b[1;31mValueError\u001b[0m: Classification metrics can't handle a mix of multiclass and multilabel-indicator targets"
     ]
    }
   ],
   "source": [
    "test_pred=model.predict(X_test)\n",
    "test_pred=np.round(test_pred)\n",
    "cm=confusion_matrix(y_test,test_pred)\n",
    "print(cm)\n",
    "\n",
    "# classification_report\n",
    "print(classification_report(y_test,test_pred))"
   ]
  },
  {
   "cell_type": "code",
   "execution_count": 52,
   "id": "dbdf191e",
   "metadata": {},
   "outputs": [
    {
     "data": {
      "text/plain": [
       "array([1, 7, 2, 9, 0, 9, 1, 8, 4, 4], dtype=uint8)"
      ]
     },
     "execution_count": 52,
     "metadata": {},
     "output_type": "execute_result"
    }
   ],
   "source": [
    "y_test[:10]"
   ]
  },
  {
   "cell_type": "markdown",
   "id": "d81c421b",
   "metadata": {},
   "source": [
    "#### changing target as categorical data"
   ]
  },
  {
   "cell_type": "code",
   "execution_count": 69,
   "id": "38eadeef",
   "metadata": {},
   "outputs": [],
   "source": [
    "from keras.utils import to_categorical"
   ]
  },
  {
   "cell_type": "code",
   "execution_count": 70,
   "id": "224fbd1b",
   "metadata": {},
   "outputs": [
    {
     "data": {
      "text/plain": [
       "10"
      ]
     },
     "execution_count": 70,
     "metadata": {},
     "output_type": "execute_result"
    }
   ],
   "source": [
    "num_of_classes=len(np.unique(y_train))\n",
    "num_of_classes"
   ]
  },
  {
   "cell_type": "code",
   "execution_count": 71,
   "id": "3db836f3",
   "metadata": {},
   "outputs": [],
   "source": [
    "y_train=to_categorical(y_train,num_of_classes)\n",
    "y_test=to_categorical(y_train)"
   ]
  },
  {
   "cell_type": "code",
   "execution_count": 74,
   "id": "528d7fc8",
   "metadata": {},
   "outputs": [
    {
     "data": {
      "text/plain": [
       "array([[0., 0., 1., 0., 0., 0., 0., 0., 0., 0.]], dtype=float32)"
      ]
     },
     "execution_count": 74,
     "metadata": {},
     "output_type": "execute_result"
    }
   ],
   "source": [
    "y_train[:1]"
   ]
  },
  {
   "cell_type": "code",
   "execution_count": 75,
   "id": "58da784f",
   "metadata": {},
   "outputs": [],
   "source": [
    "# compiling the model wit Adam optimizer\n",
    "model.compile(optimizer='Adam',loss='categorical_crossentropy',metrics='accuracy')"
   ]
  },
  {
   "cell_type": "code",
   "execution_count": 76,
   "id": "f158ed03",
   "metadata": {},
   "outputs": [
    {
     "name": "stdout",
     "output_type": "stream",
     "text": [
      "Epoch 1/50\n",
      "1313/1313 [==============================] - ETA: 0s - loss: 2.3027 - accuracy: 0.1002"
     ]
    },
    {
     "ename": "ValueError",
     "evalue": "Data cardinality is ambiguous:\n  x sizes: 18000\n  y sizes: 42000\nMake sure all arrays contain the same number of samples.",
     "output_type": "error",
     "traceback": [
      "\u001b[1;31m---------------------------------------------------------------------------\u001b[0m",
      "\u001b[1;31mValueError\u001b[0m                                Traceback (most recent call last)",
      "Input \u001b[1;32mIn [76]\u001b[0m, in \u001b[0;36m<cell line: 3>\u001b[1;34m()\u001b[0m\n\u001b[0;32m      1\u001b[0m \u001b[38;5;66;03m# fitting the model\u001b[39;00m\n\u001b[1;32m----> 3\u001b[0m \u001b[43mmodel\u001b[49m\u001b[38;5;241;43m.\u001b[39;49m\u001b[43mfit\u001b[49m\u001b[43m(\u001b[49m\u001b[43mX_train\u001b[49m\u001b[43m,\u001b[49m\u001b[43my_train\u001b[49m\u001b[43m,\u001b[49m\u001b[43mepochs\u001b[49m\u001b[38;5;241;43m=\u001b[39;49m\u001b[38;5;241;43m50\u001b[39;49m\u001b[43m,\u001b[49m\u001b[43mvalidation_data\u001b[49m\u001b[38;5;241;43m=\u001b[39;49m\u001b[43m(\u001b[49m\u001b[43mX_test\u001b[49m\u001b[43m,\u001b[49m\u001b[43my_test\u001b[49m\u001b[43m)\u001b[49m\u001b[43m)\u001b[49m\n",
      "File \u001b[1;32m~\\anaconda3\\lib\\site-packages\\keras\\utils\\traceback_utils.py:67\u001b[0m, in \u001b[0;36mfilter_traceback.<locals>.error_handler\u001b[1;34m(*args, **kwargs)\u001b[0m\n\u001b[0;32m     65\u001b[0m \u001b[38;5;28;01mexcept\u001b[39;00m \u001b[38;5;167;01mException\u001b[39;00m \u001b[38;5;28;01mas\u001b[39;00m e:  \u001b[38;5;66;03m# pylint: disable=broad-except\u001b[39;00m\n\u001b[0;32m     66\u001b[0m   filtered_tb \u001b[38;5;241m=\u001b[39m _process_traceback_frames(e\u001b[38;5;241m.\u001b[39m__traceback__)\n\u001b[1;32m---> 67\u001b[0m   \u001b[38;5;28;01mraise\u001b[39;00m e\u001b[38;5;241m.\u001b[39mwith_traceback(filtered_tb) \u001b[38;5;28;01mfrom\u001b[39;00m \u001b[38;5;28mNone\u001b[39m\n\u001b[0;32m     68\u001b[0m \u001b[38;5;28;01mfinally\u001b[39;00m:\n\u001b[0;32m     69\u001b[0m   \u001b[38;5;28;01mdel\u001b[39;00m filtered_tb\n",
      "File \u001b[1;32m~\\anaconda3\\lib\\site-packages\\keras\\engine\\data_adapter.py:1655\u001b[0m, in \u001b[0;36m_check_data_cardinality\u001b[1;34m(data)\u001b[0m\n\u001b[0;32m   1651\u001b[0m   msg \u001b[38;5;241m+\u001b[39m\u001b[38;5;241m=\u001b[39m \u001b[38;5;124m\"\u001b[39m\u001b[38;5;124m  \u001b[39m\u001b[38;5;132;01m{}\u001b[39;00m\u001b[38;5;124m sizes: \u001b[39m\u001b[38;5;132;01m{}\u001b[39;00m\u001b[38;5;130;01m\\n\u001b[39;00m\u001b[38;5;124m\"\u001b[39m\u001b[38;5;241m.\u001b[39mformat(\n\u001b[0;32m   1652\u001b[0m       label, \u001b[38;5;124m\"\u001b[39m\u001b[38;5;124m, \u001b[39m\u001b[38;5;124m\"\u001b[39m\u001b[38;5;241m.\u001b[39mjoin(\u001b[38;5;28mstr\u001b[39m(i\u001b[38;5;241m.\u001b[39mshape[\u001b[38;5;241m0\u001b[39m])\n\u001b[0;32m   1653\u001b[0m                        \u001b[38;5;28;01mfor\u001b[39;00m i \u001b[38;5;129;01min\u001b[39;00m tf\u001b[38;5;241m.\u001b[39mnest\u001b[38;5;241m.\u001b[39mflatten(single_data)))\n\u001b[0;32m   1654\u001b[0m msg \u001b[38;5;241m+\u001b[39m\u001b[38;5;241m=\u001b[39m \u001b[38;5;124m\"\u001b[39m\u001b[38;5;124mMake sure all arrays contain the same number of samples.\u001b[39m\u001b[38;5;124m\"\u001b[39m\n\u001b[1;32m-> 1655\u001b[0m \u001b[38;5;28;01mraise\u001b[39;00m \u001b[38;5;167;01mValueError\u001b[39;00m(msg)\n",
      "\u001b[1;31mValueError\u001b[0m: Data cardinality is ambiguous:\n  x sizes: 18000\n  y sizes: 42000\nMake sure all arrays contain the same number of samples."
     ]
    }
   ],
   "source": [
    "# fitting the model\n",
    "\n",
    "model.fit(X_train,y_train,epochs=50,validation_data=(X_test,y_test))"
   ]
  },
  {
   "cell_type": "code",
   "execution_count": null,
   "id": "dca3bad0",
   "metadata": {},
   "outputs": [],
   "source": []
  }
 ],
 "metadata": {
  "kernelspec": {
   "display_name": "Python 3 (ipykernel)",
   "language": "python",
   "name": "python3"
  },
  "language_info": {
   "codemirror_mode": {
    "name": "ipython",
    "version": 3
   },
   "file_extension": ".py",
   "mimetype": "text/x-python",
   "name": "python",
   "nbconvert_exporter": "python",
   "pygments_lexer": "ipython3",
   "version": "3.9.12"
  }
 },
 "nbformat": 4,
 "nbformat_minor": 5
}
