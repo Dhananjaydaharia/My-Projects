{
 "cells": [
  {
   "cell_type": "code",
   "execution_count": 63,
   "id": "c7c58ed7",
   "metadata": {},
   "outputs": [],
   "source": [
    "import numpy as np\n",
    "import pandas as pd\n",
    "import matplotlib.pyplot as plt\n",
    "import seaborn as sns\n",
    "import warnings\n",
    "warnings.filterwarnings('ignore')\n",
    "import os"
   ]
  },
  {
   "cell_type": "code",
   "execution_count": 64,
   "id": "cba14072",
   "metadata": {},
   "outputs": [
    {
     "data": {
      "text/plain": [
       "'C:\\\\Users\\\\Admin\\\\3D Objects\\\\imarticus PGDA\\\\Machine learning\\\\NEW DATASET\\\\Class Hackathon\\\\Black Sales'"
      ]
     },
     "execution_count": 64,
     "metadata": {},
     "output_type": "execute_result"
    }
   ],
   "source": [
    "os.getcwd()"
   ]
  },
  {
   "cell_type": "code",
   "execution_count": 65,
   "id": "1a20de6f",
   "metadata": {},
   "outputs": [
    {
     "data": {
      "text/html": [
       "<div>\n",
       "<style scoped>\n",
       "    .dataframe tbody tr th:only-of-type {\n",
       "        vertical-align: middle;\n",
       "    }\n",
       "\n",
       "    .dataframe tbody tr th {\n",
       "        vertical-align: top;\n",
       "    }\n",
       "\n",
       "    .dataframe thead th {\n",
       "        text-align: right;\n",
       "    }\n",
       "</style>\n",
       "<table border=\"1\" class=\"dataframe\">\n",
       "  <thead>\n",
       "    <tr style=\"text-align: right;\">\n",
       "      <th></th>\n",
       "      <th>User_ID</th>\n",
       "      <th>Product_ID</th>\n",
       "      <th>Gender</th>\n",
       "      <th>Age</th>\n",
       "      <th>Occupation</th>\n",
       "      <th>City_Category</th>\n",
       "      <th>Stay_In_Current_City_Years</th>\n",
       "      <th>Marital_Status</th>\n",
       "      <th>Product_Category_1</th>\n",
       "      <th>Product_Category_2</th>\n",
       "      <th>Product_Category_3</th>\n",
       "      <th>Purchase</th>\n",
       "    </tr>\n",
       "  </thead>\n",
       "  <tbody>\n",
       "    <tr>\n",
       "      <th>0</th>\n",
       "      <td>1000001</td>\n",
       "      <td>P00069042</td>\n",
       "      <td>F</td>\n",
       "      <td>0-17</td>\n",
       "      <td>10</td>\n",
       "      <td>A</td>\n",
       "      <td>2</td>\n",
       "      <td>0</td>\n",
       "      <td>3</td>\n",
       "      <td>NaN</td>\n",
       "      <td>NaN</td>\n",
       "      <td>8370</td>\n",
       "    </tr>\n",
       "    <tr>\n",
       "      <th>1</th>\n",
       "      <td>1000001</td>\n",
       "      <td>P00248942</td>\n",
       "      <td>F</td>\n",
       "      <td>0-17</td>\n",
       "      <td>10</td>\n",
       "      <td>A</td>\n",
       "      <td>2</td>\n",
       "      <td>0</td>\n",
       "      <td>1</td>\n",
       "      <td>6.0</td>\n",
       "      <td>14.0</td>\n",
       "      <td>15200</td>\n",
       "    </tr>\n",
       "    <tr>\n",
       "      <th>2</th>\n",
       "      <td>1000001</td>\n",
       "      <td>P00087842</td>\n",
       "      <td>F</td>\n",
       "      <td>0-17</td>\n",
       "      <td>10</td>\n",
       "      <td>A</td>\n",
       "      <td>2</td>\n",
       "      <td>0</td>\n",
       "      <td>12</td>\n",
       "      <td>NaN</td>\n",
       "      <td>NaN</td>\n",
       "      <td>1422</td>\n",
       "    </tr>\n",
       "    <tr>\n",
       "      <th>3</th>\n",
       "      <td>1000001</td>\n",
       "      <td>P00085442</td>\n",
       "      <td>F</td>\n",
       "      <td>0-17</td>\n",
       "      <td>10</td>\n",
       "      <td>A</td>\n",
       "      <td>2</td>\n",
       "      <td>0</td>\n",
       "      <td>12</td>\n",
       "      <td>14.0</td>\n",
       "      <td>NaN</td>\n",
       "      <td>1057</td>\n",
       "    </tr>\n",
       "    <tr>\n",
       "      <th>4</th>\n",
       "      <td>1000002</td>\n",
       "      <td>P00285442</td>\n",
       "      <td>M</td>\n",
       "      <td>55+</td>\n",
       "      <td>16</td>\n",
       "      <td>C</td>\n",
       "      <td>4+</td>\n",
       "      <td>0</td>\n",
       "      <td>8</td>\n",
       "      <td>NaN</td>\n",
       "      <td>NaN</td>\n",
       "      <td>7969</td>\n",
       "    </tr>\n",
       "    <tr>\n",
       "      <th>...</th>\n",
       "      <td>...</td>\n",
       "      <td>...</td>\n",
       "      <td>...</td>\n",
       "      <td>...</td>\n",
       "      <td>...</td>\n",
       "      <td>...</td>\n",
       "      <td>...</td>\n",
       "      <td>...</td>\n",
       "      <td>...</td>\n",
       "      <td>...</td>\n",
       "      <td>...</td>\n",
       "      <td>...</td>\n",
       "    </tr>\n",
       "    <tr>\n",
       "      <th>550063</th>\n",
       "      <td>1006033</td>\n",
       "      <td>P00372445</td>\n",
       "      <td>M</td>\n",
       "      <td>51-55</td>\n",
       "      <td>13</td>\n",
       "      <td>B</td>\n",
       "      <td>1</td>\n",
       "      <td>1</td>\n",
       "      <td>20</td>\n",
       "      <td>NaN</td>\n",
       "      <td>NaN</td>\n",
       "      <td>368</td>\n",
       "    </tr>\n",
       "    <tr>\n",
       "      <th>550064</th>\n",
       "      <td>1006035</td>\n",
       "      <td>P00375436</td>\n",
       "      <td>F</td>\n",
       "      <td>26-35</td>\n",
       "      <td>1</td>\n",
       "      <td>C</td>\n",
       "      <td>3</td>\n",
       "      <td>0</td>\n",
       "      <td>20</td>\n",
       "      <td>NaN</td>\n",
       "      <td>NaN</td>\n",
       "      <td>371</td>\n",
       "    </tr>\n",
       "    <tr>\n",
       "      <th>550065</th>\n",
       "      <td>1006036</td>\n",
       "      <td>P00375436</td>\n",
       "      <td>F</td>\n",
       "      <td>26-35</td>\n",
       "      <td>15</td>\n",
       "      <td>B</td>\n",
       "      <td>4+</td>\n",
       "      <td>1</td>\n",
       "      <td>20</td>\n",
       "      <td>NaN</td>\n",
       "      <td>NaN</td>\n",
       "      <td>137</td>\n",
       "    </tr>\n",
       "    <tr>\n",
       "      <th>550066</th>\n",
       "      <td>1006038</td>\n",
       "      <td>P00375436</td>\n",
       "      <td>F</td>\n",
       "      <td>55+</td>\n",
       "      <td>1</td>\n",
       "      <td>C</td>\n",
       "      <td>2</td>\n",
       "      <td>0</td>\n",
       "      <td>20</td>\n",
       "      <td>NaN</td>\n",
       "      <td>NaN</td>\n",
       "      <td>365</td>\n",
       "    </tr>\n",
       "    <tr>\n",
       "      <th>550067</th>\n",
       "      <td>1006039</td>\n",
       "      <td>P00371644</td>\n",
       "      <td>F</td>\n",
       "      <td>46-50</td>\n",
       "      <td>0</td>\n",
       "      <td>B</td>\n",
       "      <td>4+</td>\n",
       "      <td>1</td>\n",
       "      <td>20</td>\n",
       "      <td>NaN</td>\n",
       "      <td>NaN</td>\n",
       "      <td>490</td>\n",
       "    </tr>\n",
       "  </tbody>\n",
       "</table>\n",
       "<p>550068 rows × 12 columns</p>\n",
       "</div>"
      ],
      "text/plain": [
       "        User_ID Product_ID Gender    Age  Occupation City_Category  \\\n",
       "0       1000001  P00069042      F   0-17          10             A   \n",
       "1       1000001  P00248942      F   0-17          10             A   \n",
       "2       1000001  P00087842      F   0-17          10             A   \n",
       "3       1000001  P00085442      F   0-17          10             A   \n",
       "4       1000002  P00285442      M    55+          16             C   \n",
       "...         ...        ...    ...    ...         ...           ...   \n",
       "550063  1006033  P00372445      M  51-55          13             B   \n",
       "550064  1006035  P00375436      F  26-35           1             C   \n",
       "550065  1006036  P00375436      F  26-35          15             B   \n",
       "550066  1006038  P00375436      F    55+           1             C   \n",
       "550067  1006039  P00371644      F  46-50           0             B   \n",
       "\n",
       "       Stay_In_Current_City_Years  Marital_Status  Product_Category_1  \\\n",
       "0                               2               0                   3   \n",
       "1                               2               0                   1   \n",
       "2                               2               0                  12   \n",
       "3                               2               0                  12   \n",
       "4                              4+               0                   8   \n",
       "...                           ...             ...                 ...   \n",
       "550063                          1               1                  20   \n",
       "550064                          3               0                  20   \n",
       "550065                         4+               1                  20   \n",
       "550066                          2               0                  20   \n",
       "550067                         4+               1                  20   \n",
       "\n",
       "        Product_Category_2  Product_Category_3  Purchase  \n",
       "0                      NaN                 NaN      8370  \n",
       "1                      6.0                14.0     15200  \n",
       "2                      NaN                 NaN      1422  \n",
       "3                     14.0                 NaN      1057  \n",
       "4                      NaN                 NaN      7969  \n",
       "...                    ...                 ...       ...  \n",
       "550063                 NaN                 NaN       368  \n",
       "550064                 NaN                 NaN       371  \n",
       "550065                 NaN                 NaN       137  \n",
       "550066                 NaN                 NaN       365  \n",
       "550067                 NaN                 NaN       490  \n",
       "\n",
       "[550068 rows x 12 columns]"
      ]
     },
     "execution_count": 65,
     "metadata": {},
     "output_type": "execute_result"
    }
   ],
   "source": [
    "df_train=pd.read_csv('train.csv')\n",
    "df_test=pd.read_csv('test.csv')\n",
    "df_train"
   ]
  },
  {
   "cell_type": "code",
   "execution_count": 66,
   "id": "95472b53",
   "metadata": {},
   "outputs": [
    {
     "data": {
      "text/html": [
       "<div>\n",
       "<style scoped>\n",
       "    .dataframe tbody tr th:only-of-type {\n",
       "        vertical-align: middle;\n",
       "    }\n",
       "\n",
       "    .dataframe tbody tr th {\n",
       "        vertical-align: top;\n",
       "    }\n",
       "\n",
       "    .dataframe thead th {\n",
       "        text-align: right;\n",
       "    }\n",
       "</style>\n",
       "<table border=\"1\" class=\"dataframe\">\n",
       "  <thead>\n",
       "    <tr style=\"text-align: right;\">\n",
       "      <th></th>\n",
       "      <th>User_ID</th>\n",
       "      <th>Product_ID</th>\n",
       "      <th>Gender</th>\n",
       "      <th>Age</th>\n",
       "      <th>Occupation</th>\n",
       "      <th>City_Category</th>\n",
       "      <th>Stay_In_Current_City_Years</th>\n",
       "      <th>Marital_Status</th>\n",
       "      <th>Product_Category_1</th>\n",
       "      <th>Product_Category_2</th>\n",
       "      <th>Product_Category_3</th>\n",
       "    </tr>\n",
       "  </thead>\n",
       "  <tbody>\n",
       "    <tr>\n",
       "      <th>0</th>\n",
       "      <td>1000004</td>\n",
       "      <td>P00128942</td>\n",
       "      <td>M</td>\n",
       "      <td>46-50</td>\n",
       "      <td>7</td>\n",
       "      <td>B</td>\n",
       "      <td>2</td>\n",
       "      <td>1</td>\n",
       "      <td>1</td>\n",
       "      <td>11.0</td>\n",
       "      <td>NaN</td>\n",
       "    </tr>\n",
       "    <tr>\n",
       "      <th>1</th>\n",
       "      <td>1000009</td>\n",
       "      <td>P00113442</td>\n",
       "      <td>M</td>\n",
       "      <td>26-35</td>\n",
       "      <td>17</td>\n",
       "      <td>C</td>\n",
       "      <td>0</td>\n",
       "      <td>0</td>\n",
       "      <td>3</td>\n",
       "      <td>5.0</td>\n",
       "      <td>NaN</td>\n",
       "    </tr>\n",
       "    <tr>\n",
       "      <th>2</th>\n",
       "      <td>1000010</td>\n",
       "      <td>P00288442</td>\n",
       "      <td>F</td>\n",
       "      <td>36-45</td>\n",
       "      <td>1</td>\n",
       "      <td>B</td>\n",
       "      <td>4+</td>\n",
       "      <td>1</td>\n",
       "      <td>5</td>\n",
       "      <td>14.0</td>\n",
       "      <td>NaN</td>\n",
       "    </tr>\n",
       "    <tr>\n",
       "      <th>3</th>\n",
       "      <td>1000010</td>\n",
       "      <td>P00145342</td>\n",
       "      <td>F</td>\n",
       "      <td>36-45</td>\n",
       "      <td>1</td>\n",
       "      <td>B</td>\n",
       "      <td>4+</td>\n",
       "      <td>1</td>\n",
       "      <td>4</td>\n",
       "      <td>9.0</td>\n",
       "      <td>NaN</td>\n",
       "    </tr>\n",
       "    <tr>\n",
       "      <th>4</th>\n",
       "      <td>1000011</td>\n",
       "      <td>P00053842</td>\n",
       "      <td>F</td>\n",
       "      <td>26-35</td>\n",
       "      <td>1</td>\n",
       "      <td>C</td>\n",
       "      <td>1</td>\n",
       "      <td>0</td>\n",
       "      <td>4</td>\n",
       "      <td>5.0</td>\n",
       "      <td>12.0</td>\n",
       "    </tr>\n",
       "    <tr>\n",
       "      <th>...</th>\n",
       "      <td>...</td>\n",
       "      <td>...</td>\n",
       "      <td>...</td>\n",
       "      <td>...</td>\n",
       "      <td>...</td>\n",
       "      <td>...</td>\n",
       "      <td>...</td>\n",
       "      <td>...</td>\n",
       "      <td>...</td>\n",
       "      <td>...</td>\n",
       "      <td>...</td>\n",
       "    </tr>\n",
       "    <tr>\n",
       "      <th>233594</th>\n",
       "      <td>1006036</td>\n",
       "      <td>P00118942</td>\n",
       "      <td>F</td>\n",
       "      <td>26-35</td>\n",
       "      <td>15</td>\n",
       "      <td>B</td>\n",
       "      <td>4+</td>\n",
       "      <td>1</td>\n",
       "      <td>8</td>\n",
       "      <td>NaN</td>\n",
       "      <td>NaN</td>\n",
       "    </tr>\n",
       "    <tr>\n",
       "      <th>233595</th>\n",
       "      <td>1006036</td>\n",
       "      <td>P00254642</td>\n",
       "      <td>F</td>\n",
       "      <td>26-35</td>\n",
       "      <td>15</td>\n",
       "      <td>B</td>\n",
       "      <td>4+</td>\n",
       "      <td>1</td>\n",
       "      <td>5</td>\n",
       "      <td>8.0</td>\n",
       "      <td>NaN</td>\n",
       "    </tr>\n",
       "    <tr>\n",
       "      <th>233596</th>\n",
       "      <td>1006036</td>\n",
       "      <td>P00031842</td>\n",
       "      <td>F</td>\n",
       "      <td>26-35</td>\n",
       "      <td>15</td>\n",
       "      <td>B</td>\n",
       "      <td>4+</td>\n",
       "      <td>1</td>\n",
       "      <td>1</td>\n",
       "      <td>5.0</td>\n",
       "      <td>12.0</td>\n",
       "    </tr>\n",
       "    <tr>\n",
       "      <th>233597</th>\n",
       "      <td>1006037</td>\n",
       "      <td>P00124742</td>\n",
       "      <td>F</td>\n",
       "      <td>46-50</td>\n",
       "      <td>1</td>\n",
       "      <td>C</td>\n",
       "      <td>4+</td>\n",
       "      <td>0</td>\n",
       "      <td>10</td>\n",
       "      <td>16.0</td>\n",
       "      <td>NaN</td>\n",
       "    </tr>\n",
       "    <tr>\n",
       "      <th>233598</th>\n",
       "      <td>1006039</td>\n",
       "      <td>P00316642</td>\n",
       "      <td>F</td>\n",
       "      <td>46-50</td>\n",
       "      <td>0</td>\n",
       "      <td>B</td>\n",
       "      <td>4+</td>\n",
       "      <td>1</td>\n",
       "      <td>4</td>\n",
       "      <td>5.0</td>\n",
       "      <td>NaN</td>\n",
       "    </tr>\n",
       "  </tbody>\n",
       "</table>\n",
       "<p>233599 rows × 11 columns</p>\n",
       "</div>"
      ],
      "text/plain": [
       "        User_ID Product_ID Gender    Age  Occupation City_Category  \\\n",
       "0       1000004  P00128942      M  46-50           7             B   \n",
       "1       1000009  P00113442      M  26-35          17             C   \n",
       "2       1000010  P00288442      F  36-45           1             B   \n",
       "3       1000010  P00145342      F  36-45           1             B   \n",
       "4       1000011  P00053842      F  26-35           1             C   \n",
       "...         ...        ...    ...    ...         ...           ...   \n",
       "233594  1006036  P00118942      F  26-35          15             B   \n",
       "233595  1006036  P00254642      F  26-35          15             B   \n",
       "233596  1006036  P00031842      F  26-35          15             B   \n",
       "233597  1006037  P00124742      F  46-50           1             C   \n",
       "233598  1006039  P00316642      F  46-50           0             B   \n",
       "\n",
       "       Stay_In_Current_City_Years  Marital_Status  Product_Category_1  \\\n",
       "0                               2               1                   1   \n",
       "1                               0               0                   3   \n",
       "2                              4+               1                   5   \n",
       "3                              4+               1                   4   \n",
       "4                               1               0                   4   \n",
       "...                           ...             ...                 ...   \n",
       "233594                         4+               1                   8   \n",
       "233595                         4+               1                   5   \n",
       "233596                         4+               1                   1   \n",
       "233597                         4+               0                  10   \n",
       "233598                         4+               1                   4   \n",
       "\n",
       "        Product_Category_2  Product_Category_3  \n",
       "0                     11.0                 NaN  \n",
       "1                      5.0                 NaN  \n",
       "2                     14.0                 NaN  \n",
       "3                      9.0                 NaN  \n",
       "4                      5.0                12.0  \n",
       "...                    ...                 ...  \n",
       "233594                 NaN                 NaN  \n",
       "233595                 8.0                 NaN  \n",
       "233596                 5.0                12.0  \n",
       "233597                16.0                 NaN  \n",
       "233598                 5.0                 NaN  \n",
       "\n",
       "[233599 rows x 11 columns]"
      ]
     },
     "execution_count": 66,
     "metadata": {},
     "output_type": "execute_result"
    }
   ],
   "source": [
    "df_test"
   ]
  },
  {
   "cell_type": "code",
   "execution_count": 67,
   "id": "d1ad9405",
   "metadata": {},
   "outputs": [
    {
     "data": {
      "text/html": [
       "<div>\n",
       "<style scoped>\n",
       "    .dataframe tbody tr th:only-of-type {\n",
       "        vertical-align: middle;\n",
       "    }\n",
       "\n",
       "    .dataframe tbody tr th {\n",
       "        vertical-align: top;\n",
       "    }\n",
       "\n",
       "    .dataframe thead th {\n",
       "        text-align: right;\n",
       "    }\n",
       "</style>\n",
       "<table border=\"1\" class=\"dataframe\">\n",
       "  <thead>\n",
       "    <tr style=\"text-align: right;\">\n",
       "      <th></th>\n",
       "      <th>User_ID</th>\n",
       "      <th>Product_ID</th>\n",
       "      <th>Gender</th>\n",
       "      <th>Age</th>\n",
       "      <th>Occupation</th>\n",
       "      <th>City_Category</th>\n",
       "      <th>Stay_In_Current_City_Years</th>\n",
       "      <th>Marital_Status</th>\n",
       "      <th>Product_Category_1</th>\n",
       "      <th>Product_Category_2</th>\n",
       "      <th>Product_Category_3</th>\n",
       "      <th>Purchase</th>\n",
       "    </tr>\n",
       "  </thead>\n",
       "  <tbody>\n",
       "    <tr>\n",
       "      <th>0</th>\n",
       "      <td>1000001</td>\n",
       "      <td>P00069042</td>\n",
       "      <td>F</td>\n",
       "      <td>0-17</td>\n",
       "      <td>10</td>\n",
       "      <td>A</td>\n",
       "      <td>2</td>\n",
       "      <td>0</td>\n",
       "      <td>3</td>\n",
       "      <td>NaN</td>\n",
       "      <td>NaN</td>\n",
       "      <td>8370.0</td>\n",
       "    </tr>\n",
       "    <tr>\n",
       "      <th>1</th>\n",
       "      <td>1000001</td>\n",
       "      <td>P00248942</td>\n",
       "      <td>F</td>\n",
       "      <td>0-17</td>\n",
       "      <td>10</td>\n",
       "      <td>A</td>\n",
       "      <td>2</td>\n",
       "      <td>0</td>\n",
       "      <td>1</td>\n",
       "      <td>6.0</td>\n",
       "      <td>14.0</td>\n",
       "      <td>15200.0</td>\n",
       "    </tr>\n",
       "    <tr>\n",
       "      <th>2</th>\n",
       "      <td>1000001</td>\n",
       "      <td>P00087842</td>\n",
       "      <td>F</td>\n",
       "      <td>0-17</td>\n",
       "      <td>10</td>\n",
       "      <td>A</td>\n",
       "      <td>2</td>\n",
       "      <td>0</td>\n",
       "      <td>12</td>\n",
       "      <td>NaN</td>\n",
       "      <td>NaN</td>\n",
       "      <td>1422.0</td>\n",
       "    </tr>\n",
       "    <tr>\n",
       "      <th>3</th>\n",
       "      <td>1000001</td>\n",
       "      <td>P00085442</td>\n",
       "      <td>F</td>\n",
       "      <td>0-17</td>\n",
       "      <td>10</td>\n",
       "      <td>A</td>\n",
       "      <td>2</td>\n",
       "      <td>0</td>\n",
       "      <td>12</td>\n",
       "      <td>14.0</td>\n",
       "      <td>NaN</td>\n",
       "      <td>1057.0</td>\n",
       "    </tr>\n",
       "    <tr>\n",
       "      <th>4</th>\n",
       "      <td>1000002</td>\n",
       "      <td>P00285442</td>\n",
       "      <td>M</td>\n",
       "      <td>55+</td>\n",
       "      <td>16</td>\n",
       "      <td>C</td>\n",
       "      <td>4+</td>\n",
       "      <td>0</td>\n",
       "      <td>8</td>\n",
       "      <td>NaN</td>\n",
       "      <td>NaN</td>\n",
       "      <td>7969.0</td>\n",
       "    </tr>\n",
       "    <tr>\n",
       "      <th>...</th>\n",
       "      <td>...</td>\n",
       "      <td>...</td>\n",
       "      <td>...</td>\n",
       "      <td>...</td>\n",
       "      <td>...</td>\n",
       "      <td>...</td>\n",
       "      <td>...</td>\n",
       "      <td>...</td>\n",
       "      <td>...</td>\n",
       "      <td>...</td>\n",
       "      <td>...</td>\n",
       "      <td>...</td>\n",
       "    </tr>\n",
       "    <tr>\n",
       "      <th>783662</th>\n",
       "      <td>1006036</td>\n",
       "      <td>P00118942</td>\n",
       "      <td>F</td>\n",
       "      <td>26-35</td>\n",
       "      <td>15</td>\n",
       "      <td>B</td>\n",
       "      <td>4+</td>\n",
       "      <td>1</td>\n",
       "      <td>8</td>\n",
       "      <td>NaN</td>\n",
       "      <td>NaN</td>\n",
       "      <td>NaN</td>\n",
       "    </tr>\n",
       "    <tr>\n",
       "      <th>783663</th>\n",
       "      <td>1006036</td>\n",
       "      <td>P00254642</td>\n",
       "      <td>F</td>\n",
       "      <td>26-35</td>\n",
       "      <td>15</td>\n",
       "      <td>B</td>\n",
       "      <td>4+</td>\n",
       "      <td>1</td>\n",
       "      <td>5</td>\n",
       "      <td>8.0</td>\n",
       "      <td>NaN</td>\n",
       "      <td>NaN</td>\n",
       "    </tr>\n",
       "    <tr>\n",
       "      <th>783664</th>\n",
       "      <td>1006036</td>\n",
       "      <td>P00031842</td>\n",
       "      <td>F</td>\n",
       "      <td>26-35</td>\n",
       "      <td>15</td>\n",
       "      <td>B</td>\n",
       "      <td>4+</td>\n",
       "      <td>1</td>\n",
       "      <td>1</td>\n",
       "      <td>5.0</td>\n",
       "      <td>12.0</td>\n",
       "      <td>NaN</td>\n",
       "    </tr>\n",
       "    <tr>\n",
       "      <th>783665</th>\n",
       "      <td>1006037</td>\n",
       "      <td>P00124742</td>\n",
       "      <td>F</td>\n",
       "      <td>46-50</td>\n",
       "      <td>1</td>\n",
       "      <td>C</td>\n",
       "      <td>4+</td>\n",
       "      <td>0</td>\n",
       "      <td>10</td>\n",
       "      <td>16.0</td>\n",
       "      <td>NaN</td>\n",
       "      <td>NaN</td>\n",
       "    </tr>\n",
       "    <tr>\n",
       "      <th>783666</th>\n",
       "      <td>1006039</td>\n",
       "      <td>P00316642</td>\n",
       "      <td>F</td>\n",
       "      <td>46-50</td>\n",
       "      <td>0</td>\n",
       "      <td>B</td>\n",
       "      <td>4+</td>\n",
       "      <td>1</td>\n",
       "      <td>4</td>\n",
       "      <td>5.0</td>\n",
       "      <td>NaN</td>\n",
       "      <td>NaN</td>\n",
       "    </tr>\n",
       "  </tbody>\n",
       "</table>\n",
       "<p>783667 rows × 12 columns</p>\n",
       "</div>"
      ],
      "text/plain": [
       "        User_ID Product_ID Gender    Age  Occupation City_Category  \\\n",
       "0       1000001  P00069042      F   0-17          10             A   \n",
       "1       1000001  P00248942      F   0-17          10             A   \n",
       "2       1000001  P00087842      F   0-17          10             A   \n",
       "3       1000001  P00085442      F   0-17          10             A   \n",
       "4       1000002  P00285442      M    55+          16             C   \n",
       "...         ...        ...    ...    ...         ...           ...   \n",
       "783662  1006036  P00118942      F  26-35          15             B   \n",
       "783663  1006036  P00254642      F  26-35          15             B   \n",
       "783664  1006036  P00031842      F  26-35          15             B   \n",
       "783665  1006037  P00124742      F  46-50           1             C   \n",
       "783666  1006039  P00316642      F  46-50           0             B   \n",
       "\n",
       "       Stay_In_Current_City_Years  Marital_Status  Product_Category_1  \\\n",
       "0                               2               0                   3   \n",
       "1                               2               0                   1   \n",
       "2                               2               0                  12   \n",
       "3                               2               0                  12   \n",
       "4                              4+               0                   8   \n",
       "...                           ...             ...                 ...   \n",
       "783662                         4+               1                   8   \n",
       "783663                         4+               1                   5   \n",
       "783664                         4+               1                   1   \n",
       "783665                         4+               0                  10   \n",
       "783666                         4+               1                   4   \n",
       "\n",
       "        Product_Category_2  Product_Category_3  Purchase  \n",
       "0                      NaN                 NaN    8370.0  \n",
       "1                      6.0                14.0   15200.0  \n",
       "2                      NaN                 NaN    1422.0  \n",
       "3                     14.0                 NaN    1057.0  \n",
       "4                      NaN                 NaN    7969.0  \n",
       "...                    ...                 ...       ...  \n",
       "783662                 NaN                 NaN       NaN  \n",
       "783663                 8.0                 NaN       NaN  \n",
       "783664                 5.0                12.0       NaN  \n",
       "783665                16.0                 NaN       NaN  \n",
       "783666                 5.0                 NaN       NaN  \n",
       "\n",
       "[783667 rows x 12 columns]"
      ]
     },
     "execution_count": 67,
     "metadata": {},
     "output_type": "execute_result"
    }
   ],
   "source": [
    "df=pd.concat([df_train,df_test],ignore_index=True)\n",
    "df"
   ]
  },
  {
   "cell_type": "code",
   "execution_count": 68,
   "id": "797dc3e8",
   "metadata": {},
   "outputs": [
    {
     "name": "stdout",
     "output_type": "stream",
     "text": [
      "train (550068, 12) test (233599, 11)\n"
     ]
    }
   ],
   "source": [
    "print('train',df_train.shape,'test',df_test.shape)"
   ]
  },
  {
   "cell_type": "markdown",
   "id": "cff8612c",
   "metadata": {},
   "source": [
    "# DATASET INFORMATION\n",
    "\n",
    "A retail company “ABC Private Limited” wants to understand the customer purchase behaviour (specifically, purchase amount) against various products of different categories. They have shared purchase summary of various customers for selected high volume products from last month.\n",
    "The data set also contains customer demographics (age, gender, marital status, city_type, stay_in_current_city), product details (product_id and product category) and Total purchase_amount from last month.\n",
    "\n",
    "Now, they want to build a model to predict the purchase amount of customer against various products which will help them to create personalized offer for customers against different products.\n",
    "Data\n",
    "\n",
    "Variable\tDefinition\n",
    "\n",
    "User_ID\tUser ID\n",
    "\n",
    "Product_ID\tProduct ID\n",
    "\n",
    "Gender\tSex of User\n",
    "\n",
    "Age\tAge in bins\n",
    "\n",
    "Occupation\tOccupation (Masked)\n",
    "\n",
    "City_Category\tCategory of the City (A,B,C)\n",
    "\n",
    "Stay_In_Current_City_Years\tNumber of years stay in current city\n",
    "\n",
    "Marital_Status\tMarital Status\n",
    "\n",
    "\n",
    "Product_Category_1\tProduct Category (Masked)\n",
    "\n",
    "Product_Category_2\tProduct may belongs to other category also (Masked)\n",
    "\n",
    "Product_Category_3\tProduct may belongs to other category also (Masked)\n",
    "\n",
    "Purchase\tPurchase Amount (Target Variable)\n",
    "\n",
    "Your model performance will be evaluated on the basis of your prediction of the purchase amount for the test data (test.csv), which contains similar data-points as train except for their purchase amount. Your submission needs to be in the format as shown in \"SampleSubmission.csv\".\n",
    "\n"
   ]
  },
  {
   "cell_type": "markdown",
   "id": "09953161",
   "metadata": {},
   "source": [
    "### Visualization of Features"
   ]
  },
  {
   "cell_type": "markdown",
   "id": "8cf4481f",
   "metadata": {},
   "source": [
    "#ploting the distplot of numerical columns\n",
    "df_train_plot=df_train_final.drop(['Product_ID'],axis=1)\n",
    "\n",
    "fig,ax=plt.subplots(nrows=4,ncols=3,figsize=(30,23))\n",
    "\n",
    "\n",
    "for  variable, subplot in zip(df_train_plot, ax.flatten()):\n",
    "    \n",
    "    sns.distplot(df_train_plot[variable],kde=True,ax = subplot)"
   ]
  },
  {
   "cell_type": "markdown",
   "id": "b1340257",
   "metadata": {},
   "source": [
    "#Categorical Features\n",
    "fig=df.hist(figsize=(18,18))"
   ]
  },
  {
   "cell_type": "markdown",
   "id": "868e046b",
   "metadata": {},
   "source": [
    "### Sample Submission"
   ]
  },
  {
   "cell_type": "code",
   "execution_count": 69,
   "id": "8851eab8",
   "metadata": {},
   "outputs": [
    {
     "data": {
      "text/html": [
       "<div>\n",
       "<style scoped>\n",
       "    .dataframe tbody tr th:only-of-type {\n",
       "        vertical-align: middle;\n",
       "    }\n",
       "\n",
       "    .dataframe tbody tr th {\n",
       "        vertical-align: top;\n",
       "    }\n",
       "\n",
       "    .dataframe thead th {\n",
       "        text-align: right;\n",
       "    }\n",
       "</style>\n",
       "<table border=\"1\" class=\"dataframe\">\n",
       "  <thead>\n",
       "    <tr style=\"text-align: right;\">\n",
       "      <th></th>\n",
       "      <th>Purchase</th>\n",
       "      <th>User_ID</th>\n",
       "      <th>Product_ID</th>\n",
       "    </tr>\n",
       "  </thead>\n",
       "  <tbody>\n",
       "    <tr>\n",
       "      <th>0</th>\n",
       "      <td>100</td>\n",
       "      <td>1000004</td>\n",
       "      <td>P00128942</td>\n",
       "    </tr>\n",
       "    <tr>\n",
       "      <th>1</th>\n",
       "      <td>100</td>\n",
       "      <td>1000009</td>\n",
       "      <td>P00113442</td>\n",
       "    </tr>\n",
       "    <tr>\n",
       "      <th>2</th>\n",
       "      <td>100</td>\n",
       "      <td>1000010</td>\n",
       "      <td>P00288442</td>\n",
       "    </tr>\n",
       "    <tr>\n",
       "      <th>3</th>\n",
       "      <td>100</td>\n",
       "      <td>1000010</td>\n",
       "      <td>P00145342</td>\n",
       "    </tr>\n",
       "    <tr>\n",
       "      <th>4</th>\n",
       "      <td>100</td>\n",
       "      <td>1000011</td>\n",
       "      <td>P00053842</td>\n",
       "    </tr>\n",
       "    <tr>\n",
       "      <th>...</th>\n",
       "      <td>...</td>\n",
       "      <td>...</td>\n",
       "      <td>...</td>\n",
       "    </tr>\n",
       "    <tr>\n",
       "      <th>233594</th>\n",
       "      <td>100</td>\n",
       "      <td>1006036</td>\n",
       "      <td>P00118942</td>\n",
       "    </tr>\n",
       "    <tr>\n",
       "      <th>233595</th>\n",
       "      <td>100</td>\n",
       "      <td>1006036</td>\n",
       "      <td>P00254642</td>\n",
       "    </tr>\n",
       "    <tr>\n",
       "      <th>233596</th>\n",
       "      <td>100</td>\n",
       "      <td>1006036</td>\n",
       "      <td>P00031842</td>\n",
       "    </tr>\n",
       "    <tr>\n",
       "      <th>233597</th>\n",
       "      <td>100</td>\n",
       "      <td>1006037</td>\n",
       "      <td>P00124742</td>\n",
       "    </tr>\n",
       "    <tr>\n",
       "      <th>233598</th>\n",
       "      <td>100</td>\n",
       "      <td>1006039</td>\n",
       "      <td>P00316642</td>\n",
       "    </tr>\n",
       "  </tbody>\n",
       "</table>\n",
       "<p>233599 rows × 3 columns</p>\n",
       "</div>"
      ],
      "text/plain": [
       "        Purchase  User_ID Product_ID\n",
       "0            100  1000004  P00128942\n",
       "1            100  1000009  P00113442\n",
       "2            100  1000010  P00288442\n",
       "3            100  1000010  P00145342\n",
       "4            100  1000011  P00053842\n",
       "...          ...      ...        ...\n",
       "233594       100  1006036  P00118942\n",
       "233595       100  1006036  P00254642\n",
       "233596       100  1006036  P00031842\n",
       "233597       100  1006037  P00124742\n",
       "233598       100  1006039  P00316642\n",
       "\n",
       "[233599 rows x 3 columns]"
      ]
     },
     "execution_count": 69,
     "metadata": {},
     "output_type": "execute_result"
    }
   ],
   "source": [
    "df_sample=pd.read_csv('sample_submission.csv')\n",
    "df_sample"
   ]
  },
  {
   "cell_type": "code",
   "execution_count": 70,
   "id": "793ae2ca",
   "metadata": {},
   "outputs": [
    {
     "name": "stdout",
     "output_type": "stream",
     "text": [
      "<class 'pandas.core.frame.DataFrame'>\n",
      "RangeIndex: 783667 entries, 0 to 783666\n",
      "Data columns (total 12 columns):\n",
      " #   Column                      Non-Null Count   Dtype  \n",
      "---  ------                      --------------   -----  \n",
      " 0   User_ID                     783667 non-null  int64  \n",
      " 1   Product_ID                  783667 non-null  object \n",
      " 2   Gender                      783667 non-null  object \n",
      " 3   Age                         783667 non-null  object \n",
      " 4   Occupation                  783667 non-null  int64  \n",
      " 5   City_Category               783667 non-null  object \n",
      " 6   Stay_In_Current_City_Years  783667 non-null  object \n",
      " 7   Marital_Status              783667 non-null  int64  \n",
      " 8   Product_Category_1          783667 non-null  int64  \n",
      " 9   Product_Category_2          537685 non-null  float64\n",
      " 10  Product_Category_3          237858 non-null  float64\n",
      " 11  Purchase                    550068 non-null  float64\n",
      "dtypes: float64(3), int64(4), object(5)\n",
      "memory usage: 71.7+ MB\n"
     ]
    }
   ],
   "source": [
    "#data info\n",
    "df.info()"
   ]
  },
  {
   "cell_type": "code",
   "execution_count": 71,
   "id": "aaa311fa",
   "metadata": {},
   "outputs": [
    {
     "data": {
      "text/html": [
       "<div>\n",
       "<style scoped>\n",
       "    .dataframe tbody tr th:only-of-type {\n",
       "        vertical-align: middle;\n",
       "    }\n",
       "\n",
       "    .dataframe tbody tr th {\n",
       "        vertical-align: top;\n",
       "    }\n",
       "\n",
       "    .dataframe thead th {\n",
       "        text-align: right;\n",
       "    }\n",
       "</style>\n",
       "<table border=\"1\" class=\"dataframe\">\n",
       "  <thead>\n",
       "    <tr style=\"text-align: right;\">\n",
       "      <th></th>\n",
       "      <th>count</th>\n",
       "      <th>mean</th>\n",
       "      <th>std</th>\n",
       "      <th>min</th>\n",
       "      <th>25%</th>\n",
       "      <th>50%</th>\n",
       "      <th>75%</th>\n",
       "      <th>max</th>\n",
       "    </tr>\n",
       "  </thead>\n",
       "  <tbody>\n",
       "    <tr>\n",
       "      <th>User_ID</th>\n",
       "      <td>783667.0</td>\n",
       "      <td>1.003029e+06</td>\n",
       "      <td>1727.266668</td>\n",
       "      <td>1000001.0</td>\n",
       "      <td>1001519.0</td>\n",
       "      <td>1003075.0</td>\n",
       "      <td>1004478.0</td>\n",
       "      <td>1006040.0</td>\n",
       "    </tr>\n",
       "    <tr>\n",
       "      <th>Occupation</th>\n",
       "      <td>783667.0</td>\n",
       "      <td>8.079300e+00</td>\n",
       "      <td>6.522206</td>\n",
       "      <td>0.0</td>\n",
       "      <td>2.0</td>\n",
       "      <td>7.0</td>\n",
       "      <td>14.0</td>\n",
       "      <td>20.0</td>\n",
       "    </tr>\n",
       "    <tr>\n",
       "      <th>Marital_Status</th>\n",
       "      <td>783667.0</td>\n",
       "      <td>4.097774e-01</td>\n",
       "      <td>0.491793</td>\n",
       "      <td>0.0</td>\n",
       "      <td>0.0</td>\n",
       "      <td>0.0</td>\n",
       "      <td>1.0</td>\n",
       "      <td>1.0</td>\n",
       "    </tr>\n",
       "    <tr>\n",
       "      <th>Product_Category_1</th>\n",
       "      <td>783667.0</td>\n",
       "      <td>5.366196e+00</td>\n",
       "      <td>3.878160</td>\n",
       "      <td>1.0</td>\n",
       "      <td>1.0</td>\n",
       "      <td>5.0</td>\n",
       "      <td>8.0</td>\n",
       "      <td>20.0</td>\n",
       "    </tr>\n",
       "    <tr>\n",
       "      <th>Product_Category_2</th>\n",
       "      <td>537685.0</td>\n",
       "      <td>9.844506e+00</td>\n",
       "      <td>5.089093</td>\n",
       "      <td>2.0</td>\n",
       "      <td>5.0</td>\n",
       "      <td>9.0</td>\n",
       "      <td>15.0</td>\n",
       "      <td>18.0</td>\n",
       "    </tr>\n",
       "    <tr>\n",
       "      <th>Product_Category_3</th>\n",
       "      <td>237858.0</td>\n",
       "      <td>1.266860e+01</td>\n",
       "      <td>4.125510</td>\n",
       "      <td>3.0</td>\n",
       "      <td>9.0</td>\n",
       "      <td>14.0</td>\n",
       "      <td>16.0</td>\n",
       "      <td>18.0</td>\n",
       "    </tr>\n",
       "    <tr>\n",
       "      <th>Purchase</th>\n",
       "      <td>550068.0</td>\n",
       "      <td>9.263969e+03</td>\n",
       "      <td>5023.065394</td>\n",
       "      <td>12.0</td>\n",
       "      <td>5823.0</td>\n",
       "      <td>8047.0</td>\n",
       "      <td>12054.0</td>\n",
       "      <td>23961.0</td>\n",
       "    </tr>\n",
       "  </tbody>\n",
       "</table>\n",
       "</div>"
      ],
      "text/plain": [
       "                       count          mean          std        min        25%  \\\n",
       "User_ID             783667.0  1.003029e+06  1727.266668  1000001.0  1001519.0   \n",
       "Occupation          783667.0  8.079300e+00     6.522206        0.0        2.0   \n",
       "Marital_Status      783667.0  4.097774e-01     0.491793        0.0        0.0   \n",
       "Product_Category_1  783667.0  5.366196e+00     3.878160        1.0        1.0   \n",
       "Product_Category_2  537685.0  9.844506e+00     5.089093        2.0        5.0   \n",
       "Product_Category_3  237858.0  1.266860e+01     4.125510        3.0        9.0   \n",
       "Purchase            550068.0  9.263969e+03  5023.065394       12.0     5823.0   \n",
       "\n",
       "                          50%        75%        max  \n",
       "User_ID             1003075.0  1004478.0  1006040.0  \n",
       "Occupation                7.0       14.0       20.0  \n",
       "Marital_Status            0.0        1.0        1.0  \n",
       "Product_Category_1        5.0        8.0       20.0  \n",
       "Product_Category_2        9.0       15.0       18.0  \n",
       "Product_Category_3       14.0       16.0       18.0  \n",
       "Purchase               8047.0    12054.0    23961.0  "
      ]
     },
     "execution_count": 71,
     "metadata": {},
     "output_type": "execute_result"
    }
   ],
   "source": [
    "# statistical summary\n",
    "\n",
    "#numerical Features\n",
    "df.describe().T"
   ]
  },
  {
   "cell_type": "code",
   "execution_count": 72,
   "id": "c80bcce7",
   "metadata": {},
   "outputs": [
    {
     "data": {
      "text/html": [
       "<div>\n",
       "<style scoped>\n",
       "    .dataframe tbody tr th:only-of-type {\n",
       "        vertical-align: middle;\n",
       "    }\n",
       "\n",
       "    .dataframe tbody tr th {\n",
       "        vertical-align: top;\n",
       "    }\n",
       "\n",
       "    .dataframe thead th {\n",
       "        text-align: right;\n",
       "    }\n",
       "</style>\n",
       "<table border=\"1\" class=\"dataframe\">\n",
       "  <thead>\n",
       "    <tr style=\"text-align: right;\">\n",
       "      <th></th>\n",
       "      <th>User_ID</th>\n",
       "      <th>Product_ID</th>\n",
       "      <th>Gender</th>\n",
       "      <th>Age</th>\n",
       "      <th>Occupation</th>\n",
       "      <th>City_Category</th>\n",
       "      <th>Stay_In_Current_City_Years</th>\n",
       "      <th>Marital_Status</th>\n",
       "      <th>Product_Category_1</th>\n",
       "      <th>Product_Category_2</th>\n",
       "      <th>Product_Category_3</th>\n",
       "      <th>Purchase</th>\n",
       "    </tr>\n",
       "  </thead>\n",
       "  <tbody>\n",
       "    <tr>\n",
       "      <th>0</th>\n",
       "      <td>1000001</td>\n",
       "      <td>P00069042</td>\n",
       "      <td>F</td>\n",
       "      <td>0-17</td>\n",
       "      <td>10</td>\n",
       "      <td>A</td>\n",
       "      <td>2</td>\n",
       "      <td>0</td>\n",
       "      <td>3</td>\n",
       "      <td>NaN</td>\n",
       "      <td>NaN</td>\n",
       "      <td>8370.0</td>\n",
       "    </tr>\n",
       "    <tr>\n",
       "      <th>1</th>\n",
       "      <td>1000001</td>\n",
       "      <td>P00248942</td>\n",
       "      <td>F</td>\n",
       "      <td>0-17</td>\n",
       "      <td>10</td>\n",
       "      <td>A</td>\n",
       "      <td>2</td>\n",
       "      <td>0</td>\n",
       "      <td>1</td>\n",
       "      <td>6.0</td>\n",
       "      <td>14.0</td>\n",
       "      <td>15200.0</td>\n",
       "    </tr>\n",
       "    <tr>\n",
       "      <th>2</th>\n",
       "      <td>1000001</td>\n",
       "      <td>P00087842</td>\n",
       "      <td>F</td>\n",
       "      <td>0-17</td>\n",
       "      <td>10</td>\n",
       "      <td>A</td>\n",
       "      <td>2</td>\n",
       "      <td>0</td>\n",
       "      <td>12</td>\n",
       "      <td>NaN</td>\n",
       "      <td>NaN</td>\n",
       "      <td>1422.0</td>\n",
       "    </tr>\n",
       "    <tr>\n",
       "      <th>3</th>\n",
       "      <td>1000001</td>\n",
       "      <td>P00085442</td>\n",
       "      <td>F</td>\n",
       "      <td>0-17</td>\n",
       "      <td>10</td>\n",
       "      <td>A</td>\n",
       "      <td>2</td>\n",
       "      <td>0</td>\n",
       "      <td>12</td>\n",
       "      <td>14.0</td>\n",
       "      <td>NaN</td>\n",
       "      <td>1057.0</td>\n",
       "    </tr>\n",
       "    <tr>\n",
       "      <th>4</th>\n",
       "      <td>1000002</td>\n",
       "      <td>P00285442</td>\n",
       "      <td>M</td>\n",
       "      <td>55+</td>\n",
       "      <td>16</td>\n",
       "      <td>C</td>\n",
       "      <td>4+</td>\n",
       "      <td>0</td>\n",
       "      <td>8</td>\n",
       "      <td>NaN</td>\n",
       "      <td>NaN</td>\n",
       "      <td>7969.0</td>\n",
       "    </tr>\n",
       "    <tr>\n",
       "      <th>...</th>\n",
       "      <td>...</td>\n",
       "      <td>...</td>\n",
       "      <td>...</td>\n",
       "      <td>...</td>\n",
       "      <td>...</td>\n",
       "      <td>...</td>\n",
       "      <td>...</td>\n",
       "      <td>...</td>\n",
       "      <td>...</td>\n",
       "      <td>...</td>\n",
       "      <td>...</td>\n",
       "      <td>...</td>\n",
       "    </tr>\n",
       "    <tr>\n",
       "      <th>783662</th>\n",
       "      <td>1006036</td>\n",
       "      <td>P00118942</td>\n",
       "      <td>F</td>\n",
       "      <td>26-35</td>\n",
       "      <td>15</td>\n",
       "      <td>B</td>\n",
       "      <td>4+</td>\n",
       "      <td>1</td>\n",
       "      <td>8</td>\n",
       "      <td>NaN</td>\n",
       "      <td>NaN</td>\n",
       "      <td>NaN</td>\n",
       "    </tr>\n",
       "    <tr>\n",
       "      <th>783663</th>\n",
       "      <td>1006036</td>\n",
       "      <td>P00254642</td>\n",
       "      <td>F</td>\n",
       "      <td>26-35</td>\n",
       "      <td>15</td>\n",
       "      <td>B</td>\n",
       "      <td>4+</td>\n",
       "      <td>1</td>\n",
       "      <td>5</td>\n",
       "      <td>8.0</td>\n",
       "      <td>NaN</td>\n",
       "      <td>NaN</td>\n",
       "    </tr>\n",
       "    <tr>\n",
       "      <th>783664</th>\n",
       "      <td>1006036</td>\n",
       "      <td>P00031842</td>\n",
       "      <td>F</td>\n",
       "      <td>26-35</td>\n",
       "      <td>15</td>\n",
       "      <td>B</td>\n",
       "      <td>4+</td>\n",
       "      <td>1</td>\n",
       "      <td>1</td>\n",
       "      <td>5.0</td>\n",
       "      <td>12.0</td>\n",
       "      <td>NaN</td>\n",
       "    </tr>\n",
       "    <tr>\n",
       "      <th>783665</th>\n",
       "      <td>1006037</td>\n",
       "      <td>P00124742</td>\n",
       "      <td>F</td>\n",
       "      <td>46-50</td>\n",
       "      <td>1</td>\n",
       "      <td>C</td>\n",
       "      <td>4+</td>\n",
       "      <td>0</td>\n",
       "      <td>10</td>\n",
       "      <td>16.0</td>\n",
       "      <td>NaN</td>\n",
       "      <td>NaN</td>\n",
       "    </tr>\n",
       "    <tr>\n",
       "      <th>783666</th>\n",
       "      <td>1006039</td>\n",
       "      <td>P00316642</td>\n",
       "      <td>F</td>\n",
       "      <td>46-50</td>\n",
       "      <td>0</td>\n",
       "      <td>B</td>\n",
       "      <td>4+</td>\n",
       "      <td>1</td>\n",
       "      <td>4</td>\n",
       "      <td>5.0</td>\n",
       "      <td>NaN</td>\n",
       "      <td>NaN</td>\n",
       "    </tr>\n",
       "  </tbody>\n",
       "</table>\n",
       "<p>783667 rows × 12 columns</p>\n",
       "</div>"
      ],
      "text/plain": [
       "        User_ID Product_ID Gender    Age  Occupation City_Category  \\\n",
       "0       1000001  P00069042      F   0-17          10             A   \n",
       "1       1000001  P00248942      F   0-17          10             A   \n",
       "2       1000001  P00087842      F   0-17          10             A   \n",
       "3       1000001  P00085442      F   0-17          10             A   \n",
       "4       1000002  P00285442      M    55+          16             C   \n",
       "...         ...        ...    ...    ...         ...           ...   \n",
       "783662  1006036  P00118942      F  26-35          15             B   \n",
       "783663  1006036  P00254642      F  26-35          15             B   \n",
       "783664  1006036  P00031842      F  26-35          15             B   \n",
       "783665  1006037  P00124742      F  46-50           1             C   \n",
       "783666  1006039  P00316642      F  46-50           0             B   \n",
       "\n",
       "       Stay_In_Current_City_Years  Marital_Status  Product_Category_1  \\\n",
       "0                               2               0                   3   \n",
       "1                               2               0                   1   \n",
       "2                               2               0                  12   \n",
       "3                               2               0                  12   \n",
       "4                              4+               0                   8   \n",
       "...                           ...             ...                 ...   \n",
       "783662                         4+               1                   8   \n",
       "783663                         4+               1                   5   \n",
       "783664                         4+               1                   1   \n",
       "783665                         4+               0                  10   \n",
       "783666                         4+               1                   4   \n",
       "\n",
       "        Product_Category_2  Product_Category_3  Purchase  \n",
       "0                      NaN                 NaN    8370.0  \n",
       "1                      6.0                14.0   15200.0  \n",
       "2                      NaN                 NaN    1422.0  \n",
       "3                     14.0                 NaN    1057.0  \n",
       "4                      NaN                 NaN    7969.0  \n",
       "...                    ...                 ...       ...  \n",
       "783662                 NaN                 NaN       NaN  \n",
       "783663                 8.0                 NaN       NaN  \n",
       "783664                 5.0                12.0       NaN  \n",
       "783665                16.0                 NaN       NaN  \n",
       "783666                 5.0                 NaN       NaN  \n",
       "\n",
       "[783667 rows x 12 columns]"
      ]
     },
     "execution_count": 72,
     "metadata": {},
     "output_type": "execute_result"
    }
   ],
   "source": [
    "df"
   ]
  },
  {
   "cell_type": "code",
   "execution_count": 73,
   "id": "88228ab5",
   "metadata": {},
   "outputs": [
    {
     "data": {
      "text/html": [
       "<div>\n",
       "<style scoped>\n",
       "    .dataframe tbody tr th:only-of-type {\n",
       "        vertical-align: middle;\n",
       "    }\n",
       "\n",
       "    .dataframe tbody tr th {\n",
       "        vertical-align: top;\n",
       "    }\n",
       "\n",
       "    .dataframe thead th {\n",
       "        text-align: right;\n",
       "    }\n",
       "</style>\n",
       "<table border=\"1\" class=\"dataframe\">\n",
       "  <thead>\n",
       "    <tr style=\"text-align: right;\">\n",
       "      <th></th>\n",
       "      <th>count</th>\n",
       "      <th>unique</th>\n",
       "      <th>top</th>\n",
       "      <th>freq</th>\n",
       "    </tr>\n",
       "  </thead>\n",
       "  <tbody>\n",
       "    <tr>\n",
       "      <th>Product_ID</th>\n",
       "      <td>783667</td>\n",
       "      <td>3677</td>\n",
       "      <td>P00265242</td>\n",
       "      <td>2709</td>\n",
       "    </tr>\n",
       "    <tr>\n",
       "      <th>Gender</th>\n",
       "      <td>783667</td>\n",
       "      <td>2</td>\n",
       "      <td>M</td>\n",
       "      <td>590031</td>\n",
       "    </tr>\n",
       "    <tr>\n",
       "      <th>Age</th>\n",
       "      <td>783667</td>\n",
       "      <td>7</td>\n",
       "      <td>26-35</td>\n",
       "      <td>313015</td>\n",
       "    </tr>\n",
       "    <tr>\n",
       "      <th>City_Category</th>\n",
       "      <td>783667</td>\n",
       "      <td>3</td>\n",
       "      <td>B</td>\n",
       "      <td>329739</td>\n",
       "    </tr>\n",
       "    <tr>\n",
       "      <th>Stay_In_Current_City_Years</th>\n",
       "      <td>783667</td>\n",
       "      <td>5</td>\n",
       "      <td>1</td>\n",
       "      <td>276425</td>\n",
       "    </tr>\n",
       "  </tbody>\n",
       "</table>\n",
       "</div>"
      ],
      "text/plain": [
       "                             count unique        top    freq\n",
       "Product_ID                  783667   3677  P00265242    2709\n",
       "Gender                      783667      2          M  590031\n",
       "Age                         783667      7      26-35  313015\n",
       "City_Category               783667      3          B  329739\n",
       "Stay_In_Current_City_Years  783667      5          1  276425"
      ]
     },
     "execution_count": 73,
     "metadata": {},
     "output_type": "execute_result"
    }
   ],
   "source": [
    "#categorical features\n",
    "df.describe(include=object).T"
   ]
  },
  {
   "cell_type": "markdown",
   "id": "82f58272",
   "metadata": {},
   "source": [
    "\n",
    "\n",
    "# 2. EDA "
   ]
  },
  {
   "cell_type": "markdown",
   "id": "7d3097cf",
   "metadata": {},
   "source": [
    "### 2.1 Treating the NULLS"
   ]
  },
  {
   "cell_type": "code",
   "execution_count": 74,
   "id": "552d8478",
   "metadata": {},
   "outputs": [
    {
     "data": {
      "text/html": [
       "<div>\n",
       "<style scoped>\n",
       "    .dataframe tbody tr th:only-of-type {\n",
       "        vertical-align: middle;\n",
       "    }\n",
       "\n",
       "    .dataframe tbody tr th {\n",
       "        vertical-align: top;\n",
       "    }\n",
       "\n",
       "    .dataframe thead th {\n",
       "        text-align: right;\n",
       "    }\n",
       "</style>\n",
       "<table border=\"1\" class=\"dataframe\">\n",
       "  <thead>\n",
       "    <tr style=\"text-align: right;\">\n",
       "      <th></th>\n",
       "      <th>count</th>\n",
       "      <th>percent</th>\n",
       "    </tr>\n",
       "  </thead>\n",
       "  <tbody>\n",
       "    <tr>\n",
       "      <th>Product_Category_3</th>\n",
       "      <td>545809</td>\n",
       "      <td>69.648078</td>\n",
       "    </tr>\n",
       "    <tr>\n",
       "      <th>Product_Category_2</th>\n",
       "      <td>245982</td>\n",
       "      <td>31.388587</td>\n",
       "    </tr>\n",
       "    <tr>\n",
       "      <th>Purchase</th>\n",
       "      <td>233599</td>\n",
       "      <td>29.808452</td>\n",
       "    </tr>\n",
       "    <tr>\n",
       "      <th>User_ID</th>\n",
       "      <td>0</td>\n",
       "      <td>0.000000</td>\n",
       "    </tr>\n",
       "    <tr>\n",
       "      <th>Product_ID</th>\n",
       "      <td>0</td>\n",
       "      <td>0.000000</td>\n",
       "    </tr>\n",
       "    <tr>\n",
       "      <th>Gender</th>\n",
       "      <td>0</td>\n",
       "      <td>0.000000</td>\n",
       "    </tr>\n",
       "    <tr>\n",
       "      <th>Age</th>\n",
       "      <td>0</td>\n",
       "      <td>0.000000</td>\n",
       "    </tr>\n",
       "    <tr>\n",
       "      <th>Occupation</th>\n",
       "      <td>0</td>\n",
       "      <td>0.000000</td>\n",
       "    </tr>\n",
       "    <tr>\n",
       "      <th>City_Category</th>\n",
       "      <td>0</td>\n",
       "      <td>0.000000</td>\n",
       "    </tr>\n",
       "    <tr>\n",
       "      <th>Stay_In_Current_City_Years</th>\n",
       "      <td>0</td>\n",
       "      <td>0.000000</td>\n",
       "    </tr>\n",
       "    <tr>\n",
       "      <th>Marital_Status</th>\n",
       "      <td>0</td>\n",
       "      <td>0.000000</td>\n",
       "    </tr>\n",
       "    <tr>\n",
       "      <th>Product_Category_1</th>\n",
       "      <td>0</td>\n",
       "      <td>0.000000</td>\n",
       "    </tr>\n",
       "  </tbody>\n",
       "</table>\n",
       "</div>"
      ],
      "text/plain": [
       "                             count    percent\n",
       "Product_Category_3          545809  69.648078\n",
       "Product_Category_2          245982  31.388587\n",
       "Purchase                    233599  29.808452\n",
       "User_ID                          0   0.000000\n",
       "Product_ID                       0   0.000000\n",
       "Gender                           0   0.000000\n",
       "Age                              0   0.000000\n",
       "Occupation                       0   0.000000\n",
       "City_Category                    0   0.000000\n",
       "Stay_In_Current_City_Years       0   0.000000\n",
       "Marital_Status                   0   0.000000\n",
       "Product_Category_1               0   0.000000"
      ]
     },
     "execution_count": 74,
     "metadata": {},
     "output_type": "execute_result"
    }
   ],
   "source": [
    "nulls=df.isnull().sum()\n",
    "nulls=pd.DataFrame({'count':nulls,'percent':(nulls/df.shape[0])*100})\n",
    "nulls.sort_values('percent',ascending=False)"
   ]
  },
  {
   "cell_type": "code",
   "execution_count": 75,
   "id": "3c0dcc2a",
   "metadata": {},
   "outputs": [
    {
     "data": {
      "text/plain": [
       "array(['0-17', '55+', '26-35', '46-50', '51-55', '36-45', '18-25'],\n",
       "      dtype=object)"
      ]
     },
     "execution_count": 75,
     "metadata": {},
     "output_type": "execute_result"
    }
   ],
   "source": [
    "# age ,stay in cuurent years\n",
    "df.Age.unique()"
   ]
  },
  {
   "cell_type": "code",
   "execution_count": 76,
   "id": "4a51edf8",
   "metadata": {},
   "outputs": [
    {
     "data": {
      "text/plain": [
       "array([ 3,  1, 12,  8,  5,  4,  2,  6, 14, 11, 13, 15,  7, 16, 18, 10, 17,\n",
       "        9, 20, 19], dtype=int64)"
      ]
     },
     "execution_count": 76,
     "metadata": {},
     "output_type": "execute_result"
    }
   ],
   "source": [
    "df.Product_Category_1.unique()"
   ]
  },
  {
   "cell_type": "code",
   "execution_count": 77,
   "id": "c5dd4247",
   "metadata": {},
   "outputs": [],
   "source": [
    "#fig=df.hist(figsize=(18,18))\n",
    "#sns.heatmap(df.corr(),annot =True)"
   ]
  },
  {
   "cell_type": "markdown",
   "id": "083cee5f",
   "metadata": {},
   "source": [
    "### Treating the nulls of product category 2 using User_ID "
   ]
  },
  {
   "cell_type": "code",
   "execution_count": 78,
   "id": "30055161",
   "metadata": {},
   "outputs": [
    {
     "data": {
      "text/html": [
       "<div>\n",
       "<style scoped>\n",
       "    .dataframe tbody tr th:only-of-type {\n",
       "        vertical-align: middle;\n",
       "    }\n",
       "\n",
       "    .dataframe tbody tr th {\n",
       "        vertical-align: top;\n",
       "    }\n",
       "\n",
       "    .dataframe thead th {\n",
       "        text-align: right;\n",
       "    }\n",
       "</style>\n",
       "<table border=\"1\" class=\"dataframe\">\n",
       "  <thead>\n",
       "    <tr style=\"text-align: right;\">\n",
       "      <th></th>\n",
       "      <th>Product_Category_2</th>\n",
       "    </tr>\n",
       "    <tr>\n",
       "      <th>User_ID</th>\n",
       "      <th></th>\n",
       "    </tr>\n",
       "  </thead>\n",
       "  <tbody>\n",
       "    <tr>\n",
       "      <th>1000001</th>\n",
       "      <td>4.0</td>\n",
       "    </tr>\n",
       "    <tr>\n",
       "      <th>1000002</th>\n",
       "      <td>8.0</td>\n",
       "    </tr>\n",
       "    <tr>\n",
       "      <th>1000003</th>\n",
       "      <td>2.0</td>\n",
       "    </tr>\n",
       "    <tr>\n",
       "      <th>1000004</th>\n",
       "      <td>2.0</td>\n",
       "    </tr>\n",
       "    <tr>\n",
       "      <th>1000005</th>\n",
       "      <td>8.0</td>\n",
       "    </tr>\n",
       "    <tr>\n",
       "      <th>...</th>\n",
       "      <td>...</td>\n",
       "    </tr>\n",
       "    <tr>\n",
       "      <th>1006036</th>\n",
       "      <td>8.0</td>\n",
       "    </tr>\n",
       "    <tr>\n",
       "      <th>1006037</th>\n",
       "      <td>8.0</td>\n",
       "    </tr>\n",
       "    <tr>\n",
       "      <th>1006038</th>\n",
       "      <td>14.0</td>\n",
       "    </tr>\n",
       "    <tr>\n",
       "      <th>1006039</th>\n",
       "      <td>12.0</td>\n",
       "    </tr>\n",
       "    <tr>\n",
       "      <th>1006040</th>\n",
       "      <td>8.0</td>\n",
       "    </tr>\n",
       "  </tbody>\n",
       "</table>\n",
       "<p>5891 rows × 1 columns</p>\n",
       "</div>"
      ],
      "text/plain": [
       "         Product_Category_2\n",
       "User_ID                    \n",
       "1000001                 4.0\n",
       "1000002                 8.0\n",
       "1000003                 2.0\n",
       "1000004                 2.0\n",
       "1000005                 8.0\n",
       "...                     ...\n",
       "1006036                 8.0\n",
       "1006037                 8.0\n",
       "1006038                14.0\n",
       "1006039                12.0\n",
       "1006040                 8.0\n",
       "\n",
       "[5891 rows x 1 columns]"
      ]
     },
     "execution_count": 78,
     "metadata": {},
     "output_type": "execute_result"
    }
   ],
   "source": [
    "from scipy.stats import mode\n",
    "p2_mode=df.pivot_table(values='Product_Category_2',index=['User_ID'],aggfunc=lambda x:mode(x).mode[0])\n",
    "p2_mode"
   ]
  },
  {
   "cell_type": "code",
   "execution_count": 79,
   "id": "fc4e9d4e",
   "metadata": {},
   "outputs": [],
   "source": [
    "p2bool=df.Product_Category_2.isnull()\n",
    "df.loc[p2bool,'Product_Category_2']=df.loc[p2bool,'User_ID'].apply(lambda x:p2_mode.loc[x])\n"
   ]
  },
  {
   "cell_type": "code",
   "execution_count": 80,
   "id": "40173e9e",
   "metadata": {},
   "outputs": [
    {
     "data": {
      "text/html": [
       "<div>\n",
       "<style scoped>\n",
       "    .dataframe tbody tr th:only-of-type {\n",
       "        vertical-align: middle;\n",
       "    }\n",
       "\n",
       "    .dataframe tbody tr th {\n",
       "        vertical-align: top;\n",
       "    }\n",
       "\n",
       "    .dataframe thead th {\n",
       "        text-align: right;\n",
       "    }\n",
       "</style>\n",
       "<table border=\"1\" class=\"dataframe\">\n",
       "  <thead>\n",
       "    <tr style=\"text-align: right;\">\n",
       "      <th></th>\n",
       "      <th>count</th>\n",
       "      <th>percent</th>\n",
       "    </tr>\n",
       "  </thead>\n",
       "  <tbody>\n",
       "    <tr>\n",
       "      <th>Product_Category_3</th>\n",
       "      <td>545809</td>\n",
       "      <td>69.648078</td>\n",
       "    </tr>\n",
       "    <tr>\n",
       "      <th>Purchase</th>\n",
       "      <td>233599</td>\n",
       "      <td>29.808452</td>\n",
       "    </tr>\n",
       "    <tr>\n",
       "      <th>User_ID</th>\n",
       "      <td>0</td>\n",
       "      <td>0.000000</td>\n",
       "    </tr>\n",
       "    <tr>\n",
       "      <th>Product_ID</th>\n",
       "      <td>0</td>\n",
       "      <td>0.000000</td>\n",
       "    </tr>\n",
       "    <tr>\n",
       "      <th>Gender</th>\n",
       "      <td>0</td>\n",
       "      <td>0.000000</td>\n",
       "    </tr>\n",
       "    <tr>\n",
       "      <th>Age</th>\n",
       "      <td>0</td>\n",
       "      <td>0.000000</td>\n",
       "    </tr>\n",
       "    <tr>\n",
       "      <th>Occupation</th>\n",
       "      <td>0</td>\n",
       "      <td>0.000000</td>\n",
       "    </tr>\n",
       "    <tr>\n",
       "      <th>City_Category</th>\n",
       "      <td>0</td>\n",
       "      <td>0.000000</td>\n",
       "    </tr>\n",
       "    <tr>\n",
       "      <th>Stay_In_Current_City_Years</th>\n",
       "      <td>0</td>\n",
       "      <td>0.000000</td>\n",
       "    </tr>\n",
       "    <tr>\n",
       "      <th>Marital_Status</th>\n",
       "      <td>0</td>\n",
       "      <td>0.000000</td>\n",
       "    </tr>\n",
       "    <tr>\n",
       "      <th>Product_Category_1</th>\n",
       "      <td>0</td>\n",
       "      <td>0.000000</td>\n",
       "    </tr>\n",
       "    <tr>\n",
       "      <th>Product_Category_2</th>\n",
       "      <td>0</td>\n",
       "      <td>0.000000</td>\n",
       "    </tr>\n",
       "  </tbody>\n",
       "</table>\n",
       "</div>"
      ],
      "text/plain": [
       "                             count    percent\n",
       "Product_Category_3          545809  69.648078\n",
       "Purchase                    233599  29.808452\n",
       "User_ID                          0   0.000000\n",
       "Product_ID                       0   0.000000\n",
       "Gender                           0   0.000000\n",
       "Age                              0   0.000000\n",
       "Occupation                       0   0.000000\n",
       "City_Category                    0   0.000000\n",
       "Stay_In_Current_City_Years       0   0.000000\n",
       "Marital_Status                   0   0.000000\n",
       "Product_Category_1               0   0.000000\n",
       "Product_Category_2               0   0.000000"
      ]
     },
     "execution_count": 80,
     "metadata": {},
     "output_type": "execute_result"
    }
   ],
   "source": [
    "nulls=df.isnull().sum()\n",
    "nulls=pd.DataFrame({'count':nulls,'percent':(nulls/df.shape[0])*100})\n",
    "nulls.sort_values('percent',ascending=False)"
   ]
  },
  {
   "cell_type": "markdown",
   "id": "39a4267e",
   "metadata": {},
   "source": [
    "### Treating the nulls of product category 3  by User_ID"
   ]
  },
  {
   "cell_type": "code",
   "execution_count": 81,
   "id": "239b6fec",
   "metadata": {},
   "outputs": [],
   "source": [
    "#Filling null values by 0 and merging the 3 prod_category columns and checking the nulls\n",
    "df.Product_Category_3.fillna(0,inplace=True)"
   ]
  },
  {
   "cell_type": "code",
   "execution_count": null,
   "id": "84962129",
   "metadata": {},
   "outputs": [],
   "source": []
  },
  {
   "cell_type": "code",
   "execution_count": 82,
   "id": "6b1cc568",
   "metadata": {},
   "outputs": [
    {
     "ename": "TypeError",
     "evalue": "unsupported operand type(s) for +: 'int' and 'str'",
     "output_type": "error",
     "traceback": [
      "\u001b[1;31m---------------------------------------------------------------------------\u001b[0m",
      "\u001b[1;31mTypeError\u001b[0m                                 Traceback (most recent call last)",
      "\u001b[1;32m~\\anaconda3\\lib\\site-packages\\pandas\\core\\ops\\array_ops.py\u001b[0m in \u001b[0;36m_na_arithmetic_op\u001b[1;34m(left, right, op, is_cmp)\u001b[0m\n\u001b[0;32m    165\u001b[0m     \u001b[1;32mtry\u001b[0m\u001b[1;33m:\u001b[0m\u001b[1;33m\u001b[0m\u001b[1;33m\u001b[0m\u001b[0m\n\u001b[1;32m--> 166\u001b[1;33m         \u001b[0mresult\u001b[0m \u001b[1;33m=\u001b[0m \u001b[0mfunc\u001b[0m\u001b[1;33m(\u001b[0m\u001b[0mleft\u001b[0m\u001b[1;33m,\u001b[0m \u001b[0mright\u001b[0m\u001b[1;33m)\u001b[0m\u001b[1;33m\u001b[0m\u001b[1;33m\u001b[0m\u001b[0m\n\u001b[0m\u001b[0;32m    167\u001b[0m     \u001b[1;32mexcept\u001b[0m \u001b[0mTypeError\u001b[0m\u001b[1;33m:\u001b[0m\u001b[1;33m\u001b[0m\u001b[1;33m\u001b[0m\u001b[0m\n",
      "\u001b[1;32m~\\anaconda3\\lib\\site-packages\\pandas\\core\\computation\\expressions.py\u001b[0m in \u001b[0;36mevaluate\u001b[1;34m(op, a, b, use_numexpr)\u001b[0m\n\u001b[0;32m    238\u001b[0m             \u001b[1;31m# error: \"None\" not callable\u001b[0m\u001b[1;33m\u001b[0m\u001b[1;33m\u001b[0m\u001b[0m\n\u001b[1;32m--> 239\u001b[1;33m             \u001b[1;32mreturn\u001b[0m \u001b[0m_evaluate\u001b[0m\u001b[1;33m(\u001b[0m\u001b[0mop\u001b[0m\u001b[1;33m,\u001b[0m \u001b[0mop_str\u001b[0m\u001b[1;33m,\u001b[0m \u001b[0ma\u001b[0m\u001b[1;33m,\u001b[0m \u001b[0mb\u001b[0m\u001b[1;33m)\u001b[0m  \u001b[1;31m# type: ignore[misc]\u001b[0m\u001b[1;33m\u001b[0m\u001b[1;33m\u001b[0m\u001b[0m\n\u001b[0m\u001b[0;32m    240\u001b[0m     \u001b[1;32mreturn\u001b[0m \u001b[0m_evaluate_standard\u001b[0m\u001b[1;33m(\u001b[0m\u001b[0mop\u001b[0m\u001b[1;33m,\u001b[0m \u001b[0mop_str\u001b[0m\u001b[1;33m,\u001b[0m \u001b[0ma\u001b[0m\u001b[1;33m,\u001b[0m \u001b[0mb\u001b[0m\u001b[1;33m)\u001b[0m\u001b[1;33m\u001b[0m\u001b[1;33m\u001b[0m\u001b[0m\n",
      "\u001b[1;32m~\\anaconda3\\lib\\site-packages\\pandas\\core\\computation\\expressions.py\u001b[0m in \u001b[0;36m_evaluate_numexpr\u001b[1;34m(op, op_str, a, b)\u001b[0m\n\u001b[0;32m    127\u001b[0m     \u001b[1;32mif\u001b[0m \u001b[0mresult\u001b[0m \u001b[1;32mis\u001b[0m \u001b[1;32mNone\u001b[0m\u001b[1;33m:\u001b[0m\u001b[1;33m\u001b[0m\u001b[1;33m\u001b[0m\u001b[0m\n\u001b[1;32m--> 128\u001b[1;33m         \u001b[0mresult\u001b[0m \u001b[1;33m=\u001b[0m \u001b[0m_evaluate_standard\u001b[0m\u001b[1;33m(\u001b[0m\u001b[0mop\u001b[0m\u001b[1;33m,\u001b[0m \u001b[0mop_str\u001b[0m\u001b[1;33m,\u001b[0m \u001b[0ma\u001b[0m\u001b[1;33m,\u001b[0m \u001b[0mb\u001b[0m\u001b[1;33m)\u001b[0m\u001b[1;33m\u001b[0m\u001b[1;33m\u001b[0m\u001b[0m\n\u001b[0m\u001b[0;32m    129\u001b[0m \u001b[1;33m\u001b[0m\u001b[0m\n",
      "\u001b[1;32m~\\anaconda3\\lib\\site-packages\\pandas\\core\\computation\\expressions.py\u001b[0m in \u001b[0;36m_evaluate_standard\u001b[1;34m(op, op_str, a, b)\u001b[0m\n\u001b[0;32m     68\u001b[0m         \u001b[0m_store_test_result\u001b[0m\u001b[1;33m(\u001b[0m\u001b[1;32mFalse\u001b[0m\u001b[1;33m)\u001b[0m\u001b[1;33m\u001b[0m\u001b[1;33m\u001b[0m\u001b[0m\n\u001b[1;32m---> 69\u001b[1;33m     \u001b[1;32mreturn\u001b[0m \u001b[0mop\u001b[0m\u001b[1;33m(\u001b[0m\u001b[0ma\u001b[0m\u001b[1;33m,\u001b[0m \u001b[0mb\u001b[0m\u001b[1;33m)\u001b[0m\u001b[1;33m\u001b[0m\u001b[1;33m\u001b[0m\u001b[0m\n\u001b[0m\u001b[0;32m     70\u001b[0m \u001b[1;33m\u001b[0m\u001b[0m\n",
      "\u001b[1;31mTypeError\u001b[0m: unsupported operand type(s) for +: 'int' and 'str'",
      "\nDuring handling of the above exception, another exception occurred:\n",
      "\u001b[1;31mTypeError\u001b[0m                                 Traceback (most recent call last)",
      "\u001b[1;32m~\\AppData\\Local\\Temp/ipykernel_6988/293307500.py\u001b[0m in \u001b[0;36m<module>\u001b[1;34m\u001b[0m\n\u001b[1;32m----> 1\u001b[1;33m \u001b[0mdf\u001b[0m\u001b[1;33m[\u001b[0m\u001b[1;34m'category'\u001b[0m\u001b[1;33m]\u001b[0m\u001b[1;33m=\u001b[0m\u001b[0mdf\u001b[0m\u001b[1;33m[\u001b[0m\u001b[1;34m'Product_Category_1'\u001b[0m\u001b[1;33m]\u001b[0m\u001b[1;33m+\u001b[0m\u001b[0mdf\u001b[0m\u001b[1;33m[\u001b[0m\u001b[1;34m'Product_Category_2'\u001b[0m\u001b[1;33m]\u001b[0m\u001b[1;33m.\u001b[0m\u001b[0mastype\u001b[0m\u001b[1;33m(\u001b[0m\u001b[0mstr\u001b[0m\u001b[1;33m)\u001b[0m\u001b[1;33m\u001b[0m\u001b[1;33m\u001b[0m\u001b[0m\n\u001b[0m\u001b[0;32m      2\u001b[0m \u001b[0mdf\u001b[0m\u001b[1;33m\u001b[0m\u001b[1;33m\u001b[0m\u001b[0m\n",
      "\u001b[1;32m~\\anaconda3\\lib\\site-packages\\pandas\\core\\ops\\common.py\u001b[0m in \u001b[0;36mnew_method\u001b[1;34m(self, other)\u001b[0m\n\u001b[0;32m     67\u001b[0m         \u001b[0mother\u001b[0m \u001b[1;33m=\u001b[0m \u001b[0mitem_from_zerodim\u001b[0m\u001b[1;33m(\u001b[0m\u001b[0mother\u001b[0m\u001b[1;33m)\u001b[0m\u001b[1;33m\u001b[0m\u001b[1;33m\u001b[0m\u001b[0m\n\u001b[0;32m     68\u001b[0m \u001b[1;33m\u001b[0m\u001b[0m\n\u001b[1;32m---> 69\u001b[1;33m         \u001b[1;32mreturn\u001b[0m \u001b[0mmethod\u001b[0m\u001b[1;33m(\u001b[0m\u001b[0mself\u001b[0m\u001b[1;33m,\u001b[0m \u001b[0mother\u001b[0m\u001b[1;33m)\u001b[0m\u001b[1;33m\u001b[0m\u001b[1;33m\u001b[0m\u001b[0m\n\u001b[0m\u001b[0;32m     70\u001b[0m \u001b[1;33m\u001b[0m\u001b[0m\n\u001b[0;32m     71\u001b[0m     \u001b[1;32mreturn\u001b[0m \u001b[0mnew_method\u001b[0m\u001b[1;33m\u001b[0m\u001b[1;33m\u001b[0m\u001b[0m\n",
      "\u001b[1;32m~\\anaconda3\\lib\\site-packages\\pandas\\core\\arraylike.py\u001b[0m in \u001b[0;36m__add__\u001b[1;34m(self, other)\u001b[0m\n\u001b[0;32m     90\u001b[0m     \u001b[1;33m@\u001b[0m\u001b[0munpack_zerodim_and_defer\u001b[0m\u001b[1;33m(\u001b[0m\u001b[1;34m\"__add__\"\u001b[0m\u001b[1;33m)\u001b[0m\u001b[1;33m\u001b[0m\u001b[1;33m\u001b[0m\u001b[0m\n\u001b[0;32m     91\u001b[0m     \u001b[1;32mdef\u001b[0m \u001b[0m__add__\u001b[0m\u001b[1;33m(\u001b[0m\u001b[0mself\u001b[0m\u001b[1;33m,\u001b[0m \u001b[0mother\u001b[0m\u001b[1;33m)\u001b[0m\u001b[1;33m:\u001b[0m\u001b[1;33m\u001b[0m\u001b[1;33m\u001b[0m\u001b[0m\n\u001b[1;32m---> 92\u001b[1;33m         \u001b[1;32mreturn\u001b[0m \u001b[0mself\u001b[0m\u001b[1;33m.\u001b[0m\u001b[0m_arith_method\u001b[0m\u001b[1;33m(\u001b[0m\u001b[0mother\u001b[0m\u001b[1;33m,\u001b[0m \u001b[0moperator\u001b[0m\u001b[1;33m.\u001b[0m\u001b[0madd\u001b[0m\u001b[1;33m)\u001b[0m\u001b[1;33m\u001b[0m\u001b[1;33m\u001b[0m\u001b[0m\n\u001b[0m\u001b[0;32m     93\u001b[0m \u001b[1;33m\u001b[0m\u001b[0m\n\u001b[0;32m     94\u001b[0m     \u001b[1;33m@\u001b[0m\u001b[0munpack_zerodim_and_defer\u001b[0m\u001b[1;33m(\u001b[0m\u001b[1;34m\"__radd__\"\u001b[0m\u001b[1;33m)\u001b[0m\u001b[1;33m\u001b[0m\u001b[1;33m\u001b[0m\u001b[0m\n",
      "\u001b[1;32m~\\anaconda3\\lib\\site-packages\\pandas\\core\\series.py\u001b[0m in \u001b[0;36m_arith_method\u001b[1;34m(self, other, op)\u001b[0m\n\u001b[0;32m   5524\u001b[0m \u001b[1;33m\u001b[0m\u001b[0m\n\u001b[0;32m   5525\u001b[0m         \u001b[1;32mwith\u001b[0m \u001b[0mnp\u001b[0m\u001b[1;33m.\u001b[0m\u001b[0merrstate\u001b[0m\u001b[1;33m(\u001b[0m\u001b[0mall\u001b[0m\u001b[1;33m=\u001b[0m\u001b[1;34m\"ignore\"\u001b[0m\u001b[1;33m)\u001b[0m\u001b[1;33m:\u001b[0m\u001b[1;33m\u001b[0m\u001b[1;33m\u001b[0m\u001b[0m\n\u001b[1;32m-> 5526\u001b[1;33m             \u001b[0mresult\u001b[0m \u001b[1;33m=\u001b[0m \u001b[0mops\u001b[0m\u001b[1;33m.\u001b[0m\u001b[0marithmetic_op\u001b[0m\u001b[1;33m(\u001b[0m\u001b[0mlvalues\u001b[0m\u001b[1;33m,\u001b[0m \u001b[0mrvalues\u001b[0m\u001b[1;33m,\u001b[0m \u001b[0mop\u001b[0m\u001b[1;33m)\u001b[0m\u001b[1;33m\u001b[0m\u001b[1;33m\u001b[0m\u001b[0m\n\u001b[0m\u001b[0;32m   5527\u001b[0m \u001b[1;33m\u001b[0m\u001b[0m\n\u001b[0;32m   5528\u001b[0m         \u001b[1;32mreturn\u001b[0m \u001b[0mself\u001b[0m\u001b[1;33m.\u001b[0m\u001b[0m_construct_result\u001b[0m\u001b[1;33m(\u001b[0m\u001b[0mresult\u001b[0m\u001b[1;33m,\u001b[0m \u001b[0mname\u001b[0m\u001b[1;33m=\u001b[0m\u001b[0mres_name\u001b[0m\u001b[1;33m)\u001b[0m\u001b[1;33m\u001b[0m\u001b[1;33m\u001b[0m\u001b[0m\n",
      "\u001b[1;32m~\\anaconda3\\lib\\site-packages\\pandas\\core\\ops\\array_ops.py\u001b[0m in \u001b[0;36marithmetic_op\u001b[1;34m(left, right, op)\u001b[0m\n\u001b[0;32m    222\u001b[0m         \u001b[0m_bool_arith_check\u001b[0m\u001b[1;33m(\u001b[0m\u001b[0mop\u001b[0m\u001b[1;33m,\u001b[0m \u001b[0mleft\u001b[0m\u001b[1;33m,\u001b[0m \u001b[0mright\u001b[0m\u001b[1;33m)\u001b[0m\u001b[1;33m\u001b[0m\u001b[1;33m\u001b[0m\u001b[0m\n\u001b[0;32m    223\u001b[0m \u001b[1;33m\u001b[0m\u001b[0m\n\u001b[1;32m--> 224\u001b[1;33m         \u001b[0mres_values\u001b[0m \u001b[1;33m=\u001b[0m \u001b[0m_na_arithmetic_op\u001b[0m\u001b[1;33m(\u001b[0m\u001b[0mleft\u001b[0m\u001b[1;33m,\u001b[0m \u001b[0mright\u001b[0m\u001b[1;33m,\u001b[0m \u001b[0mop\u001b[0m\u001b[1;33m)\u001b[0m\u001b[1;33m\u001b[0m\u001b[1;33m\u001b[0m\u001b[0m\n\u001b[0m\u001b[0;32m    225\u001b[0m \u001b[1;33m\u001b[0m\u001b[0m\n\u001b[0;32m    226\u001b[0m     \u001b[1;32mreturn\u001b[0m \u001b[0mres_values\u001b[0m\u001b[1;33m\u001b[0m\u001b[1;33m\u001b[0m\u001b[0m\n",
      "\u001b[1;32m~\\anaconda3\\lib\\site-packages\\pandas\\core\\ops\\array_ops.py\u001b[0m in \u001b[0;36m_na_arithmetic_op\u001b[1;34m(left, right, op, is_cmp)\u001b[0m\n\u001b[0;32m    171\u001b[0m             \u001b[1;31m# Don't do this for comparisons, as that will handle complex numbers\u001b[0m\u001b[1;33m\u001b[0m\u001b[1;33m\u001b[0m\u001b[0m\n\u001b[0;32m    172\u001b[0m             \u001b[1;31m#  incorrectly, see GH#32047\u001b[0m\u001b[1;33m\u001b[0m\u001b[1;33m\u001b[0m\u001b[0m\n\u001b[1;32m--> 173\u001b[1;33m             \u001b[0mresult\u001b[0m \u001b[1;33m=\u001b[0m \u001b[0m_masked_arith_op\u001b[0m\u001b[1;33m(\u001b[0m\u001b[0mleft\u001b[0m\u001b[1;33m,\u001b[0m \u001b[0mright\u001b[0m\u001b[1;33m,\u001b[0m \u001b[0mop\u001b[0m\u001b[1;33m)\u001b[0m\u001b[1;33m\u001b[0m\u001b[1;33m\u001b[0m\u001b[0m\n\u001b[0m\u001b[0;32m    174\u001b[0m         \u001b[1;32melse\u001b[0m\u001b[1;33m:\u001b[0m\u001b[1;33m\u001b[0m\u001b[1;33m\u001b[0m\u001b[0m\n\u001b[0;32m    175\u001b[0m             \u001b[1;32mraise\u001b[0m\u001b[1;33m\u001b[0m\u001b[1;33m\u001b[0m\u001b[0m\n",
      "\u001b[1;32m~\\anaconda3\\lib\\site-packages\\pandas\\core\\ops\\array_ops.py\u001b[0m in \u001b[0;36m_masked_arith_op\u001b[1;34m(x, y, op)\u001b[0m\n\u001b[0;32m    110\u001b[0m         \u001b[1;31m# See GH#5284, GH#5035, GH#19448 for historical reference\u001b[0m\u001b[1;33m\u001b[0m\u001b[1;33m\u001b[0m\u001b[0m\n\u001b[0;32m    111\u001b[0m         \u001b[1;32mif\u001b[0m \u001b[0mmask\u001b[0m\u001b[1;33m.\u001b[0m\u001b[0many\u001b[0m\u001b[1;33m(\u001b[0m\u001b[1;33m)\u001b[0m\u001b[1;33m:\u001b[0m\u001b[1;33m\u001b[0m\u001b[1;33m\u001b[0m\u001b[0m\n\u001b[1;32m--> 112\u001b[1;33m             \u001b[0mresult\u001b[0m\u001b[1;33m[\u001b[0m\u001b[0mmask\u001b[0m\u001b[1;33m]\u001b[0m \u001b[1;33m=\u001b[0m \u001b[0mop\u001b[0m\u001b[1;33m(\u001b[0m\u001b[0mxrav\u001b[0m\u001b[1;33m[\u001b[0m\u001b[0mmask\u001b[0m\u001b[1;33m]\u001b[0m\u001b[1;33m,\u001b[0m \u001b[0myrav\u001b[0m\u001b[1;33m[\u001b[0m\u001b[0mmask\u001b[0m\u001b[1;33m]\u001b[0m\u001b[1;33m)\u001b[0m\u001b[1;33m\u001b[0m\u001b[1;33m\u001b[0m\u001b[0m\n\u001b[0m\u001b[0;32m    113\u001b[0m \u001b[1;33m\u001b[0m\u001b[0m\n\u001b[0;32m    114\u001b[0m     \u001b[1;32melse\u001b[0m\u001b[1;33m:\u001b[0m\u001b[1;33m\u001b[0m\u001b[1;33m\u001b[0m\u001b[0m\n",
      "\u001b[1;31mTypeError\u001b[0m: unsupported operand type(s) for +: 'int' and 'str'"
     ]
    }
   ],
   "source": [
    "df['category']=df['Product_Category_1']+df['Product_Category_2'].astype(str)\n",
    "df"
   ]
  },
  {
   "cell_type": "code",
   "execution_count": null,
   "id": "6f52a7c5",
   "metadata": {},
   "outputs": [],
   "source": [
    "\n"
   ]
  },
  {
   "cell_type": "code",
   "execution_count": null,
   "id": "3d27fef6",
   "metadata": {},
   "outputs": [],
   "source": [
    "p3_mode=df.pivot_table(values='Product_Category_3',index=['User_ID'],aggfunc=lambda x:mode(x).mode[0])\n",
    "p3_mode\n"
   ]
  },
  {
   "cell_type": "markdown",
   "id": "c437f9c5",
   "metadata": {},
   "source": [
    "we need to find the index or location of the customers whose User_ID is  not 1000492 \n",
    "which are having complete null values in Product category3 column because wherever the user id is 1000492\n",
    "we have all null values in product category3 columns so no mode values are there ,but null values of product 3 exist for\n",
    "these user_IDs so we need to fill the mode values other than these IDs first and later treat thesE nulls on these 1000492 location"
   ]
  },
  {
   "cell_type": "code",
   "execution_count": null,
   "id": "f6023eaf",
   "metadata": {},
   "outputs": [],
   "source": [
    "# checking the nulls other than'User_ID'=1000492 \n",
    "df[df['User_ID']!=1000492].isnull().sum()"
   ]
  },
  {
   "cell_type": "code",
   "execution_count": null,
   "id": "aa5bb119",
   "metadata": {},
   "outputs": [],
   "source": [
    "# filling the nulls \n",
    "#df.loc[p3_bool,'Product_Category_3']=df.loc[p3_bool,'User_ID'].apply(lambda x:p3_mode.loc[x])"
   ]
  },
  {
   "cell_type": "code",
   "execution_count": null,
   "id": "fac9a6fa",
   "metadata": {},
   "outputs": [],
   "source": [
    "# so it was complicated to fill null values using User_ID so we try to do it simply\n",
    "df['Product_Category_3'].fillna(df['Product_Category_3'].mode()[0],inplace=True)                "
   ]
  },
  {
   "cell_type": "markdown",
   "id": "32c94493",
   "metadata": {},
   "source": [
    "### Checking the nulls again"
   ]
  },
  {
   "cell_type": "code",
   "execution_count": null,
   "id": "ea2c82ba",
   "metadata": {},
   "outputs": [],
   "source": [
    "nulls=df.isnull().sum()\n",
    "nulls=pd.DataFrame({'count':nulls,'percent':(nulls/df.shape[0])*100})\n",
    "nulls.sort_values('percent',ascending=False)"
   ]
  },
  {
   "cell_type": "markdown",
   "id": "ba7aaa23",
   "metadata": {},
   "source": [
    "### Feature Engineering"
   ]
  },
  {
   "cell_type": "markdown",
   "id": "fe99ff16",
   "metadata": {},
   "source": [
    "### User_ID"
   ]
  },
  {
   "cell_type": "code",
   "execution_count": null,
   "id": "28e18d04",
   "metadata": {},
   "outputs": [],
   "source": [
    "len(df['User_ID'].unique())\n",
    "   "
   ]
  },
  {
   "cell_type": "code",
   "execution_count": null,
   "id": "e8d48bb1",
   "metadata": {},
   "outputs": [],
   "source": [
    "#Numerical Encoding of Unique values of User_ID column\n",
    "count=0\n",
    "for i in df['User_ID'].unique():\n",
    "    df['User_ID'].replace(i,count,inplace=True)\n",
    "    count+=1\n",
    "df['User_ID']    "
   ]
  },
  {
   "cell_type": "code",
   "execution_count": null,
   "id": "de6d921d",
   "metadata": {},
   "outputs": [],
   "source": [
    "df['User_ID'].unique()"
   ]
  },
  {
   "cell_type": "markdown",
   "id": "736b7deb",
   "metadata": {},
   "source": [
    "#### Product_ID"
   ]
  },
  {
   "cell_type": "code",
   "execution_count": null,
   "id": "6e62818d",
   "metadata": {},
   "outputs": [],
   "source": [
    "len(df[\"Product_ID\"].unique())"
   ]
  },
  {
   "cell_type": "code",
   "execution_count": null,
   "id": "99ec4429",
   "metadata": {},
   "outputs": [],
   "source": [
    "#Numerical Encoding of Unique values of User_ID column\n",
    "count=0\n",
    "for i in df['Product_ID'].unique():\n",
    "    df['Product_ID'].replace(i,count,inplace=True)\n",
    "    count+=1\n",
    "df['Product_ID']    "
   ]
  },
  {
   "cell_type": "code",
   "execution_count": 183,
   "id": "acb85721",
   "metadata": {},
   "outputs": [
    {
     "data": {
      "text/plain": [
       "array([   0,    1,    2, ..., 3674, 3675, 3676], dtype=int64)"
      ]
     },
     "execution_count": 183,
     "metadata": {},
     "output_type": "execute_result"
    }
   ],
   "source": [
    "df['Product_ID'].unique()"
   ]
  },
  {
   "cell_type": "code",
   "execution_count": 184,
   "id": "4966cbae",
   "metadata": {},
   "outputs": [
    {
     "data": {
      "text/plain": [
       "3677"
      ]
     },
     "execution_count": 184,
     "metadata": {},
     "output_type": "execute_result"
    }
   ],
   "source": [
    "len(df['Product_ID'].unique())"
   ]
  },
  {
   "cell_type": "code",
   "execution_count": 28,
   "id": "1ca69ca6",
   "metadata": {},
   "outputs": [
    {
     "data": {
      "text/plain": [
       "351     2709\n",
       "529     2310\n",
       "308     2292\n",
       "222     2279\n",
       "126     2084\n",
       "        ... \n",
       "3555       1\n",
       "3439       1\n",
       "3558       1\n",
       "3560       1\n",
       "3676       1\n",
       "Name: Product_ID, Length: 3677, dtype: int64"
      ]
     },
     "execution_count": 28,
     "metadata": {},
     "output_type": "execute_result"
    }
   ],
   "source": [
    "#value counts\n",
    "df['Product_ID'].value_counts()"
   ]
  },
  {
   "cell_type": "markdown",
   "id": "a6f58713",
   "metadata": {},
   "source": [
    "#### Gender"
   ]
  },
  {
   "cell_type": "code",
   "execution_count": 96,
   "id": "f5ef34db",
   "metadata": {},
   "outputs": [
    {
     "data": {
      "text/plain": [
       "array(['F', 'M'], dtype=object)"
      ]
     },
     "execution_count": 96,
     "metadata": {},
     "output_type": "execute_result"
    }
   ],
   "source": [
    "df['Gender'].unique()"
   ]
  },
  {
   "cell_type": "code",
   "execution_count": 97,
   "id": "6277f585",
   "metadata": {},
   "outputs": [],
   "source": [
    "## Fixing categerical Variable into Numerical Varialbe\"Gender\"\n",
    "df['Gender']=df['Gender'].replace({'F':0,'M':1})"
   ]
  },
  {
   "cell_type": "code",
   "execution_count": 98,
   "id": "3ab7742f",
   "metadata": {},
   "outputs": [
    {
     "data": {
      "text/plain": [
       "array([0, 1], dtype=int64)"
      ]
     },
     "execution_count": 98,
     "metadata": {},
     "output_type": "execute_result"
    }
   ],
   "source": [
    "df['Gender'].unique()"
   ]
  },
  {
   "cell_type": "code",
   "execution_count": 185,
   "id": "543dbd6a",
   "metadata": {},
   "outputs": [
    {
     "name": "stdout",
     "output_type": "stream",
     "text": [
      "<class 'pandas.core.frame.DataFrame'>\n",
      "RangeIndex: 783667 entries, 0 to 783666\n",
      "Data columns (total 12 columns):\n",
      " #   Column                      Non-Null Count   Dtype  \n",
      "---  ------                      --------------   -----  \n",
      " 0   User_ID                     783667 non-null  int64  \n",
      " 1   Product_ID                  783667 non-null  int64  \n",
      " 2   Gender                      783667 non-null  int64  \n",
      " 3   Age                         783667 non-null  int64  \n",
      " 4   Occupation                  783667 non-null  int64  \n",
      " 5   City_Category               783667 non-null  int64  \n",
      " 6   Stay_In_Current_City_Years  783667 non-null  int64  \n",
      " 7   Marital_Status              783667 non-null  int64  \n",
      " 8   Product_Category_1          783667 non-null  int64  \n",
      " 9   Product_Category_2          783667 non-null  float64\n",
      " 10  Product_Category_3          783667 non-null  float64\n",
      " 11  Purchase                    550068 non-null  float64\n",
      "dtypes: float64(3), int64(9)\n",
      "memory usage: 71.7 MB\n"
     ]
    }
   ],
   "source": [
    "df.info()"
   ]
  },
  {
   "cell_type": "code",
   "execution_count": 100,
   "id": "d78247e7",
   "metadata": {},
   "outputs": [
    {
     "data": {
      "text/plain": [
       "Index(['User_ID', 'Product_ID', 'Gender', 'Age', 'Occupation', 'City_Category',\n",
       "       'Stay_In_Current_City_Years', 'Marital_Status', 'Product_Category_1',\n",
       "       'Product_Category_2', 'Product_Category_3', 'Purchase'],\n",
       "      dtype='object')"
      ]
     },
     "execution_count": 100,
     "metadata": {},
     "output_type": "execute_result"
    }
   ],
   "source": [
    "df.columns"
   ]
  },
  {
   "cell_type": "markdown",
   "id": "f7942abe",
   "metadata": {},
   "source": [
    "#### Age"
   ]
  },
  {
   "cell_type": "code",
   "execution_count": 186,
   "id": "c407ac1c",
   "metadata": {},
   "outputs": [
    {
     "data": {
      "text/plain": [
       "array([1, 4, 2, 3], dtype=int64)"
      ]
     },
     "execution_count": 186,
     "metadata": {},
     "output_type": "execute_result"
    }
   ],
   "source": [
    "# AGE\n",
    "df['Age'].unique()"
   ]
  },
  {
   "cell_type": "code",
   "execution_count": 187,
   "id": "35fd5ac5",
   "metadata": {},
   "outputs": [],
   "source": [
    "## Fixing Catergial Variable to Numerical Variable \"Age\"\n",
    "df['Age']=df['Age'].map({'0-17':1,'18-25':2,'26-35':2,'36-45':3,'46-50':3,'51-55':4,'55+':4})"
   ]
  },
  {
   "cell_type": "code",
   "execution_count": 188,
   "id": "4bcd8463",
   "metadata": {},
   "outputs": [
    {
     "data": {
      "text/plain": [
       "array([nan])"
      ]
     },
     "execution_count": 188,
     "metadata": {},
     "output_type": "execute_result"
    }
   ],
   "source": [
    "df['Age'].unique()"
   ]
  },
  {
   "cell_type": "markdown",
   "id": "00303d7f",
   "metadata": {},
   "source": [
    "#### Occupation"
   ]
  },
  {
   "cell_type": "code",
   "execution_count": 189,
   "id": "1a7a5e55",
   "metadata": {},
   "outputs": [
    {
     "data": {
      "text/plain": [
       "0    411168\n",
       "1    259416\n",
       "2     92598\n",
       "3     20485\n",
       "Name: Occupation, dtype: int64"
      ]
     },
     "execution_count": 189,
     "metadata": {},
     "output_type": "execute_result"
    }
   ],
   "source": [
    "df.Occupation.value_counts()"
   ]
  },
  {
   "cell_type": "markdown",
   "id": "1f505544",
   "metadata": {},
   "source": [
    "from here we can deduce that occupation with category values of '4','0','7','1','17' are \n",
    "the most popular jobs the people have\n",
    "and similarly 20,12,14,2,16,6,3  are theaverage popular jobs and similarly 10,5,15,11,19,13 are less popular jobs\n",
    "and rest with category values like 18,9,8 are the least prefered jobs\n"
   ]
  },
  {
   "cell_type": "code",
   "execution_count": 190,
   "id": "c3a5fdc6",
   "metadata": {},
   "outputs": [
    {
     "data": {
      "text/plain": [
       "array([2, 1, 0, 3], dtype=int64)"
      ]
     },
     "execution_count": 190,
     "metadata": {},
     "output_type": "execute_result"
    }
   ],
   "source": [
    "df.Occupation.unique()"
   ]
  },
  {
   "cell_type": "code",
   "execution_count": 191,
   "id": "864ebdd3",
   "metadata": {},
   "outputs": [],
   "source": [
    "#Numerical encoded\n",
    "df['Occupation'].replace([4,0,7,1,17],0,inplace=True)\n",
    "df['Occupation'].replace([20,12,14,2,16,6,3],1,inplace=True)\n",
    "df['Occupation'].replace([10,5,15,11,19,13],2,inplace=True)\n",
    "df['Occupation'].replace([18,9,8],3,inplace=True)"
   ]
  },
  {
   "cell_type": "code",
   "execution_count": 192,
   "id": "0ddf6406",
   "metadata": {},
   "outputs": [
    {
     "data": {
      "text/plain": [
       "array([1, 0], dtype=int64)"
      ]
     },
     "execution_count": 192,
     "metadata": {},
     "output_type": "execute_result"
    }
   ],
   "source": [
    "df['Occupation'].unique()"
   ]
  },
  {
   "cell_type": "markdown",
   "id": "07ad1ad2",
   "metadata": {},
   "source": [
    "#### City Category"
   ]
  },
  {
   "cell_type": "code",
   "execution_count": 193,
   "id": "7c23c30b",
   "metadata": {},
   "outputs": [
    {
     "data": {
      "text/plain": [
       "array([0, 2, 1], dtype=int64)"
      ]
     },
     "execution_count": 193,
     "metadata": {},
     "output_type": "execute_result"
    }
   ],
   "source": [
    "df['City_Category'].unique()"
   ]
  },
  {
   "cell_type": "code",
   "execution_count": 194,
   "id": "8391bc75",
   "metadata": {},
   "outputs": [],
   "source": [
    "##Fixing the Caterigal variable into Numerical variable \"City_Category\"\n",
    "df['City_Category']=df['City_Category'].replace(['A', 'C', 'B'],[0,2,1])\n"
   ]
  },
  {
   "cell_type": "markdown",
   "id": "276d855d",
   "metadata": {},
   "source": [
    "#### STAY in years"
   ]
  },
  {
   "cell_type": "code",
   "execution_count": 201,
   "id": "0b3642b4",
   "metadata": {},
   "outputs": [
    {
     "data": {
      "text/plain": [
       "array([2, 4, 3, 1, 0], dtype=int64)"
      ]
     },
     "execution_count": 201,
     "metadata": {},
     "output_type": "execute_result"
    }
   ],
   "source": [
    "df['Stay_In_Current_City_Years'].unique()"
   ]
  },
  {
   "cell_type": "code",
   "execution_count": null,
   "id": "ae419362",
   "metadata": {},
   "outputs": [],
   "source": [
    "df['Stay_In_Current_City_Years']=df['Stay_In_Current_City_Years'].str.replace('+','')"
   ]
  },
  {
   "cell_type": "code",
   "execution_count": 202,
   "id": "cf513140",
   "metadata": {},
   "outputs": [
    {
     "data": {
      "text/plain": [
       "array([2, 4, 3, 1, 0], dtype=int64)"
      ]
     },
     "execution_count": 202,
     "metadata": {},
     "output_type": "execute_result"
    }
   ],
   "source": [
    "df['Stay_In_Current_City_Years'].unique()"
   ]
  },
  {
   "cell_type": "code",
   "execution_count": 204,
   "id": "065fdb5a",
   "metadata": {},
   "outputs": [],
   "source": [
    "df['Stay_In_Current_City_Years']=df['Stay_In_Current_City_Years'].replace(['2', '4', '3', '1', '0'],[2,4,3,1,0])"
   ]
  },
  {
   "cell_type": "code",
   "execution_count": 205,
   "id": "68735a76",
   "metadata": {},
   "outputs": [
    {
     "name": "stdout",
     "output_type": "stream",
     "text": [
      "<class 'pandas.core.frame.DataFrame'>\n",
      "RangeIndex: 783667 entries, 0 to 783666\n",
      "Data columns (total 12 columns):\n",
      " #   Column                      Non-Null Count   Dtype  \n",
      "---  ------                      --------------   -----  \n",
      " 0   User_ID                     783667 non-null  int64  \n",
      " 1   Product_ID                  783667 non-null  int64  \n",
      " 2   Gender                      783667 non-null  int64  \n",
      " 3   Age                         0 non-null       float64\n",
      " 4   Occupation                  783667 non-null  int64  \n",
      " 5   City_Category               783667 non-null  int64  \n",
      " 6   Stay_In_Current_City_Years  783667 non-null  int64  \n",
      " 7   Marital_Status              783667 non-null  int64  \n",
      " 8   Product_Category_1          783667 non-null  int64  \n",
      " 9   Product_Category_2          783667 non-null  float64\n",
      " 10  Product_Category_3          783667 non-null  float64\n",
      " 11  Purchase                    550068 non-null  float64\n",
      "dtypes: float64(4), int64(8)\n",
      "memory usage: 71.7 MB\n"
     ]
    }
   ],
   "source": [
    "df.info()"
   ]
  },
  {
   "cell_type": "markdown",
   "id": "0fe7d70a",
   "metadata": {},
   "source": [
    "#### Final Treated Dataset"
   ]
  },
  {
   "cell_type": "code",
   "execution_count": 209,
   "id": "305e5f85",
   "metadata": {},
   "outputs": [],
   "source": [
    "df_treated=df.copy(deep=True)"
   ]
  },
  {
   "cell_type": "markdown",
   "id": "122be2a3",
   "metadata": {},
   "source": [
    "df_treated['User_ID']=df_treated['User_ID'].astype('object')\n",
    "df_treated['Product_ID']=df_treated['Product_ID'].astype('object')"
   ]
  },
  {
   "cell_type": "markdown",
   "id": "666599df",
   "metadata": {},
   "source": [
    "#### User_ID"
   ]
  },
  {
   "cell_type": "code",
   "execution_count": 213,
   "id": "c3319727",
   "metadata": {},
   "outputs": [],
   "source": [
    "pd.options.display.max_rows=None"
   ]
  },
  {
   "cell_type": "code",
   "execution_count": 61,
   "id": "ff435648",
   "metadata": {},
   "outputs": [
    {
     "ename": "NameError",
     "evalue": "name 'df_treated' is not defined",
     "output_type": "error",
     "traceback": [
      "\u001b[1;31m---------------------------------------------------------------------------\u001b[0m",
      "\u001b[1;31mNameError\u001b[0m                                 Traceback (most recent call last)",
      "\u001b[1;32m~\\AppData\\Local\\Temp/ipykernel_6988/807483611.py\u001b[0m in \u001b[0;36m<module>\u001b[1;34m\u001b[0m\n\u001b[0;32m      1\u001b[0m \u001b[1;31m#Average Purchase by User_ID\u001b[0m\u001b[1;33m\u001b[0m\u001b[1;33m\u001b[0m\u001b[0m\n\u001b[1;32m----> 2\u001b[1;33m \u001b[0mpurchase_avg\u001b[0m\u001b[1;33m=\u001b[0m\u001b[0mdf_treated\u001b[0m\u001b[1;33m.\u001b[0m\u001b[0mpivot_table\u001b[0m\u001b[1;33m(\u001b[0m\u001b[0mvalues\u001b[0m\u001b[1;33m=\u001b[0m\u001b[1;34m'Purchase'\u001b[0m\u001b[1;33m,\u001b[0m\u001b[0mindex\u001b[0m\u001b[1;33m=\u001b[0m\u001b[1;34m'User_ID'\u001b[0m\u001b[1;33m)\u001b[0m\u001b[1;33m\u001b[0m\u001b[1;33m\u001b[0m\u001b[0m\n\u001b[0m\u001b[0;32m      3\u001b[0m \u001b[0mpurchase_avg\u001b[0m\u001b[1;33m.\u001b[0m\u001b[0msort_values\u001b[0m\u001b[1;33m(\u001b[0m\u001b[1;34m'Purchase'\u001b[0m\u001b[1;33m,\u001b[0m\u001b[0mascending\u001b[0m\u001b[1;33m=\u001b[0m\u001b[1;32mFalse\u001b[0m\u001b[1;33m)\u001b[0m\u001b[1;33m\u001b[0m\u001b[1;33m\u001b[0m\u001b[0m\n",
      "\u001b[1;31mNameError\u001b[0m: name 'df_treated' is not defined"
     ]
    }
   ],
   "source": [
    "#Average Purchase by User_ID\n",
    "purchase_avg=df_treated.pivot_table(values='Purchase',index='User_ID')\n",
    "purchase_avg.sort_values('Purchase',ascending=False)"
   ]
  },
  {
   "cell_type": "code",
   "execution_count": 62,
   "id": "b0590b5f",
   "metadata": {},
   "outputs": [
    {
     "ename": "SyntaxError",
     "evalue": "unexpected EOF while parsing (Temp/ipykernel_6988/1667960066.py, line 1)",
     "output_type": "error",
     "traceback": [
      "\u001b[1;36m  File \u001b[1;32m\"C:\\Users\\Admin\\AppData\\Local\\Temp/ipykernel_6988/1667960066.py\"\u001b[1;36m, line \u001b[1;32m1\u001b[0m\n\u001b[1;33m    df_treated['Customers'\u001b[0m\n\u001b[1;37m                          ^\u001b[0m\n\u001b[1;31mSyntaxError\u001b[0m\u001b[1;31m:\u001b[0m unexpected EOF while parsing\n"
     ]
    }
   ],
   "source": [
    "df_treated['Customers'"
   ]
  },
  {
   "cell_type": "code",
   "execution_count": null,
   "id": "b245e6ef",
   "metadata": {},
   "outputs": [],
   "source": []
  },
  {
   "cell_type": "markdown",
   "id": "f8c73be7",
   "metadata": {},
   "source": [
    "for i in purchase_avg.index:\n",
    "    if  purchase_avg.values>15000:\n",
    "        purchase_avg['Customers']='Biggest_customers'\n",
    "    elif purchase_avg.values in range(10000,15001):\n",
    "        purchase_avg['Customers']='Big_customers'\n",
    "    elif purchase_avg.values in range(5000,10001):\n",
    "        purchase_avg['Customers']='Average_customers'\n",
    "    else:\n",
    "        purchase_avg['Customers']='Small_customers'\n",
    "purchase_avg        "
   ]
  },
  {
   "cell_type": "code",
   "execution_count": 60,
   "id": "385cba92",
   "metadata": {},
   "outputs": [
    {
     "ename": "NameError",
     "evalue": "name 'purchase_avg' is not defined",
     "output_type": "error",
     "traceback": [
      "\u001b[1;31m---------------------------------------------------------------------------\u001b[0m",
      "\u001b[1;31mNameError\u001b[0m                                 Traceback (most recent call last)",
      "\u001b[1;32m~\\AppData\\Local\\Temp/ipykernel_6988/1953865869.py\u001b[0m in \u001b[0;36m<module>\u001b[1;34m\u001b[0m\n\u001b[0;32m      1\u001b[0m \u001b[1;31m#Dont Run Now\u001b[0m\u001b[1;33m\u001b[0m\u001b[1;33m\u001b[0m\u001b[0m\n\u001b[1;32m----> 2\u001b[1;33m \u001b[1;32mfor\u001b[0m \u001b[0mi\u001b[0m \u001b[1;32min\u001b[0m \u001b[0mpurchase_avg\u001b[0m\u001b[1;33m.\u001b[0m\u001b[0mindex\u001b[0m\u001b[1;33m:\u001b[0m\u001b[1;33m\u001b[0m\u001b[1;33m\u001b[0m\u001b[0m\n\u001b[0m\u001b[0;32m      3\u001b[0m     \u001b[1;32mif\u001b[0m  \u001b[0mpurchase_avg\u001b[0m\u001b[1;33m.\u001b[0m\u001b[0mvalues\u001b[0m\u001b[1;33m>\u001b[0m\u001b[1;36m15000\u001b[0m\u001b[1;33m:\u001b[0m\u001b[1;33m\u001b[0m\u001b[1;33m\u001b[0m\u001b[0m\n\u001b[0;32m      4\u001b[0m         \u001b[0mdf\u001b[0m\u001b[1;33m[\u001b[0m\u001b[1;34m'Customers'\u001b[0m\u001b[1;33m]\u001b[0m\u001b[1;33m=\u001b[0m\u001b[0mdf\u001b[0m\u001b[1;33m[\u001b[0m\u001b[1;34m'User_ID'\u001b[0m\u001b[1;33m]\u001b[0m\u001b[1;33m.\u001b[0m\u001b[0mreplace\u001b[0m\u001b[1;33m(\u001b[0m\u001b[1;34m'Biggest_customers'\u001b[0m\u001b[1;33m)\u001b[0m\u001b[1;33m\u001b[0m\u001b[1;33m\u001b[0m\u001b[0m\n\u001b[0;32m      5\u001b[0m     \u001b[1;32melif\u001b[0m \u001b[0mpurchase_avg\u001b[0m\u001b[1;33m.\u001b[0m\u001b[0mvalues\u001b[0m \u001b[1;32min\u001b[0m \u001b[0mrange\u001b[0m\u001b[1;33m(\u001b[0m\u001b[1;36m10000\u001b[0m\u001b[1;33m,\u001b[0m\u001b[1;36m15001\u001b[0m\u001b[1;33m)\u001b[0m\u001b[1;33m:\u001b[0m\u001b[1;33m\u001b[0m\u001b[1;33m\u001b[0m\u001b[0m\n",
      "\u001b[1;31mNameError\u001b[0m: name 'purchase_avg' is not defined"
     ]
    }
   ],
   "source": [
    "#Dont Run Now\n",
    "for i in purchase_avg.index:\n",
    "    if  purchase_avg.values>15000:\n",
    "        df['Customers']=df['User_ID'].replace('Biggest_customers')\n",
    "    elif purchase_avg.values in range(10000,15001):\n",
    "        df['Customers']=df['User_ID'].replace(i,'Big_customers')\n",
    "    elif purchase_avg.values in range(5000,10001):\n",
    "        df['Customers']=df['User_ID'].replace(i,'Avg_customers')\n",
    "    else:\n",
    "        df['Customers']=df['User_ID'].replace(i,'Small_customers')\n",
    "df['Customers'].unique()        "
   ]
  },
  {
   "cell_type": "code",
   "execution_count": null,
   "id": "7a26408a",
   "metadata": {},
   "outputs": [],
   "source": [
    "for i in df['User_ID'].unique():\n",
    "    if   df['User_ID'].value_counts()>15000:\n",
    "        df['User_ID'].replace(i,'Biggest_customers',inplace=True)\n",
    "    elif purchase_avg.values in range(10000,15001):\n",
    "        df['User_ID'].replace(i,'Big_customers',inplace=True)\n",
    "    elif purchase_avg.values in range(5000,10001):\n",
    "        df['User_ID'].replace(i,'Avg_customers',inplace=True)\n",
    "    else:\n",
    "        df['User_ID'].replace(i,'Small_customers',inplace=True)\n",
    "df['User_ID'].unique()        "
   ]
  },
  {
   "cell_type": "code",
   "execution_count": 207,
   "id": "2fccfa40",
   "metadata": {},
   "outputs": [
    {
     "data": {
      "text/plain": [
       "1488    1468\n",
       "3772    1384\n",
       "1716    1286\n",
       "1049    1230\n",
       "790     1204\n",
       "        ... \n",
       "5845      13\n",
       "5792      13\n",
       "1807      13\n",
       "4397      13\n",
       "5326      13\n",
       "Name: User_ID, Length: 5891, dtype: int64"
      ]
     },
     "execution_count": 207,
     "metadata": {},
     "output_type": "execute_result"
    }
   ],
   "source": [
    "df_treated['User_ID'].value_counts().sort_values(ascending=False)\n",
    "    "
   ]
  },
  {
   "cell_type": "code",
   "execution_count": null,
   "id": "9643d2e5",
   "metadata": {},
   "outputs": [],
   "source": [
    "count=0\n",
    "for i in df['User_ID'].unique():\n",
    "    if \n",
    "    df['User_ID'].replace(i,count,inplace=True)\n",
    "    count+=1\n",
    "df['User_ID']    "
   ]
  },
  {
   "cell_type": "code",
   "execution_count": 119,
   "id": "c5ca4c52",
   "metadata": {},
   "outputs": [],
   "source": [
    "for i in df['User_ID'].unique():\n",
    "    if df_treated['User_ID'].value_counts()>1000:\n",
    "        df['User_ID'].replace(i,'',inplace=True)"
   ]
  },
  {
   "cell_type": "code",
   "execution_count": 120,
   "id": "0a05ba51",
   "metadata": {},
   "outputs": [],
   "source": [
    "def replace(x):\n",
    "    "
   ]
  },
  {
   "cell_type": "code",
   "execution_count": 121,
   "id": "85533009",
   "metadata": {},
   "outputs": [],
   "source": [
    "#df_cat=df_treated.select_dtypes(include=object)\n",
    "#df_num=df_treated.select_dtypes(exclude=object)"
   ]
  },
  {
   "cell_type": "code",
   "execution_count": 122,
   "id": "b530a074",
   "metadata": {},
   "outputs": [],
   "source": [
    "# dummies\n",
    "#df_treated_dummies=pd.get_dummies(df_cat)\n",
    "#df_treated_dummies.shape"
   ]
  },
  {
   "cell_type": "markdown",
   "id": "71388631",
   "metadata": {},
   "source": [
    "## Feature Selection"
   ]
  },
  {
   "cell_type": "code",
   "execution_count": null,
   "id": "e5d76817",
   "metadata": {},
   "outputs": [],
   "source": [
    "# scale the data and drop the target variable and concat with categorical columns and proceed for pca Fitting\n",
    "df_new=df.drop(['Purchase'],axis=1)\n",
    "from sklearn.preprocessing import StandardScaler\n",
    "df_sc=StandardScaler().fit_transform(df_new)\n",
    "df_sc=pd.DataFrame(df_sc)\n",
    "df_sc"
   ]
  },
  {
   "cell_type": "code",
   "execution_count": 55,
   "id": "7b0cdad8",
   "metadata": {},
   "outputs": [],
   "source": [
    "# PCA\n",
    "from sklearn.decomposition import PCA"
   ]
  },
  {
   "cell_type": "code",
   "execution_count": 56,
   "id": "a66ffa92",
   "metadata": {},
   "outputs": [],
   "source": [
    "pca=PCA(random_state=100)\n",
    "\n",
    "# PCA fitting \n",
    "pca_data =pca.fit(df_sc)\n",
    "\n",
    "#PCA Transformed data\n",
    "pca_data_t=pca.transform(df_sc)"
   ]
  },
  {
   "cell_type": "code",
   "execution_count": 57,
   "id": "271d3866",
   "metadata": {
    "scrolled": true
   },
   "outputs": [
    {
     "name": "stdout",
     "output_type": "stream",
     "text": [
      "[0.16726604 0.12011759 0.09586747 0.09453245 0.09321523 0.08928008\n",
      " 0.08719472 0.07966058 0.06494963 0.0583201  0.0495961 ]\n",
      "\n",
      "cum_ratio\n",
      " [0.16726604 0.28738364 0.38325111 0.47778356 0.57099878 0.66027887\n",
      " 0.74747359 0.82713416 0.8920838  0.9504039  1.        ]\n"
     ]
    }
   ],
   "source": [
    "print(pca_data.explained_variance_ratio_)\n",
    "print('\\ncum_ratio\\n',np.cumsum(pca_data.explained_variance_ratio_))"
   ]
  },
  {
   "cell_type": "markdown",
   "id": "409aaf4e",
   "metadata": {},
   "source": [
    "[0.16726604 0.12011759 0.09586747 0.09453245 0.09321523 0.08928008\n",
    " 0.08719472 0.07966058 0.06494963 0.0583201  0.0495961 ]\n",
    "\n",
    "cum_ratio\n",
    " [0.16726604 0.28738364 0.38325111 0.47778356 0.57099878 0.66027887\n",
    " 0.74747359 0.82713416 0.8920838  0.9504039  1.        ]\n"
   ]
  },
  {
   "cell_type": "code",
   "execution_count": 59,
   "id": "be4301c6",
   "metadata": {},
   "outputs": [
    {
     "data": {
      "text/plain": [
       "array([0.16726604, 0.28738364, 0.38325111, 0.47778356, 0.57099878,\n",
       "       0.66027887, 0.74747359, 0.82713416, 0.8920838 , 0.9504039 ])"
      ]
     },
     "execution_count": 59,
     "metadata": {},
     "output_type": "execute_result"
    }
   ],
   "source": [
    "cum_ratio=np.cumsum(pca_data.explained_variance_ratio_)\n",
    "cum_ratio[cum_ratio<.96]"
   ]
  },
  {
   "cell_type": "code",
   "execution_count": 60,
   "id": "5e40ccaf",
   "metadata": {},
   "outputs": [
    {
     "data": {
      "text/plain": [
       "10"
      ]
     },
     "execution_count": 60,
     "metadata": {},
     "output_type": "execute_result"
    }
   ],
   "source": [
    "len(cum_ratio[cum_ratio<.96])"
   ]
  },
  {
   "cell_type": "code",
   "execution_count": 61,
   "id": "097976c7",
   "metadata": {},
   "outputs": [
    {
     "data": {
      "text/html": [
       "<div>\n",
       "<style scoped>\n",
       "    .dataframe tbody tr th:only-of-type {\n",
       "        vertical-align: middle;\n",
       "    }\n",
       "\n",
       "    .dataframe tbody tr th {\n",
       "        vertical-align: top;\n",
       "    }\n",
       "\n",
       "    .dataframe thead th {\n",
       "        text-align: right;\n",
       "    }\n",
       "</style>\n",
       "<table border=\"1\" class=\"dataframe\">\n",
       "  <thead>\n",
       "    <tr style=\"text-align: right;\">\n",
       "      <th></th>\n",
       "      <th>0</th>\n",
       "      <th>1</th>\n",
       "      <th>2</th>\n",
       "      <th>3</th>\n",
       "      <th>4</th>\n",
       "      <th>5</th>\n",
       "      <th>6</th>\n",
       "      <th>7</th>\n",
       "      <th>8</th>\n",
       "      <th>9</th>\n",
       "      <th>10</th>\n",
       "    </tr>\n",
       "  </thead>\n",
       "  <tbody>\n",
       "    <tr>\n",
       "      <th>0</th>\n",
       "      <td>-1.266895</td>\n",
       "      <td>-2.176335</td>\n",
       "      <td>1.184370</td>\n",
       "      <td>1.841394</td>\n",
       "      <td>1.208062</td>\n",
       "      <td>-0.030973</td>\n",
       "      <td>-2.008750</td>\n",
       "      <td>-0.689461</td>\n",
       "      <td>-0.648679</td>\n",
       "      <td>-0.009263</td>\n",
       "      <td>1.270987</td>\n",
       "    </tr>\n",
       "    <tr>\n",
       "      <th>1</th>\n",
       "      <td>-1.720064</td>\n",
       "      <td>-2.106554</td>\n",
       "      <td>1.239823</td>\n",
       "      <td>1.829305</td>\n",
       "      <td>1.193691</td>\n",
       "      <td>-0.030528</td>\n",
       "      <td>-2.126205</td>\n",
       "      <td>-0.696996</td>\n",
       "      <td>-0.585359</td>\n",
       "      <td>-0.120988</td>\n",
       "      <td>0.421638</td>\n",
       "    </tr>\n",
       "    <tr>\n",
       "      <th>2</th>\n",
       "      <td>-0.025938</td>\n",
       "      <td>-2.301001</td>\n",
       "      <td>1.147088</td>\n",
       "      <td>1.822234</td>\n",
       "      <td>1.435149</td>\n",
       "      <td>0.231968</td>\n",
       "      <td>-1.676155</td>\n",
       "      <td>-0.417460</td>\n",
       "      <td>-0.657946</td>\n",
       "      <td>1.814951</td>\n",
       "      <td>1.712784</td>\n",
       "    </tr>\n",
       "    <tr>\n",
       "      <th>3</th>\n",
       "      <td>1.069600</td>\n",
       "      <td>-2.383685</td>\n",
       "      <td>1.298159</td>\n",
       "      <td>2.003490</td>\n",
       "      <td>0.876080</td>\n",
       "      <td>-0.212162</td>\n",
       "      <td>-2.048500</td>\n",
       "      <td>-0.627055</td>\n",
       "      <td>-0.617616</td>\n",
       "      <td>1.660662</td>\n",
       "      <td>0.231791</td>\n",
       "    </tr>\n",
       "    <tr>\n",
       "      <th>4</th>\n",
       "      <td>0.059183</td>\n",
       "      <td>1.157265</td>\n",
       "      <td>-1.381280</td>\n",
       "      <td>2.515974</td>\n",
       "      <td>-0.968068</td>\n",
       "      <td>0.049025</td>\n",
       "      <td>-0.216193</td>\n",
       "      <td>0.639687</td>\n",
       "      <td>1.710484</td>\n",
       "      <td>0.746608</td>\n",
       "      <td>0.903547</td>\n",
       "    </tr>\n",
       "    <tr>\n",
       "      <th>...</th>\n",
       "      <td>...</td>\n",
       "      <td>...</td>\n",
       "      <td>...</td>\n",
       "      <td>...</td>\n",
       "      <td>...</td>\n",
       "      <td>...</td>\n",
       "      <td>...</td>\n",
       "      <td>...</td>\n",
       "      <td>...</td>\n",
       "      <td>...</td>\n",
       "      <td>...</td>\n",
       "    </tr>\n",
       "    <tr>\n",
       "      <th>783662</th>\n",
       "      <td>0.849143</td>\n",
       "      <td>0.627058</td>\n",
       "      <td>1.449527</td>\n",
       "      <td>0.410032</td>\n",
       "      <td>0.394898</td>\n",
       "      <td>2.655830</td>\n",
       "      <td>0.104245</td>\n",
       "      <td>-1.569266</td>\n",
       "      <td>-1.267609</td>\n",
       "      <td>0.025546</td>\n",
       "      <td>0.476500</td>\n",
       "    </tr>\n",
       "    <tr>\n",
       "      <th>783663</th>\n",
       "      <td>0.178762</td>\n",
       "      <td>0.736393</td>\n",
       "      <td>1.572444</td>\n",
       "      <td>0.531968</td>\n",
       "      <td>-0.084148</td>\n",
       "      <td>2.227152</td>\n",
       "      <td>-0.314176</td>\n",
       "      <td>-1.865277</td>\n",
       "      <td>-1.222243</td>\n",
       "      <td>-0.253455</td>\n",
       "      <td>0.489449</td>\n",
       "    </tr>\n",
       "    <tr>\n",
       "      <th>783664</th>\n",
       "      <td>-1.856797</td>\n",
       "      <td>1.029500</td>\n",
       "      <td>1.733543</td>\n",
       "      <td>0.543997</td>\n",
       "      <td>-0.290829</td>\n",
       "      <td>2.057604</td>\n",
       "      <td>-0.722527</td>\n",
       "      <td>-2.023450</td>\n",
       "      <td>-1.064164</td>\n",
       "      <td>0.095544</td>\n",
       "      <td>0.053570</td>\n",
       "    </tr>\n",
       "    <tr>\n",
       "      <th>783665</th>\n",
       "      <td>1.940008</td>\n",
       "      <td>0.430553</td>\n",
       "      <td>1.230102</td>\n",
       "      <td>-0.177837</td>\n",
       "      <td>-1.820993</td>\n",
       "      <td>2.392135</td>\n",
       "      <td>0.289880</td>\n",
       "      <td>0.749185</td>\n",
       "      <td>0.794680</td>\n",
       "      <td>0.087984</td>\n",
       "      <td>-0.464081</td>\n",
       "    </tr>\n",
       "    <tr>\n",
       "      <th>783666</th>\n",
       "      <td>-0.119885</td>\n",
       "      <td>1.342770</td>\n",
       "      <td>0.437113</td>\n",
       "      <td>-1.176897</td>\n",
       "      <td>-0.874077</td>\n",
       "      <td>2.469024</td>\n",
       "      <td>-0.797823</td>\n",
       "      <td>-0.528734</td>\n",
       "      <td>-0.165760</td>\n",
       "      <td>-0.536946</td>\n",
       "      <td>0.971543</td>\n",
       "    </tr>\n",
       "  </tbody>\n",
       "</table>\n",
       "<p>783667 rows × 11 columns</p>\n",
       "</div>"
      ],
      "text/plain": [
       "              0         1         2         3         4         5         6   \\\n",
       "0      -1.266895 -2.176335  1.184370  1.841394  1.208062 -0.030973 -2.008750   \n",
       "1      -1.720064 -2.106554  1.239823  1.829305  1.193691 -0.030528 -2.126205   \n",
       "2      -0.025938 -2.301001  1.147088  1.822234  1.435149  0.231968 -1.676155   \n",
       "3       1.069600 -2.383685  1.298159  2.003490  0.876080 -0.212162 -2.048500   \n",
       "4       0.059183  1.157265 -1.381280  2.515974 -0.968068  0.049025 -0.216193   \n",
       "...          ...       ...       ...       ...       ...       ...       ...   \n",
       "783662  0.849143  0.627058  1.449527  0.410032  0.394898  2.655830  0.104245   \n",
       "783663  0.178762  0.736393  1.572444  0.531968 -0.084148  2.227152 -0.314176   \n",
       "783664 -1.856797  1.029500  1.733543  0.543997 -0.290829  2.057604 -0.722527   \n",
       "783665  1.940008  0.430553  1.230102 -0.177837 -1.820993  2.392135  0.289880   \n",
       "783666 -0.119885  1.342770  0.437113 -1.176897 -0.874077  2.469024 -0.797823   \n",
       "\n",
       "              7         8         9         10  \n",
       "0      -0.689461 -0.648679 -0.009263  1.270987  \n",
       "1      -0.696996 -0.585359 -0.120988  0.421638  \n",
       "2      -0.417460 -0.657946  1.814951  1.712784  \n",
       "3      -0.627055 -0.617616  1.660662  0.231791  \n",
       "4       0.639687  1.710484  0.746608  0.903547  \n",
       "...          ...       ...       ...       ...  \n",
       "783662 -1.569266 -1.267609  0.025546  0.476500  \n",
       "783663 -1.865277 -1.222243 -0.253455  0.489449  \n",
       "783664 -2.023450 -1.064164  0.095544  0.053570  \n",
       "783665  0.749185  0.794680  0.087984 -0.464081  \n",
       "783666 -0.528734 -0.165760 -0.536946  0.971543  \n",
       "\n",
       "[783667 rows x 11 columns]"
      ]
     },
     "execution_count": 61,
     "metadata": {},
     "output_type": "execute_result"
    }
   ],
   "source": [
    "#PCA data in Dataframe\n",
    "df_pca=pd.DataFrame(pca_data_t)\n",
    "df_pca"
   ]
  },
  {
   "cell_type": "code",
   "execution_count": 62,
   "id": "21b0f2b7",
   "metadata": {},
   "outputs": [
    {
     "data": {
      "text/html": [
       "<div>\n",
       "<style scoped>\n",
       "    .dataframe tbody tr th:only-of-type {\n",
       "        vertical-align: middle;\n",
       "    }\n",
       "\n",
       "    .dataframe tbody tr th {\n",
       "        vertical-align: top;\n",
       "    }\n",
       "\n",
       "    .dataframe thead th {\n",
       "        text-align: right;\n",
       "    }\n",
       "</style>\n",
       "<table border=\"1\" class=\"dataframe\">\n",
       "  <thead>\n",
       "    <tr style=\"text-align: right;\">\n",
       "      <th></th>\n",
       "      <th>PC0</th>\n",
       "      <th>PC1</th>\n",
       "      <th>PC2</th>\n",
       "      <th>PC3</th>\n",
       "      <th>PC4</th>\n",
       "      <th>PC5</th>\n",
       "      <th>PC6</th>\n",
       "      <th>PC7</th>\n",
       "      <th>PC8</th>\n",
       "      <th>PC9</th>\n",
       "    </tr>\n",
       "  </thead>\n",
       "  <tbody>\n",
       "    <tr>\n",
       "      <th>0</th>\n",
       "      <td>-1.266895</td>\n",
       "      <td>-2.176335</td>\n",
       "      <td>1.184370</td>\n",
       "      <td>1.841394</td>\n",
       "      <td>1.208062</td>\n",
       "      <td>-0.030973</td>\n",
       "      <td>-2.008750</td>\n",
       "      <td>-0.689461</td>\n",
       "      <td>-0.648679</td>\n",
       "      <td>-0.009263</td>\n",
       "    </tr>\n",
       "    <tr>\n",
       "      <th>1</th>\n",
       "      <td>-1.720064</td>\n",
       "      <td>-2.106554</td>\n",
       "      <td>1.239823</td>\n",
       "      <td>1.829305</td>\n",
       "      <td>1.193691</td>\n",
       "      <td>-0.030528</td>\n",
       "      <td>-2.126205</td>\n",
       "      <td>-0.696996</td>\n",
       "      <td>-0.585359</td>\n",
       "      <td>-0.120988</td>\n",
       "    </tr>\n",
       "    <tr>\n",
       "      <th>2</th>\n",
       "      <td>-0.025938</td>\n",
       "      <td>-2.301001</td>\n",
       "      <td>1.147088</td>\n",
       "      <td>1.822234</td>\n",
       "      <td>1.435149</td>\n",
       "      <td>0.231968</td>\n",
       "      <td>-1.676155</td>\n",
       "      <td>-0.417460</td>\n",
       "      <td>-0.657946</td>\n",
       "      <td>1.814951</td>\n",
       "    </tr>\n",
       "    <tr>\n",
       "      <th>3</th>\n",
       "      <td>1.069600</td>\n",
       "      <td>-2.383685</td>\n",
       "      <td>1.298159</td>\n",
       "      <td>2.003490</td>\n",
       "      <td>0.876080</td>\n",
       "      <td>-0.212162</td>\n",
       "      <td>-2.048500</td>\n",
       "      <td>-0.627055</td>\n",
       "      <td>-0.617616</td>\n",
       "      <td>1.660662</td>\n",
       "    </tr>\n",
       "    <tr>\n",
       "      <th>4</th>\n",
       "      <td>0.059183</td>\n",
       "      <td>1.157265</td>\n",
       "      <td>-1.381280</td>\n",
       "      <td>2.515974</td>\n",
       "      <td>-0.968068</td>\n",
       "      <td>0.049025</td>\n",
       "      <td>-0.216193</td>\n",
       "      <td>0.639687</td>\n",
       "      <td>1.710484</td>\n",
       "      <td>0.746608</td>\n",
       "    </tr>\n",
       "    <tr>\n",
       "      <th>...</th>\n",
       "      <td>...</td>\n",
       "      <td>...</td>\n",
       "      <td>...</td>\n",
       "      <td>...</td>\n",
       "      <td>...</td>\n",
       "      <td>...</td>\n",
       "      <td>...</td>\n",
       "      <td>...</td>\n",
       "      <td>...</td>\n",
       "      <td>...</td>\n",
       "    </tr>\n",
       "    <tr>\n",
       "      <th>783662</th>\n",
       "      <td>0.849143</td>\n",
       "      <td>0.627058</td>\n",
       "      <td>1.449527</td>\n",
       "      <td>0.410032</td>\n",
       "      <td>0.394898</td>\n",
       "      <td>2.655830</td>\n",
       "      <td>0.104245</td>\n",
       "      <td>-1.569266</td>\n",
       "      <td>-1.267609</td>\n",
       "      <td>0.025546</td>\n",
       "    </tr>\n",
       "    <tr>\n",
       "      <th>783663</th>\n",
       "      <td>0.178762</td>\n",
       "      <td>0.736393</td>\n",
       "      <td>1.572444</td>\n",
       "      <td>0.531968</td>\n",
       "      <td>-0.084148</td>\n",
       "      <td>2.227152</td>\n",
       "      <td>-0.314176</td>\n",
       "      <td>-1.865277</td>\n",
       "      <td>-1.222243</td>\n",
       "      <td>-0.253455</td>\n",
       "    </tr>\n",
       "    <tr>\n",
       "      <th>783664</th>\n",
       "      <td>-1.856797</td>\n",
       "      <td>1.029500</td>\n",
       "      <td>1.733543</td>\n",
       "      <td>0.543997</td>\n",
       "      <td>-0.290829</td>\n",
       "      <td>2.057604</td>\n",
       "      <td>-0.722527</td>\n",
       "      <td>-2.023450</td>\n",
       "      <td>-1.064164</td>\n",
       "      <td>0.095544</td>\n",
       "    </tr>\n",
       "    <tr>\n",
       "      <th>783665</th>\n",
       "      <td>1.940008</td>\n",
       "      <td>0.430553</td>\n",
       "      <td>1.230102</td>\n",
       "      <td>-0.177837</td>\n",
       "      <td>-1.820993</td>\n",
       "      <td>2.392135</td>\n",
       "      <td>0.289880</td>\n",
       "      <td>0.749185</td>\n",
       "      <td>0.794680</td>\n",
       "      <td>0.087984</td>\n",
       "    </tr>\n",
       "    <tr>\n",
       "      <th>783666</th>\n",
       "      <td>-0.119885</td>\n",
       "      <td>1.342770</td>\n",
       "      <td>0.437113</td>\n",
       "      <td>-1.176897</td>\n",
       "      <td>-0.874077</td>\n",
       "      <td>2.469024</td>\n",
       "      <td>-0.797823</td>\n",
       "      <td>-0.528734</td>\n",
       "      <td>-0.165760</td>\n",
       "      <td>-0.536946</td>\n",
       "    </tr>\n",
       "  </tbody>\n",
       "</table>\n",
       "<p>783667 rows × 10 columns</p>\n",
       "</div>"
      ],
      "text/plain": [
       "             PC0       PC1       PC2       PC3       PC4       PC5       PC6  \\\n",
       "0      -1.266895 -2.176335  1.184370  1.841394  1.208062 -0.030973 -2.008750   \n",
       "1      -1.720064 -2.106554  1.239823  1.829305  1.193691 -0.030528 -2.126205   \n",
       "2      -0.025938 -2.301001  1.147088  1.822234  1.435149  0.231968 -1.676155   \n",
       "3       1.069600 -2.383685  1.298159  2.003490  0.876080 -0.212162 -2.048500   \n",
       "4       0.059183  1.157265 -1.381280  2.515974 -0.968068  0.049025 -0.216193   \n",
       "...          ...       ...       ...       ...       ...       ...       ...   \n",
       "783662  0.849143  0.627058  1.449527  0.410032  0.394898  2.655830  0.104245   \n",
       "783663  0.178762  0.736393  1.572444  0.531968 -0.084148  2.227152 -0.314176   \n",
       "783664 -1.856797  1.029500  1.733543  0.543997 -0.290829  2.057604 -0.722527   \n",
       "783665  1.940008  0.430553  1.230102 -0.177837 -1.820993  2.392135  0.289880   \n",
       "783666 -0.119885  1.342770  0.437113 -1.176897 -0.874077  2.469024 -0.797823   \n",
       "\n",
       "             PC7       PC8       PC9  \n",
       "0      -0.689461 -0.648679 -0.009263  \n",
       "1      -0.696996 -0.585359 -0.120988  \n",
       "2      -0.417460 -0.657946  1.814951  \n",
       "3      -0.627055 -0.617616  1.660662  \n",
       "4       0.639687  1.710484  0.746608  \n",
       "...          ...       ...       ...  \n",
       "783662 -1.569266 -1.267609  0.025546  \n",
       "783663 -1.865277 -1.222243 -0.253455  \n",
       "783664 -2.023450 -1.064164  0.095544  \n",
       "783665  0.749185  0.794680  0.087984  \n",
       "783666 -0.528734 -0.165760 -0.536946  \n",
       "\n",
       "[783667 rows x 10 columns]"
      ]
     },
     "execution_count": 62,
     "metadata": {},
     "output_type": "execute_result"
    }
   ],
   "source": [
    "# PCA Components extraction\n",
    "df_pca_subset=pd.DataFrame(pca_data_t[:,0:10],columns=['PC'+str(i) for i in range(10)])\n",
    "df_pca_subset "
   ]
  },
  {
   "cell_type": "markdown",
   "id": "787c0e12",
   "metadata": {},
   "source": [
    "### FINAL Dataset"
   ]
  },
  {
   "cell_type": "code",
   "execution_count": 161,
   "id": "054bc622",
   "metadata": {},
   "outputs": [],
   "source": [
    "#treated nulls and feature engineered train test data\n",
    "df_test_final=df[df['Purchase'].isnull()]\n",
    "df_test_final=df_test_final.drop('Purchase',axis=1)\n"
   ]
  },
  {
   "cell_type": "code",
   "execution_count": 124,
   "id": "64ffe78e",
   "metadata": {},
   "outputs": [
    {
     "data": {
      "text/plain": [
       "(233599, 11)"
      ]
     },
     "execution_count": 124,
     "metadata": {},
     "output_type": "execute_result"
    }
   ],
   "source": [
    "df_test_final.shape"
   ]
  },
  {
   "cell_type": "code",
   "execution_count": 158,
   "id": "2d763b76",
   "metadata": {},
   "outputs": [
    {
     "data": {
      "text/plain": [
       "(550068, 12)"
      ]
     },
     "execution_count": 158,
     "metadata": {},
     "output_type": "execute_result"
    }
   ],
   "source": [
    "#treated nulls and feature engineered train data\n",
    "df_train_final=df[~df['Purchase'].isnull()]\n",
    "df_train_final.shape"
   ]
  },
  {
   "cell_type": "code",
   "execution_count": 160,
   "id": "3a766e62",
   "metadata": {},
   "outputs": [
    {
     "data": {
      "text/plain": [
       "User_ID                       0\n",
       "Product_ID                    0\n",
       "Gender                        0\n",
       "Age                           0\n",
       "Occupation                    0\n",
       "City_Category                 0\n",
       "Stay_In_Current_City_Years    0\n",
       "Marital_Status                0\n",
       "Product_Category_1            0\n",
       "Product_Category_2            0\n",
       "Product_Category_3            0\n",
       "Purchase                      0\n",
       "dtype: int64"
      ]
     },
     "execution_count": 160,
     "metadata": {},
     "output_type": "execute_result"
    }
   ],
   "source": [
    "df_train_final.isnull().sum()"
   ]
  },
  {
   "cell_type": "markdown",
   "id": "2050d4a5",
   "metadata": {},
   "source": [
    "#### PCA Dataset"
   ]
  },
  {
   "cell_type": "code",
   "execution_count": 66,
   "id": "c67d424f",
   "metadata": {},
   "outputs": [],
   "source": [
    "#PCA TRain\n",
    "df_train_pca=df_pca_subset.iloc[0:550068,:]"
   ]
  },
  {
   "cell_type": "code",
   "execution_count": 67,
   "id": "0eb36022",
   "metadata": {},
   "outputs": [],
   "source": [
    "#PCA Test\n",
    "df_test_pca=df_pca_subset.iloc[550068:,:]"
   ]
  },
  {
   "cell_type": "markdown",
   "id": "f858bf02",
   "metadata": {},
   "source": [
    "### Distribution of variables"
   ]
  },
  {
   "cell_type": "code",
   "execution_count": 235,
   "id": "038217bb",
   "metadata": {},
   "outputs": [
    {
     "ename": "ValueError",
     "evalue": "could not convert string to float: 'P00069042'",
     "output_type": "error",
     "traceback": [
      "\u001b[1;31m---------------------------------------------------------------------------\u001b[0m",
      "\u001b[1;31mValueError\u001b[0m                                Traceback (most recent call last)",
      "\u001b[1;32m~\\AppData\\Local\\Temp/ipykernel_17328/3110242192.py\u001b[0m in \u001b[0;36m<module>\u001b[1;34m\u001b[0m\n\u001b[0;32m      7\u001b[0m \u001b[1;32mfor\u001b[0m  \u001b[0mvariable\u001b[0m\u001b[1;33m,\u001b[0m \u001b[0msubplot\u001b[0m \u001b[1;32min\u001b[0m \u001b[0mzip\u001b[0m\u001b[1;33m(\u001b[0m\u001b[0mdf_train_plot\u001b[0m\u001b[1;33m,\u001b[0m \u001b[0max\u001b[0m\u001b[1;33m.\u001b[0m\u001b[0mflatten\u001b[0m\u001b[1;33m(\u001b[0m\u001b[1;33m)\u001b[0m\u001b[1;33m)\u001b[0m\u001b[1;33m:\u001b[0m\u001b[1;33m\u001b[0m\u001b[1;33m\u001b[0m\u001b[0m\n\u001b[0;32m      8\u001b[0m \u001b[1;33m\u001b[0m\u001b[0m\n\u001b[1;32m----> 9\u001b[1;33m     \u001b[0msns\u001b[0m\u001b[1;33m.\u001b[0m\u001b[0mdistplot\u001b[0m\u001b[1;33m(\u001b[0m\u001b[0mdf_train_plot\u001b[0m\u001b[1;33m[\u001b[0m\u001b[0mvariable\u001b[0m\u001b[1;33m]\u001b[0m\u001b[1;33m,\u001b[0m\u001b[0mkde\u001b[0m\u001b[1;33m=\u001b[0m\u001b[1;32mTrue\u001b[0m\u001b[1;33m,\u001b[0m\u001b[0max\u001b[0m \u001b[1;33m=\u001b[0m \u001b[0msubplot\u001b[0m\u001b[1;33m)\u001b[0m\u001b[1;33m\u001b[0m\u001b[1;33m\u001b[0m\u001b[0m\n\u001b[0m",
      "\u001b[1;32m~\\anaconda3\\lib\\site-packages\\seaborn\\distributions.py\u001b[0m in \u001b[0;36mdistplot\u001b[1;34m(a, bins, hist, kde, rug, fit, hist_kws, kde_kws, rug_kws, fit_kws, color, vertical, norm_hist, axlabel, label, ax, x)\u001b[0m\n\u001b[0;32m   2634\u001b[0m \u001b[1;33m\u001b[0m\u001b[0m\n\u001b[0;32m   2635\u001b[0m     \u001b[1;31m# Make a a 1-d float array\u001b[0m\u001b[1;33m\u001b[0m\u001b[1;33m\u001b[0m\u001b[0m\n\u001b[1;32m-> 2636\u001b[1;33m     \u001b[0ma\u001b[0m \u001b[1;33m=\u001b[0m \u001b[0mnp\u001b[0m\u001b[1;33m.\u001b[0m\u001b[0masarray\u001b[0m\u001b[1;33m(\u001b[0m\u001b[0ma\u001b[0m\u001b[1;33m,\u001b[0m \u001b[0mfloat\u001b[0m\u001b[1;33m)\u001b[0m\u001b[1;33m\u001b[0m\u001b[1;33m\u001b[0m\u001b[0m\n\u001b[0m\u001b[0;32m   2637\u001b[0m     \u001b[1;32mif\u001b[0m \u001b[0ma\u001b[0m\u001b[1;33m.\u001b[0m\u001b[0mndim\u001b[0m \u001b[1;33m>\u001b[0m \u001b[1;36m1\u001b[0m\u001b[1;33m:\u001b[0m\u001b[1;33m\u001b[0m\u001b[1;33m\u001b[0m\u001b[0m\n\u001b[0;32m   2638\u001b[0m         \u001b[0ma\u001b[0m \u001b[1;33m=\u001b[0m \u001b[0ma\u001b[0m\u001b[1;33m.\u001b[0m\u001b[0msqueeze\u001b[0m\u001b[1;33m(\u001b[0m\u001b[1;33m)\u001b[0m\u001b[1;33m\u001b[0m\u001b[1;33m\u001b[0m\u001b[0m\n",
      "\u001b[1;32m~\\anaconda3\\lib\\site-packages\\numpy\\core\\_asarray.py\u001b[0m in \u001b[0;36masarray\u001b[1;34m(a, dtype, order, like)\u001b[0m\n\u001b[0;32m    100\u001b[0m         \u001b[1;32mreturn\u001b[0m \u001b[0m_asarray_with_like\u001b[0m\u001b[1;33m(\u001b[0m\u001b[0ma\u001b[0m\u001b[1;33m,\u001b[0m \u001b[0mdtype\u001b[0m\u001b[1;33m=\u001b[0m\u001b[0mdtype\u001b[0m\u001b[1;33m,\u001b[0m \u001b[0morder\u001b[0m\u001b[1;33m=\u001b[0m\u001b[0morder\u001b[0m\u001b[1;33m,\u001b[0m \u001b[0mlike\u001b[0m\u001b[1;33m=\u001b[0m\u001b[0mlike\u001b[0m\u001b[1;33m)\u001b[0m\u001b[1;33m\u001b[0m\u001b[1;33m\u001b[0m\u001b[0m\n\u001b[0;32m    101\u001b[0m \u001b[1;33m\u001b[0m\u001b[0m\n\u001b[1;32m--> 102\u001b[1;33m     \u001b[1;32mreturn\u001b[0m \u001b[0marray\u001b[0m\u001b[1;33m(\u001b[0m\u001b[0ma\u001b[0m\u001b[1;33m,\u001b[0m \u001b[0mdtype\u001b[0m\u001b[1;33m,\u001b[0m \u001b[0mcopy\u001b[0m\u001b[1;33m=\u001b[0m\u001b[1;32mFalse\u001b[0m\u001b[1;33m,\u001b[0m \u001b[0morder\u001b[0m\u001b[1;33m=\u001b[0m\u001b[0morder\u001b[0m\u001b[1;33m)\u001b[0m\u001b[1;33m\u001b[0m\u001b[1;33m\u001b[0m\u001b[0m\n\u001b[0m\u001b[0;32m    103\u001b[0m \u001b[1;33m\u001b[0m\u001b[0m\n\u001b[0;32m    104\u001b[0m \u001b[1;33m\u001b[0m\u001b[0m\n",
      "\u001b[1;32m~\\anaconda3\\lib\\site-packages\\pandas\\core\\series.py\u001b[0m in \u001b[0;36m__array__\u001b[1;34m(self, dtype)\u001b[0m\n\u001b[0;32m    855\u001b[0m               dtype='datetime64[ns]')\n\u001b[0;32m    856\u001b[0m         \"\"\"\n\u001b[1;32m--> 857\u001b[1;33m         \u001b[1;32mreturn\u001b[0m \u001b[0mnp\u001b[0m\u001b[1;33m.\u001b[0m\u001b[0masarray\u001b[0m\u001b[1;33m(\u001b[0m\u001b[0mself\u001b[0m\u001b[1;33m.\u001b[0m\u001b[0m_values\u001b[0m\u001b[1;33m,\u001b[0m \u001b[0mdtype\u001b[0m\u001b[1;33m)\u001b[0m\u001b[1;33m\u001b[0m\u001b[1;33m\u001b[0m\u001b[0m\n\u001b[0m\u001b[0;32m    858\u001b[0m \u001b[1;33m\u001b[0m\u001b[0m\n\u001b[0;32m    859\u001b[0m     \u001b[1;31m# ----------------------------------------------------------------------\u001b[0m\u001b[1;33m\u001b[0m\u001b[1;33m\u001b[0m\u001b[0m\n",
      "\u001b[1;32m~\\anaconda3\\lib\\site-packages\\numpy\\core\\_asarray.py\u001b[0m in \u001b[0;36masarray\u001b[1;34m(a, dtype, order, like)\u001b[0m\n\u001b[0;32m    100\u001b[0m         \u001b[1;32mreturn\u001b[0m \u001b[0m_asarray_with_like\u001b[0m\u001b[1;33m(\u001b[0m\u001b[0ma\u001b[0m\u001b[1;33m,\u001b[0m \u001b[0mdtype\u001b[0m\u001b[1;33m=\u001b[0m\u001b[0mdtype\u001b[0m\u001b[1;33m,\u001b[0m \u001b[0morder\u001b[0m\u001b[1;33m=\u001b[0m\u001b[0morder\u001b[0m\u001b[1;33m,\u001b[0m \u001b[0mlike\u001b[0m\u001b[1;33m=\u001b[0m\u001b[0mlike\u001b[0m\u001b[1;33m)\u001b[0m\u001b[1;33m\u001b[0m\u001b[1;33m\u001b[0m\u001b[0m\n\u001b[0;32m    101\u001b[0m \u001b[1;33m\u001b[0m\u001b[0m\n\u001b[1;32m--> 102\u001b[1;33m     \u001b[1;32mreturn\u001b[0m \u001b[0marray\u001b[0m\u001b[1;33m(\u001b[0m\u001b[0ma\u001b[0m\u001b[1;33m,\u001b[0m \u001b[0mdtype\u001b[0m\u001b[1;33m,\u001b[0m \u001b[0mcopy\u001b[0m\u001b[1;33m=\u001b[0m\u001b[1;32mFalse\u001b[0m\u001b[1;33m,\u001b[0m \u001b[0morder\u001b[0m\u001b[1;33m=\u001b[0m\u001b[0morder\u001b[0m\u001b[1;33m)\u001b[0m\u001b[1;33m\u001b[0m\u001b[1;33m\u001b[0m\u001b[0m\n\u001b[0m\u001b[0;32m    103\u001b[0m \u001b[1;33m\u001b[0m\u001b[0m\n\u001b[0;32m    104\u001b[0m \u001b[1;33m\u001b[0m\u001b[0m\n",
      "\u001b[1;31mValueError\u001b[0m: could not convert string to float: 'P00069042'"
     ]
    },
    {
     "data": {
      "image/png": "[encoded data removed]",
      "text/plain": [
       "<Figure size 2160x1656 with 12 Axes>"
      ]
     },
     "metadata": {
      "needs_background": "light"
     },
     "output_type": "display_data"
    }
   ],
   "source": [
    "#ploting the distplot\n",
    "df_train_plot=df_train\n",
    "\n",
    "fig,ax=plt.subplots(nrows=4,ncols=3,figsize=(30,23))\n",
    "\n",
    "\n",
    "for  variable, subplot in zip(df_train_plot, ax.flatten()):\n",
    "    \n",
    "    sns.distplot(df_train_plot[variable],kde=True,ax = subplot)\n"
   ]
  },
  {
   "cell_type": "markdown",
   "id": "e0194c8b",
   "metadata": {},
   "source": [
    "so we see that our target variable Purchase is not normalized"
   ]
  },
  {
   "cell_type": "markdown",
   "id": "5e1dc2c9",
   "metadata": {},
   "source": [
    "### Train Data"
   ]
  },
  {
   "cell_type": "code",
   "execution_count": 162,
   "id": "de3ec67c",
   "metadata": {},
   "outputs": [
    {
     "data": {
      "text/plain": [
       "(550068, 9)"
      ]
     },
     "execution_count": 162,
     "metadata": {},
     "output_type": "execute_result"
    }
   ],
   "source": [
    "\n",
    "# we drop the Name ,'Product_ID''User_ID' columns as they have so many unique category values\n",
    "\n",
    "x_train=df_train_final.drop(['User_ID','Product_ID','Purchase'],axis=1)\n",
    "y_train=df_train_final['Purchase']\n",
    "\n",
    "# log transformed data\n",
    "y_train_log=np.log(y_train)\n",
    "x_train.shape"
   ]
  },
  {
   "cell_type": "code",
   "execution_count": 69,
   "id": "b4154971",
   "metadata": {},
   "outputs": [],
   "source": [
    "# PCA TRain\n",
    "x_train_pca=df_train_pca"
   ]
  },
  {
   "cell_type": "code",
   "execution_count": 189,
   "id": "cd85cc18",
   "metadata": {},
   "outputs": [
    {
     "data": {
      "text/plain": [
       "Index(['User_ID', 'Product_ID', 'Gender', 'Age', 'Occupation', 'City_Category',\n",
       "       'Stay_In_Current_City_Years', 'Marital_Status', 'Product_Category_1',\n",
       "       'Product_Category_2', 'Product_Category_3', 'Purchase'],\n",
       "      dtype='object')"
      ]
     },
     "execution_count": 189,
     "metadata": {},
     "output_type": "execute_result"
    }
   ],
   "source": [
    "df.columns"
   ]
  },
  {
   "cell_type": "markdown",
   "id": "173718c6",
   "metadata": {},
   "source": [
    "### Test Data"
   ]
  },
  {
   "cell_type": "code",
   "execution_count": 60,
   "id": "dca56b91",
   "metadata": {},
   "outputs": [],
   "source": [
    "# we drop the Name ,'Product_ID'and'User_ID' columns as they have so many unique category values\n",
    "#x_test=df_test_final.drop(['Product_ID'],axis=1)"
   ]
  },
  {
   "cell_type": "code",
   "execution_count": 163,
   "id": "c45be12c",
   "metadata": {},
   "outputs": [
    {
     "data": {
      "text/plain": [
       "(233599, 9)"
      ]
     },
     "execution_count": 163,
     "metadata": {},
     "output_type": "execute_result"
    }
   ],
   "source": [
    "# Test data  without Dropping User_ID,Product_ID\n",
    "x_test=df_test_final.drop(['User_ID','Product_ID'],axis=1)\n",
    "x_test.shape"
   ]
  },
  {
   "cell_type": "code",
   "execution_count": null,
   "id": "914ff7fa",
   "metadata": {},
   "outputs": [],
   "source": [
    "# PCA Test\n",
    "x_test_pca=df_test_pca"
   ]
  },
  {
   "cell_type": "markdown",
   "id": "2fae25ed",
   "metadata": {},
   "source": [
    "### Standardizing the Data"
   ]
  },
  {
   "cell_type": "code",
   "execution_count": 165,
   "id": "7e777d02",
   "metadata": {},
   "outputs": [],
   "source": [
    "from sklearn.preprocessing import StandardScaler\n",
    "sc=StandardScaler()\n",
    "\n",
    "# scaling the data\n",
    "x_train_sc =sc.fit_transform(x_train)\n",
    "x_test_sc=sc.transform(x_test)\n"
   ]
  },
  {
   "cell_type": "markdown",
   "id": "4d1b4ee5",
   "metadata": {},
   "source": [
    "# MODEL"
   ]
  },
  {
   "cell_type": "code",
   "execution_count": 166,
   "id": "46b2c804",
   "metadata": {},
   "outputs": [],
   "source": [
    "from sklearn.ensemble import GradientBoostingRegressor\n",
    "from sklearn.linear_model import LinearRegression\n",
    "from sklearn.ensemble import RandomForestRegressor\n",
    "from sklearn.tree import DecisionTreeRegressor\n",
    "from catboost import CatBoostRegressor\n",
    "from sklearn.svm import SVR\n",
    "from sklearn import metrics\n",
    "from sklearn.metrics import r2_score,mean_squared_error\n",
    "import numpy as np\n",
    "from sklearn.model_selection import train_test_split as split"
   ]
  },
  {
   "cell_type": "markdown",
   "id": "a1f34145",
   "metadata": {},
   "source": [
    "### Linear Regression"
   ]
  },
  {
   "cell_type": "code",
   "execution_count": 167,
   "id": "1a22f4fc",
   "metadata": {},
   "outputs": [
    {
     "name": "stdout",
     "output_type": "stream",
     "text": [
      "RMse of trained data is: 0.6647999176307345\n",
      "R2_score of trained data is: 0.19356402562761643\n"
     ]
    }
   ],
   "source": [
    "lr =LinearRegression()\n",
    "\n",
    "# fitting the data in the model\n",
    "\n",
    "lr.fit(x_train,y_train_log)\n",
    "\n",
    "# Predicting the model\n",
    "\n",
    "train_pred=lr.predict(x_train)\n",
    "test_pred=lr.predict(x_test_sc)\n",
    "\n",
    "\n",
    "# results\n",
    "print('RMse of trained data is:',np.sqrt(mean_squared_error(y_train_log,train_pred)))\n",
    "print('R2_score of trained data is:',r2_score(y_train_log,train_pred))"
   ]
  },
  {
   "cell_type": "markdown",
   "id": "f87a1e1c",
   "metadata": {},
   "source": [
    "### Decision Tree"
   ]
  },
  {
   "cell_type": "code",
   "execution_count": 168,
   "id": "9f3593f5",
   "metadata": {},
   "outputs": [],
   "source": [
    "from sklearn.tree import DecisionTreeRegressor"
   ]
  },
  {
   "cell_type": "code",
   "execution_count": 169,
   "id": "dace7fa4",
   "metadata": {},
   "outputs": [
    {
     "name": "stdout",
     "output_type": "stream",
     "text": [
      "(550068, 9) (550068,)\n"
     ]
    }
   ],
   "source": [
    "print(x_train_sc.shape,y_train.shape)\n"
   ]
  },
  {
   "cell_type": "code",
   "execution_count": 78,
   "id": "4301edbf",
   "metadata": {},
   "outputs": [
    {
     "name": "stdout",
     "output_type": "stream",
     "text": [
      "(550068, 10) (550068,)\n"
     ]
    }
   ],
   "source": [
    "print(x_train_pca.shape,y_train_log.shape)"
   ]
  },
  {
   "cell_type": "code",
   "execution_count": 170,
   "id": "d3f0d835",
   "metadata": {},
   "outputs": [
    {
     "name": "stdout",
     "output_type": "stream",
     "text": [
      "RMse of trained data is: 0.3351597831698322\n",
      "R2_score of trained data is: 0.7937056140087106\n",
      "RMse of test data is: 0.39571849055217906\n",
      "R2_score of test data is: 0.7184703884470567\n"
     ]
    },
    {
     "data": {
      "text/plain": [
       "<matplotlib.collections.PathCollection at 0x1db57de20d0>"
      ]
     },
     "execution_count": 170,
     "metadata": {},
     "output_type": "execute_result"
    },
    {
     "data": {
      "image/png": "[encoded data removed]",
      "text/plain": [
       "<Figure size 432x288 with 1 Axes>"
      ]
     },
     "metadata": {
      "needs_background": "light"
     },
     "output_type": "display_data"
    }
   ],
   "source": [
    "#### Checking the Train Test Accuracy Within Trained Dataset by splitting\n",
    "\n",
    "#### splitting the Data of DF_Train Datast\n",
    "X_train,X_test,Y_train,Y_test=split(x_train,y_train_log,test_size=0.30,random_state=100)\n",
    "\n",
    "DCTr=DecisionTreeRegressor()\n",
    "\n",
    "DCTr.fit(X_train,Y_train)\n",
    "\n",
    "#### Predicting the model\n",
    "\n",
    "train_pred=DCTr.predict(X_train)\n",
    "\n",
    "DecisionTreetest_pred2=DCTr.predict(X_test)\n",
    "\n",
    "\n",
    "#### Regression results\n",
    "print('RMse of trained data is:',np.sqrt(mean_squared_error(Y_train,train_pred)))\n",
    "print('R2_score of trained data is:',r2_score(Y_train,train_pred))\n",
    "\n",
    "print('RMse of test data is:',np.sqrt(mean_squared_error(Y_test,DecisionTreetest_pred2)))\n",
    "print('R2_score of test data is:',r2_score(Y_test,DecisionTreetest_pred2))\n",
    "\n",
    "plt.scatter(Y_test,DecisionTreetest_pred2)"
   ]
  },
  {
   "cell_type": "markdown",
   "id": "5341fe6c",
   "metadata": {},
   "source": [
    "without(dropping) User_ID ,without(dropping) Product ID  ,without(dropping) Product category3\n",
    "\n",
    "RMse of trained data is: 0.3491065048380428\n",
    "R2_score of trained data is: 0.776179691556968\n",
    "RMse of test data is: 0.38858655380011087\n",
    "R2_score of test data is: 0.7285268196010717\n",
    "\n",
    "without(dropping) User_ID ,without(dropping) Product ID  ,with Product category3\n",
    "\n",
    "RMse of trained data is: 0.33515978316983214\n",
    "R2_score of trained data is: 0.7937056140087106\n",
    "RMse of test data is: 0.39591905981751396\n",
    "R2_score of test data is: 0.7181849304833543\n",
    "\n",
    "#with User_ID ,without(dropping) Product ID  ,without(dropping) Product category3\n",
    "\n",
    "RMse of trained data is: 0.2828691812785219\n",
    "R2_score of trained data is: 0.8530549791679717\n",
    "RMse of test data is: 0.40743618115853414\n",
    "R2_score of test data is: 0.7015506903297437\n",
    "\n",
    "\n",
    "#with User_ID , without(dropping) Product ID ,with Product category3\n",
    "\n",
    "RMse of trained data is: 0.2575818457853761\n",
    "R2_score of trained data is: 0.8781532051222345\n",
    "RMse of test data is: 0.42402784083354567\n",
    "R2_score of test data is: 0.6767488055164276\n",
    "\n",
    "#without(dropping) User_ID ,with Product_ID ,with Product Category3\n",
    "\n",
    "RMse of trained data is: 0.1772566902582947\n",
    "R2_score of trained data is: 0.9422982639730458\n",
    "RMse of test data is: 0.4651957603023602\n",
    "R2_score of test data is: 0.6109343498526761\n",
    "\n",
    "\n",
    "#with Product_ID ,with Product Category3\n",
    "\n",
    "RMse of trained data is: 0.0\n",
    "R2_score of trained data is: 1.0\n",
    "RMse of test data is: 0.48995280328139895\n",
    "R2_score of test data is: 0.5684214146333371\n",
    "\n",
    "#dropping Product Category 3\n",
    "\n",
    "RMse of trained data is: 0.0\n",
    "R2_score of trained data is: 1.0\n",
    "RMse of test data is: 0.4908691354676953\n",
    "R2_score of test data is: 0.5668055889518169\n",
    "\n",
    "#with PCA ,without Product Category 3\n",
    "\n",
    "RMse of trained data is: 3.0363344121991818e-18\n",
    "R2_score of trained data is: 1.0\n",
    "RMse of test data is: 0.5730439403393832\n",
    "R2_score of test data is: 0.4096259736501362\n",
    "\n",
    "#with Pca ,with Product Category 3\n",
    "\n",
    "RMse of trained data is: 1.753028490232922e-18\n",
    "R2_score of trained data is: 1.0\n",
    "RMse of test data is: 0.5941048638665927\n",
    "R2_score of test data is: 0.3654328159398953"
   ]
  },
  {
   "cell_type": "code",
   "execution_count": 234,
   "id": "b4645187",
   "metadata": {},
   "outputs": [
    {
     "data": {
      "text/plain": [
       "{'whiskers': [<matplotlib.lines.Line2D at 0x1db164e0520>,\n",
       "  <matplotlib.lines.Line2D at 0x1db164e08b0>],\n",
       " 'caps': [<matplotlib.lines.Line2D at 0x1db164e0c40>,\n",
       "  <matplotlib.lines.Line2D at 0x1db164e0fd0>],\n",
       " 'boxes': [<matplotlib.lines.Line2D at 0x1db164e0190>],\n",
       " 'medians': [<matplotlib.lines.Line2D at 0x1db164eb3a0>],\n",
       " 'fliers': [<matplotlib.lines.Line2D at 0x1db164eb730>],\n",
       " 'means': []}"
      ]
     },
     "execution_count": 234,
     "metadata": {},
     "output_type": "execute_result"
    },
    {
     "data": {
      "image/png": "[encoded data removed]",
      "text/plain": [
       "<Figure size 432x288 with 1 Axes>"
      ]
     },
     "metadata": {
      "needs_background": "light"
     },
     "output_type": "display_data"
    }
   ],
   "source": [
    "plt.boxplot(df_train['Purchase'])"
   ]
  },
  {
   "cell_type": "code",
   "execution_count": 135,
   "id": "c2711a79",
   "metadata": {},
   "outputs": [
    {
     "name": "stdout",
     "output_type": "stream",
     "text": [
      "RMse of trained data is: 0.3536656250199961\n",
      "R2_score of trained data is: 0.7717695013102207\n"
     ]
    },
    {
     "data": {
      "text/plain": [
       "<matplotlib.collections.PathCollection at 0x1db57e259d0>"
      ]
     },
     "execution_count": 135,
     "metadata": {},
     "output_type": "execute_result"
    },
    {
     "data": {
      "image/png": "[encoded data removed]",
      "text/plain": [
       "<Figure size 432x288 with 1 Axes>"
      ]
     },
     "metadata": {
      "needs_background": "light"
     },
     "output_type": "display_data"
    }
   ],
   "source": [
    "#Model Building For Final TRain Test data given in problem\n",
    "DCTr=DecisionTreeRegressor()\n",
    "\n",
    "DCTr.fit(x_train_sc,y_train_log)\n",
    "\n",
    "# Predicting the model\n",
    "\n",
    "train_pred=DCTr.predict(x_train_sc)\n",
    "DecisionTreetest_pred=DCTr.predict(x_test_sc)\n",
    "\n",
    "\n",
    "# Regression results\n",
    "print('RMse of trained data is:',np.sqrt(mean_squared_error(y_train_log,train_pred)))\n",
    "print('R2_score of trained data is:',r2_score(y_train_log,train_pred))\n",
    "\n",
    "plt.scatter(y_train_log,train_pred)\n"
   ]
  },
  {
   "cell_type": "markdown",
   "id": "40c5fac4",
   "metadata": {},
   "source": [
    "without(dropping) User_ID ,without(dropping) Product ID  ,without(dropping) Product category3\n",
    "\n",
    "RMse of trained data is: 0.3491065048380428\n",
    "R2_score of trained data is: 0.776179691556968\n",
    "RMse of test data is: 0.38858655380011087\n",
    "R2_score of test data is: 0.7285268196010717\n",
    "\n",
    "without(dropping) User_ID ,without(dropping) Product ID  ,with Product category3\n",
    "\n",
    "RMse of trained data is: 0.33515978316983214\n",
    "R2_score of trained data is: 0.7937056140087106\n",
    "RMse of test data is: 0.39591905981751396\n",
    "R2_score of test data is: 0.7181849304833543\n",
    "\n",
    "#with User_ID ,without(dropping) Product ID  ,without(dropping) Product category3\n",
    "\n",
    "RMse of trained data is: 0.2828691812785219\n",
    "R2_score of trained data is: 0.8530549791679717\n",
    "RMse of test data is: 0.40743618115853414\n",
    "R2_score of test data is: 0.7015506903297437\n",
    "\n",
    "\n",
    "#with User_ID , without(dropping) Product ID ,with Product category3\n",
    "\n",
    "RMse of trained data is: 0.2575818457853761\n",
    "R2_score of trained data is: 0.8781532051222345\n",
    "RMse of test data is: 0.42402784083354567\n",
    "R2_score of test data is: 0.6767488055164276\n",
    "\n",
    "#without(dropping) User_ID ,with Product_ID ,with Product Category3\n",
    "\n",
    "RMse of trained data is: 0.1772566902582947\n",
    "R2_score of trained data is: 0.9422982639730458\n",
    "RMse of test data is: 0.4651957603023602\n",
    "R2_score of test data is: 0.6109343498526761\n",
    "\n",
    "\n",
    "#with Product_ID ,with Product Category3\n",
    "\n",
    "RMse of trained data is: 0.0\n",
    "R2_score of trained data is: 1.0\n",
    "RMse of test data is: 0.48995280328139895\n",
    "R2_score of test data is: 0.5684214146333371\n",
    "\n",
    "#dropping Product Category 3\n",
    "\n",
    "RMse of trained data is: 0.0\n",
    "R2_score of trained data is: 1.0\n",
    "RMse of test data is: 0.4908691354676953\n",
    "R2_score of test data is: 0.5668055889518169\n",
    "\n",
    "#with PCA ,without Product Category 3\n",
    "\n",
    "RMse of trained data is: 3.0363344121991818e-18\n",
    "R2_score of trained data is: 1.0\n",
    "RMse of test data is: 0.5730439403393832\n",
    "R2_score of test data is: 0.4096259736501362\n",
    "\n",
    "#with Pca ,with Product Category 3\n",
    "\n",
    "RMse of trained data is: 1.753028490232922e-18\n",
    "R2_score of trained data is: 1.0\n",
    "RMse of test data is: 0.5941048638665927\n",
    "R2_score of test data is: 0.3654328159398953"
   ]
  },
  {
   "cell_type": "code",
   "execution_count": null,
   "id": "6a6c3cd8",
   "metadata": {},
   "outputs": [],
   "source": []
  },
  {
   "cell_type": "markdown",
   "id": "bfa68c22",
   "metadata": {},
   "source": [
    "### Random Forest"
   ]
  },
  {
   "cell_type": "code",
   "execution_count": 61,
   "id": "61652e87",
   "metadata": {},
   "outputs": [],
   "source": [
    "from sklearn.ensemble import RandomForestRegressor"
   ]
  },
  {
   "cell_type": "code",
   "execution_count": 58,
   "id": "8a873c59",
   "metadata": {},
   "outputs": [
    {
     "name": "stdout",
     "output_type": "stream",
     "text": [
      "RMse of trained data is: 0.2784003773984237\n",
      "R2_score of trained data is: 0.858574534003412\n"
     ]
    }
   ],
   "source": [
    "rfr=RandomForestRegressor(n_estimators=100,random_state=42,oob_score=True)\n",
    "\n",
    "rfr.fit(x_train,y_train_log)\n",
    "\n",
    "# Predicting the model\n",
    "\n",
    "train_pred=rfr.predict(x_train)\n",
    "test_pred=rfr.predict(x_test)\n",
    "\n",
    "\n",
    "# Regression results\n",
    "print('RMse of trained data is:',np.sqrt(mean_squared_error(y_train_log,train_pred)))\n",
    "print('R2_score of trained data is:',r2_score(y_train_log,train_pred))\n"
   ]
  },
  {
   "cell_type": "markdown",
   "id": "87f4eb0d",
   "metadata": {},
   "source": [
    "### Gradient Boosting Regressor Model"
   ]
  },
  {
   "cell_type": "code",
   "execution_count": 59,
   "id": "ae0c78b8",
   "metadata": {},
   "outputs": [],
   "source": [
    "from sklearn.ensemble import GradientBoostingRegressor\n",
    "from sklearn.linear_model import LinearRegression\n",
    "from sklearn.ensemble import RandomForestRegressor\n",
    "from sklearn.tree import DecisionTreeRegressor\n",
    "from catboost import CatBoostRegressor\n",
    "from sklearn.svm import SVR\n",
    "from sklearn.model_selection import GridSearchCV"
   ]
  },
  {
   "cell_type": "code",
   "execution_count": 60,
   "id": "9ac180e2",
   "metadata": {},
   "outputs": [
    {
     "ename": "SyntaxError",
     "evalue": "unexpected EOF while parsing (Temp/ipykernel_108/38661588.py, line 13)",
     "output_type": "error",
     "traceback": [
      "\u001b[1;36m  File \u001b[1;32m\"C:\\Users\\Admin\\AppData\\Local\\Temp/ipykernel_108/38661588.py\"\u001b[1;36m, line \u001b[1;32m13\u001b[0m\n\u001b[1;33m    print('R2_score of trained data is:',r2_score(y_train_log,trai\u001b[0m\n\u001b[1;37m                                                                  ^\u001b[0m\n\u001b[1;31mSyntaxError\u001b[0m\u001b[1;31m:\u001b[0m unexpected EOF while parsing\n"
     ]
    }
   ],
   "source": [
    "gbr=GradientBoostingRegressor(random_state=42)\n",
    "\n",
    "gbr.fit(x_train_sc,y_train_log)\n",
    "\n",
    "# Predicting the model\n",
    "\n",
    "train_pred=gfr.predict(x_train_sc)\n",
    "test_pred=gfr.predict(x_test_sc)\n",
    "\n",
    "\n",
    "# Regression results\n",
    "print('RMse of trained data is:',np.sqrt(mean_squared_error(y_train_log,train_pred)))\n",
    "print('R2_score of trained data is:',r2_score(y_train_log,train_pred))"
   ]
  },
  {
   "cell_type": "markdown",
   "id": "887f3cab",
   "metadata": {},
   "source": [
    "### SVM REgressor"
   ]
  },
  {
   "cell_type": "code",
   "execution_count": null,
   "id": "e90c2245",
   "metadata": {},
   "outputs": [],
   "source": [
    "#Parameter grid for Support Vector Regressor\n",
    "param_grid_svr = [\n",
    "    {'C': [ 0.1, 1, 10], 'gamma': [ 0.1, 1],\n",
    "     'kernel': ['rbf']}]"
   ]
  },
  {
   "cell_type": "code",
   "execution_count": null,
   "id": "87809e83",
   "metadata": {},
   "outputs": [],
   "source": [
    "\n",
    "\n",
    "gd_search_svr = GridSearchCV(SVR(), param_grid_svr, cv=5, scoring='neg_mean_squared_error')\n",
    "gd_search_svr.fit(x_train_sc, y_train_log)\n",
    "\n",
    "# Predicting the model\n",
    "\n",
    "train_pred=gd_best_gbr.predict(x_train_sc)\n",
    "test_pred=gd_best_gbr.predict(x_test_sc)\n",
    "\n",
    "# Regression results\n",
    "print('RMse of trained data is:',np.sqrt(mean_squared_error(y_train_log,train_pred)))\n",
    "print('R2_score of trained data is:',r2_score(y_train_log,train_pred))\n"
   ]
  },
  {
   "cell_type": "markdown",
   "id": "7bc4820e",
   "metadata": {},
   "source": [
    "## BEST Model"
   ]
  },
  {
   "cell_type": "markdown",
   "id": "ad636ab2",
   "metadata": {},
   "source": [
    "DEcision tree with RMSE  and model accuracy"
   ]
  },
  {
   "cell_type": "code",
   "execution_count": 171,
   "id": "4046702f",
   "metadata": {},
   "outputs": [
    {
     "data": {
      "text/html": [
       "<div>\n",
       "<style scoped>\n",
       "    .dataframe tbody tr th:only-of-type {\n",
       "        vertical-align: middle;\n",
       "    }\n",
       "\n",
       "    .dataframe tbody tr th {\n",
       "        vertical-align: top;\n",
       "    }\n",
       "\n",
       "    .dataframe thead th {\n",
       "        text-align: right;\n",
       "    }\n",
       "</style>\n",
       "<table border=\"1\" class=\"dataframe\">\n",
       "  <thead>\n",
       "    <tr style=\"text-align: right;\">\n",
       "      <th></th>\n",
       "      <th>Purchase</th>\n",
       "      <th>User_ID</th>\n",
       "      <th>Product_ID</th>\n",
       "    </tr>\n",
       "  </thead>\n",
       "  <tbody>\n",
       "    <tr>\n",
       "      <th>0</th>\n",
       "      <td>100</td>\n",
       "      <td>1000004</td>\n",
       "      <td>P00128942</td>\n",
       "    </tr>\n",
       "    <tr>\n",
       "      <th>1</th>\n",
       "      <td>100</td>\n",
       "      <td>1000009</td>\n",
       "      <td>P00113442</td>\n",
       "    </tr>\n",
       "    <tr>\n",
       "      <th>2</th>\n",
       "      <td>100</td>\n",
       "      <td>1000010</td>\n",
       "      <td>P00288442</td>\n",
       "    </tr>\n",
       "    <tr>\n",
       "      <th>3</th>\n",
       "      <td>100</td>\n",
       "      <td>1000010</td>\n",
       "      <td>P00145342</td>\n",
       "    </tr>\n",
       "    <tr>\n",
       "      <th>4</th>\n",
       "      <td>100</td>\n",
       "      <td>1000011</td>\n",
       "      <td>P00053842</td>\n",
       "    </tr>\n",
       "    <tr>\n",
       "      <th>...</th>\n",
       "      <td>...</td>\n",
       "      <td>...</td>\n",
       "      <td>...</td>\n",
       "    </tr>\n",
       "    <tr>\n",
       "      <th>233594</th>\n",
       "      <td>100</td>\n",
       "      <td>1006036</td>\n",
       "      <td>P00118942</td>\n",
       "    </tr>\n",
       "    <tr>\n",
       "      <th>233595</th>\n",
       "      <td>100</td>\n",
       "      <td>1006036</td>\n",
       "      <td>P00254642</td>\n",
       "    </tr>\n",
       "    <tr>\n",
       "      <th>233596</th>\n",
       "      <td>100</td>\n",
       "      <td>1006036</td>\n",
       "      <td>P00031842</td>\n",
       "    </tr>\n",
       "    <tr>\n",
       "      <th>233597</th>\n",
       "      <td>100</td>\n",
       "      <td>1006037</td>\n",
       "      <td>P00124742</td>\n",
       "    </tr>\n",
       "    <tr>\n",
       "      <th>233598</th>\n",
       "      <td>100</td>\n",
       "      <td>1006039</td>\n",
       "      <td>P00316642</td>\n",
       "    </tr>\n",
       "  </tbody>\n",
       "</table>\n",
       "<p>233599 rows × 3 columns</p>\n",
       "</div>"
      ],
      "text/plain": [
       "        Purchase  User_ID Product_ID\n",
       "0            100  1000004  P00128942\n",
       "1            100  1000009  P00113442\n",
       "2            100  1000010  P00288442\n",
       "3            100  1000010  P00145342\n",
       "4            100  1000011  P00053842\n",
       "...          ...      ...        ...\n",
       "233594       100  1006036  P00118942\n",
       "233595       100  1006036  P00254642\n",
       "233596       100  1006036  P00031842\n",
       "233597       100  1006037  P00124742\n",
       "233598       100  1006039  P00316642\n",
       "\n",
       "[233599 rows x 3 columns]"
      ]
     },
     "execution_count": 171,
     "metadata": {},
     "output_type": "execute_result"
    }
   ],
   "source": [
    "df_sample"
   ]
  },
  {
   "cell_type": "markdown",
   "id": "16dec539",
   "metadata": {},
   "source": [
    "### Creating Submission files"
   ]
  },
  {
   "cell_type": "code",
   "execution_count": 172,
   "id": "aae6b3c3",
   "metadata": {},
   "outputs": [
    {
     "data": {
      "text/plain": [
       "550068     9.466582\n",
       "550069     9.331837\n",
       "550070     8.826472\n",
       "550071     7.653020\n",
       "550072     7.647971\n",
       "            ...    \n",
       "783662     8.783528\n",
       "783663     8.567375\n",
       "783664     9.298038\n",
       "783665    10.073821\n",
       "783666     7.861421\n",
       "Name: Purchase, Length: 233599, dtype: float64"
      ]
     },
     "execution_count": 172,
     "metadata": {},
     "output_type": "execute_result"
    }
   ],
   "source": [
    "df_test_final['Purchase']=DecisionTreetest_pred\n",
    "df_test_final['Purchase']"
   ]
  },
  {
   "cell_type": "code",
   "execution_count": 154,
   "id": "96d7832f",
   "metadata": {},
   "outputs": [
    {
     "data": {
      "text/plain": [
       "Index(['User_ID', 'Product_ID', 'Gender', 'Age', 'Occupation', 'City_Category',\n",
       "       'Stay_In_Current_City_Years', 'Marital_Status', 'Product_Category_1',\n",
       "       'Product_Category_2', 'Product_Category_3', 'Purchase'],\n",
       "      dtype='object')"
      ]
     },
     "execution_count": 154,
     "metadata": {},
     "output_type": "execute_result"
    }
   ],
   "source": [
    "df_test_final.columns"
   ]
  },
  {
   "cell_type": "code",
   "execution_count": 173,
   "id": "220d2c7f",
   "metadata": {},
   "outputs": [],
   "source": [
    "submission_files=pd.DataFrame()\n",
    "submission_files[\"Purchase\"]=df_test_final.loc[:,\"Purchase\"]\n",
    "submission_files['User_ID']=df_test_final.loc[:,\"User_ID\"]\n",
    "submission_files['Product_ID']=df_test_final.loc[:,\"Product_ID\"]"
   ]
  },
  {
   "cell_type": "code",
   "execution_count": 174,
   "id": "b093c6bd",
   "metadata": {},
   "outputs": [
    {
     "data": {
      "text/html": [
       "<div>\n",
       "<style scoped>\n",
       "    .dataframe tbody tr th:only-of-type {\n",
       "        vertical-align: middle;\n",
       "    }\n",
       "\n",
       "    .dataframe tbody tr th {\n",
       "        vertical-align: top;\n",
       "    }\n",
       "\n",
       "    .dataframe thead th {\n",
       "        text-align: right;\n",
       "    }\n",
       "</style>\n",
       "<table border=\"1\" class=\"dataframe\">\n",
       "  <thead>\n",
       "    <tr style=\"text-align: right;\">\n",
       "      <th></th>\n",
       "      <th>Purchase</th>\n",
       "      <th>User_ID</th>\n",
       "      <th>Product_ID</th>\n",
       "    </tr>\n",
       "  </thead>\n",
       "  <tbody>\n",
       "    <tr>\n",
       "      <th>0</th>\n",
       "      <td>9.466582</td>\n",
       "      <td>1000004</td>\n",
       "      <td>P00128942</td>\n",
       "    </tr>\n",
       "    <tr>\n",
       "      <th>1</th>\n",
       "      <td>9.331837</td>\n",
       "      <td>1000009</td>\n",
       "      <td>P00113442</td>\n",
       "    </tr>\n",
       "    <tr>\n",
       "      <th>2</th>\n",
       "      <td>8.826472</td>\n",
       "      <td>1000010</td>\n",
       "      <td>P00288442</td>\n",
       "    </tr>\n",
       "    <tr>\n",
       "      <th>3</th>\n",
       "      <td>7.653020</td>\n",
       "      <td>1000010</td>\n",
       "      <td>P00145342</td>\n",
       "    </tr>\n",
       "    <tr>\n",
       "      <th>4</th>\n",
       "      <td>7.647971</td>\n",
       "      <td>1000011</td>\n",
       "      <td>P00053842</td>\n",
       "    </tr>\n",
       "    <tr>\n",
       "      <th>...</th>\n",
       "      <td>...</td>\n",
       "      <td>...</td>\n",
       "      <td>...</td>\n",
       "    </tr>\n",
       "    <tr>\n",
       "      <th>233594</th>\n",
       "      <td>8.783528</td>\n",
       "      <td>1006036</td>\n",
       "      <td>P00118942</td>\n",
       "    </tr>\n",
       "    <tr>\n",
       "      <th>233595</th>\n",
       "      <td>8.567375</td>\n",
       "      <td>1006036</td>\n",
       "      <td>P00254642</td>\n",
       "    </tr>\n",
       "    <tr>\n",
       "      <th>233596</th>\n",
       "      <td>9.298038</td>\n",
       "      <td>1006036</td>\n",
       "      <td>P00031842</td>\n",
       "    </tr>\n",
       "    <tr>\n",
       "      <th>233597</th>\n",
       "      <td>10.073821</td>\n",
       "      <td>1006037</td>\n",
       "      <td>P00124742</td>\n",
       "    </tr>\n",
       "    <tr>\n",
       "      <th>233598</th>\n",
       "      <td>7.861421</td>\n",
       "      <td>1006039</td>\n",
       "      <td>P00316642</td>\n",
       "    </tr>\n",
       "  </tbody>\n",
       "</table>\n",
       "<p>233599 rows × 3 columns</p>\n",
       "</div>"
      ],
      "text/plain": [
       "         Purchase  User_ID Product_ID\n",
       "0        9.466582  1000004  P00128942\n",
       "1        9.331837  1000009  P00113442\n",
       "2        8.826472  1000010  P00288442\n",
       "3        7.653020  1000010  P00145342\n",
       "4        7.647971  1000011  P00053842\n",
       "...           ...      ...        ...\n",
       "233594   8.783528  1006036  P00118942\n",
       "233595   8.567375  1006036  P00254642\n",
       "233596   9.298038  1006036  P00031842\n",
       "233597  10.073821  1006037  P00124742\n",
       "233598   7.861421  1006039  P00316642\n",
       "\n",
       "[233599 rows x 3 columns]"
      ]
     },
     "execution_count": 174,
     "metadata": {},
     "output_type": "execute_result"
    }
   ],
   "source": [
    "submission_files =submission_files.reset_index(drop=True)\n",
    "submission_files"
   ]
  },
  {
   "cell_type": "code",
   "execution_count": 175,
   "id": "8b9cd7b9",
   "metadata": {},
   "outputs": [
    {
     "data": {
      "text/html": [
       "<div>\n",
       "<style scoped>\n",
       "    .dataframe tbody tr th:only-of-type {\n",
       "        vertical-align: middle;\n",
       "    }\n",
       "\n",
       "    .dataframe tbody tr th {\n",
       "        vertical-align: top;\n",
       "    }\n",
       "\n",
       "    .dataframe thead th {\n",
       "        text-align: right;\n",
       "    }\n",
       "</style>\n",
       "<table border=\"1\" class=\"dataframe\">\n",
       "  <thead>\n",
       "    <tr style=\"text-align: right;\">\n",
       "      <th></th>\n",
       "      <th>Purchase</th>\n",
       "      <th>User_ID</th>\n",
       "      <th>Product_ID</th>\n",
       "    </tr>\n",
       "  </thead>\n",
       "  <tbody>\n",
       "    <tr>\n",
       "      <th>0</th>\n",
       "      <td>100</td>\n",
       "      <td>1000004</td>\n",
       "      <td>P00128942</td>\n",
       "    </tr>\n",
       "    <tr>\n",
       "      <th>1</th>\n",
       "      <td>100</td>\n",
       "      <td>1000009</td>\n",
       "      <td>P00113442</td>\n",
       "    </tr>\n",
       "    <tr>\n",
       "      <th>2</th>\n",
       "      <td>100</td>\n",
       "      <td>1000010</td>\n",
       "      <td>P00288442</td>\n",
       "    </tr>\n",
       "    <tr>\n",
       "      <th>3</th>\n",
       "      <td>100</td>\n",
       "      <td>1000010</td>\n",
       "      <td>P00145342</td>\n",
       "    </tr>\n",
       "    <tr>\n",
       "      <th>4</th>\n",
       "      <td>100</td>\n",
       "      <td>1000011</td>\n",
       "      <td>P00053842</td>\n",
       "    </tr>\n",
       "    <tr>\n",
       "      <th>...</th>\n",
       "      <td>...</td>\n",
       "      <td>...</td>\n",
       "      <td>...</td>\n",
       "    </tr>\n",
       "    <tr>\n",
       "      <th>233594</th>\n",
       "      <td>100</td>\n",
       "      <td>1006036</td>\n",
       "      <td>P00118942</td>\n",
       "    </tr>\n",
       "    <tr>\n",
       "      <th>233595</th>\n",
       "      <td>100</td>\n",
       "      <td>1006036</td>\n",
       "      <td>P00254642</td>\n",
       "    </tr>\n",
       "    <tr>\n",
       "      <th>233596</th>\n",
       "      <td>100</td>\n",
       "      <td>1006036</td>\n",
       "      <td>P00031842</td>\n",
       "    </tr>\n",
       "    <tr>\n",
       "      <th>233597</th>\n",
       "      <td>100</td>\n",
       "      <td>1006037</td>\n",
       "      <td>P00124742</td>\n",
       "    </tr>\n",
       "    <tr>\n",
       "      <th>233598</th>\n",
       "      <td>100</td>\n",
       "      <td>1006039</td>\n",
       "      <td>P00316642</td>\n",
       "    </tr>\n",
       "  </tbody>\n",
       "</table>\n",
       "<p>233599 rows × 3 columns</p>\n",
       "</div>"
      ],
      "text/plain": [
       "        Purchase  User_ID Product_ID\n",
       "0            100  1000004  P00128942\n",
       "1            100  1000009  P00113442\n",
       "2            100  1000010  P00288442\n",
       "3            100  1000010  P00145342\n",
       "4            100  1000011  P00053842\n",
       "...          ...      ...        ...\n",
       "233594       100  1006036  P00118942\n",
       "233595       100  1006036  P00254642\n",
       "233596       100  1006036  P00031842\n",
       "233597       100  1006037  P00124742\n",
       "233598       100  1006039  P00316642\n",
       "\n",
       "[233599 rows x 3 columns]"
      ]
     },
     "execution_count": 175,
     "metadata": {},
     "output_type": "execute_result"
    }
   ],
   "source": [
    "df_sample"
   ]
  },
  {
   "cell_type": "code",
   "execution_count": null,
   "id": "a2a90686",
   "metadata": {},
   "outputs": [],
   "source": [
    "df1=df_test"
   ]
  },
  {
   "cell_type": "code",
   "execution_count": 177,
   "id": "85eb5222",
   "metadata": {},
   "outputs": [],
   "source": [
    "#converting to csv file format\n",
    "submission_files.to_csv('BLackFriday_Sales_Prediction5.csv', index = False)"
   ]
  },
  {
   "cell_type": "code",
   "execution_count": 178,
   "id": "fed51965",
   "metadata": {},
   "outputs": [
    {
     "data": {
      "text/html": [
       "<div>\n",
       "<style scoped>\n",
       "    .dataframe tbody tr th:only-of-type {\n",
       "        vertical-align: middle;\n",
       "    }\n",
       "\n",
       "    .dataframe tbody tr th {\n",
       "        vertical-align: top;\n",
       "    }\n",
       "\n",
       "    .dataframe thead th {\n",
       "        text-align: right;\n",
       "    }\n",
       "</style>\n",
       "<table border=\"1\" class=\"dataframe\">\n",
       "  <thead>\n",
       "    <tr style=\"text-align: right;\">\n",
       "      <th></th>\n",
       "      <th>Purchase</th>\n",
       "      <th>User_ID</th>\n",
       "      <th>Product_ID</th>\n",
       "    </tr>\n",
       "  </thead>\n",
       "  <tbody>\n",
       "    <tr>\n",
       "      <th>0</th>\n",
       "      <td>9.466582</td>\n",
       "      <td>1000004</td>\n",
       "      <td>P00128942</td>\n",
       "    </tr>\n",
       "    <tr>\n",
       "      <th>1</th>\n",
       "      <td>9.331837</td>\n",
       "      <td>1000009</td>\n",
       "      <td>P00113442</td>\n",
       "    </tr>\n",
       "    <tr>\n",
       "      <th>2</th>\n",
       "      <td>8.826472</td>\n",
       "      <td>1000010</td>\n",
       "      <td>P00288442</td>\n",
       "    </tr>\n",
       "    <tr>\n",
       "      <th>3</th>\n",
       "      <td>7.653020</td>\n",
       "      <td>1000010</td>\n",
       "      <td>P00145342</td>\n",
       "    </tr>\n",
       "    <tr>\n",
       "      <th>4</th>\n",
       "      <td>7.647971</td>\n",
       "      <td>1000011</td>\n",
       "      <td>P00053842</td>\n",
       "    </tr>\n",
       "    <tr>\n",
       "      <th>...</th>\n",
       "      <td>...</td>\n",
       "      <td>...</td>\n",
       "      <td>...</td>\n",
       "    </tr>\n",
       "    <tr>\n",
       "      <th>233594</th>\n",
       "      <td>8.783528</td>\n",
       "      <td>1006036</td>\n",
       "      <td>P00118942</td>\n",
       "    </tr>\n",
       "    <tr>\n",
       "      <th>233595</th>\n",
       "      <td>8.567375</td>\n",
       "      <td>1006036</td>\n",
       "      <td>P00254642</td>\n",
       "    </tr>\n",
       "    <tr>\n",
       "      <th>233596</th>\n",
       "      <td>9.298038</td>\n",
       "      <td>1006036</td>\n",
       "      <td>P00031842</td>\n",
       "    </tr>\n",
       "    <tr>\n",
       "      <th>233597</th>\n",
       "      <td>10.073821</td>\n",
       "      <td>1006037</td>\n",
       "      <td>P00124742</td>\n",
       "    </tr>\n",
       "    <tr>\n",
       "      <th>233598</th>\n",
       "      <td>7.861421</td>\n",
       "      <td>1006039</td>\n",
       "      <td>P00316642</td>\n",
       "    </tr>\n",
       "  </tbody>\n",
       "</table>\n",
       "<p>233599 rows × 3 columns</p>\n",
       "</div>"
      ],
      "text/plain": [
       "         Purchase  User_ID Product_ID\n",
       "0        9.466582  1000004  P00128942\n",
       "1        9.331837  1000009  P00113442\n",
       "2        8.826472  1000010  P00288442\n",
       "3        7.653020  1000010  P00145342\n",
       "4        7.647971  1000011  P00053842\n",
       "...           ...      ...        ...\n",
       "233594   8.783528  1006036  P00118942\n",
       "233595   8.567375  1006036  P00254642\n",
       "233596   9.298038  1006036  P00031842\n",
       "233597  10.073821  1006037  P00124742\n",
       "233598   7.861421  1006039  P00316642\n",
       "\n",
       "[233599 rows x 3 columns]"
      ]
     },
     "execution_count": 178,
     "metadata": {},
     "output_type": "execute_result"
    }
   ],
   "source": [
    "pd.read_csv('BLackFriday_Sales_Prediction5.csv')"
   ]
  },
  {
   "cell_type": "code",
   "execution_count": 130,
   "id": "e3ae8b9b",
   "metadata": {},
   "outputs": [
    {
     "data": {
      "text/plain": [
       "(233599, 12)"
      ]
     },
     "execution_count": 130,
     "metadata": {},
     "output_type": "execute_result"
    }
   ],
   "source": [
    "df_test_final.shape"
   ]
  },
  {
   "cell_type": "code",
   "execution_count": null,
   "id": "8e8a469f",
   "metadata": {},
   "outputs": [],
   "source": []
  }
 ],
 "metadata": {
  "kernelspec": {
   "display_name": "Python 3 (ipykernel)",
   "language": "python",
   "name": "python3"
  },
  "language_info": {
   "codemirror_mode": {
    "name": "ipython",
    "version": 3
   },
   "file_extension": ".py",
   "mimetype": "text/x-python",
   "name": "python",
   "nbconvert_exporter": "python",
   "pygments_lexer": "ipython3",
   "version": "3.9.7"
  }
 },
 "nbformat": 4,
 "nbformat_minor": 5
}
